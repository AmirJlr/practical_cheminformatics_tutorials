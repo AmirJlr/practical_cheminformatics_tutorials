{
 "cells": [
  {
   "cell_type": "markdown",
   "metadata": {},
   "source": [
    "## A Quick Overview of Pandas for Cheminformatics\n",
    "This notebook provides an overview of the Pandas library for data handling and manipulation in Python scripts."
   ]
  },
  {
   "cell_type": "markdown",
   "metadata": {},
   "source": [
    "Install the necessary Python libraries"
   ]
  },
  {
   "cell_type": "code",
   "metadata": {
    "ExecuteTime": {
     "end_time": "2025-05-05T16:54:55.904926Z",
     "start_time": "2025-05-05T16:54:55.902208Z"
    }
   },
   "source": [
    "%%capture\n",
    "import sys\n",
    "IN_COLAB = 'google.colab' in sys.modules\n",
    "if IN_COLAB:\n",
    "    !pip install pandas numpy seaborn"
   ],
   "outputs": [],
   "execution_count": 1
  },
  {
   "cell_type": "markdown",
   "metadata": {},
   "source": [
    "Import the necessary Python libraries"
   ]
  },
  {
   "cell_type": "code",
   "metadata": {
    "ExecuteTime": {
     "end_time": "2025-05-05T16:54:56.059159Z",
     "start_time": "2025-05-05T16:54:56.057691Z"
    }
   },
   "source": [
    "import pandas as pd\n",
    "import numpy as np"
   ],
   "outputs": [],
   "execution_count": 2
  },
  {
   "cell_type": "markdown",
   "metadata": {},
   "source": [
    "Enable the display of plots from Pandas in a Jupyter notebook"
   ]
  },
  {
   "cell_type": "code",
   "metadata": {
    "ExecuteTime": {
     "end_time": "2025-05-05T16:54:56.069667Z",
     "start_time": "2025-05-05T16:54:56.062175Z"
    }
   },
   "source": [
    "%matplotlib inline"
   ],
   "outputs": [],
   "execution_count": 3
  },
  {
   "cell_type": "markdown",
   "metadata": {},
   "source": [
    "### Reading Data From and SD File\n",
    "Read in a file containing data from hERG assays in the ChEMBL database"
   ]
  },
  {
   "cell_type": "code",
   "metadata": {
    "ExecuteTime": {
     "end_time": "2025-05-05T16:54:56.422371Z",
     "start_time": "2025-05-05T16:54:56.073596Z"
    }
   },
   "source": [
    "df = pd.read_csv(\"https://raw.githubusercontent.com/PatWalters/practical_cheminformatics_tutorials/main/data/ChEMBL_hERG.csv\")"
   ],
   "outputs": [],
   "execution_count": 4
  },
  {
   "cell_type": "markdown",
   "metadata": {},
   "source": [
    "Examine the number of rows and columns in the dataframe"
   ]
  },
  {
   "cell_type": "code",
   "metadata": {
    "ExecuteTime": {
     "end_time": "2025-05-05T16:54:56.431941Z",
     "start_time": "2025-05-05T16:54:56.429649Z"
    }
   },
   "source": [
    "df.shape"
   ],
   "outputs": [
    {
     "data": {
      "text/plain": [
       "(8989, 13)"
      ]
     },
     "execution_count": 5,
     "metadata": {},
     "output_type": "execute_result"
    }
   ],
   "execution_count": 5
  },
  {
   "cell_type": "markdown",
   "metadata": {},
   "source": [
    "### Getting an Overview of the Data\n",
    "We can also look at datatype for each of the columns"
   ]
  },
  {
   "cell_type": "code",
   "metadata": {
    "ExecuteTime": {
     "end_time": "2025-05-05T16:54:56.444377Z",
     "start_time": "2025-05-05T16:54:56.441899Z"
    }
   },
   "source": [
    "df.dtypes"
   ],
   "outputs": [
    {
     "data": {
      "text/plain": [
       "canonical_smiles      object\n",
       "molregno               int64\n",
       "mol_chembl_id         object\n",
       "standard_relation     object\n",
       "standard_value       float64\n",
       "standard_type         object\n",
       "standard_units        object\n",
       "description           object\n",
       "organism              object\n",
       "assay_type            object\n",
       "confidence_score       int64\n",
       "pref_name             object\n",
       "tgt_chembl_id         object\n",
       "dtype: object"
      ]
     },
     "execution_count": 6,
     "metadata": {},
     "output_type": "execute_result"
    }
   ],
   "execution_count": 6
  },
  {
   "cell_type": "markdown",
   "metadata": {},
   "source": [
    "We can also use the \"columns\" method to look at the column names."
   ]
  },
  {
   "cell_type": "code",
   "metadata": {
    "ExecuteTime": {
     "end_time": "2025-05-05T16:54:56.474335Z",
     "start_time": "2025-05-05T16:54:56.472336Z"
    }
   },
   "source": [
    "df.columns"
   ],
   "outputs": [
    {
     "data": {
      "text/plain": [
       "Index(['canonical_smiles', 'molregno', 'mol_chembl_id', 'standard_relation',\n",
       "       'standard_value', 'standard_type', 'standard_units', 'description',\n",
       "       'organism', 'assay_type', 'confidence_score', 'pref_name',\n",
       "       'tgt_chembl_id'],\n",
       "      dtype='object')"
      ]
     },
     "execution_count": 7,
     "metadata": {},
     "output_type": "execute_result"
    }
   ],
   "execution_count": 7
  },
  {
   "cell_type": "markdown",
   "metadata": {},
   "source": [
    "The \"describe\" method provides summary statistics for numeric columns. "
   ]
  },
  {
   "cell_type": "code",
   "metadata": {
    "ExecuteTime": {
     "end_time": "2025-05-05T16:54:56.505949Z",
     "start_time": "2025-05-05T16:54:56.499714Z"
    }
   },
   "source": [
    "df.describe()"
   ],
   "outputs": [
    {
     "data": {
      "text/plain": [
       "           molregno  standard_value  confidence_score\n",
       "count  8.989000e+03    8.989000e+03       8989.000000\n",
       "mean   1.162010e+06    9.680188e+05          8.944599\n",
       "std    6.612153e+05    2.558712e+07          0.228774\n",
       "min    9.700000e+01    1.400000e-01          8.000000\n",
       "25%    5.569920e+05    1.880000e+03          9.000000\n",
       "50%    1.280901e+06    9.400000e+03          9.000000\n",
       "75%    1.748621e+06    2.900000e+04          9.000000\n",
       "max    2.196506e+06    1.000000e+09          9.000000"
      ],
      "text/html": [
       "<div>\n",
       "<style scoped>\n",
       "    .dataframe tbody tr th:only-of-type {\n",
       "        vertical-align: middle;\n",
       "    }\n",
       "\n",
       "    .dataframe tbody tr th {\n",
       "        vertical-align: top;\n",
       "    }\n",
       "\n",
       "    .dataframe thead th {\n",
       "        text-align: right;\n",
       "    }\n",
       "</style>\n",
       "<table border=\"1\" class=\"dataframe\">\n",
       "  <thead>\n",
       "    <tr style=\"text-align: right;\">\n",
       "      <th></th>\n",
       "      <th>molregno</th>\n",
       "      <th>standard_value</th>\n",
       "      <th>confidence_score</th>\n",
       "    </tr>\n",
       "  </thead>\n",
       "  <tbody>\n",
       "    <tr>\n",
       "      <th>count</th>\n",
       "      <td>8.989000e+03</td>\n",
       "      <td>8.989000e+03</td>\n",
       "      <td>8989.000000</td>\n",
       "    </tr>\n",
       "    <tr>\n",
       "      <th>mean</th>\n",
       "      <td>1.162010e+06</td>\n",
       "      <td>9.680188e+05</td>\n",
       "      <td>8.944599</td>\n",
       "    </tr>\n",
       "    <tr>\n",
       "      <th>std</th>\n",
       "      <td>6.612153e+05</td>\n",
       "      <td>2.558712e+07</td>\n",
       "      <td>0.228774</td>\n",
       "    </tr>\n",
       "    <tr>\n",
       "      <th>min</th>\n",
       "      <td>9.700000e+01</td>\n",
       "      <td>1.400000e-01</td>\n",
       "      <td>8.000000</td>\n",
       "    </tr>\n",
       "    <tr>\n",
       "      <th>25%</th>\n",
       "      <td>5.569920e+05</td>\n",
       "      <td>1.880000e+03</td>\n",
       "      <td>9.000000</td>\n",
       "    </tr>\n",
       "    <tr>\n",
       "      <th>50%</th>\n",
       "      <td>1.280901e+06</td>\n",
       "      <td>9.400000e+03</td>\n",
       "      <td>9.000000</td>\n",
       "    </tr>\n",
       "    <tr>\n",
       "      <th>75%</th>\n",
       "      <td>1.748621e+06</td>\n",
       "      <td>2.900000e+04</td>\n",
       "      <td>9.000000</td>\n",
       "    </tr>\n",
       "    <tr>\n",
       "      <th>max</th>\n",
       "      <td>2.196506e+06</td>\n",
       "      <td>1.000000e+09</td>\n",
       "      <td>9.000000</td>\n",
       "    </tr>\n",
       "  </tbody>\n",
       "</table>\n",
       "</div>"
      ]
     },
     "execution_count": 8,
     "metadata": {},
     "output_type": "execute_result"
    }
   ],
   "execution_count": 8
  },
  {
   "cell_type": "markdown",
   "metadata": {},
   "source": [
    "### Converting Datatypes\n",
    "Note that Pandas thinks that the molregno column is an integer.  This is not what we want, we want this column to be a string.  Let's fix it. "
   ]
  },
  {
   "cell_type": "code",
   "metadata": {
    "ExecuteTime": {
     "end_time": "2025-05-05T16:54:56.535385Z",
     "start_time": "2025-05-05T16:54:56.531809Z"
    }
   },
   "source": [
    "df.molregno = df.molregno.apply(str)\n",
    "df.dtypes"
   ],
   "outputs": [
    {
     "data": {
      "text/plain": [
       "canonical_smiles      object\n",
       "molregno              object\n",
       "mol_chembl_id         object\n",
       "standard_relation     object\n",
       "standard_value       float64\n",
       "standard_type         object\n",
       "standard_units        object\n",
       "description           object\n",
       "organism              object\n",
       "assay_type            object\n",
       "confidence_score       int64\n",
       "pref_name             object\n",
       "tgt_chembl_id         object\n",
       "dtype: object"
      ]
     },
     "execution_count": 9,
     "metadata": {},
     "output_type": "execute_result"
    }
   ],
   "execution_count": 9
  },
  {
   "cell_type": "markdown",
   "metadata": {},
   "source": [
    "### Finding Duplicate Molecules\n",
    "Recall that our dataframe contains 8989 rows.  Let's see how many unique molregno values are in the dataframe.  Duplicate molregno values will be same molecule, so we'll average the values for those molecules."
   ]
  },
  {
   "cell_type": "code",
   "metadata": {
    "ExecuteTime": {
     "end_time": "2025-05-05T16:54:56.577970Z",
     "start_time": "2025-05-05T16:54:56.575642Z"
    }
   },
   "source": [
    "len(df.molregno.unique())"
   ],
   "outputs": [
    {
     "data": {
      "text/plain": [
       "7438"
      ]
     },
     "execution_count": 10,
     "metadata": {},
     "output_type": "execute_result"
    }
   ],
   "execution_count": 10
  },
  {
   "cell_type": "markdown",
   "metadata": {},
   "source": [
    "### Examining Assay Types\n",
    "The dataframe contains two types of assays, binding assays (B), and functional assays (F).  Let's make a bar chart to see how many of each are in the dataframe. "
   ]
  },
  {
   "cell_type": "code",
   "metadata": {
    "ExecuteTime": {
     "end_time": "2025-05-05T16:54:56.666281Z",
     "start_time": "2025-05-05T16:54:56.616808Z"
    }
   },
   "source": [
    "df.assay_type.value_counts().plot(kind='bar')"
   ],
   "outputs": [
    {
     "data": {
      "text/plain": [
       "<Axes: xlabel='assay_type'>"
      ]
     },
     "execution_count": 11,
     "metadata": {},
     "output_type": "execute_result"
    },
    {
     "data": {
      "text/plain": [
       "<Figure size 640x480 with 1 Axes>"
      ],
      "image/png": "[encoded data removed]"
     },
     "metadata": {},
     "output_type": "display_data"
    }
   ],
   "execution_count": 11
  },
  {
   "cell_type": "markdown",
   "metadata": {},
   "source": [
    "We will limit our analysis to only binding assays. "
   ]
  },
  {
   "cell_type": "code",
   "metadata": {
    "ExecuteTime": {
     "end_time": "2025-05-05T16:54:56.687206Z",
     "start_time": "2025-05-05T16:54:56.682890Z"
    }
   },
   "source": [
    "df = df.query(\"assay_type == 'B'\")\n",
    "df.shape"
   ],
   "outputs": [
    {
     "data": {
      "text/plain": [
       "(8791, 13)"
      ]
     },
     "execution_count": 12,
     "metadata": {},
     "output_type": "execute_result"
    }
   ],
   "execution_count": 12
  },
  {
   "cell_type": "markdown",
   "metadata": {},
   "source": [
    "### Aggregating Data\n",
    "In order to combine rows that contain the same molecule, we will use the \"groupby\" function. "
   ]
  },
  {
   "cell_type": "code",
   "metadata": {
    "ExecuteTime": {
     "end_time": "2025-05-05T16:54:56.691907Z",
     "start_time": "2025-05-05T16:54:56.690417Z"
    }
   },
   "source": [
    "gb = df.groupby(\"molregno\")"
   ],
   "outputs": [],
   "execution_count": 13
  },
  {
   "cell_type": "markdown",
   "metadata": {},
   "source": [
    "We will iterate over the groups add the name and the mean of the multiple replicates to a temporary_list. Once this is finished we will create a new dataframe with the molecule name and the average IC50. "
   ]
  },
  {
   "cell_type": "code",
   "metadata": {
    "ExecuteTime": {
     "end_time": "2025-05-05T16:54:56.912818Z",
     "start_time": "2025-05-05T16:54:56.738488Z"
    }
   },
   "source": [
    "row_list = []\n",
    "for k,v in gb:\n",
    "    row_list.append([k,v.standard_value.mean()])\n",
    "row_df = pd.DataFrame(row_list,columns=[\"name\",\"standard_value\"])"
   ],
   "outputs": [],
   "execution_count": 14
  },
  {
   "cell_type": "markdown",
   "metadata": {},
   "source": [
    "Let's see how many rows and columns are in our new dataframe.  Note that this is the same as the number of unique values of molregno. "
   ]
  },
  {
   "cell_type": "code",
   "metadata": {
    "ExecuteTime": {
     "end_time": "2025-05-05T16:54:56.921437Z",
     "start_time": "2025-05-05T16:54:56.919278Z"
    }
   },
   "source": [
    "row_df.shape"
   ],
   "outputs": [
    {
     "data": {
      "text/plain": [
       "(7382, 2)"
      ]
     },
     "execution_count": 15,
     "metadata": {},
     "output_type": "execute_result"
    }
   ],
   "execution_count": 15
  },
  {
   "cell_type": "markdown",
   "metadata": {},
   "source": [
    "### Examining the Data Distribution\n",
    "Now we will make a plot of the distribution of IC50 values.  To do this, we will use the Seaborn Python library."
   ]
  },
  {
   "cell_type": "code",
   "metadata": {
    "ExecuteTime": {
     "end_time": "2025-05-05T16:54:56.932469Z",
     "start_time": "2025-05-05T16:54:56.930885Z"
    }
   },
   "source": [
    "import seaborn as sns"
   ],
   "outputs": [],
   "execution_count": 16
  },
  {
   "cell_type": "markdown",
   "metadata": {},
   "source": [
    "First we will set a few variables to make the plots look better. "
   ]
  },
  {
   "cell_type": "code",
   "metadata": {
    "ExecuteTime": {
     "end_time": "2025-05-05T16:54:56.941184Z",
     "start_time": "2025-05-05T16:54:56.938974Z"
    }
   },
   "source": [
    "sns.set(rc={'figure.figsize': (15, 12)})\n",
    "sns.set(font_scale=1.5)\n",
    "sns.set_style('whitegrid')"
   ],
   "outputs": [],
   "execution_count": 17
  },
  {
   "cell_type": "markdown",
   "metadata": {},
   "source": [
    "Now we can make the plot. "
   ]
  },
  {
   "cell_type": "code",
   "metadata": {
    "ExecuteTime": {
     "end_time": "2025-05-05T16:54:57.008310Z",
     "start_time": "2025-05-05T16:54:56.947544Z"
    }
   },
   "source": [
    "ax = sns.displot(row_df.standard_value,kind=\"kde\")"
   ],
   "outputs": [
    {
     "data": {
      "text/plain": [
       "<Figure size 500x500 with 1 Axes>"
      ],
      "image/png": "[encoded data removed]"
     },
     "metadata": {},
     "output_type": "display_data"
    }
   ],
   "execution_count": 18
  },
  {
   "cell_type": "markdown",
   "metadata": {},
   "source": [
    "Note that the plot above isn't very informative.  Most over the values are small, but there are some large values that are skewing the scale on the x-axis.   Let's plot the pIC50, which is the negative log of the IC50.  To do this, we'll first create a column containing the pIC50. "
   ]
  },
  {
   "cell_type": "code",
   "metadata": {
    "ExecuteTime": {
     "end_time": "2025-05-05T16:54:57.017348Z",
     "start_time": "2025-05-05T16:54:57.015264Z"
    }
   },
   "source": [
    "row_df[\"pIC50\"] = -np.log10(row_df.standard_value * 1e-9)"
   ],
   "outputs": [],
   "execution_count": 19
  },
  {
   "cell_type": "code",
   "metadata": {
    "ExecuteTime": {
     "end_time": "2025-05-05T16:54:57.027193Z",
     "start_time": "2025-05-05T16:54:57.024087Z"
    }
   },
   "source": [
    "row_df.head()"
   ],
   "outputs": [
    {
     "data": {
      "text/plain": [
       "      name  standard_value     pIC50\n",
       "0    10358       16934.368  4.771231\n",
       "1  1037723         130.000  6.886057\n",
       "2  1038161         700.000  6.154902\n",
       "3  1038163       20000.000  4.698970\n",
       "4  1038164       20000.000  4.698970"
      ],
      "text/html": [
       "<div>\n",
       "<style scoped>\n",
       "    .dataframe tbody tr th:only-of-type {\n",
       "        vertical-align: middle;\n",
       "    }\n",
       "\n",
       "    .dataframe tbody tr th {\n",
       "        vertical-align: top;\n",
       "    }\n",
       "\n",
       "    .dataframe thead th {\n",
       "        text-align: right;\n",
       "    }\n",
       "</style>\n",
       "<table border=\"1\" class=\"dataframe\">\n",
       "  <thead>\n",
       "    <tr style=\"text-align: right;\">\n",
       "      <th></th>\n",
       "      <th>name</th>\n",
       "      <th>standard_value</th>\n",
       "      <th>pIC50</th>\n",
       "    </tr>\n",
       "  </thead>\n",
       "  <tbody>\n",
       "    <tr>\n",
       "      <th>0</th>\n",
       "      <td>10358</td>\n",
       "      <td>16934.368</td>\n",
       "      <td>4.771231</td>\n",
       "    </tr>\n",
       "    <tr>\n",
       "      <th>1</th>\n",
       "      <td>1037723</td>\n",
       "      <td>130.000</td>\n",
       "      <td>6.886057</td>\n",
       "    </tr>\n",
       "    <tr>\n",
       "      <th>2</th>\n",
       "      <td>1038161</td>\n",
       "      <td>700.000</td>\n",
       "      <td>6.154902</td>\n",
       "    </tr>\n",
       "    <tr>\n",
       "      <th>3</th>\n",
       "      <td>1038163</td>\n",
       "      <td>20000.000</td>\n",
       "      <td>4.698970</td>\n",
       "    </tr>\n",
       "    <tr>\n",
       "      <th>4</th>\n",
       "      <td>1038164</td>\n",
       "      <td>20000.000</td>\n",
       "      <td>4.698970</td>\n",
       "    </tr>\n",
       "  </tbody>\n",
       "</table>\n",
       "</div>"
      ]
     },
     "execution_count": 20,
     "metadata": {},
     "output_type": "execute_result"
    }
   ],
   "execution_count": 20
  },
  {
   "cell_type": "markdown",
   "metadata": {},
   "source": [
    "Let's make another plot, this time we'll plot the pIC50 distribution. "
   ]
  },
  {
   "cell_type": "code",
   "metadata": {
    "ExecuteTime": {
     "end_time": "2025-05-05T16:54:57.111884Z",
     "start_time": "2025-05-05T16:54:57.049692Z"
    }
   },
   "source": [
    "ax = sns.displot(row_df.pIC50,kind=\"kde\")"
   ],
   "outputs": [
    {
     "data": {
      "text/plain": [
       "<Figure size 500x500 with 1 Axes>"
      ],
      "image/png": "[encoded data removed]"
     },
     "metadata": {},
     "output_type": "display_data"
    }
   ],
   "execution_count": 21
  },
  {
   "cell_type": "markdown",
   "metadata": {},
   "source": [
    "### Checking For Null Values\n",
    "Check the dataframe to see if we have any null values."
   ]
  },
  {
   "cell_type": "code",
   "metadata": {
    "ExecuteTime": {
     "end_time": "2025-05-05T16:54:57.131242Z",
     "start_time": "2025-05-05T16:54:57.128453Z"
    }
   },
   "source": [
    "row_df.dropna().shape"
   ],
   "outputs": [
    {
     "data": {
      "text/plain": [
       "(7382, 3)"
      ]
     },
     "execution_count": 22,
     "metadata": {},
     "output_type": "execute_result"
    }
   ],
   "execution_count": 22
  },
  {
   "cell_type": "code",
   "metadata": {
    "ExecuteTime": {
     "end_time": "2025-05-05T16:54:57.142341Z",
     "start_time": "2025-05-05T16:54:57.140407Z"
    }
   },
   "source": [
    "row_df.shape"
   ],
   "outputs": [
    {
     "data": {
      "text/plain": [
       "(7382, 3)"
      ]
     },
     "execution_count": 23,
     "metadata": {},
     "output_type": "execute_result"
    }
   ],
   "execution_count": 23
  },
  {
   "cell_type": "markdown",
   "metadata": {},
   "source": [
    "The shapes of the data frame and the dataframe without null values are the same, so we're good. "
   ]
  },
  {
   "cell_type": "markdown",
   "metadata": {},
   "source": [
    "### Sorting the Data\n",
    "Sort the data by pIC50, note that the values with pIC50 approximately equal to zero (the first few rows) are almost certainly data input errors.  These compounds are reported to have IC50s of 10^9nM, which is 1M.  I seriously doubt that the compounds would even be soluble at that concentration."
   ]
  },
  {
   "cell_type": "code",
   "metadata": {
    "ExecuteTime": {
     "end_time": "2025-05-05T16:54:57.168422Z",
     "start_time": "2025-05-05T16:54:57.164369Z"
    }
   },
   "source": [
    "row_df.sort_values(\"pIC50\",ascending=True).head()"
   ],
   "outputs": [
    {
     "data": {
      "text/plain": [
       "         name  standard_value  pIC50\n",
       "3066  1758382    1.000000e+09  -0.00\n",
       "3065  1758380    1.000000e+09  -0.00\n",
       "3067  1758385    1.000000e+09  -0.00\n",
       "5531   440049    9.549926e+08   0.02\n",
       "5545   440263    7.585776e+08   0.12"
      ],
      "text/html": [
       "<div>\n",
       "<style scoped>\n",
       "    .dataframe tbody tr th:only-of-type {\n",
       "        vertical-align: middle;\n",
       "    }\n",
       "\n",
       "    .dataframe tbody tr th {\n",
       "        vertical-align: top;\n",
       "    }\n",
       "\n",
       "    .dataframe thead th {\n",
       "        text-align: right;\n",
       "    }\n",
       "</style>\n",
       "<table border=\"1\" class=\"dataframe\">\n",
       "  <thead>\n",
       "    <tr style=\"text-align: right;\">\n",
       "      <th></th>\n",
       "      <th>name</th>\n",
       "      <th>standard_value</th>\n",
       "      <th>pIC50</th>\n",
       "    </tr>\n",
       "  </thead>\n",
       "  <tbody>\n",
       "    <tr>\n",
       "      <th>3066</th>\n",
       "      <td>1758382</td>\n",
       "      <td>1.000000e+09</td>\n",
       "      <td>-0.00</td>\n",
       "    </tr>\n",
       "    <tr>\n",
       "      <th>3065</th>\n",
       "      <td>1758380</td>\n",
       "      <td>1.000000e+09</td>\n",
       "      <td>-0.00</td>\n",
       "    </tr>\n",
       "    <tr>\n",
       "      <th>3067</th>\n",
       "      <td>1758385</td>\n",
       "      <td>1.000000e+09</td>\n",
       "      <td>-0.00</td>\n",
       "    </tr>\n",
       "    <tr>\n",
       "      <th>5531</th>\n",
       "      <td>440049</td>\n",
       "      <td>9.549926e+08</td>\n",
       "      <td>0.02</td>\n",
       "    </tr>\n",
       "    <tr>\n",
       "      <th>5545</th>\n",
       "      <td>440263</td>\n",
       "      <td>7.585776e+08</td>\n",
       "      <td>0.12</td>\n",
       "    </tr>\n",
       "  </tbody>\n",
       "</table>\n",
       "</div>"
      ]
     },
     "execution_count": 24,
     "metadata": {},
     "output_type": "execute_result"
    }
   ],
   "execution_count": 24
  },
  {
   "cell_type": "markdown",
   "metadata": {},
   "source": [
    "### Selecting High Confidence Data\n",
    "Let's look at the distribution of confidence scores associated with our original dataset. "
   ]
  },
  {
   "cell_type": "code",
   "metadata": {
    "ExecuteTime": {
     "end_time": "2025-05-05T16:54:57.193649Z",
     "start_time": "2025-05-05T16:54:57.191216Z"
    }
   },
   "source": [
    "df.confidence_score.value_counts()"
   ],
   "outputs": [
    {
     "data": {
      "text/plain": [
       "confidence_score\n",
       "9    8395\n",
       "8     396\n",
       "Name: count, dtype: int64"
      ]
     },
     "execution_count": 25,
     "metadata": {},
     "output_type": "execute_result"
    }
   ],
   "execution_count": 25
  },
  {
   "cell_type": "markdown",
   "metadata": {},
   "source": [
    "We will create a new dataframe with only the molecules have a confidence score of 9."
   ]
  },
  {
   "cell_type": "code",
   "metadata": {
    "ExecuteTime": {
     "end_time": "2025-05-05T16:54:57.217839Z",
     "start_time": "2025-05-05T16:54:57.214331Z"
    }
   },
   "source": [
    "score_9 = df.query(\"confidence_score == 9\")"
   ],
   "outputs": [],
   "execution_count": 26
  },
  {
   "cell_type": "code",
   "metadata": {
    "ExecuteTime": {
     "end_time": "2025-05-05T16:54:57.252212Z",
     "start_time": "2025-05-05T16:54:57.250139Z"
    }
   },
   "source": [
    "score_9.shape"
   ],
   "outputs": [
    {
     "data": {
      "text/plain": [
       "(8395, 13)"
      ]
     },
     "execution_count": 27,
     "metadata": {},
     "output_type": "execute_result"
    }
   ],
   "execution_count": 27
  },
  {
   "cell_type": "markdown",
   "metadata": {},
   "source": [
    "Let's try to add a column to the new dataframe that we created.  Note that this throws an exception because the new dataframe is just a reference to the original dataframe. "
   ]
  },
  {
   "cell_type": "code",
   "metadata": {
    "ExecuteTime": {
     "end_time": "2025-05-05T16:54:57.277961Z",
     "start_time": "2025-05-05T16:54:57.276180Z"
    }
   },
   "source": [
    "score_9[\"extra\"] = 3"
   ],
   "outputs": [
    {
     "name": "stderr",
     "output_type": "stream",
     "text": [
      "/var/folders/0n/pn_zp11569sfv4m2w6gzpwyr0000gp/T/ipykernel_79099/3244047495.py:1: SettingWithCopyWarning: \n",
      "A value is trying to be set on a copy of a slice from a DataFrame.\n",
      "Try using .loc[row_indexer,col_indexer] = value instead\n",
      "\n",
      "See the caveats in the documentation: https://pandas.pydata.org/pandas-docs/stable/user_guide/indexing.html#returning-a-view-versus-a-copy\n",
      "  score_9[\"extra\"] = 3\n"
     ]
    }
   ],
   "execution_count": 28
  },
  {
   "cell_type": "markdown",
   "metadata": {},
   "source": [
    "What we really want to do is create a new dataframe, we can do this with the \"copy\" method. "
   ]
  },
  {
   "cell_type": "code",
   "metadata": {
    "ExecuteTime": {
     "end_time": "2025-05-05T16:54:57.305770Z",
     "start_time": "2025-05-05T16:54:57.300609Z"
    }
   },
   "source": [
    "score_9 = df.query(\"confidence_score == 9\").copy()"
   ],
   "outputs": [],
   "execution_count": 29
  },
  {
   "cell_type": "markdown",
   "metadata": {},
   "source": [
    "Now adding a new column works."
   ]
  },
  {
   "cell_type": "code",
   "metadata": {
    "ExecuteTime": {
     "end_time": "2025-05-05T16:54:57.321939Z",
     "start_time": "2025-05-05T16:54:57.320152Z"
    }
   },
   "source": [
    "score_9['extra'] = 3"
   ],
   "outputs": [],
   "execution_count": 30
  },
  {
   "cell_type": "code",
   "metadata": {
    "ExecuteTime": {
     "end_time": "2025-05-05T16:54:57.334221Z",
     "start_time": "2025-05-05T16:54:57.330139Z"
    }
   },
   "source": [
    "score_9.head()"
   ],
   "outputs": [
    {
     "data": {
      "text/plain": [
       "                                     canonical_smiles molregno mol_chembl_id  \\\n",
       "46  COC(=O)C1=C(C)NC(=C(C1c2ccccc2[N+](=O)[O-])C(=...   419596     CHEMBL193   \n",
       "47  CN(CCOc1ccc(NS(=O)(=O)C)cc1)CCc2ccc(NS(=O)(=O)...     5638     CHEMBL473   \n",
       "48       CCOC(=O)N1CCC(=C2c3ccc(Cl)cc3CCc4cccnc24)CC1   110803     CHEMBL998   \n",
       "49  Oc1ccc(CCN2CCC(CC2)Nc3nc4ccccc4n3Cc5ccc(F)cc5)cc1    91240   CHEMBL60796   \n",
       "50               Cc1[nH]cnc1CN2CCc3c(C2=O)c4ccccc4n3C   153342    CHEMBL1110   \n",
       "\n",
       "   standard_relation  standard_value standard_type standard_units  \\\n",
       "46                 =        50118.72          IC50             nM   \n",
       "47                 =           10.00          IC50             nM   \n",
       "48                 =          169.82          IC50             nM   \n",
       "49                 =            1.00          IC50             nM   \n",
       "50                 =         3235.94          IC50             nM   \n",
       "\n",
       "                                          description      organism  \\\n",
       "46  Inhibition of human Potassium channel HERG exp...  Homo sapiens   \n",
       "47  Inhibition of human Potassium channel HERG exp...  Homo sapiens   \n",
       "48  Inhibition of human Potassium channel HERG exp...  Homo sapiens   \n",
       "49  Inhibition of human Potassium channel HERG exp...  Homo sapiens   \n",
       "50  Inhibition of human Potassium channel HERG exp...  Homo sapiens   \n",
       "\n",
       "   assay_type  confidence_score pref_name tgt_chembl_id  extra  \n",
       "46          B                 9      HERG     CHEMBL240      3  \n",
       "47          B                 9      HERG     CHEMBL240      3  \n",
       "48          B                 9      HERG     CHEMBL240      3  \n",
       "49          B                 9      HERG     CHEMBL240      3  \n",
       "50          B                 9      HERG     CHEMBL240      3  "
      ],
      "text/html": [
       "<div>\n",
       "<style scoped>\n",
       "    .dataframe tbody tr th:only-of-type {\n",
       "        vertical-align: middle;\n",
       "    }\n",
       "\n",
       "    .dataframe tbody tr th {\n",
       "        vertical-align: top;\n",
       "    }\n",
       "\n",
       "    .dataframe thead th {\n",
       "        text-align: right;\n",
       "    }\n",
       "</style>\n",
       "<table border=\"1\" class=\"dataframe\">\n",
       "  <thead>\n",
       "    <tr style=\"text-align: right;\">\n",
       "      <th></th>\n",
       "      <th>canonical_smiles</th>\n",
       "      <th>molregno</th>\n",
       "      <th>mol_chembl_id</th>\n",
       "      <th>standard_relation</th>\n",
       "      <th>standard_value</th>\n",
       "      <th>standard_type</th>\n",
       "      <th>standard_units</th>\n",
       "      <th>description</th>\n",
       "      <th>organism</th>\n",
       "      <th>assay_type</th>\n",
       "      <th>confidence_score</th>\n",
       "      <th>pref_name</th>\n",
       "      <th>tgt_chembl_id</th>\n",
       "      <th>extra</th>\n",
       "    </tr>\n",
       "  </thead>\n",
       "  <tbody>\n",
       "    <tr>\n",
       "      <th>46</th>\n",
       "      <td>COC(=O)C1=C(C)NC(=C(C1c2ccccc2[N+](=O)[O-])C(=...</td>\n",
       "      <td>419596</td>\n",
       "      <td>CHEMBL193</td>\n",
       "      <td>=</td>\n",
       "      <td>50118.72</td>\n",
       "      <td>IC50</td>\n",
       "      <td>nM</td>\n",
       "      <td>Inhibition of human Potassium channel HERG exp...</td>\n",
       "      <td>Homo sapiens</td>\n",
       "      <td>B</td>\n",
       "      <td>9</td>\n",
       "      <td>HERG</td>\n",
       "      <td>CHEMBL240</td>\n",
       "      <td>3</td>\n",
       "    </tr>\n",
       "    <tr>\n",
       "      <th>47</th>\n",
       "      <td>CN(CCOc1ccc(NS(=O)(=O)C)cc1)CCc2ccc(NS(=O)(=O)...</td>\n",
       "      <td>5638</td>\n",
       "      <td>CHEMBL473</td>\n",
       "      <td>=</td>\n",
       "      <td>10.00</td>\n",
       "      <td>IC50</td>\n",
       "      <td>nM</td>\n",
       "      <td>Inhibition of human Potassium channel HERG exp...</td>\n",
       "      <td>Homo sapiens</td>\n",
       "      <td>B</td>\n",
       "      <td>9</td>\n",
       "      <td>HERG</td>\n",
       "      <td>CHEMBL240</td>\n",
       "      <td>3</td>\n",
       "    </tr>\n",
       "    <tr>\n",
       "      <th>48</th>\n",
       "      <td>CCOC(=O)N1CCC(=C2c3ccc(Cl)cc3CCc4cccnc24)CC1</td>\n",
       "      <td>110803</td>\n",
       "      <td>CHEMBL998</td>\n",
       "      <td>=</td>\n",
       "      <td>169.82</td>\n",
       "      <td>IC50</td>\n",
       "      <td>nM</td>\n",
       "      <td>Inhibition of human Potassium channel HERG exp...</td>\n",
       "      <td>Homo sapiens</td>\n",
       "      <td>B</td>\n",
       "      <td>9</td>\n",
       "      <td>HERG</td>\n",
       "      <td>CHEMBL240</td>\n",
       "      <td>3</td>\n",
       "    </tr>\n",
       "    <tr>\n",
       "      <th>49</th>\n",
       "      <td>Oc1ccc(CCN2CCC(CC2)Nc3nc4ccccc4n3Cc5ccc(F)cc5)cc1</td>\n",
       "      <td>91240</td>\n",
       "      <td>CHEMBL60796</td>\n",
       "      <td>=</td>\n",
       "      <td>1.00</td>\n",
       "      <td>IC50</td>\n",
       "      <td>nM</td>\n",
       "      <td>Inhibition of human Potassium channel HERG exp...</td>\n",
       "      <td>Homo sapiens</td>\n",
       "      <td>B</td>\n",
       "      <td>9</td>\n",
       "      <td>HERG</td>\n",
       "      <td>CHEMBL240</td>\n",
       "      <td>3</td>\n",
       "    </tr>\n",
       "    <tr>\n",
       "      <th>50</th>\n",
       "      <td>Cc1[nH]cnc1CN2CCc3c(C2=O)c4ccccc4n3C</td>\n",
       "      <td>153342</td>\n",
       "      <td>CHEMBL1110</td>\n",
       "      <td>=</td>\n",
       "      <td>3235.94</td>\n",
       "      <td>IC50</td>\n",
       "      <td>nM</td>\n",
       "      <td>Inhibition of human Potassium channel HERG exp...</td>\n",
       "      <td>Homo sapiens</td>\n",
       "      <td>B</td>\n",
       "      <td>9</td>\n",
       "      <td>HERG</td>\n",
       "      <td>CHEMBL240</td>\n",
       "      <td>3</td>\n",
       "    </tr>\n",
       "  </tbody>\n",
       "</table>\n",
       "</div>"
      ]
     },
     "execution_count": 31,
     "metadata": {},
     "output_type": "execute_result"
    }
   ],
   "execution_count": 31
  },
  {
   "cell_type": "markdown",
   "metadata": {},
   "source": [
    "Let's say that we want to create a new column with more descriptive names for the data quality.  We can do this using the \"map\" function. "
   ]
  },
  {
   "cell_type": "code",
   "metadata": {
    "ExecuteTime": {
     "end_time": "2025-05-05T16:54:57.360908Z",
     "start_time": "2025-05-05T16:54:57.358872Z"
    }
   },
   "source": [
    "level_map = {8: 'fair', 9: 'good'}\n",
    "df['confidence_level'] = df.confidence_score.map(level_map)"
   ],
   "outputs": [],
   "execution_count": 32
  },
  {
   "cell_type": "code",
   "metadata": {
    "ExecuteTime": {
     "end_time": "2025-05-05T16:54:57.388275Z",
     "start_time": "2025-05-05T16:54:57.383784Z"
    }
   },
   "source": [
    "df.head()"
   ],
   "outputs": [
    {
     "data": {
      "text/plain": [
       "                                     canonical_smiles molregno mol_chembl_id  \\\n",
       "46  COC(=O)C1=C(C)NC(=C(C1c2ccccc2[N+](=O)[O-])C(=...   419596     CHEMBL193   \n",
       "47  CN(CCOc1ccc(NS(=O)(=O)C)cc1)CCc2ccc(NS(=O)(=O)...     5638     CHEMBL473   \n",
       "48       CCOC(=O)N1CCC(=C2c3ccc(Cl)cc3CCc4cccnc24)CC1   110803     CHEMBL998   \n",
       "49  Oc1ccc(CCN2CCC(CC2)Nc3nc4ccccc4n3Cc5ccc(F)cc5)cc1    91240   CHEMBL60796   \n",
       "50               Cc1[nH]cnc1CN2CCc3c(C2=O)c4ccccc4n3C   153342    CHEMBL1110   \n",
       "\n",
       "   standard_relation  standard_value standard_type standard_units  \\\n",
       "46                 =        50118.72          IC50             nM   \n",
       "47                 =           10.00          IC50             nM   \n",
       "48                 =          169.82          IC50             nM   \n",
       "49                 =            1.00          IC50             nM   \n",
       "50                 =         3235.94          IC50             nM   \n",
       "\n",
       "                                          description      organism  \\\n",
       "46  Inhibition of human Potassium channel HERG exp...  Homo sapiens   \n",
       "47  Inhibition of human Potassium channel HERG exp...  Homo sapiens   \n",
       "48  Inhibition of human Potassium channel HERG exp...  Homo sapiens   \n",
       "49  Inhibition of human Potassium channel HERG exp...  Homo sapiens   \n",
       "50  Inhibition of human Potassium channel HERG exp...  Homo sapiens   \n",
       "\n",
       "   assay_type  confidence_score pref_name tgt_chembl_id confidence_level  \n",
       "46          B                 9      HERG     CHEMBL240             good  \n",
       "47          B                 9      HERG     CHEMBL240             good  \n",
       "48          B                 9      HERG     CHEMBL240             good  \n",
       "49          B                 9      HERG     CHEMBL240             good  \n",
       "50          B                 9      HERG     CHEMBL240             good  "
      ],
      "text/html": [
       "<div>\n",
       "<style scoped>\n",
       "    .dataframe tbody tr th:only-of-type {\n",
       "        vertical-align: middle;\n",
       "    }\n",
       "\n",
       "    .dataframe tbody tr th {\n",
       "        vertical-align: top;\n",
       "    }\n",
       "\n",
       "    .dataframe thead th {\n",
       "        text-align: right;\n",
       "    }\n",
       "</style>\n",
       "<table border=\"1\" class=\"dataframe\">\n",
       "  <thead>\n",
       "    <tr style=\"text-align: right;\">\n",
       "      <th></th>\n",
       "      <th>canonical_smiles</th>\n",
       "      <th>molregno</th>\n",
       "      <th>mol_chembl_id</th>\n",
       "      <th>standard_relation</th>\n",
       "      <th>standard_value</th>\n",
       "      <th>standard_type</th>\n",
       "      <th>standard_units</th>\n",
       "      <th>description</th>\n",
       "      <th>organism</th>\n",
       "      <th>assay_type</th>\n",
       "      <th>confidence_score</th>\n",
       "      <th>pref_name</th>\n",
       "      <th>tgt_chembl_id</th>\n",
       "      <th>confidence_level</th>\n",
       "    </tr>\n",
       "  </thead>\n",
       "  <tbody>\n",
       "    <tr>\n",
       "      <th>46</th>\n",
       "      <td>COC(=O)C1=C(C)NC(=C(C1c2ccccc2[N+](=O)[O-])C(=...</td>\n",
       "      <td>419596</td>\n",
       "      <td>CHEMBL193</td>\n",
       "      <td>=</td>\n",
       "      <td>50118.72</td>\n",
       "      <td>IC50</td>\n",
       "      <td>nM</td>\n",
       "      <td>Inhibition of human Potassium channel HERG exp...</td>\n",
       "      <td>Homo sapiens</td>\n",
       "      <td>B</td>\n",
       "      <td>9</td>\n",
       "      <td>HERG</td>\n",
       "      <td>CHEMBL240</td>\n",
       "      <td>good</td>\n",
       "    </tr>\n",
       "    <tr>\n",
       "      <th>47</th>\n",
       "      <td>CN(CCOc1ccc(NS(=O)(=O)C)cc1)CCc2ccc(NS(=O)(=O)...</td>\n",
       "      <td>5638</td>\n",
       "      <td>CHEMBL473</td>\n",
       "      <td>=</td>\n",
       "      <td>10.00</td>\n",
       "      <td>IC50</td>\n",
       "      <td>nM</td>\n",
       "      <td>Inhibition of human Potassium channel HERG exp...</td>\n",
       "      <td>Homo sapiens</td>\n",
       "      <td>B</td>\n",
       "      <td>9</td>\n",
       "      <td>HERG</td>\n",
       "      <td>CHEMBL240</td>\n",
       "      <td>good</td>\n",
       "    </tr>\n",
       "    <tr>\n",
       "      <th>48</th>\n",
       "      <td>CCOC(=O)N1CCC(=C2c3ccc(Cl)cc3CCc4cccnc24)CC1</td>\n",
       "      <td>110803</td>\n",
       "      <td>CHEMBL998</td>\n",
       "      <td>=</td>\n",
       "      <td>169.82</td>\n",
       "      <td>IC50</td>\n",
       "      <td>nM</td>\n",
       "      <td>Inhibition of human Potassium channel HERG exp...</td>\n",
       "      <td>Homo sapiens</td>\n",
       "      <td>B</td>\n",
       "      <td>9</td>\n",
       "      <td>HERG</td>\n",
       "      <td>CHEMBL240</td>\n",
       "      <td>good</td>\n",
       "    </tr>\n",
       "    <tr>\n",
       "      <th>49</th>\n",
       "      <td>Oc1ccc(CCN2CCC(CC2)Nc3nc4ccccc4n3Cc5ccc(F)cc5)cc1</td>\n",
       "      <td>91240</td>\n",
       "      <td>CHEMBL60796</td>\n",
       "      <td>=</td>\n",
       "      <td>1.00</td>\n",
       "      <td>IC50</td>\n",
       "      <td>nM</td>\n",
       "      <td>Inhibition of human Potassium channel HERG exp...</td>\n",
       "      <td>Homo sapiens</td>\n",
       "      <td>B</td>\n",
       "      <td>9</td>\n",
       "      <td>HERG</td>\n",
       "      <td>CHEMBL240</td>\n",
       "      <td>good</td>\n",
       "    </tr>\n",
       "    <tr>\n",
       "      <th>50</th>\n",
       "      <td>Cc1[nH]cnc1CN2CCc3c(C2=O)c4ccccc4n3C</td>\n",
       "      <td>153342</td>\n",
       "      <td>CHEMBL1110</td>\n",
       "      <td>=</td>\n",
       "      <td>3235.94</td>\n",
       "      <td>IC50</td>\n",
       "      <td>nM</td>\n",
       "      <td>Inhibition of human Potassium channel HERG exp...</td>\n",
       "      <td>Homo sapiens</td>\n",
       "      <td>B</td>\n",
       "      <td>9</td>\n",
       "      <td>HERG</td>\n",
       "      <td>CHEMBL240</td>\n",
       "      <td>good</td>\n",
       "    </tr>\n",
       "  </tbody>\n",
       "</table>\n",
       "</div>"
      ]
     },
     "execution_count": 33,
     "metadata": {},
     "output_type": "execute_result"
    }
   ],
   "execution_count": 33
  },
  {
   "cell_type": "markdown",
   "metadata": {},
   "source": [
    "We can make a bar plot of the data quality with the descriptions on the x-axis. "
   ]
  },
  {
   "cell_type": "code",
   "metadata": {
    "ExecuteTime": {
     "end_time": "2025-05-05T16:54:57.512917Z",
     "start_time": "2025-05-05T16:54:57.449195Z"
    }
   },
   "source": [
    "ax = df.confidence_level.value_counts().plot(kind=\"bar\")\n",
    "ax.tick_params(axis='x', rotation=0)"
   ],
   "outputs": [
    {
     "data": {
      "text/plain": [
       "<Figure size 1500x1200 with 1 Axes>"
      ],
      "image/png": "[encoded data removed]"
     },
     "metadata": {},
     "output_type": "display_data"
    }
   ],
   "execution_count": 34
  },
  {
   "cell_type": "markdown",
   "metadata": {},
   "source": [
    "We can also make a boxplot to compare the IC50 distributions for the good quality data and the fair quality data. "
   ]
  },
  {
   "cell_type": "code",
   "metadata": {
    "ExecuteTime": {
     "end_time": "2025-05-05T16:54:57.685352Z",
     "start_time": "2025-05-05T16:54:57.529746Z"
    }
   },
   "source": [
    "ax = sns.boxplot(data=df,x=\"confidence_level\",y=\"standard_value\")\n",
    "ax.set(yscale=\"log\",xlabel=\"Confidence Level\",ylabel=\"IC50 (nM)\")"
   ],
   "outputs": [
    {
     "data": {
      "text/plain": [
       "[None, Text(0.5, 0, 'Confidence Level'), Text(0, 0.5, 'IC50 (nM)')]"
      ]
     },
     "execution_count": 35,
     "metadata": {},
     "output_type": "execute_result"
    },
    {
     "data": {
      "text/plain": [
       "<Figure size 1500x1200 with 1 Axes>"
      ],
      "image/png": "[encoded data removed]"
     },
     "metadata": {},
     "output_type": "display_data"
    }
   ],
   "execution_count": 35
  },
  {
   "cell_type": "code",
   "metadata": {
    "ExecuteTime": {
     "end_time": "2025-05-05T16:54:57.691994Z",
     "start_time": "2025-05-05T16:54:57.690718Z"
    }
   },
   "source": [],
   "outputs": [],
   "execution_count": null
  },
  {
   "cell_type": "code",
   "metadata": {
    "ExecuteTime": {
     "end_time": "2025-05-05T16:54:57.701193Z",
     "start_time": "2025-05-05T16:54:57.699907Z"
    }
   },
   "source": [],
   "outputs": [],
   "execution_count": null
  }
 ],
 "metadata": {
  "kernelspec": {
   "display_name": "Python 3 (ipykernel)",
   "language": "python",
   "name": "python3"
  },
  "language_info": {
   "codemirror_mode": {
    "name": "ipython",
    "version": 3
   },
   "file_extension": ".py",
   "mimetype": "text/x-python",
   "name": "python",
   "nbconvert_exporter": "python",
   "pygments_lexer": "ipython3",
   "version": "3.9.6"
  }
 },
 "nbformat": 4,
 "nbformat_minor": 4
}
