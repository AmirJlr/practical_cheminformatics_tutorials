{
 "cells": [
  {
   "cell_type": "markdown",
   "id": "46f466ac-5382-4904-9f9f-fe281de63d3f",
   "metadata": {},
   "source": [
    "## Using Bayesian Methods to Optimize Reaction Conditions\n",
    "### Introduction \n",
    "\n",
    "In drug discovery, we frequently encounter situations where we need to modify a set of reaction conditions to optimize the yield. In an early discovery program, we may want to scale up a key intermediate to facilitate SAR exploration. In a later stage program, a process chemist may want to optimize a reaction for multi-kilo scale manufacture of the drug substance. A variety of strategies, ranging from intuition to design of experiments (DOE), are used to facilitate optimization. An alternative approach is to use Bayesian optimization, a technique that balances exploration and exploitation to identify optimal solutions. In this notebook, we will use [BayBE](https://github.com/emdgroup/baybe), an optimization library developed by scientists at Merck KGaA in Darmstadt, Germany.\n",
    "\n",
    "In this example, we will consider a reaction described in the supporting material of a 2020 paper by [Shields](https://www.nature.com/articles/s41586-021-03213-y) and coworkers from UCLA. \n",
    "\n",
    "       \n",
    "<center><img src=\"https://raw.githubusercontent.com/PatWalters/practical_cheminformatics_tutorials/main/reaction/images/bayes/Shields_reaction.png\" style=\"width: 50%; height: 50%\"/></center>\n",
    "\n",
    "We will optimize the 5 parameters shown in blue in the figure above.   Each of these parameters has a set of options available. \n",
    "\n",
    "<center><img src=\"https://raw.githubusercontent.com/PatWalters/practical_cheminformatics_tutorials/main/reaction/images/bayes/Possible_conditions.png\" style=\"width: 50%; height: 50%\"/></center>\n",
    "\n",
    "In total, there are 12 * 4 * 4 * 3 * 3 = 1728 possible combinations. We would like to identify the optimal conditions while running only a small number of experiments. Fortunately, Shields and coworkers investigated all 1728 combinations and provided a table with the conditions and corresponding yields. In this notebook, we will simulate a Bayesian optimization process. We will begin by identifying 10 initial reaction conditions. In practice, we would then run experiments to evaluate these conditions and record the corresponding reaction yields. However, in this case, we will look up the yields in a table. With the conditions and yields in hand, we can build a Bayesian model and use this model to select another 5 reaction conditions. We will then look up the yields for the 5 conditions and use this information to update the model. We will repeat this process through 5 rounds of optimization and examine the reaction yields for each optimization cycle. "
   ]
  },
  {
   "attachments": {},
   "cell_type": "markdown",
   "id": "cd298819-935f-4f84-827d-d19ea73e6cd8",
   "metadata": {},
   "source": [
    "### Overview \n",
    "\n",
    "\n",
    "Bayesian optimization with BayBE proceeds through the following steps. After this brief overview, we will execute the code to run each of these steps.\n",
    "\n",
    "1. **[Define the parameters](https://emdgroup.github.io/baybe/stable/userguide/parameters.html).** In this step, we define the reaction parameters to be optimized. Typically, we will optimize aspects such as the catalyst used in the reaction, the number of equivalents of catalyst, the reaction temperature, the reaction time, and the concentrations of reactants.\n",
    "2. **[Define a search space](https://emdgroup.github.io/baybe/stable/userguide/searchspace.html).** The search space defines the combination of parameters to be searched. The search space is typically defined using the function **[Searchspace.from_product](https://emdgroup.github.io/baybe/stable/_autosummary/baybe.searchspace.core.SearchSpace.html#baybe.searchspace.core.SearchSpace.from_product)**, which creates a search space as the Cartesian product (all combinations) of the parameters. It's important not to confuse the Cartesian product of the parameters with the products of a reaction.\n",
    "3. **[Define the target](https://emdgroup.github.io/baybe/stable/userguide/targets.html).** The target is the quantity we are optimizing. In the case of reaction optimization, this is typically the yield. BayBE can optimize a single parameter or multiple parameters at once. In this notebook, we'll focus on single parameter optimization, where we are only optimizing the yield. The targets are combined into an objective, which configures how multiple targets are combined (if applicable).   \n",
    "4. **[Define a recommender](https://emdgroup.github.io/baybe/stable/userguide/recommenders.html).** The recommender selects the next set of experiments to be performed. In this case, we'll use BayBE's **[TwoPhaseMetaRecommender](https://emdgroup.github.io/baybe/stable/_autosummary/baybe.recommenders.meta.sequential.TwoPhaseMetaRecommender.html#baybe.recommenders.meta.sequential.TwoPhaseMetaRecommender)**. This recommender behaves differently depending on whether it has experimental data. At the beginning of an optimization process, we typically don't have experimental data and want to find a diverse set of conditions to gather some initial data. If the **[TwoPhaseMetaRecommender](https://emdgroup.github.io/baybe/stable/_autosummary/baybe.recommenders.meta.sequential.TwoPhaseMetaRecommender.html#baybe.recommenders.meta.sequential.TwoPhaseMetaRecommender)** has no data available, it uses **[Farthest Point Sampling](https://emdgroup.github.io/baybe/stable/_autosummary/baybe.recommenders.pure.nonpredictive.sampling.FPSRecommender.html#baybe.recommenders.pure.nonpredictive.sampling.FPSRecommender)** to select a diverse set of initial conditions. If the recommender has data, it uses the **[BotorchRecommender](https://emdgroup.github.io/baybe/stable/_autosummary/baybe.recommenders.pure.bayesian.botorch.BotorchRecommender.html#baybe.recommenders.pure.bayesian.botorch.BotorchRecommender)**, a Bayesian optimizer that balances exploration and exploitation when selecting sets of reaction conditions.\n",
    "5. **[Define a campaign](https://emdgroup.github.io/baybe/stable/userguide/campaigns.html).** In BayBE, the search space, objective, and recommender are combined into an object known as a **[Campaign](https://emdgroup.github.io/baybe/stable/userguide/campaigns.html)**. The Campaign has two important methods: **[recommend](https://emdgroup.github.io/baybe/stable/userguide/campaigns.html#getting-recommendations)**, which recommends the next set of experiments, and **[add_measurements](https://emdgroup.github.io/baybe/stable/userguide/campaigns.html#adding-measurements)**, which adds a set of experiments and updates the underlying Bayesian model. As mentioned above, if we call **recommend** before calling **add_measurements**, the **recommend** method uses farthest point sampling to select the next set of reaction conditions. If we call **recommend** after a call to **add_measurements**, the Bayesian model is used to select the next set of experiments.\n",
    "\n",
    "The figure below provides a schematic overview of the components described above. \n",
    "\n",
    "<center><img src=\"https://raw.githubusercontent.com/PatWalters/practical_cheminformatics_tutorials/main/reaction/images/bayes/baybe_architecture.png\"/></center>"
   ]
  },
  {
   "cell_type": "markdown",
   "id": "06e06281-ca8f-4b95-9012-f95d71db9190",
   "metadata": {},
   "source": [
    "### Install and Load the Necessary Python Libraries"
   ]
  },
  {
   "cell_type": "code",
   "execution_count": 59,
   "id": "55792731-b41a-4e9b-affd-e0dd4ae3bd1d",
   "metadata": {},
   "outputs": [],
   "source": [
    "import sys, subprocess\n",
    " \n",
    "IN_COLAB = \"google.colab\" in sys.modules\n",
    " \n",
    "if IN_COLAB:\n",
    "    from IPython.utils import io\n",
    " \n",
    "    print(\"In Google Colab - intstalling required packages...\")\n",
    " \n",
    "    with io.capture_output():\n",
    "        subprocess.run(\n",
    "            [\"pip\", \"install\", 'baybe[chem,insights]', 'shap', 'tqdm', 'useful_rdkit_utils']\n",
    "        )\n",
    " \n",
    "    print(\"Done!\")"
   ]
  },
  {
   "cell_type": "code",
   "execution_count": 16,
   "id": "b98d2d89-c17a-40ac-8498-79d981b191ad",
   "metadata": {},
   "outputs": [],
   "source": [
    "import pandas as pd\n",
    "import seaborn as sns\n",
    "from tqdm.auto import tqdm\n",
    "\n",
    "from baybe.targets import NumericalTarget\n",
    "from baybe.parameters import CategoricalParameter, NumericalDiscreteParameter, SubstanceParameter\n",
    "from baybe.searchspace import SearchSpace\n",
    "from baybe.objective import SingleTargetObjective\n",
    "from baybe.recommenders import BotorchRecommender, FPSRecommender, TwoPhaseMetaRecommender\n",
    "from baybe.campaign import Campaign\n",
    "from baybe.constraints import DiscreteExcludeConstraint, ThresholdCondition, SubSelectionCondition, DiscreteCustomConstraint\n",
    "from baybe.surrogates import GaussianProcessSurrogate\n",
    "\n",
    "from baybe.insights.shap import SHAPInsight\n",
    "from rdkit import Chem\n",
    "import useful_rdkit_utils as uru"
   ]
  },
  {
   "cell_type": "markdown",
   "id": "6eaa0b8f-ff62-4add-a0a1-cb434ef1bb4a",
   "metadata": {},
   "source": [
    "### 1. Define the parameters\n",
    "In this section, we will define two different parameter types. A **[CategoricalParameter](https://emdgroup.github.io/baybe/stable/userguide/parameters.html#categoricalparameter)** has a text label, we will encode these labels using a technique known as **[1-hot encoding](https://www.geeksforgeeks.org/ml-one-hot-encoding/)**, which is widely used in machine learning.  A **[NumericalDiscreteParameter](https://emdgroup.github.io/baybe/stable/userguide/parameters.html#numericaldiscreteparameter)** encodes numerical parameters, which adopt a specific set of possible values.  For instance, below we set temperature (Temp_C) to one of three different values 90,105, or 120. "
   ]
  },
  {
   "cell_type": "code",
   "execution_count": 17,
   "id": "9ea692f4-f82b-4b04-9888-1dea445ad74b",
   "metadata": {},
   "outputs": [],
   "source": [
    "Base = {'KOAc': 'O=C([O-])C.[K+]',\n",
    " 'KOPv': 'O=C([O-])C(C)(C)C.[K+]',\n",
    " 'CsOAc': 'O=C([O-])C.[Cs+]',\n",
    " 'CsOPv': 'O=C([O-])C(C)(C)C.[Cs+]'}"
   ]
  },
  {
   "cell_type": "code",
   "execution_count": 18,
   "id": "0579adae-332d-43b8-96f7-c5eaa5ad6489",
   "metadata": {},
   "outputs": [],
   "source": [
    "Ligand = {'BrettPhos': 'CC(C)C1=CC(C(C)C)=C(C(C(C)C)=C1)C2=C(P(C3CCCCC3)C4CCCCC4)C(OC)=CC=C2OC',\n",
    " 'PPht-Bu2': 'CC(C)(C)P(C1=CC=CC=C1)C(C)(C)C',\n",
    " 't-BuPh-CPhos': 'CN(C)C1=CC=CC(N(C)C)=C1C2=CC=CC=C2P(C(C)(C)C)C3=CC=CC=C3',\n",
    " 'PCy3': 'P(C1CCCCC1)(C2CCCCC2)C3CCCCC3',\n",
    " 'PPH3': 'P(C1=CC=CC=C1)(C2=CC=CC=C2)C3=CC=CC=C3',\n",
    " 'XPhos': 'CC(C1=C(C2=CC=CC=C2P(C3CCCCC3)C4CCCCC4)C(C(C)C)=CC(C(C)C)=C1)C',\n",
    " 'P(fur)3': 'P(C1=CC=CO1)(C2=CC=CO2)C3=CC=CO3',\n",
    " 'PPh2Me': 'CP(C1=CC=CC=C1)C2=CC=CC=C2',\n",
    " 'GlorPhos': 'CC(OC1=C(P(C2CCCCC2)C3CCCCC3)C(OC(C)C)=CC=C1)C',\n",
    " 'JackiePhos': 'FC(F)(F)C1=CC(P(C2=C(C3=C(C(C)C)C=C(C(C)C)C=C3C(C)C)C(OC)=CC=C2OC)C4=CC(C(F)(F)F)=CC(C(F)(F)F)=C4)=CC(C(F)(F)F)=C1',\n",
    " 'CgMe-PPh': 'C[C@]1(O2)O[C@](C[C@]2(C)P3C4=CC=CC=C4)(C)O[C@]3(C)C1',\n",
    " 'PPhMe2': 'CP(C)C1=CC=CC=C1'}"
   ]
  },
  {
   "cell_type": "markdown",
   "id": "6d4d9e0c-8a05-4fbe-abef-737a2a602ca4",
   "metadata": {},
   "source": [
    "We can use the RDKit to draw the structures of the ligands.  The function **rd_make_structures_pretty** from the [useful_rdkit_utils](https://github.com/PatWalters/useful_rdkit_utils) library adjusts a few settings to make the RDKit structure drawings look better. "
   ]
  },
  {
   "cell_type": "code",
   "execution_count": 19,
   "id": "e4e4c499-9822-40eb-8ab9-beb57b3f2de6",
   "metadata": {},
   "outputs": [
    {
     "data": {
      "image/png": "[encoded data removed]",
      "text/plain": [
       "<IPython.core.display.Image object>"
      ]
     },
     "execution_count": 19,
     "metadata": {},
     "output_type": "execute_result"
    }
   ],
   "source": [
    "uru.rd_make_structures_pretty()\n",
    "Chem.Draw.MolsToGridImage([Chem.MolFromSmiles(x) for x in Ligand.values()],molsPerRow=6, \n",
    "                          legends=Ligand.keys())"
   ]
  },
  {
   "cell_type": "markdown",
   "id": "8589ec00-33f9-46b2-a715-5da6eb16ceda",
   "metadata": {},
   "source": [
    "In the next few cells, we define the possible choices for solvent, concentration, and temperature."
   ]
  },
  {
   "cell_type": "code",
   "execution_count": 20,
   "id": "a507ac19-ef6b-4c90-83ae-8d7001ed43a2",
   "metadata": {},
   "outputs": [],
   "source": [
    "Solvent = {'DMAc': 'CC(N(C)C)=O',\n",
    " 'BuCN': 'CCCC#N',\n",
    " 'BuOAc': 'CCCCOC(C)=O',\n",
    " 'p-Xylene': 'CC1=CC=C(C)C=C1'}"
   ]
  },
  {
   "cell_type": "markdown",
   "id": "39f5264f-a1a8-46e2-9e85-bb2c1bb66072",
   "metadata": {},
   "source": [
    "The next two parameters are numeric we can simply define these as lists. "
   ]
  },
  {
   "cell_type": "code",
   "execution_count": 21,
   "id": "551ad18e-2079-4373-b6c6-8e6f0ab8ddd1",
   "metadata": {},
   "outputs": [],
   "source": [
    "Concentration = [0.057, 0.1, 0.153]"
   ]
  },
  {
   "cell_type": "code",
   "execution_count": 22,
   "id": "45bda5bc-ea1b-4cab-b8e6-ff20b994799a",
   "metadata": {},
   "outputs": [],
   "source": [
    "Temp_C = [90.0, 105.0, 120.0]"
   ]
  },
  {
   "cell_type": "markdown",
   "id": "0698278d-0d62-4691-a1dd-b42bb5c7062c",
   "metadata": {},
   "source": [
    "After parsing the input data, we use the corresponding values to define parameters.  As mentioned above, the first three are of type **[CategoricalParameter](https://emdgroup.github.io/baybe/stable/userguide/parameters.html#categoricalparameter)** and the next two are of type **[NumericalDiscreteParameter](https://emdgroup.github.io/baybe/stable/userguide/parameters.html#numericaldiscreteparameter)**. "
   ]
  },
  {
   "cell_type": "code",
   "execution_count": 26,
   "id": "4e49a4f9-b34c-495d-bcb8-784c1956bcef",
   "metadata": {},
   "outputs": [],
   "source": [
    "ohe_base_param = CategoricalParameter(values=Base.keys(), name=\"Base_Name\")\n",
    "ohe_ligand_param = CategoricalParameter(values=Ligand.keys(),name=\"Ligand_Name\")\n",
    "ohe_solvent_param = CategoricalParameter(values=Solvent.keys(),name=\"Solvent_Name\")\n",
    "ohe_concentration_param = NumericalDiscreteParameter(values=Concentration,name=\"Concentration\")\n",
    "ohe_temp_param = NumericalDiscreteParameter(values=Temp_C,name=\"Temp_C\")"
   ]
  },
  {
   "cell_type": "markdown",
   "id": "212531cc-13ad-4ae1-a3da-09fb11f53c20",
   "metadata": {},
   "source": [
    "After defining each of the individual parameters, the parameters are combined into a list. "
   ]
  },
  {
   "cell_type": "code",
   "execution_count": 27,
   "id": "29d6b5b8-6875-4259-8538-7313d950e989",
   "metadata": {},
   "outputs": [],
   "source": [
    "ohe_parameters = [ohe_base_param, ohe_ligand_param, ohe_solvent_param, ohe_concentration_param, ohe_temp_param]"
   ]
  },
  {
   "cell_type": "markdown",
   "id": "737c32dc-60ed-4d21-9035-b012d42ef3f4",
   "metadata": {},
   "source": [
    "### 2. Define the Searchspace\n",
    "This parameter list is then used to generate the **[Searchspace](https://emdgroup.github.io/baybe/stable/userguide/searchspace.html)**. "
   ]
  },
  {
   "cell_type": "code",
   "execution_count": 28,
   "id": "c4fd8e29-f1df-4f3c-b25c-b0d2857e7b18",
   "metadata": {},
   "outputs": [],
   "source": [
    "ohe_searchspace = SearchSpace.from_product(ohe_parameters)"
   ]
  },
  {
   "cell_type": "markdown",
   "id": "749ccd78-1cdb-4204-a9e9-9196481419e3",
   "metadata": {},
   "source": [
    "Look at the size of the searchspace, which is 1728.  \n",
    "4 Base * 12 Ligand * 4 Solvent * 3 Concentration * 3 Temperature = 1728 conditions"
   ]
  },
  {
   "cell_type": "markdown",
   "id": "b1a5a097-3596-4495-bf8b-84e05f1d113e",
   "metadata": {},
   "source": [
    "BayBE has a utility method [estimate_product_space_size](https://emdgroup.github.io/baybe/stable/userguide/utils.html#search-space-memory-estimation) that can be used to estimate the size and memory requirements for the SearchSpace.  I like to use this as a quick check to ensure that I've defined the searchspace correctly. "
   ]
  },
  {
   "cell_type": "code",
   "execution_count": 29,
   "id": "ffca0caa-c219-4149-8595-f75e87fd0582",
   "metadata": {},
   "outputs": [
    {
     "data": {
      "text/plain": [
       "MemorySize(exp_rep_bytes=352512.0, exp_rep_shape=(1728, 5), comp_rep_bytes=304128, comp_rep_shape=(1728, 22))"
      ]
     },
     "execution_count": 29,
     "metadata": {},
     "output_type": "execute_result"
    }
   ],
   "source": [
    "ohe_searchspace.estimate_product_space_size(ohe_parameters)"
   ]
  },
  {
   "cell_type": "markdown",
   "id": "b191609e-6c4e-4bf1-bcf4-2b0f5c876c84",
   "metadata": {},
   "source": [
    "### 3. Define the Target\n",
    "In this case our **[Target](https://emdgroup.github.io/baybe/stable/userguide/targets.html)** is the yield.  We are only optimizing a single objective so we will use the BayBE **[SingleTargetOjective](https://emdgroup.github.io/baybe/stable/userguide/objectives.html#singletargetobjective)**. Note that we set **mode** to **MAX** indicating that we want to maximize the yield. "
   ]
  },
  {
   "cell_type": "code",
   "execution_count": 30,
   "id": "dc9355c5-b0d0-402b-8d91-2dd46a6ecbf6",
   "metadata": {},
   "outputs": [],
   "source": [
    "ohe_target = NumericalTarget(name=\"yield\", mode=\"MAX\")\n",
    "ohe_objective = SingleTargetObjective(ohe_target)"
   ]
  },
  {
   "cell_type": "markdown",
   "id": "f9d5f283-a08c-46fc-b03b-39c78458d36d",
   "metadata": {},
   "source": [
    "### 4. Define the Recommender\n",
    "The [**Recommender**](https://emdgroup.github.io/baybe/stable/userguide/recommenders.html) selects the next set of experiments to try.  Note that we have configured **initial_recommender=FPSRecommender()**.  In this case, if there is no data available, the recommender uses **[farthest point sampling](https://emdgroup.github.io/baybe/stable/_autosummary/baybe.recommenders.pure.nonpredictive.sampling.FPSRecommender.html#baybe.recommenders.pure.nonpredictive.sampling.FPSRecommender)** to select a diverse set of conditions.  If data is available, the Bayesian **[BotorchRecommender](https://emdgroup.github.io/baybe/stable/_autosummary/baybe.recommenders.pure.bayesian.botorch.BotorchRecommender.html#baybe.recommenders.pure.bayesian.botorch.BotorchRecommender)** is used to balance exploration and exploitation and select the next set of reaction conditions. "
   ]
  },
  {
   "cell_type": "code",
   "execution_count": 31,
   "id": "7440938b-bd91-4297-addc-d69cb77c764b",
   "metadata": {},
   "outputs": [],
   "source": [
    "ohe_recommender = TwoPhaseMetaRecommender(\n",
    "    initial_recommender=FPSRecommender(),  # farthest point sampling\n",
    "    recommender=BotorchRecommender(),  # Bayesian model-based optimization\n",
    ")"
   ]
  },
  {
   "cell_type": "markdown",
   "id": "833d19da-4f0d-437d-a91f-a5a673a69358",
   "metadata": {},
   "source": [
    "### 5. Define the Campaign\n",
    "The Searchspace, Objective and Recommender are combined to produce a **[Campaign](https://emdgroup.github.io/baybe/stable/userguide/campaigns.html)**, which is used to suggest experiments and take in experimental data.  The Campaign has two primary methods: **[recommend](https://emdgroup.github.io/baybe/stable/userguide/campaigns.html#getting-recommendations)**, which provides suggested reaction conditions, and **[add_measurements](https://emdgroup.github.io/baybe/stable/userguide/campaigns.html#adding-measurements)**, which takes in experimental data and updates the Bayesian model. "
   ]
  },
  {
   "cell_type": "code",
   "execution_count": 32,
   "id": "7f7e9eee-c3fb-4aea-8084-51d798c16a47",
   "metadata": {},
   "outputs": [],
   "source": [
    "ohe_campaign = Campaign(ohe_searchspace, ohe_objective, ohe_recommender)"
   ]
  },
  {
   "cell_type": "markdown",
   "id": "c23309e6-b1d3-4c0d-bd08-9670ed53db5d",
   "metadata": {},
   "source": [
    "### 6. Get an Initial Set of Recommendations\n",
    "Now that the Campaign is defined, we can ask it for recommendations. So far, we haven't done any experiments. As such, the Campaign will use farthest point sampling to select a diverse set of initial conditions."
   ]
  },
  {
   "cell_type": "code",
   "execution_count": 33,
   "id": "575ca441-2542-4d10-8b24-8991e3f7c884",
   "metadata": {},
   "outputs": [
    {
     "data": {
      "text/html": [
       "<div>\n",
       "<style scoped>\n",
       "    .dataframe tbody tr th:only-of-type {\n",
       "        vertical-align: middle;\n",
       "    }\n",
       "\n",
       "    .dataframe tbody tr th {\n",
       "        vertical-align: top;\n",
       "    }\n",
       "\n",
       "    .dataframe thead th {\n",
       "        text-align: right;\n",
       "    }\n",
       "</style>\n",
       "<table border=\"1\" class=\"dataframe\">\n",
       "  <thead>\n",
       "    <tr style=\"text-align: right;\">\n",
       "      <th></th>\n",
       "      <th>Base_Name</th>\n",
       "      <th>Ligand_Name</th>\n",
       "      <th>Solvent_Name</th>\n",
       "      <th>Concentration</th>\n",
       "      <th>Temp_C</th>\n",
       "    </tr>\n",
       "  </thead>\n",
       "  <tbody>\n",
       "    <tr>\n",
       "      <th>0</th>\n",
       "      <td>CsOAc</td>\n",
       "      <td>BrettPhos</td>\n",
       "      <td>BuCN</td>\n",
       "      <td>0.057</td>\n",
       "      <td>90.0</td>\n",
       "    </tr>\n",
       "    <tr>\n",
       "      <th>485</th>\n",
       "      <td>CsOPv</td>\n",
       "      <td>CgMe-PPh</td>\n",
       "      <td>BuOAc</td>\n",
       "      <td>0.153</td>\n",
       "      <td>120.0</td>\n",
       "    </tr>\n",
       "    <tr>\n",
       "      <th>960</th>\n",
       "      <td>KOAc</td>\n",
       "      <td>GlorPhos</td>\n",
       "      <td>DMAc</td>\n",
       "      <td>0.153</td>\n",
       "      <td>90.0</td>\n",
       "    </tr>\n",
       "    <tr>\n",
       "      <th>1469</th>\n",
       "      <td>KOPv</td>\n",
       "      <td>P(fur)3</td>\n",
       "      <td>p-Xylene</td>\n",
       "      <td>0.057</td>\n",
       "      <td>120.0</td>\n",
       "    </tr>\n",
       "    <tr>\n",
       "      <th>1555</th>\n",
       "      <td>KOPv</td>\n",
       "      <td>PPh2Me</td>\n",
       "      <td>BuCN</td>\n",
       "      <td>0.153</td>\n",
       "      <td>105.0</td>\n",
       "    </tr>\n",
       "    <tr>\n",
       "      <th>1090</th>\n",
       "      <td>KOAc</td>\n",
       "      <td>PPH3</td>\n",
       "      <td>BuOAc</td>\n",
       "      <td>0.057</td>\n",
       "      <td>105.0</td>\n",
       "    </tr>\n",
       "    <tr>\n",
       "      <th>559</th>\n",
       "      <td>CsOPv</td>\n",
       "      <td>JackiePhos</td>\n",
       "      <td>DMAc</td>\n",
       "      <td>0.057</td>\n",
       "      <td>105.0</td>\n",
       "    </tr>\n",
       "    <tr>\n",
       "      <th>322</th>\n",
       "      <td>CsOAc</td>\n",
       "      <td>PPhMe2</td>\n",
       "      <td>p-Xylene</td>\n",
       "      <td>0.153</td>\n",
       "      <td>105.0</td>\n",
       "    </tr>\n",
       "    <tr>\n",
       "      <th>1632</th>\n",
       "      <td>KOPv</td>\n",
       "      <td>PPht-Bu2</td>\n",
       "      <td>BuOAc</td>\n",
       "      <td>0.100</td>\n",
       "      <td>90.0</td>\n",
       "    </tr>\n",
       "    <tr>\n",
       "      <th>822</th>\n",
       "      <td>CsOPv</td>\n",
       "      <td>XPhos</td>\n",
       "      <td>p-Xylene</td>\n",
       "      <td>0.100</td>\n",
       "      <td>90.0</td>\n",
       "    </tr>\n",
       "  </tbody>\n",
       "</table>\n",
       "</div>"
      ],
      "text/plain": [
       "     Base_Name Ligand_Name Solvent_Name  Concentration  Temp_C\n",
       "0        CsOAc   BrettPhos         BuCN          0.057    90.0\n",
       "485      CsOPv    CgMe-PPh        BuOAc          0.153   120.0\n",
       "960       KOAc    GlorPhos         DMAc          0.153    90.0\n",
       "1469      KOPv     P(fur)3     p-Xylene          0.057   120.0\n",
       "1555      KOPv      PPh2Me         BuCN          0.153   105.0\n",
       "1090      KOAc        PPH3        BuOAc          0.057   105.0\n",
       "559      CsOPv  JackiePhos         DMAc          0.057   105.0\n",
       "322      CsOAc      PPhMe2     p-Xylene          0.153   105.0\n",
       "1632      KOPv    PPht-Bu2        BuOAc          0.100    90.0\n",
       "822      CsOPv       XPhos     p-Xylene          0.100    90.0"
      ]
     },
     "execution_count": 33,
     "metadata": {},
     "output_type": "execute_result"
    }
   ],
   "source": [
    "ohe_rec_1 = ohe_campaign.recommend(10)\n",
    "ohe_rec_1"
   ]
  },
  {
   "cell_type": "markdown",
   "id": "3a99faf5-398a-47e6-a419-c60f3b181fe9",
   "metadata": {},
   "source": [
    "### 7. Perform Experiments\n",
    "At this point we would typically perform a set of experiments using the 10 recommendations provided by the Campaign.  However, in the interest of efficiency, we will look up the reaction yields in a database.  To do this, we will define a Python class that reads a file with data from [Shields, et al](https://www.nature.com/articles/s41586-021-03213-yhttps://www.nature.com/articles/s41586-021-03213-y) and looks up the reaction yield.  "
   ]
  },
  {
   "cell_type": "code",
   "execution_count": 34,
   "id": "25dbab6c-51c0-4a00-bcfe-4f0cb7baab87",
   "metadata": {},
   "outputs": [],
   "source": [
    "class ReactionLookup:\n",
    "    def __init__(self,infile_name):\n",
    "        self.df = pd.read_csv(infile_name)\n",
    "\n",
    "    def lookup_yields_from_SMILES(self, query):\n",
    "        query_cols = [\"Base_SMILES\",\"Ligand_SMILES\",\"Solvent_SMILES\",\"Concentration\",\"Temp_C\"]\n",
    "        return self.df.merge(query, on=query_cols)[query_cols + [\"yield\"]]\n",
    "\n",
    "    def lookup_yields_from_Name(self, query):\n",
    "        query_cols = [\"Base_Name\",\"Ligand_Name\",\"Solvent_Name\",\"Concentration\",\"Temp_C\"]\n",
    "        return self.df.merge(query, on=query_cols)[query_cols + [\"yield\"]]\n",
    "\n",
    "reaction_lookup = ReactionLookup(\"https://raw.githubusercontent.com/PatWalters/practical_cheminformatics_tutorials/refs/heads/main/reaction/data/direct_arylation.csv\")"
   ]
  },
  {
   "cell_type": "markdown",
   "id": "55c529a6-d475-4b91-84be-300f23f1d48a",
   "metadata": {},
   "source": [
    "Look up the yields for our first 10 conditions. "
   ]
  },
  {
   "cell_type": "code",
   "execution_count": 35,
   "id": "49959a5e-26ef-4910-affc-beda89617b24",
   "metadata": {},
   "outputs": [
    {
     "data": {
      "text/html": [
       "<div>\n",
       "<style scoped>\n",
       "    .dataframe tbody tr th:only-of-type {\n",
       "        vertical-align: middle;\n",
       "    }\n",
       "\n",
       "    .dataframe tbody tr th {\n",
       "        vertical-align: top;\n",
       "    }\n",
       "\n",
       "    .dataframe thead th {\n",
       "        text-align: right;\n",
       "    }\n",
       "</style>\n",
       "<table border=\"1\" class=\"dataframe\">\n",
       "  <thead>\n",
       "    <tr style=\"text-align: right;\">\n",
       "      <th></th>\n",
       "      <th>Base_Name</th>\n",
       "      <th>Ligand_Name</th>\n",
       "      <th>Solvent_Name</th>\n",
       "      <th>Concentration</th>\n",
       "      <th>Temp_C</th>\n",
       "      <th>yield</th>\n",
       "    </tr>\n",
       "  </thead>\n",
       "  <tbody>\n",
       "    <tr>\n",
       "      <th>0</th>\n",
       "      <td>KOPv</td>\n",
       "      <td>PPht-Bu2</td>\n",
       "      <td>BuOAc</td>\n",
       "      <td>0.100</td>\n",
       "      <td>90</td>\n",
       "      <td>0.00</td>\n",
       "    </tr>\n",
       "    <tr>\n",
       "      <th>1</th>\n",
       "      <td>CsOPv</td>\n",
       "      <td>XPhos</td>\n",
       "      <td>p-Xylene</td>\n",
       "      <td>0.100</td>\n",
       "      <td>90</td>\n",
       "      <td>36.98</td>\n",
       "    </tr>\n",
       "    <tr>\n",
       "      <th>2</th>\n",
       "      <td>CsOAc</td>\n",
       "      <td>BrettPhos</td>\n",
       "      <td>BuCN</td>\n",
       "      <td>0.057</td>\n",
       "      <td>90</td>\n",
       "      <td>36.72</td>\n",
       "    </tr>\n",
       "    <tr>\n",
       "      <th>3</th>\n",
       "      <td>KOAc</td>\n",
       "      <td>PPH3</td>\n",
       "      <td>BuOAc</td>\n",
       "      <td>0.057</td>\n",
       "      <td>105</td>\n",
       "      <td>1.94</td>\n",
       "    </tr>\n",
       "    <tr>\n",
       "      <th>4</th>\n",
       "      <td>CsOPv</td>\n",
       "      <td>JackiePhos</td>\n",
       "      <td>DMAc</td>\n",
       "      <td>0.057</td>\n",
       "      <td>105</td>\n",
       "      <td>9.52</td>\n",
       "    </tr>\n",
       "    <tr>\n",
       "      <th>5</th>\n",
       "      <td>KOPv</td>\n",
       "      <td>P(fur)3</td>\n",
       "      <td>p-Xylene</td>\n",
       "      <td>0.057</td>\n",
       "      <td>120</td>\n",
       "      <td>9.88</td>\n",
       "    </tr>\n",
       "    <tr>\n",
       "      <th>6</th>\n",
       "      <td>KOAc</td>\n",
       "      <td>GlorPhos</td>\n",
       "      <td>DMAc</td>\n",
       "      <td>0.153</td>\n",
       "      <td>90</td>\n",
       "      <td>9.14</td>\n",
       "    </tr>\n",
       "    <tr>\n",
       "      <th>7</th>\n",
       "      <td>KOPv</td>\n",
       "      <td>PPh2Me</td>\n",
       "      <td>BuCN</td>\n",
       "      <td>0.153</td>\n",
       "      <td>105</td>\n",
       "      <td>0.00</td>\n",
       "    </tr>\n",
       "    <tr>\n",
       "      <th>8</th>\n",
       "      <td>CsOAc</td>\n",
       "      <td>PPhMe2</td>\n",
       "      <td>p-Xylene</td>\n",
       "      <td>0.153</td>\n",
       "      <td>105</td>\n",
       "      <td>0.00</td>\n",
       "    </tr>\n",
       "    <tr>\n",
       "      <th>9</th>\n",
       "      <td>CsOPv</td>\n",
       "      <td>CgMe-PPh</td>\n",
       "      <td>BuOAc</td>\n",
       "      <td>0.153</td>\n",
       "      <td>120</td>\n",
       "      <td>26.69</td>\n",
       "    </tr>\n",
       "  </tbody>\n",
       "</table>\n",
       "</div>"
      ],
      "text/plain": [
       "  Base_Name Ligand_Name Solvent_Name  Concentration  Temp_C  yield\n",
       "0      KOPv    PPht-Bu2        BuOAc          0.100      90   0.00\n",
       "1     CsOPv       XPhos     p-Xylene          0.100      90  36.98\n",
       "2     CsOAc   BrettPhos         BuCN          0.057      90  36.72\n",
       "3      KOAc        PPH3        BuOAc          0.057     105   1.94\n",
       "4     CsOPv  JackiePhos         DMAc          0.057     105   9.52\n",
       "5      KOPv     P(fur)3     p-Xylene          0.057     120   9.88\n",
       "6      KOAc    GlorPhos         DMAc          0.153      90   9.14\n",
       "7      KOPv      PPh2Me         BuCN          0.153     105   0.00\n",
       "8     CsOAc      PPhMe2     p-Xylene          0.153     105   0.00\n",
       "9     CsOPv    CgMe-PPh        BuOAc          0.153     120  26.69"
      ]
     },
     "execution_count": 35,
     "metadata": {},
     "output_type": "execute_result"
    }
   ],
   "source": [
    "ohe_rec_1_results = reaction_lookup.lookup_yields_from_Name(ohe_rec_1)\n",
    "ohe_rec_1_results"
   ]
  },
  {
   "cell_type": "markdown",
   "id": "3589aebe-a075-4ecc-882c-0ece3e69a5ed",
   "metadata": {},
   "source": [
    "Now that we've performed experiments, we need to add the data from the experiments to the Campaign.  We do this with the **add_measurements** method. "
   ]
  },
  {
   "cell_type": "code",
   "execution_count": 36,
   "id": "83d24412-bbfa-4c8a-923f-4967bab4ef74",
   "metadata": {},
   "outputs": [],
   "source": [
    "ohe_campaign.add_measurements(ohe_rec_1_results)"
   ]
  },
  {
   "cell_type": "markdown",
   "id": "cf35ece9-ad2a-4a77-8da7-ac4a2e7f01d2",
   "metadata": {},
   "source": [
    "Now let's simulate what we would do in practice. \n",
    "- Ask the Campaign for another set of 5 recommendations.  Now that we've added measurements, the Campaign uses the underlying Bayesian model to select the next set of reaction conditions.\n",
    "- Next we will look up the yield for that set of conditions and use the yield data to update the Bayesian model.\n",
    "\n",
    "We'll repeat this process 5 times and examine the distribution of yields at each iteration. "
   ]
  },
  {
   "cell_type": "code",
   "execution_count": 37,
   "id": "c81c918e-6271-4d32-9a50-4ac5e34e0d95",
   "metadata": {},
   "outputs": [
    {
     "data": {
      "application/vnd.jupyter.widget-view+json": {
       "model_id": "1cafa28149034e5c8c917f3454f5201c",
       "version_major": 2,
       "version_minor": 0
      },
      "text/plain": [
       "  0%|          | 0/5 [00:00<?, ?it/s]"
      ]
     },
     "metadata": {},
     "output_type": "display_data"
    }
   ],
   "source": [
    "for i in tqdm(range(0,5)):\n",
    "    rec = ohe_campaign.recommend(5)\n",
    "    rec_results = reaction_lookup.lookup_yields_from_Name(rec)\n",
    "    ohe_campaign.add_measurements(rec_results)"
   ]
  },
  {
   "cell_type": "markdown",
   "id": "1ba1e691-c2b9-4464-bfba-0c43f338cbbe",
   "metadata": {},
   "source": [
    "Next, let's compare the yield values over the six optimization cycles. We can ask the Campaign to provide a table with the measurements.  Note that the dataframe returned has a column **BatchNr** indicating the optimization cycle. "
   ]
  },
  {
   "cell_type": "code",
   "execution_count": 38,
   "id": "9061b0d0-93c9-4604-93df-cd557d4bfd67",
   "metadata": {},
   "outputs": [
    {
     "data": {
      "text/html": [
       "<div>\n",
       "<style scoped>\n",
       "    .dataframe tbody tr th:only-of-type {\n",
       "        vertical-align: middle;\n",
       "    }\n",
       "\n",
       "    .dataframe tbody tr th {\n",
       "        vertical-align: top;\n",
       "    }\n",
       "\n",
       "    .dataframe thead th {\n",
       "        text-align: right;\n",
       "    }\n",
       "</style>\n",
       "<table border=\"1\" class=\"dataframe\">\n",
       "  <thead>\n",
       "    <tr style=\"text-align: right;\">\n",
       "      <th></th>\n",
       "      <th>Base_Name</th>\n",
       "      <th>Ligand_Name</th>\n",
       "      <th>Solvent_Name</th>\n",
       "      <th>Concentration</th>\n",
       "      <th>Temp_C</th>\n",
       "      <th>yield</th>\n",
       "      <th>BatchNr</th>\n",
       "      <th>FitNr</th>\n",
       "    </tr>\n",
       "  </thead>\n",
       "  <tbody>\n",
       "    <tr>\n",
       "      <th>0</th>\n",
       "      <td>KOPv</td>\n",
       "      <td>PPht-Bu2</td>\n",
       "      <td>BuOAc</td>\n",
       "      <td>0.100</td>\n",
       "      <td>90</td>\n",
       "      <td>0.00</td>\n",
       "      <td>1</td>\n",
       "      <td>1.0</td>\n",
       "    </tr>\n",
       "    <tr>\n",
       "      <th>1</th>\n",
       "      <td>CsOPv</td>\n",
       "      <td>XPhos</td>\n",
       "      <td>p-Xylene</td>\n",
       "      <td>0.100</td>\n",
       "      <td>90</td>\n",
       "      <td>36.98</td>\n",
       "      <td>1</td>\n",
       "      <td>1.0</td>\n",
       "    </tr>\n",
       "    <tr>\n",
       "      <th>2</th>\n",
       "      <td>CsOAc</td>\n",
       "      <td>BrettPhos</td>\n",
       "      <td>BuCN</td>\n",
       "      <td>0.057</td>\n",
       "      <td>90</td>\n",
       "      <td>36.72</td>\n",
       "      <td>1</td>\n",
       "      <td>1.0</td>\n",
       "    </tr>\n",
       "    <tr>\n",
       "      <th>3</th>\n",
       "      <td>KOAc</td>\n",
       "      <td>PPH3</td>\n",
       "      <td>BuOAc</td>\n",
       "      <td>0.057</td>\n",
       "      <td>105</td>\n",
       "      <td>1.94</td>\n",
       "      <td>1</td>\n",
       "      <td>1.0</td>\n",
       "    </tr>\n",
       "    <tr>\n",
       "      <th>4</th>\n",
       "      <td>CsOPv</td>\n",
       "      <td>JackiePhos</td>\n",
       "      <td>DMAc</td>\n",
       "      <td>0.057</td>\n",
       "      <td>105</td>\n",
       "      <td>9.52</td>\n",
       "      <td>1</td>\n",
       "      <td>1.0</td>\n",
       "    </tr>\n",
       "    <tr>\n",
       "      <th>5</th>\n",
       "      <td>KOPv</td>\n",
       "      <td>P(fur)3</td>\n",
       "      <td>p-Xylene</td>\n",
       "      <td>0.057</td>\n",
       "      <td>120</td>\n",
       "      <td>9.88</td>\n",
       "      <td>1</td>\n",
       "      <td>1.0</td>\n",
       "    </tr>\n",
       "    <tr>\n",
       "      <th>6</th>\n",
       "      <td>KOAc</td>\n",
       "      <td>GlorPhos</td>\n",
       "      <td>DMAc</td>\n",
       "      <td>0.153</td>\n",
       "      <td>90</td>\n",
       "      <td>9.14</td>\n",
       "      <td>1</td>\n",
       "      <td>1.0</td>\n",
       "    </tr>\n",
       "    <tr>\n",
       "      <th>7</th>\n",
       "      <td>KOPv</td>\n",
       "      <td>PPh2Me</td>\n",
       "      <td>BuCN</td>\n",
       "      <td>0.153</td>\n",
       "      <td>105</td>\n",
       "      <td>0.00</td>\n",
       "      <td>1</td>\n",
       "      <td>1.0</td>\n",
       "    </tr>\n",
       "    <tr>\n",
       "      <th>8</th>\n",
       "      <td>CsOAc</td>\n",
       "      <td>PPhMe2</td>\n",
       "      <td>p-Xylene</td>\n",
       "      <td>0.153</td>\n",
       "      <td>105</td>\n",
       "      <td>0.00</td>\n",
       "      <td>1</td>\n",
       "      <td>1.0</td>\n",
       "    </tr>\n",
       "    <tr>\n",
       "      <th>9</th>\n",
       "      <td>CsOPv</td>\n",
       "      <td>CgMe-PPh</td>\n",
       "      <td>BuOAc</td>\n",
       "      <td>0.153</td>\n",
       "      <td>120</td>\n",
       "      <td>26.69</td>\n",
       "      <td>1</td>\n",
       "      <td>1.0</td>\n",
       "    </tr>\n",
       "    <tr>\n",
       "      <th>10</th>\n",
       "      <td>CsOPv</td>\n",
       "      <td>XPhos</td>\n",
       "      <td>p-Xylene</td>\n",
       "      <td>0.100</td>\n",
       "      <td>105</td>\n",
       "      <td>53.63</td>\n",
       "      <td>2</td>\n",
       "      <td>2.0</td>\n",
       "    </tr>\n",
       "    <tr>\n",
       "      <th>11</th>\n",
       "      <td>CsOAc</td>\n",
       "      <td>BrettPhos</td>\n",
       "      <td>BuCN</td>\n",
       "      <td>0.100</td>\n",
       "      <td>90</td>\n",
       "      <td>48.21</td>\n",
       "      <td>2</td>\n",
       "      <td>2.0</td>\n",
       "    </tr>\n",
       "    <tr>\n",
       "      <th>12</th>\n",
       "      <td>CsOPv</td>\n",
       "      <td>XPhos</td>\n",
       "      <td>p-Xylene</td>\n",
       "      <td>0.057</td>\n",
       "      <td>90</td>\n",
       "      <td>34.98</td>\n",
       "      <td>2</td>\n",
       "      <td>2.0</td>\n",
       "    </tr>\n",
       "    <tr>\n",
       "      <th>13</th>\n",
       "      <td>CsOAc</td>\n",
       "      <td>BrettPhos</td>\n",
       "      <td>BuCN</td>\n",
       "      <td>0.057</td>\n",
       "      <td>105</td>\n",
       "      <td>45.11</td>\n",
       "      <td>2</td>\n",
       "      <td>2.0</td>\n",
       "    </tr>\n",
       "    <tr>\n",
       "      <th>14</th>\n",
       "      <td>CsOPv</td>\n",
       "      <td>XPhos</td>\n",
       "      <td>p-Xylene</td>\n",
       "      <td>0.153</td>\n",
       "      <td>90</td>\n",
       "      <td>44.28</td>\n",
       "      <td>2</td>\n",
       "      <td>2.0</td>\n",
       "    </tr>\n",
       "    <tr>\n",
       "      <th>15</th>\n",
       "      <td>CsOPv</td>\n",
       "      <td>XPhos</td>\n",
       "      <td>p-Xylene</td>\n",
       "      <td>0.057</td>\n",
       "      <td>120</td>\n",
       "      <td>39.32</td>\n",
       "      <td>3</td>\n",
       "      <td>3.0</td>\n",
       "    </tr>\n",
       "    <tr>\n",
       "      <th>16</th>\n",
       "      <td>CsOAc</td>\n",
       "      <td>BrettPhos</td>\n",
       "      <td>BuCN</td>\n",
       "      <td>0.153</td>\n",
       "      <td>105</td>\n",
       "      <td>73.08</td>\n",
       "      <td>3</td>\n",
       "      <td>3.0</td>\n",
       "    </tr>\n",
       "    <tr>\n",
       "      <th>17</th>\n",
       "      <td>CsOPv</td>\n",
       "      <td>XPhos</td>\n",
       "      <td>p-Xylene</td>\n",
       "      <td>0.153</td>\n",
       "      <td>105</td>\n",
       "      <td>73.93</td>\n",
       "      <td>3</td>\n",
       "      <td>3.0</td>\n",
       "    </tr>\n",
       "    <tr>\n",
       "      <th>18</th>\n",
       "      <td>CsOAc</td>\n",
       "      <td>BrettPhos</td>\n",
       "      <td>BuCN</td>\n",
       "      <td>0.153</td>\n",
       "      <td>120</td>\n",
       "      <td>69.03</td>\n",
       "      <td>3</td>\n",
       "      <td>3.0</td>\n",
       "    </tr>\n",
       "    <tr>\n",
       "      <th>19</th>\n",
       "      <td>CsOPv</td>\n",
       "      <td>XPhos</td>\n",
       "      <td>p-Xylene</td>\n",
       "      <td>0.153</td>\n",
       "      <td>120</td>\n",
       "      <td>68.31</td>\n",
       "      <td>3</td>\n",
       "      <td>3.0</td>\n",
       "    </tr>\n",
       "    <tr>\n",
       "      <th>20</th>\n",
       "      <td>CsOAc</td>\n",
       "      <td>BrettPhos</td>\n",
       "      <td>DMAc</td>\n",
       "      <td>0.153</td>\n",
       "      <td>120</td>\n",
       "      <td>7.43</td>\n",
       "      <td>4</td>\n",
       "      <td>4.0</td>\n",
       "    </tr>\n",
       "    <tr>\n",
       "      <th>21</th>\n",
       "      <td>CsOPv</td>\n",
       "      <td>BrettPhos</td>\n",
       "      <td>BuCN</td>\n",
       "      <td>0.153</td>\n",
       "      <td>120</td>\n",
       "      <td>53.81</td>\n",
       "      <td>4</td>\n",
       "      <td>4.0</td>\n",
       "    </tr>\n",
       "    <tr>\n",
       "      <th>22</th>\n",
       "      <td>CsOAc</td>\n",
       "      <td>BrettPhos</td>\n",
       "      <td>BuOAc</td>\n",
       "      <td>0.153</td>\n",
       "      <td>120</td>\n",
       "      <td>20.60</td>\n",
       "      <td>4</td>\n",
       "      <td>4.0</td>\n",
       "    </tr>\n",
       "    <tr>\n",
       "      <th>23</th>\n",
       "      <td>CsOPv</td>\n",
       "      <td>XPhos</td>\n",
       "      <td>BuOAc</td>\n",
       "      <td>0.153</td>\n",
       "      <td>120</td>\n",
       "      <td>59.05</td>\n",
       "      <td>4</td>\n",
       "      <td>4.0</td>\n",
       "    </tr>\n",
       "    <tr>\n",
       "      <th>24</th>\n",
       "      <td>CsOPv</td>\n",
       "      <td>CgMe-PPh</td>\n",
       "      <td>p-Xylene</td>\n",
       "      <td>0.153</td>\n",
       "      <td>120</td>\n",
       "      <td>19.13</td>\n",
       "      <td>4</td>\n",
       "      <td>4.0</td>\n",
       "    </tr>\n",
       "    <tr>\n",
       "      <th>25</th>\n",
       "      <td>CsOPv</td>\n",
       "      <td>BrettPhos</td>\n",
       "      <td>BuCN</td>\n",
       "      <td>0.153</td>\n",
       "      <td>90</td>\n",
       "      <td>54.55</td>\n",
       "      <td>5</td>\n",
       "      <td>5.0</td>\n",
       "    </tr>\n",
       "    <tr>\n",
       "      <th>26</th>\n",
       "      <td>CsOPv</td>\n",
       "      <td>XPhos</td>\n",
       "      <td>BuOAc</td>\n",
       "      <td>0.153</td>\n",
       "      <td>105</td>\n",
       "      <td>5.53</td>\n",
       "      <td>5</td>\n",
       "      <td>5.0</td>\n",
       "    </tr>\n",
       "    <tr>\n",
       "      <th>27</th>\n",
       "      <td>CsOAc</td>\n",
       "      <td>XPhos</td>\n",
       "      <td>p-Xylene</td>\n",
       "      <td>0.153</td>\n",
       "      <td>105</td>\n",
       "      <td>76.63</td>\n",
       "      <td>5</td>\n",
       "      <td>5.0</td>\n",
       "    </tr>\n",
       "    <tr>\n",
       "      <th>28</th>\n",
       "      <td>CsOAc</td>\n",
       "      <td>XPhos</td>\n",
       "      <td>BuOAc</td>\n",
       "      <td>0.153</td>\n",
       "      <td>120</td>\n",
       "      <td>6.23</td>\n",
       "      <td>5</td>\n",
       "      <td>5.0</td>\n",
       "    </tr>\n",
       "    <tr>\n",
       "      <th>29</th>\n",
       "      <td>CsOAc</td>\n",
       "      <td>XPhos</td>\n",
       "      <td>p-Xylene</td>\n",
       "      <td>0.153</td>\n",
       "      <td>120</td>\n",
       "      <td>70.80</td>\n",
       "      <td>5</td>\n",
       "      <td>5.0</td>\n",
       "    </tr>\n",
       "    <tr>\n",
       "      <th>30</th>\n",
       "      <td>CsOAc</td>\n",
       "      <td>XPhos</td>\n",
       "      <td>p-Xylene</td>\n",
       "      <td>0.100</td>\n",
       "      <td>105</td>\n",
       "      <td>67.17</td>\n",
       "      <td>6</td>\n",
       "      <td>NaN</td>\n",
       "    </tr>\n",
       "    <tr>\n",
       "      <th>31</th>\n",
       "      <td>CsOAc</td>\n",
       "      <td>XPhos</td>\n",
       "      <td>p-Xylene</td>\n",
       "      <td>0.057</td>\n",
       "      <td>120</td>\n",
       "      <td>54.52</td>\n",
       "      <td>6</td>\n",
       "      <td>NaN</td>\n",
       "    </tr>\n",
       "    <tr>\n",
       "      <th>32</th>\n",
       "      <td>CsOAc</td>\n",
       "      <td>XPhos</td>\n",
       "      <td>p-Xylene</td>\n",
       "      <td>0.153</td>\n",
       "      <td>90</td>\n",
       "      <td>66.03</td>\n",
       "      <td>6</td>\n",
       "      <td>NaN</td>\n",
       "    </tr>\n",
       "    <tr>\n",
       "      <th>33</th>\n",
       "      <td>KOAc</td>\n",
       "      <td>BrettPhos</td>\n",
       "      <td>BuCN</td>\n",
       "      <td>0.153</td>\n",
       "      <td>105</td>\n",
       "      <td>22.30</td>\n",
       "      <td>6</td>\n",
       "      <td>NaN</td>\n",
       "    </tr>\n",
       "    <tr>\n",
       "      <th>34</th>\n",
       "      <td>KOAc</td>\n",
       "      <td>XPhos</td>\n",
       "      <td>p-Xylene</td>\n",
       "      <td>0.153</td>\n",
       "      <td>105</td>\n",
       "      <td>39.32</td>\n",
       "      <td>6</td>\n",
       "      <td>NaN</td>\n",
       "    </tr>\n",
       "  </tbody>\n",
       "</table>\n",
       "</div>"
      ],
      "text/plain": [
       "   Base_Name Ligand_Name Solvent_Name  Concentration  Temp_C  yield  BatchNr  \\\n",
       "0       KOPv    PPht-Bu2        BuOAc          0.100      90   0.00        1   \n",
       "1      CsOPv       XPhos     p-Xylene          0.100      90  36.98        1   \n",
       "2      CsOAc   BrettPhos         BuCN          0.057      90  36.72        1   \n",
       "3       KOAc        PPH3        BuOAc          0.057     105   1.94        1   \n",
       "4      CsOPv  JackiePhos         DMAc          0.057     105   9.52        1   \n",
       "5       KOPv     P(fur)3     p-Xylene          0.057     120   9.88        1   \n",
       "6       KOAc    GlorPhos         DMAc          0.153      90   9.14        1   \n",
       "7       KOPv      PPh2Me         BuCN          0.153     105   0.00        1   \n",
       "8      CsOAc      PPhMe2     p-Xylene          0.153     105   0.00        1   \n",
       "9      CsOPv    CgMe-PPh        BuOAc          0.153     120  26.69        1   \n",
       "10     CsOPv       XPhos     p-Xylene          0.100     105  53.63        2   \n",
       "11     CsOAc   BrettPhos         BuCN          0.100      90  48.21        2   \n",
       "12     CsOPv       XPhos     p-Xylene          0.057      90  34.98        2   \n",
       "13     CsOAc   BrettPhos         BuCN          0.057     105  45.11        2   \n",
       "14     CsOPv       XPhos     p-Xylene          0.153      90  44.28        2   \n",
       "15     CsOPv       XPhos     p-Xylene          0.057     120  39.32        3   \n",
       "16     CsOAc   BrettPhos         BuCN          0.153     105  73.08        3   \n",
       "17     CsOPv       XPhos     p-Xylene          0.153     105  73.93        3   \n",
       "18     CsOAc   BrettPhos         BuCN          0.153     120  69.03        3   \n",
       "19     CsOPv       XPhos     p-Xylene          0.153     120  68.31        3   \n",
       "20     CsOAc   BrettPhos         DMAc          0.153     120   7.43        4   \n",
       "21     CsOPv   BrettPhos         BuCN          0.153     120  53.81        4   \n",
       "22     CsOAc   BrettPhos        BuOAc          0.153     120  20.60        4   \n",
       "23     CsOPv       XPhos        BuOAc          0.153     120  59.05        4   \n",
       "24     CsOPv    CgMe-PPh     p-Xylene          0.153     120  19.13        4   \n",
       "25     CsOPv   BrettPhos         BuCN          0.153      90  54.55        5   \n",
       "26     CsOPv       XPhos        BuOAc          0.153     105   5.53        5   \n",
       "27     CsOAc       XPhos     p-Xylene          0.153     105  76.63        5   \n",
       "28     CsOAc       XPhos        BuOAc          0.153     120   6.23        5   \n",
       "29     CsOAc       XPhos     p-Xylene          0.153     120  70.80        5   \n",
       "30     CsOAc       XPhos     p-Xylene          0.100     105  67.17        6   \n",
       "31     CsOAc       XPhos     p-Xylene          0.057     120  54.52        6   \n",
       "32     CsOAc       XPhos     p-Xylene          0.153      90  66.03        6   \n",
       "33      KOAc   BrettPhos         BuCN          0.153     105  22.30        6   \n",
       "34      KOAc       XPhos     p-Xylene          0.153     105  39.32        6   \n",
       "\n",
       "    FitNr  \n",
       "0     1.0  \n",
       "1     1.0  \n",
       "2     1.0  \n",
       "3     1.0  \n",
       "4     1.0  \n",
       "5     1.0  \n",
       "6     1.0  \n",
       "7     1.0  \n",
       "8     1.0  \n",
       "9     1.0  \n",
       "10    2.0  \n",
       "11    2.0  \n",
       "12    2.0  \n",
       "13    2.0  \n",
       "14    2.0  \n",
       "15    3.0  \n",
       "16    3.0  \n",
       "17    3.0  \n",
       "18    3.0  \n",
       "19    3.0  \n",
       "20    4.0  \n",
       "21    4.0  \n",
       "22    4.0  \n",
       "23    4.0  \n",
       "24    4.0  \n",
       "25    5.0  \n",
       "26    5.0  \n",
       "27    5.0  \n",
       "28    5.0  \n",
       "29    5.0  \n",
       "30    NaN  \n",
       "31    NaN  \n",
       "32    NaN  \n",
       "33    NaN  \n",
       "34    NaN  "
      ]
     },
     "execution_count": 38,
     "metadata": {},
     "output_type": "execute_result"
    }
   ],
   "source": [
    "ohe_measurement_df = ohe_campaign.measurements\n",
    "ohe_measurement_df"
   ]
  },
  {
   "attachments": {},
   "cell_type": "markdown",
   "id": "9f29b380-23c8-47f7-8576-f62f0e406368",
   "metadata": {},
   "source": [
    "To get an idea of how the reaction yields improve over multiple cycles, we can plot **yield** as a function of **batch number**.  Since the Bayesian Optimization routine balances exploration and exploitation, it can happen that later batches contain recommendations with lower yields that previous batches."
   ]
  },
  {
   "cell_type": "code",
   "execution_count": 39,
   "id": "1bc320c7-e0ca-470c-90df-0880b95a7368",
   "metadata": {},
   "outputs": [
    {
     "data": {
      "text/plain": [
       "<Axes: xlabel='BatchNr', ylabel='yield'>"
      ]
     },
     "execution_count": 39,
     "metadata": {},
     "output_type": "execute_result"
    },
    {
     "data": {
      "image/png": "[encoded data removed]",
      "text/plain": [
       "<Figure size 640x480 with 1 Axes>"
      ]
     },
     "metadata": {},
     "output_type": "display_data"
    }
   ],
   "source": [
    "sns.boxplot(x=\"BatchNr\",y=\"yield\",data=ohe_measurement_df)"
   ]
  },
  {
   "cell_type": "markdown",
   "id": "2eb2d22f-a458-4b22-8bbb-a07d19045806",
   "metadata": {},
   "source": [
    "### Optimizing With Substance Parameters \n",
    "In the sections above we used One-Hot Encoding to describe our reactants and catalysts. Each of the parameters was simply a label, the optimization process didn't include any notions of chemistry.  BayBE provides another parameter type called a [SubstanceParameter](https://emdgroup.github.io/baybe/stable/userguide/parameters.html#substanceparameter), where chemical entities are described by a set of molecular descriptors.   These descriptors enable the model to attribute similar behaviors to similar chemicals.  In the code block below, we define the base, ligand, and solvent with SubstanceParameters.  Note that this definition is similar to the way we defined the CategoricalParameters above, with two notable exceptions.  \n",
    "- First we define an encoding, which uses the **[Mordred](https://jcheminf.biomedcentral.com/articles/10.1186/s13321-018-0258-y)** descriptor calculator.\n",
    "- Second, we specify **decorrelate=0.7**, which removes correlated descriptors and makes the calculations more efficient.\n",
    "  \n",
    "Note that the concentration and temperature parameters are defined as above. "
   ]
  },
  {
   "cell_type": "code",
   "execution_count": 40,
   "id": "6b6e4f22-6b34-4e53-9f5a-53b7bf763820",
   "metadata": {},
   "outputs": [],
   "source": [
    "substance_base_param = SubstanceParameter(data=Base, name=\"Base_Name\", encoding=\"MORDRED\", decorrelate=0.7)\n",
    "substance_ligand_param = SubstanceParameter(data=Ligand, name=\"Ligand_Name\", encoding=\"MORDRED\", decorrelate=0.7)\n",
    "substance_solvent_param = SubstanceParameter(data=Solvent, name=\"Solvent_Name\",encoding=\"MORDRED\",decorrelate=0.7)\n",
    "concentration_param = NumericalDiscreteParameter(values=Concentration,name=\"Concentration\")\n",
    "temp_param = NumericalDiscreteParameter(values=Temp_C,name=\"Temp_C\")\n",
    "substance_params = [substance_base_param, substance_ligand_param, substance_solvent_param, concentration_param, temp_param]"
   ]
  },
  {
   "cell_type": "markdown",
   "id": "007ab82f-010e-44cc-8222-3c8050151ce6",
   "metadata": {},
   "source": [
    "The Searchspace, Target, and Recommender are defined as above. "
   ]
  },
  {
   "cell_type": "code",
   "execution_count": 41,
   "id": "3e4b6774-03b8-4a8b-a60a-43605fbcf2ac",
   "metadata": {},
   "outputs": [],
   "source": [
    "substance_searchspace = SearchSpace.from_product(substance_params)"
   ]
  },
  {
   "cell_type": "code",
   "execution_count": 42,
   "id": "edc85c95-de59-4889-930f-3d1a16396a8c",
   "metadata": {},
   "outputs": [],
   "source": [
    "substance_target = NumericalTarget(name=\"yield\", mode=\"MAX\")\n",
    "substance_objective = SingleTargetObjective(substance_target)"
   ]
  },
  {
   "cell_type": "code",
   "execution_count": 43,
   "id": "a4a6a2ce-860b-4f6a-ade4-efe7745e68f5",
   "metadata": {},
   "outputs": [],
   "source": [
    "substance_recommender = TwoPhaseMetaRecommender(\n",
    "    initial_recommender=FPSRecommender(),  # farthest point sampling\n",
    "    recommender=BotorchRecommender(),  # Bayesian model-based optimization\n",
    ")"
   ]
  },
  {
   "cell_type": "markdown",
   "id": "8262e7a1-5807-41f1-abd3-e421c7bf2ac7",
   "metadata": {},
   "source": [
    "Combine the Searchspace, Objective, and Recommender to generate a Campaign. "
   ]
  },
  {
   "cell_type": "code",
   "execution_count": 44,
   "id": "8fd740bc-aa0b-49d5-bebf-57b9a71a2cec",
   "metadata": {},
   "outputs": [],
   "source": [
    "substance_campaign = Campaign(substance_searchspace, substance_objective, substance_recommender)"
   ]
  },
  {
   "cell_type": "markdown",
   "id": "6818961d-60f6-439a-bdfe-9fbaaa85cf12",
   "metadata": {},
   "source": [
    "Get the initial recommendation using farthest point sampling. "
   ]
  },
  {
   "cell_type": "code",
   "execution_count": 45,
   "id": "abe30b11-460a-4883-9bf0-921ec904beec",
   "metadata": {},
   "outputs": [],
   "source": [
    "substance_rec_1 = substance_campaign.recommend(10)"
   ]
  },
  {
   "cell_type": "code",
   "execution_count": 46,
   "id": "df412516-41f9-45a9-93fd-60845b9cad8d",
   "metadata": {},
   "outputs": [
    {
     "data": {
      "text/html": [
       "<div>\n",
       "<style scoped>\n",
       "    .dataframe tbody tr th:only-of-type {\n",
       "        vertical-align: middle;\n",
       "    }\n",
       "\n",
       "    .dataframe tbody tr th {\n",
       "        vertical-align: top;\n",
       "    }\n",
       "\n",
       "    .dataframe thead th {\n",
       "        text-align: right;\n",
       "    }\n",
       "</style>\n",
       "<table border=\"1\" class=\"dataframe\">\n",
       "  <thead>\n",
       "    <tr style=\"text-align: right;\">\n",
       "      <th></th>\n",
       "      <th>Base_Name</th>\n",
       "      <th>Ligand_Name</th>\n",
       "      <th>Solvent_Name</th>\n",
       "      <th>Concentration</th>\n",
       "      <th>Temp_C</th>\n",
       "    </tr>\n",
       "  </thead>\n",
       "  <tbody>\n",
       "    <tr>\n",
       "      <th>135</th>\n",
       "      <td>CsOAc</td>\n",
       "      <td>JackiePhos</td>\n",
       "      <td>p-Xylene</td>\n",
       "      <td>0.057</td>\n",
       "      <td>90.0</td>\n",
       "    </tr>\n",
       "    <tr>\n",
       "      <th>1493</th>\n",
       "      <td>KOPv</td>\n",
       "      <td>PCy3</td>\n",
       "      <td>BuOAc</td>\n",
       "      <td>0.153</td>\n",
       "      <td>120.0</td>\n",
       "    </tr>\n",
       "    <tr>\n",
       "      <th>594</th>\n",
       "      <td>CsOPv</td>\n",
       "      <td>P(fur)3</td>\n",
       "      <td>DMAc</td>\n",
       "      <td>0.057</td>\n",
       "      <td>90.0</td>\n",
       "    </tr>\n",
       "    <tr>\n",
       "      <th>288</th>\n",
       "      <td>CsOAc</td>\n",
       "      <td>PPhMe2</td>\n",
       "      <td>BuCN</td>\n",
       "      <td>0.057</td>\n",
       "      <td>90.0</td>\n",
       "    </tr>\n",
       "    <tr>\n",
       "      <th>935</th>\n",
       "      <td>KOAc</td>\n",
       "      <td>CgMe-PPh</td>\n",
       "      <td>p-Xylene</td>\n",
       "      <td>0.153</td>\n",
       "      <td>120.0</td>\n",
       "    </tr>\n",
       "    <tr>\n",
       "      <th>1703</th>\n",
       "      <td>KOPv</td>\n",
       "      <td>t-BuPh-CPhos</td>\n",
       "      <td>BuOAc</td>\n",
       "      <td>0.057</td>\n",
       "      <td>120.0</td>\n",
       "    </tr>\n",
       "    <tr>\n",
       "      <th>783</th>\n",
       "      <td>CsOPv</td>\n",
       "      <td>PPht-Bu2</td>\n",
       "      <td>p-Xylene</td>\n",
       "      <td>0.057</td>\n",
       "      <td>90.0</td>\n",
       "    </tr>\n",
       "    <tr>\n",
       "      <th>24</th>\n",
       "      <td>CsOAc</td>\n",
       "      <td>BrettPhos</td>\n",
       "      <td>DMAc</td>\n",
       "      <td>0.153</td>\n",
       "      <td>90.0</td>\n",
       "    </tr>\n",
       "    <tr>\n",
       "      <th>1112</th>\n",
       "      <td>KOAc</td>\n",
       "      <td>PPH3</td>\n",
       "      <td>p-Xylene</td>\n",
       "      <td>0.100</td>\n",
       "      <td>120.0</td>\n",
       "    </tr>\n",
       "    <tr>\n",
       "      <th>1656</th>\n",
       "      <td>KOPv</td>\n",
       "      <td>XPhos</td>\n",
       "      <td>BuCN</td>\n",
       "      <td>0.057</td>\n",
       "      <td>90.0</td>\n",
       "    </tr>\n",
       "  </tbody>\n",
       "</table>\n",
       "</div>"
      ],
      "text/plain": [
       "     Base_Name   Ligand_Name Solvent_Name  Concentration  Temp_C\n",
       "135      CsOAc    JackiePhos     p-Xylene          0.057    90.0\n",
       "1493      KOPv          PCy3        BuOAc          0.153   120.0\n",
       "594      CsOPv       P(fur)3         DMAc          0.057    90.0\n",
       "288      CsOAc        PPhMe2         BuCN          0.057    90.0\n",
       "935       KOAc      CgMe-PPh     p-Xylene          0.153   120.0\n",
       "1703      KOPv  t-BuPh-CPhos        BuOAc          0.057   120.0\n",
       "783      CsOPv      PPht-Bu2     p-Xylene          0.057    90.0\n",
       "24       CsOAc     BrettPhos         DMAc          0.153    90.0\n",
       "1112      KOAc          PPH3     p-Xylene          0.100   120.0\n",
       "1656      KOPv         XPhos         BuCN          0.057    90.0"
      ]
     },
     "execution_count": 46,
     "metadata": {},
     "output_type": "execute_result"
    }
   ],
   "source": [
    "substance_rec_1"
   ]
  },
  {
   "cell_type": "markdown",
   "id": "d779fad5-7a15-44fa-baa9-46548aa4f89e",
   "metadata": {},
   "source": [
    "Look up the yields for the initial 10 recommendations. "
   ]
  },
  {
   "cell_type": "code",
   "execution_count": 47,
   "id": "48d74b07-f8d7-4161-ba11-afd62cb7d43b",
   "metadata": {},
   "outputs": [],
   "source": [
    "substance_rec_1_results = reaction_lookup.lookup_yields_from_Name(substance_rec_1)"
   ]
  },
  {
   "cell_type": "code",
   "execution_count": 48,
   "id": "e2b4b5ad-7448-4312-a792-9edc9dcedf0b",
   "metadata": {},
   "outputs": [
    {
     "data": {
      "text/html": [
       "<div>\n",
       "<style scoped>\n",
       "    .dataframe tbody tr th:only-of-type {\n",
       "        vertical-align: middle;\n",
       "    }\n",
       "\n",
       "    .dataframe tbody tr th {\n",
       "        vertical-align: top;\n",
       "    }\n",
       "\n",
       "    .dataframe thead th {\n",
       "        text-align: right;\n",
       "    }\n",
       "</style>\n",
       "<table border=\"1\" class=\"dataframe\">\n",
       "  <thead>\n",
       "    <tr style=\"text-align: right;\">\n",
       "      <th></th>\n",
       "      <th>Base_Name</th>\n",
       "      <th>Ligand_Name</th>\n",
       "      <th>Solvent_Name</th>\n",
       "      <th>Concentration</th>\n",
       "      <th>Temp_C</th>\n",
       "      <th>yield</th>\n",
       "    </tr>\n",
       "  </thead>\n",
       "  <tbody>\n",
       "    <tr>\n",
       "      <th>0</th>\n",
       "      <td>KOAc</td>\n",
       "      <td>PPH3</td>\n",
       "      <td>p-Xylene</td>\n",
       "      <td>0.100</td>\n",
       "      <td>120</td>\n",
       "      <td>5.94</td>\n",
       "    </tr>\n",
       "    <tr>\n",
       "      <th>1</th>\n",
       "      <td>KOPv</td>\n",
       "      <td>XPhos</td>\n",
       "      <td>BuCN</td>\n",
       "      <td>0.057</td>\n",
       "      <td>90</td>\n",
       "      <td>30.83</td>\n",
       "    </tr>\n",
       "    <tr>\n",
       "      <th>2</th>\n",
       "      <td>CsOPv</td>\n",
       "      <td>PPht-Bu2</td>\n",
       "      <td>p-Xylene</td>\n",
       "      <td>0.057</td>\n",
       "      <td>90</td>\n",
       "      <td>0.00</td>\n",
       "    </tr>\n",
       "    <tr>\n",
       "      <th>3</th>\n",
       "      <td>KOPv</td>\n",
       "      <td>t-BuPh-CPhos</td>\n",
       "      <td>BuOAc</td>\n",
       "      <td>0.057</td>\n",
       "      <td>120</td>\n",
       "      <td>3.88</td>\n",
       "    </tr>\n",
       "    <tr>\n",
       "      <th>4</th>\n",
       "      <td>CsOAc</td>\n",
       "      <td>BrettPhos</td>\n",
       "      <td>DMAc</td>\n",
       "      <td>0.153</td>\n",
       "      <td>90</td>\n",
       "      <td>6.26</td>\n",
       "    </tr>\n",
       "    <tr>\n",
       "      <th>5</th>\n",
       "      <td>KOPv</td>\n",
       "      <td>PCy3</td>\n",
       "      <td>BuOAc</td>\n",
       "      <td>0.153</td>\n",
       "      <td>120</td>\n",
       "      <td>0.00</td>\n",
       "    </tr>\n",
       "    <tr>\n",
       "      <th>6</th>\n",
       "      <td>CsOPv</td>\n",
       "      <td>P(fur)3</td>\n",
       "      <td>DMAc</td>\n",
       "      <td>0.057</td>\n",
       "      <td>90</td>\n",
       "      <td>21.65</td>\n",
       "    </tr>\n",
       "    <tr>\n",
       "      <th>7</th>\n",
       "      <td>CsOAc</td>\n",
       "      <td>PPhMe2</td>\n",
       "      <td>BuCN</td>\n",
       "      <td>0.057</td>\n",
       "      <td>90</td>\n",
       "      <td>0.00</td>\n",
       "    </tr>\n",
       "    <tr>\n",
       "      <th>8</th>\n",
       "      <td>CsOAc</td>\n",
       "      <td>JackiePhos</td>\n",
       "      <td>p-Xylene</td>\n",
       "      <td>0.057</td>\n",
       "      <td>90</td>\n",
       "      <td>5.48</td>\n",
       "    </tr>\n",
       "    <tr>\n",
       "      <th>9</th>\n",
       "      <td>KOAc</td>\n",
       "      <td>CgMe-PPh</td>\n",
       "      <td>p-Xylene</td>\n",
       "      <td>0.153</td>\n",
       "      <td>120</td>\n",
       "      <td>60.29</td>\n",
       "    </tr>\n",
       "  </tbody>\n",
       "</table>\n",
       "</div>"
      ],
      "text/plain": [
       "  Base_Name   Ligand_Name Solvent_Name  Concentration  Temp_C  yield\n",
       "0      KOAc          PPH3     p-Xylene          0.100     120   5.94\n",
       "1      KOPv         XPhos         BuCN          0.057      90  30.83\n",
       "2     CsOPv      PPht-Bu2     p-Xylene          0.057      90   0.00\n",
       "3      KOPv  t-BuPh-CPhos        BuOAc          0.057     120   3.88\n",
       "4     CsOAc     BrettPhos         DMAc          0.153      90   6.26\n",
       "5      KOPv          PCy3        BuOAc          0.153     120   0.00\n",
       "6     CsOPv       P(fur)3         DMAc          0.057      90  21.65\n",
       "7     CsOAc        PPhMe2         BuCN          0.057      90   0.00\n",
       "8     CsOAc    JackiePhos     p-Xylene          0.057      90   5.48\n",
       "9      KOAc      CgMe-PPh     p-Xylene          0.153     120  60.29"
      ]
     },
     "execution_count": 48,
     "metadata": {},
     "output_type": "execute_result"
    }
   ],
   "source": [
    "substance_rec_1_results"
   ]
  },
  {
   "cell_type": "code",
   "execution_count": 49,
   "id": "45394857-dbf2-4b4d-89e8-faac384de0ac",
   "metadata": {},
   "outputs": [],
   "source": [
    "substance_campaign.add_measurements(substance_rec_1_results)"
   ]
  },
  {
   "cell_type": "markdown",
   "id": "1d4d2eaa-9ef1-4fc0-84b0-2ce964fd273f",
   "metadata": {},
   "source": [
    "Perform an additional 5 rounds of optimization, looking up experimental values for the reaction yields."
   ]
  },
  {
   "cell_type": "code",
   "execution_count": 50,
   "id": "4163b561-7966-4071-a5f9-333fcf953435",
   "metadata": {},
   "outputs": [
    {
     "data": {
      "application/vnd.jupyter.widget-view+json": {
       "model_id": "f3c27f8e35a5454ab5d38566e48438bd",
       "version_major": 2,
       "version_minor": 0
      },
      "text/plain": [
       "  0%|          | 0/5 [00:00<?, ?it/s]"
      ]
     },
     "metadata": {},
     "output_type": "display_data"
    }
   ],
   "source": [
    "for i in tqdm(range(0,5)):\n",
    "    substance_rec = substance_campaign.recommend(5)\n",
    "    substance_rec_results = reaction_lookup.lookup_yields_from_Name(substance_rec)\n",
    "    substance_campaign.add_measurements(substance_rec_results)"
   ]
  },
  {
   "cell_type": "code",
   "execution_count": 51,
   "id": "6fa71722-4d2b-4993-8344-78512a0a4fdd",
   "metadata": {},
   "outputs": [],
   "source": [
    "substance_measurement_df = substance_campaign.measurements"
   ]
  },
  {
   "cell_type": "markdown",
   "id": "fa2d6b0e-b9ec-4b5a-a0c5-0dfe70e5e481",
   "metadata": {},
   "source": [
    "To get an idea of how the reaction yields improve over multiple cycles, we can plot **yield** as a function of **batch number**.  "
   ]
  },
  {
   "cell_type": "code",
   "execution_count": 52,
   "id": "50e9aa5b-1fd7-45bb-a976-088f204015c7",
   "metadata": {},
   "outputs": [
    {
     "data": {
      "text/plain": [
       "<Axes: xlabel='BatchNr', ylabel='yield'>"
      ]
     },
     "execution_count": 52,
     "metadata": {},
     "output_type": "execute_result"
    },
    {
     "data": {
      "image/png": "[encoded data removed]",
      "text/plain": [
       "<Figure size 640x480 with 1 Axes>"
      ]
     },
     "metadata": {},
     "output_type": "display_data"
    }
   ],
   "source": [
    "sns.boxplot(x=\"BatchNr\",y=\"yield\",data=substance_measurement_df)"
   ]
  },
  {
   "cell_type": "markdown",
   "id": "0a5cd3c2-e391-4b4c-a218-ee223a448c59",
   "metadata": {},
   "source": [
    "### Assessing Feature Importance with BayBE Insights\n",
    "BayBE also has the ability to [assess the importance of features](https://emdgroup.github.io/baybe/stable/userguide/insights.html) to the model.  This capability uses the [SHAP](https://shap.readthedocs.io/en/latest/) library for interpreting machine learning models. A larger SHAP value indicates that a feature has a larger impact on the model predictions."
   ]
  },
  {
   "cell_type": "code",
   "execution_count": 53,
   "id": "806efb6f-ca2d-4b08-801e-f850048875ff",
   "metadata": {},
   "outputs": [],
   "source": [
    "insight = SHAPInsight.from_campaign(substance_campaign)"
   ]
  },
  {
   "cell_type": "code",
   "execution_count": 54,
   "id": "b729fb38-0bd0-4a0a-ab03-10082837cfe1",
   "metadata": {},
   "outputs": [
    {
     "data": {
      "application/vnd.jupyter.widget-view+json": {
       "model_id": "1eb19bb383304d878ab58856d931ef0d",
       "version_major": 2,
       "version_minor": 0
      },
      "text/plain": [
       "  0%|          | 0/35 [00:00<?, ?it/s]"
      ]
     },
     "metadata": {},
     "output_type": "display_data"
    },
    {
     "data": {
      "image/png": "[encoded data removed]",
      "text/plain": [
       "<Figure size 800x400 with 1 Axes>"
      ]
     },
     "metadata": {},
     "output_type": "display_data"
    }
   ],
   "source": [
    "insight.plot(\"bar\")"
   ]
  },
  {
   "cell_type": "markdown",
   "id": "26b86ce2-19cb-4987-a3b4-1cd58500d43d",
   "metadata": {},
   "source": [
    "BayBE also supports a beeswarm plot where each point represents a set of reaction conditions.  Colors are used to represent the values of numeric parameters.  In the plot below, we see that we have higher SHAP values for higher temperatures and concentrations. "
   ]
  },
  {
   "cell_type": "code",
   "execution_count": 55,
   "id": "d4dce41a-e5bf-4d7a-a803-fecea554b1f2",
   "metadata": {},
   "outputs": [
    {
     "data": {
      "application/vnd.jupyter.widget-view+json": {
       "model_id": "4f0905dc4c654235a6ec7d1cf5ec2b1a",
       "version_major": 2,
       "version_minor": 0
      },
      "text/plain": [
       "  0%|          | 0/35 [00:00<?, ?it/s]"
      ]
     },
     "metadata": {},
     "output_type": "display_data"
    },
    {
     "data": {
      "image/png": "[encoded data removed]",
      "text/plain": [
       "<Figure size 800x350 with 2 Axes>"
      ]
     },
     "metadata": {},
     "output_type": "display_data"
    }
   ],
   "source": [
    "insight.plot(\"beeswarm\")"
   ]
  },
  {
   "cell_type": "markdown",
   "id": "cd9f8c6f-6ff5-4d0c-a67c-2fd153e2dc35",
   "metadata": {},
   "source": [
    "We can also pass a dataset as the second argument to **[insight.plot](https://emdgroup.github.io/baybe/stable/userguide/insights.html#plots)** and examine a single interation.  In the plot below, we only look at the first example. "
   ]
  },
  {
   "cell_type": "code",
   "execution_count": 58,
   "id": "b51d6c5f-0895-4a9f-b969-23a503736866",
   "metadata": {},
   "outputs": [
    {
     "data": {
      "application/vnd.jupyter.widget-view+json": {
       "model_id": "4754660920b2452ca35d870a277df795",
       "version_major": 2,
       "version_minor": 0
      },
      "text/plain": [
       "  0%|          | 0/35 [00:00<?, ?it/s]"
      ]
     },
     "metadata": {},
     "output_type": "display_data"
    },
    {
     "data": {
      "image/png": "[encoded data removed]",
      "text/plain": [
       "<Figure size 800x400 with 1 Axes>"
      ]
     },
     "metadata": {},
     "output_type": "display_data"
    }
   ],
   "source": [
    "cols = [\"Ligand_Name\",\"Solvent_Name\",\"Temp_C\",\"Base_Name\",\"Concentration\"]\n",
    "insight.plot(\"bar\",explanation_index=0)"
   ]
  },
  {
   "cell_type": "code",
   "execution_count": null,
   "id": "460c2c11-0fd7-4db2-b6ca-b7d10442b9d2",
   "metadata": {},
   "outputs": [],
   "source": []
  },
  {
   "cell_type": "code",
   "execution_count": null,
   "id": "db2bdf86-4ed4-4c78-ac3c-094cd598f37c",
   "metadata": {},
   "outputs": [],
   "source": []
  }
 ],
 "metadata": {
  "kernelspec": {
   "display_name": "Python 3 (ipykernel)",
   "language": "python",
   "name": "python3"
  },
  "language_info": {
   "codemirror_mode": {
    "name": "ipython",
    "version": 3
   },
   "file_extension": ".py",
   "mimetype": "text/x-python",
   "name": "python",
   "nbconvert_exporter": "python",
   "pygments_lexer": "ipython3",
   "version": "3.11.11"
  }
 },
 "nbformat": 4,
 "nbformat_minor": 5
}
