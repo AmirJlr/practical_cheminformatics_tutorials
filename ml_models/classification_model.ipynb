{
 "cells": [
  {
   "cell_type": "markdown",
   "id": "considerable-disco",
   "metadata": {
    "id": "considerable-disco"
   },
   "source": [
    "## Building a Simple Decision Tree\n",
    "\n",
    "In this tutorial we'll build a machine learning model that classifies molecules as soluble or insoluble.  After building the model, we'll visualize the results.  "
   ]
  },
  {
   "cell_type": "markdown",
   "id": "a8df1c2b",
   "metadata": {},
   "source": [
    "### Software Installation\n",
    "One of the Python libraries [dtreeviz](https://github.com/parrt/dtreeviz) that we are going to install requires the installation of a program called [graphviz](https://graphviz.org/).  We can use [apt-get](https://help.ubuntu.com/community/AptGet/Howto) to install graphviz. "
   ]
  },
  {
   "cell_type": "code",
   "execution_count": 1,
   "id": "77dc7188",
   "metadata": {
    "colab": {
     "base_uri": "https://localhost:8080/"
    },
    "executionInfo": {
     "elapsed": 4294,
     "status": "ok",
     "timestamp": 1644717522708,
     "user": {
      "displayName": "",
      "photoUrl": "",
      "userId": ""
     },
     "user_tz": 300
    },
    "id": "77dc7188",
    "outputId": "2f65f489-fa8d-4761-b1be-aff0bc4c682b"
   },
   "outputs": [
    {
     "name": "stdout",
     "output_type": "stream",
     "text": [
      "Reading package lists... Done\n",
      "Building dependency tree       \n",
      "Reading state information... Done\n",
      "graphviz is already the newest version (2.40.1-2).\n",
      "The following packages were automatically installed and are no longer required:\n",
      "  cuda-command-line-tools-10-0 cuda-command-line-tools-10-1\n",
      "  cuda-command-line-tools-11-0 cuda-compiler-10-0 cuda-compiler-10-1\n",
      "  cuda-compiler-11-0 cuda-cuobjdump-10-0 cuda-cuobjdump-10-1\n",
      "  cuda-cuobjdump-11-0 cuda-cupti-10-0 cuda-cupti-10-1 cuda-cupti-11-0\n",
      "  cuda-cupti-dev-11-0 cuda-documentation-10-0 cuda-documentation-10-1\n",
      "  cuda-documentation-11-0 cuda-documentation-11-1 cuda-gdb-10-0 cuda-gdb-10-1\n",
      "  cuda-gdb-11-0 cuda-gpu-library-advisor-10-0 cuda-gpu-library-advisor-10-1\n",
      "  cuda-libraries-10-0 cuda-libraries-10-1 cuda-libraries-11-0\n",
      "  cuda-memcheck-10-0 cuda-memcheck-10-1 cuda-memcheck-11-0 cuda-nsight-10-0\n",
      "  cuda-nsight-10-1 cuda-nsight-11-0 cuda-nsight-11-1 cuda-nsight-compute-10-0\n",
      "  cuda-nsight-compute-10-1 cuda-nsight-compute-11-0 cuda-nsight-compute-11-1\n",
      "  cuda-nsight-systems-10-1 cuda-nsight-systems-11-0 cuda-nsight-systems-11-1\n",
      "  cuda-nvcc-10-0 cuda-nvcc-10-1 cuda-nvcc-11-0 cuda-nvdisasm-10-0\n",
      "  cuda-nvdisasm-10-1 cuda-nvdisasm-11-0 cuda-nvml-dev-10-0 cuda-nvml-dev-10-1\n",
      "  cuda-nvml-dev-11-0 cuda-nvprof-10-0 cuda-nvprof-10-1 cuda-nvprof-11-0\n",
      "  cuda-nvprune-10-0 cuda-nvprune-10-1 cuda-nvprune-11-0 cuda-nvtx-10-0\n",
      "  cuda-nvtx-10-1 cuda-nvtx-11-0 cuda-nvvp-10-0 cuda-nvvp-10-1 cuda-nvvp-11-0\n",
      "  cuda-nvvp-11-1 cuda-samples-10-0 cuda-samples-10-1 cuda-samples-11-0\n",
      "  cuda-samples-11-1 cuda-sanitizer-11-0 cuda-sanitizer-api-10-1\n",
      "  cuda-toolkit-10-0 cuda-toolkit-10-1 cuda-toolkit-11-0 cuda-toolkit-11-1\n",
      "  cuda-tools-10-0 cuda-tools-10-1 cuda-tools-11-0 cuda-tools-11-1\n",
      "  cuda-visual-tools-10-0 cuda-visual-tools-10-1 cuda-visual-tools-11-0\n",
      "  cuda-visual-tools-11-1 default-jre dkms freeglut3 freeglut3-dev\n",
      "  keyboard-configuration libargon2-0 libcap2 libcryptsetup12\n",
      "  libdevmapper1.02.1 libfontenc1 libidn11 libip4tc0 libjansson4\n",
      "  libnvidia-cfg1-510 libnvidia-common-460 libnvidia-common-510\n",
      "  libnvidia-extra-510 libnvidia-fbc1-510 libnvidia-gl-510 libpam-systemd\n",
      "  libpolkit-agent-1-0 libpolkit-backend-1-0 libpolkit-gobject-1-0 libxfont2\n",
      "  libxi-dev libxkbfile1 libxmu-dev libxmu-headers libxnvctrl0 libxtst6\n",
      "  nsight-compute-2020.2.1 nsight-compute-2022.1.0 nsight-systems-2020.3.2\n",
      "  nsight-systems-2020.3.4 nsight-systems-2021.5.2 nvidia-dkms-510\n",
      "  nvidia-kernel-common-510 nvidia-kernel-source-510 nvidia-modprobe\n",
      "  nvidia-settings openjdk-11-jre policykit-1 policykit-1-gnome python3-xkit\n",
      "  screen-resolution-extra systemd systemd-sysv udev x11-xkb-utils\n",
      "  xserver-common xserver-xorg-core-hwe-18.04 xserver-xorg-video-nvidia-510\n",
      "Use 'apt autoremove' to remove them.\n",
      "0 upgraded, 0 newly installed, 0 to remove and 39 not upgraded.\n"
     ]
    }
   ],
   "source": [
    "!apt-get install graphviz"
   ]
  },
  {
   "cell_type": "markdown",
   "id": "dc5e22ed",
   "metadata": {},
   "source": [
    "Install the necessary Python libraries"
   ]
  },
  {
   "cell_type": "code",
   "execution_count": 6,
   "id": "195fbe56",
   "metadata": {
    "colab": {
     "base_uri": "https://localhost:8080/"
    },
    "executionInfo": {
     "elapsed": 9681,
     "status": "ok",
     "timestamp": 1644717882585,
     "user": {
      "displayName": "",
      "photoUrl": "",
      "userId": ""
     },
     "user_tz": 300
    },
    "id": "195fbe56",
    "outputId": "881b82c4-08cb-465f-ac7b-94da65bd4238"
   },
   "outputs": [
    {
     "name": "stdout",
     "output_type": "stream",
     "text": [
      "Requirement already satisfied: dtreeviz in /usr/local/lib/python3.7/dist-packages (1.3.3)\n",
      "Requirement already satisfied: rdkit-pypi in /usr/local/lib/python3.7/dist-packages (2021.9.4)\n",
      "Collecting PyTDC\n",
      "  Downloading PyTDC-0.3.5.tar.gz (88 kB)\n",
      "\u001B[K     |████████████████████████████████| 88 kB 3.3 MB/s \n",
      "\u001B[?25hRequirement already satisfied: pandas in /usr/local/lib/python3.7/dist-packages (from dtreeviz) (1.3.5)\n",
      "Requirement already satisfied: matplotlib in /usr/local/lib/python3.7/dist-packages (from dtreeviz) (3.2.2)\n",
      "Requirement already satisfied: scikit-learn in /usr/local/lib/python3.7/dist-packages (from dtreeviz) (1.0.2)\n",
      "Requirement already satisfied: graphviz>=0.9 in /usr/local/lib/python3.7/dist-packages (from dtreeviz) (0.10.1)\n",
      "Requirement already satisfied: pytest in /usr/local/lib/python3.7/dist-packages (from dtreeviz) (3.6.4)\n",
      "Requirement already satisfied: numpy in /usr/local/lib/python3.7/dist-packages (from dtreeviz) (1.19.5)\n",
      "Requirement already satisfied: colour in /usr/local/lib/python3.7/dist-packages (from dtreeviz) (0.1.5)\n",
      "Requirement already satisfied: Pillow in /usr/local/lib/python3.7/dist-packages (from rdkit-pypi) (7.1.2)\n",
      "Collecting fuzzywuzzy\n",
      "  Downloading fuzzywuzzy-0.18.0-py2.py3-none-any.whl (18 kB)\n",
      "Requirement already satisfied: tqdm in /usr/local/lib/python3.7/dist-packages (from PyTDC) (4.62.3)\n",
      "Requirement already satisfied: seaborn in /usr/local/lib/python3.7/dist-packages (from PyTDC) (0.11.2)\n",
      "Requirement already satisfied: kiwisolver>=1.0.1 in /usr/local/lib/python3.7/dist-packages (from matplotlib->dtreeviz) (1.3.2)\n",
      "Requirement already satisfied: python-dateutil>=2.1 in /usr/local/lib/python3.7/dist-packages (from matplotlib->dtreeviz) (2.8.2)\n",
      "Requirement already satisfied: cycler>=0.10 in /usr/local/lib/python3.7/dist-packages (from matplotlib->dtreeviz) (0.11.0)\n",
      "Requirement already satisfied: pyparsing!=2.0.4,!=2.1.2,!=2.1.6,>=2.0.1 in /usr/local/lib/python3.7/dist-packages (from matplotlib->dtreeviz) (3.0.7)\n",
      "Requirement already satisfied: six>=1.5 in /usr/local/lib/python3.7/dist-packages (from python-dateutil>=2.1->matplotlib->dtreeviz) (1.15.0)\n",
      "Requirement already satisfied: pytz>=2017.3 in /usr/local/lib/python3.7/dist-packages (from pandas->dtreeviz) (2018.9)\n",
      "Requirement already satisfied: atomicwrites>=1.0 in /usr/local/lib/python3.7/dist-packages (from pytest->dtreeviz) (1.4.0)\n",
      "Requirement already satisfied: more-itertools>=4.0.0 in /usr/local/lib/python3.7/dist-packages (from pytest->dtreeviz) (8.12.0)\n",
      "Requirement already satisfied: attrs>=17.4.0 in /usr/local/lib/python3.7/dist-packages (from pytest->dtreeviz) (21.4.0)\n",
      "Requirement already satisfied: pluggy<0.8,>=0.5 in /usr/local/lib/python3.7/dist-packages (from pytest->dtreeviz) (0.7.1)\n",
      "Requirement already satisfied: py>=1.5.0 in /usr/local/lib/python3.7/dist-packages (from pytest->dtreeviz) (1.11.0)\n",
      "Requirement already satisfied: setuptools in /usr/local/lib/python3.7/dist-packages (from pytest->dtreeviz) (57.4.0)\n",
      "Requirement already satisfied: scipy>=1.1.0 in /usr/local/lib/python3.7/dist-packages (from scikit-learn->dtreeviz) (1.4.1)\n",
      "Requirement already satisfied: joblib>=0.11 in /usr/local/lib/python3.7/dist-packages (from scikit-learn->dtreeviz) (1.1.0)\n",
      "Requirement already satisfied: threadpoolctl>=2.0.0 in /usr/local/lib/python3.7/dist-packages (from scikit-learn->dtreeviz) (3.1.0)\n",
      "Building wheels for collected packages: PyTDC\n",
      "  Building wheel for PyTDC (setup.py) ... \u001B[?25l\u001B[?25hdone\n",
      "  Created wheel for PyTDC: filename=PyTDC-0.3.5-py3-none-any.whl size=119793 sha256=7cd4395cdbe8b1ebe80f51b1efe13e2600ede2edfdcf47db7cce007777cceb22\n",
      "  Stored in directory: /root/.cache/pip/wheels/69/58/63/c310ca1fb3eb9d640d1c8e9acccc8c95039f2e26d4c63ffcae\n",
      "Successfully built PyTDC\n",
      "Installing collected packages: fuzzywuzzy, PyTDC\n",
      "Successfully installed PyTDC-0.3.5 fuzzywuzzy-0.18.0\n"
     ]
    }
   ],
   "source": [
    "!pip install dtreeviz rdkit-pypi PyTDC"
   ]
  },
  {
   "cell_type": "markdown",
   "id": "b0ae2059",
   "metadata": {},
   "source": [
    "### Setup\n",
    "Import the necessary Python libraries"
   ]
  },
  {
   "cell_type": "code",
   "execution_count": 3,
   "id": "monthly-valuable",
   "metadata": {
    "executionInfo": {
     "elapsed": 292,
     "status": "ok",
     "timestamp": 1644717890126,
     "user": {
      "displayName": "",
      "photoUrl": "",
      "userId": ""
     },
     "user_tz": 300
    },
    "id": "monthly-valuable"
   },
   "outputs": [],
   "source": [
    "import pandas as pd #data table manipulation\n",
    "from rdkit import Chem # basic cheminformatics\n",
    "from rdkit.Chem.Descriptors import MolWt, MolLogP, NumAromaticRings, NumHDonors, NumHAcceptors\n",
    "import math #needed for log10\n",
    "import seaborn as sns #plotting\n",
    "from sklearn.tree import DecisionTreeClassifier, plot_tree # decision trees\n",
    "from sklearn.model_selection import train_test_split # split a dataset\n",
    "from tqdm import tqdm # progress bar\n",
    "from matplotlib import pyplot as plt # plotting\n",
    "from dtreeviz.trees import * #plotting decision trees\n",
    "from sklearn.metrics import roc_auc_score, matthews_corrcoef, cohen_kappa_score, plot_roc_curve, plot_confusion_matrix # model stats\n",
    "from tdc.single_pred import ADME\n",
    "from rdkit.Chem.MolStandardize import rdMolStandardize\n",
    "from rdkit.rdBase import BlockLogs"
   ]
  },
  {
   "cell_type": "markdown",
   "id": "worth-bernard",
   "metadata": {
    "id": "worth-bernard"
   },
   "source": [
    "We want to have progress bars for operations we perfrom on the Pandas dataframe.  In order to do this we neeed to use the function [tqdm.pandas](https://datascientyst.com/progress-bars-pandas-python-tqdm/)."
   ]
  },
  {
   "cell_type": "code",
   "execution_count": 4,
   "id": "undefined-booking",
   "metadata": {
    "executionInfo": {
     "elapsed": 289,
     "status": "ok",
     "timestamp": 1644717896385,
     "user": {
      "displayName": "",
      "photoUrl": "",
      "userId": ""
     },
     "user_tz": 300
    },
    "id": "undefined-booking"
   },
   "outputs": [],
   "source": [
    "tqdm.pandas()"
   ]
  },
  {
   "cell_type": "markdown",
   "id": "charitable-break",
   "metadata": {
    "id": "charitable-break"
   },
   "source": [
    "A simple function to calculate molecular weight, LogP, number of aromatic rings, number of hydrogen bond donors and acceptors from a SMILES"
   ]
  },
  {
   "cell_type": "code",
   "execution_count": 5,
   "id": "spanish-decade",
   "metadata": {
    "executionInfo": {
     "elapsed": 275,
     "status": "ok",
     "timestamp": 1644717899300,
     "user": {
      "displayName": "",
      "photoUrl": "",
      "userId": ""
     },
     "user_tz": 300
    },
    "id": "spanish-decade"
   },
   "outputs": [],
   "source": [
    "def calc_descriptors(mol):\n",
    "    if mol:\n",
    "        Chem.DeleteSubstructs(mol, Chem.MolFromSmarts(\"[#1X0]\"))\n",
    "        mw, logp, num_arom_rings, hbd, hba = [x(mol) for x in [MolWt, MolLogP, NumAromaticRings, NumHDonors, NumHAcceptors]]\n",
    "        res = [mw, logp, num_arom_rings, hbd, hba]\n",
    "    else:\n",
    "        res = [None] * 5\n",
    "    return res"
   ]
  },
  {
   "cell_type": "markdown",
   "id": "b462fc8f",
   "metadata": {},
   "source": [
    "The molecules in this dataset have a number of salts and other functionality that can create issues with descriptor calcuations.  In order to avoid some of these problems we can use the function below to standardize the molecules. "
   ]
  },
  {
   "cell_type": "code",
   "execution_count": 6,
   "id": "e59d8c30",
   "metadata": {},
   "outputs": [],
   "source": [
    "def standardize(smiles):\n",
    "    # Code borrowed from https://bitsilla.com/blog/2021/06/standardizing-a-molecule-using-rdkit/\n",
    "    # follows the steps in\n",
    "    # https://github.com/greglandrum/RSC_OpenScience_Standardization_202104/blob/main/MolStandardize%20pieces.ipynb\n",
    "    # as described **excellently** (by Greg) in\n",
    "    # https://www.youtube.com/watch?v=eWTApNX8dJQ\n",
    "    mol = Chem.MolFromSmiles(smiles)\n",
    "     \n",
    "    # removeHs, disconnect metal atoms, normalize the molecule, reionize the molecule\n",
    "    clean_mol = rdMolStandardize.Cleanup(mol) \n",
    "     \n",
    "    # if many fragments, get the \"parent\" (the actual mol we are interested in) \n",
    "    parent_clean_mol = rdMolStandardize.FragmentParent(clean_mol)\n",
    "         \n",
    "    # try to neutralize molecule\n",
    "    uncharger = rdMolStandardize.Uncharger() # annoying, but necessary as no convenience method exists\n",
    "    uncharged_parent_clean_mol = uncharger.uncharge(parent_clean_mol)\n",
    "     \n",
    "    # note that no attempt is made at reionization at this step\n",
    "    # nor at ionization at some pH (rdkit has no pKa caculator)\n",
    "    # the main aim to to represent all molecules from different sources\n",
    "    # in a (single) standard way, for use in ML, catalogue, etc.\n",
    "     \n",
    "    te = rdMolStandardize.TautomerEnumerator() # idem\n",
    "    taut_uncharged_parent_clean_mol = te.Canonicalize(uncharged_parent_clean_mol)\n",
    "     \n",
    "    return taut_uncharged_parent_clean_mol"
   ]
  },
  {
   "cell_type": "markdown",
   "id": "static-statistics",
   "metadata": {
    "id": "static-statistics"
   },
   "source": [
    "### Reading the Input Data\n",
    "Read data from [\"ESOL:  Estimating Aqueous Solubility Directly from Molecular Structure\"](https://pubs.acs.org/doi/10.1021/ci034243x) as supplied by [Therapeutic Data Commons](https://tdcommons.ai/)"
   ]
  },
  {
   "cell_type": "code",
   "execution_count": 7,
   "id": "bf4f2170",
   "metadata": {
    "colab": {
     "base_uri": "https://localhost:8080/"
    },
    "executionInfo": {
     "elapsed": 2481,
     "status": "ok",
     "timestamp": 1644717904700,
     "user": {
      "displayName": "",
      "photoUrl": "",
      "userId": ""
     },
     "user_tz": 300
    },
    "id": "bf4f2170",
    "outputId": "a423cbf7-97f2-41e1-ec80-4b5fa26ff9ce"
   },
   "outputs": [
    {
     "name": "stderr",
     "output_type": "stream",
     "text": [
      "Found local copy...\n",
      "Loading...\n",
      "Done!\n"
     ]
    }
   ],
   "source": [
    "data = ADME(name = 'Solubility_AqSolDB')\n",
    "sol_df = data.get_data()"
   ]
  },
  {
   "cell_type": "markdown",
   "id": "aa73c290",
   "metadata": {},
   "source": [
    "Let's take a look at the input data, which has three columns\n",
    "- Drug_ID - the molecule name\n",
    "- Drug - the SMILES\n",
    "- Y - the log of the aqueous solubility in uM"
   ]
  },
  {
   "cell_type": "code",
   "execution_count": 8,
   "id": "drawn-pierre",
   "metadata": {
    "colab": {
     "base_uri": "https://localhost:8080/",
     "height": 423
    },
    "executionInfo": {
     "elapsed": 298,
     "status": "ok",
     "timestamp": 1644717967202,
     "user": {
      "displayName": "",
      "photoUrl": "",
      "userId": ""
     },
     "user_tz": 300
    },
    "id": "drawn-pierre",
    "outputId": "50e426d7-9719-4bad-d449-25cb1ab1939d"
   },
   "outputs": [
    {
     "data": {
      "text/html": [
       "<div>\n",
       "<style scoped>\n",
       "    .dataframe tbody tr th:only-of-type {\n",
       "        vertical-align: middle;\n",
       "    }\n",
       "\n",
       "    .dataframe tbody tr th {\n",
       "        vertical-align: top;\n",
       "    }\n",
       "\n",
       "    .dataframe thead th {\n",
       "        text-align: right;\n",
       "    }\n",
       "</style>\n",
       "<table border=\"1\" class=\"dataframe\">\n",
       "  <thead>\n",
       "    <tr style=\"text-align: right;\">\n",
       "      <th></th>\n",
       "      <th>Drug_ID</th>\n",
       "      <th>Drug</th>\n",
       "      <th>Y</th>\n",
       "    </tr>\n",
       "  </thead>\n",
       "  <tbody>\n",
       "    <tr>\n",
       "      <th>0</th>\n",
       "      <td>N,N,N-trimethyloctadecan-1-aminium bromide</td>\n",
       "      <td>CCCCCCCCCCCCCCCCCC[N+](C)(C)C.[Br-]</td>\n",
       "      <td>-3.616127</td>\n",
       "    </tr>\n",
       "    <tr>\n",
       "      <th>1</th>\n",
       "      <td>Benzo[cd]indol-2(1H)-one</td>\n",
       "      <td>O=C1Nc2cccc3cccc1c23</td>\n",
       "      <td>-3.254767</td>\n",
       "    </tr>\n",
       "    <tr>\n",
       "      <th>2</th>\n",
       "      <td>4-chlorobenzaldehyde</td>\n",
       "      <td>O=Cc1ccc(Cl)cc1</td>\n",
       "      <td>-2.177078</td>\n",
       "    </tr>\n",
       "    <tr>\n",
       "      <th>3</th>\n",
       "      <td>zinc bis[2-hydroxy-3,5-bis(1-phenylethyl)benzo...</td>\n",
       "      <td>CC(c1ccccc1)c1cc(C(=O)[O-])c(O)c(C(C)c2ccccc2)...</td>\n",
       "      <td>-3.924409</td>\n",
       "    </tr>\n",
       "    <tr>\n",
       "      <th>4</th>\n",
       "      <td>4-({4-[bis(oxiran-2-ylmethyl)amino]phenyl}meth...</td>\n",
       "      <td>c1cc(N(CC2CO2)CC2CO2)ccc1Cc1ccc(N(CC2CO2)CC2CO...</td>\n",
       "      <td>-4.662065</td>\n",
       "    </tr>\n",
       "    <tr>\n",
       "      <th>...</th>\n",
       "      <td>...</td>\n",
       "      <td>...</td>\n",
       "      <td>...</td>\n",
       "    </tr>\n",
       "    <tr>\n",
       "      <th>9977</th>\n",
       "      <td>tetracaine</td>\n",
       "      <td>CCCCNc1ccc(C(=O)OCCN(C)C)cc1</td>\n",
       "      <td>-3.010000</td>\n",
       "    </tr>\n",
       "    <tr>\n",
       "      <th>9978</th>\n",
       "      <td>tetracycline</td>\n",
       "      <td>CN(C)[C@@H]1C(O)=C(C(N)=O)C(=O)[C@@]2(O)C(O)=C...</td>\n",
       "      <td>-2.930000</td>\n",
       "    </tr>\n",
       "    <tr>\n",
       "      <th>9979</th>\n",
       "      <td>thymol</td>\n",
       "      <td>Cc1ccc(C(C)C)c(O)c1</td>\n",
       "      <td>-2.190000</td>\n",
       "    </tr>\n",
       "    <tr>\n",
       "      <th>9980</th>\n",
       "      <td>verapamil</td>\n",
       "      <td>COc1ccc(CCN(C)CCCC(C#N)(c2ccc(OC)c(OC)c2)C(C)C...</td>\n",
       "      <td>-3.980000</td>\n",
       "    </tr>\n",
       "    <tr>\n",
       "      <th>9981</th>\n",
       "      <td>warfarin</td>\n",
       "      <td>CC(=O)CC(c1ccccc1)c1c(O)c2ccccc2oc1=O</td>\n",
       "      <td>-4.780000</td>\n",
       "    </tr>\n",
       "  </tbody>\n",
       "</table>\n",
       "<p>9982 rows × 3 columns</p>\n",
       "</div>"
      ],
      "text/plain": [
       "                                                Drug_ID  \\\n",
       "0            N,N,N-trimethyloctadecan-1-aminium bromide   \n",
       "1                              Benzo[cd]indol-2(1H)-one   \n",
       "2                                  4-chlorobenzaldehyde   \n",
       "3     zinc bis[2-hydroxy-3,5-bis(1-phenylethyl)benzo...   \n",
       "4     4-({4-[bis(oxiran-2-ylmethyl)amino]phenyl}meth...   \n",
       "...                                                 ...   \n",
       "9977                                         tetracaine   \n",
       "9978                                       tetracycline   \n",
       "9979                                             thymol   \n",
       "9980                                          verapamil   \n",
       "9981                                           warfarin   \n",
       "\n",
       "                                                   Drug         Y  \n",
       "0                   CCCCCCCCCCCCCCCCCC[N+](C)(C)C.[Br-] -3.616127  \n",
       "1                                  O=C1Nc2cccc3cccc1c23 -3.254767  \n",
       "2                                       O=Cc1ccc(Cl)cc1 -2.177078  \n",
       "3     CC(c1ccccc1)c1cc(C(=O)[O-])c(O)c(C(C)c2ccccc2)... -3.924409  \n",
       "4     c1cc(N(CC2CO2)CC2CO2)ccc1Cc1ccc(N(CC2CO2)CC2CO... -4.662065  \n",
       "...                                                 ...       ...  \n",
       "9977                       CCCCNc1ccc(C(=O)OCCN(C)C)cc1 -3.010000  \n",
       "9978  CN(C)[C@@H]1C(O)=C(C(N)=O)C(=O)[C@@]2(O)C(O)=C... -2.930000  \n",
       "9979                                Cc1ccc(C(C)C)c(O)c1 -2.190000  \n",
       "9980  COc1ccc(CCN(C)CCCC(C#N)(c2ccc(OC)c(OC)c2)C(C)C... -3.980000  \n",
       "9981              CC(=O)CC(c1ccccc1)c1c(O)c2ccccc2oc1=O -4.780000  \n",
       "\n",
       "[9982 rows x 3 columns]"
      ]
     },
     "execution_count": 8,
     "metadata": {},
     "output_type": "execute_result"
    }
   ],
   "source": [
    "sol_df"
   ]
  },
  {
   "cell_type": "markdown",
   "id": "b90ba5ea",
   "metadata": {},
   "source": [
    "I don't like the names of the columns, let's rename them. "
   ]
  },
  {
   "cell_type": "code",
   "execution_count": 9,
   "id": "b894f56a",
   "metadata": {
    "colab": {
     "base_uri": "https://localhost:8080/",
     "height": 423
    },
    "executionInfo": {
     "elapsed": 260,
     "status": "ok",
     "timestamp": 1644717969164,
     "user": {
      "displayName": "",
      "photoUrl": "",
      "userId": ""
     },
     "user_tz": 300
    },
    "id": "b894f56a",
    "outputId": "4252db1f-43b5-43c4-c439-0d0d7ebe89bb"
   },
   "outputs": [
    {
     "data": {
      "text/html": [
       "<div>\n",
       "<style scoped>\n",
       "    .dataframe tbody tr th:only-of-type {\n",
       "        vertical-align: middle;\n",
       "    }\n",
       "\n",
       "    .dataframe tbody tr th {\n",
       "        vertical-align: top;\n",
       "    }\n",
       "\n",
       "    .dataframe thead th {\n",
       "        text-align: right;\n",
       "    }\n",
       "</style>\n",
       "<table border=\"1\" class=\"dataframe\">\n",
       "  <thead>\n",
       "    <tr style=\"text-align: right;\">\n",
       "      <th></th>\n",
       "      <th>Name</th>\n",
       "      <th>SMILES</th>\n",
       "      <th>LogS</th>\n",
       "    </tr>\n",
       "  </thead>\n",
       "  <tbody>\n",
       "    <tr>\n",
       "      <th>0</th>\n",
       "      <td>N,N,N-trimethyloctadecan-1-aminium bromide</td>\n",
       "      <td>CCCCCCCCCCCCCCCCCC[N+](C)(C)C.[Br-]</td>\n",
       "      <td>-3.616127</td>\n",
       "    </tr>\n",
       "    <tr>\n",
       "      <th>1</th>\n",
       "      <td>Benzo[cd]indol-2(1H)-one</td>\n",
       "      <td>O=C1Nc2cccc3cccc1c23</td>\n",
       "      <td>-3.254767</td>\n",
       "    </tr>\n",
       "    <tr>\n",
       "      <th>2</th>\n",
       "      <td>4-chlorobenzaldehyde</td>\n",
       "      <td>O=Cc1ccc(Cl)cc1</td>\n",
       "      <td>-2.177078</td>\n",
       "    </tr>\n",
       "    <tr>\n",
       "      <th>3</th>\n",
       "      <td>zinc bis[2-hydroxy-3,5-bis(1-phenylethyl)benzo...</td>\n",
       "      <td>CC(c1ccccc1)c1cc(C(=O)[O-])c(O)c(C(C)c2ccccc2)...</td>\n",
       "      <td>-3.924409</td>\n",
       "    </tr>\n",
       "    <tr>\n",
       "      <th>4</th>\n",
       "      <td>4-({4-[bis(oxiran-2-ylmethyl)amino]phenyl}meth...</td>\n",
       "      <td>c1cc(N(CC2CO2)CC2CO2)ccc1Cc1ccc(N(CC2CO2)CC2CO...</td>\n",
       "      <td>-4.662065</td>\n",
       "    </tr>\n",
       "    <tr>\n",
       "      <th>...</th>\n",
       "      <td>...</td>\n",
       "      <td>...</td>\n",
       "      <td>...</td>\n",
       "    </tr>\n",
       "    <tr>\n",
       "      <th>9977</th>\n",
       "      <td>tetracaine</td>\n",
       "      <td>CCCCNc1ccc(C(=O)OCCN(C)C)cc1</td>\n",
       "      <td>-3.010000</td>\n",
       "    </tr>\n",
       "    <tr>\n",
       "      <th>9978</th>\n",
       "      <td>tetracycline</td>\n",
       "      <td>CN(C)[C@@H]1C(O)=C(C(N)=O)C(=O)[C@@]2(O)C(O)=C...</td>\n",
       "      <td>-2.930000</td>\n",
       "    </tr>\n",
       "    <tr>\n",
       "      <th>9979</th>\n",
       "      <td>thymol</td>\n",
       "      <td>Cc1ccc(C(C)C)c(O)c1</td>\n",
       "      <td>-2.190000</td>\n",
       "    </tr>\n",
       "    <tr>\n",
       "      <th>9980</th>\n",
       "      <td>verapamil</td>\n",
       "      <td>COc1ccc(CCN(C)CCCC(C#N)(c2ccc(OC)c(OC)c2)C(C)C...</td>\n",
       "      <td>-3.980000</td>\n",
       "    </tr>\n",
       "    <tr>\n",
       "      <th>9981</th>\n",
       "      <td>warfarin</td>\n",
       "      <td>CC(=O)CC(c1ccccc1)c1c(O)c2ccccc2oc1=O</td>\n",
       "      <td>-4.780000</td>\n",
       "    </tr>\n",
       "  </tbody>\n",
       "</table>\n",
       "<p>9982 rows × 3 columns</p>\n",
       "</div>"
      ],
      "text/plain": [
       "                                                   Name  \\\n",
       "0            N,N,N-trimethyloctadecan-1-aminium bromide   \n",
       "1                              Benzo[cd]indol-2(1H)-one   \n",
       "2                                  4-chlorobenzaldehyde   \n",
       "3     zinc bis[2-hydroxy-3,5-bis(1-phenylethyl)benzo...   \n",
       "4     4-({4-[bis(oxiran-2-ylmethyl)amino]phenyl}meth...   \n",
       "...                                                 ...   \n",
       "9977                                         tetracaine   \n",
       "9978                                       tetracycline   \n",
       "9979                                             thymol   \n",
       "9980                                          verapamil   \n",
       "9981                                           warfarin   \n",
       "\n",
       "                                                 SMILES      LogS  \n",
       "0                   CCCCCCCCCCCCCCCCCC[N+](C)(C)C.[Br-] -3.616127  \n",
       "1                                  O=C1Nc2cccc3cccc1c23 -3.254767  \n",
       "2                                       O=Cc1ccc(Cl)cc1 -2.177078  \n",
       "3     CC(c1ccccc1)c1cc(C(=O)[O-])c(O)c(C(C)c2ccccc2)... -3.924409  \n",
       "4     c1cc(N(CC2CO2)CC2CO2)ccc1Cc1ccc(N(CC2CO2)CC2CO... -4.662065  \n",
       "...                                                 ...       ...  \n",
       "9977                       CCCCNc1ccc(C(=O)OCCN(C)C)cc1 -3.010000  \n",
       "9978  CN(C)[C@@H]1C(O)=C(C(N)=O)C(=O)[C@@]2(O)C(O)=C... -2.930000  \n",
       "9979                                Cc1ccc(C(C)C)c(O)c1 -2.190000  \n",
       "9980  COc1ccc(CCN(C)CCCC(C#N)(c2ccc(OC)c(OC)c2)C(C)C... -3.980000  \n",
       "9981              CC(=O)CC(c1ccccc1)c1c(O)c2ccccc2oc1=O -4.780000  \n",
       "\n",
       "[9982 rows x 3 columns]"
      ]
     },
     "execution_count": 9,
     "metadata": {},
     "output_type": "execute_result"
    }
   ],
   "source": [
    "sol_df.columns = [\"Name\",\"SMILES\",\"LogS\"]\n",
    "sol_df"
   ]
  },
  {
   "cell_type": "markdown",
   "id": "eb19fdaa",
   "metadata": {},
   "source": [
    "Now let's reorder the columns."
   ]
  },
  {
   "cell_type": "code",
   "execution_count": 10,
   "id": "significant-italy",
   "metadata": {
    "colab": {
     "base_uri": "https://localhost:8080/",
     "height": 423
    },
    "executionInfo": {
     "elapsed": 280,
     "status": "ok",
     "timestamp": 1644717971042,
     "user": {
      "displayName": "",
      "photoUrl": "",
      "userId": ""
     },
     "user_tz": 300
    },
    "id": "significant-italy",
    "outputId": "4f7bf080-387a-453c-cce4-d7c1ce756883"
   },
   "outputs": [
    {
     "data": {
      "text/html": [
       "<div>\n",
       "<style scoped>\n",
       "    .dataframe tbody tr th:only-of-type {\n",
       "        vertical-align: middle;\n",
       "    }\n",
       "\n",
       "    .dataframe tbody tr th {\n",
       "        vertical-align: top;\n",
       "    }\n",
       "\n",
       "    .dataframe thead th {\n",
       "        text-align: right;\n",
       "    }\n",
       "</style>\n",
       "<table border=\"1\" class=\"dataframe\">\n",
       "  <thead>\n",
       "    <tr style=\"text-align: right;\">\n",
       "      <th></th>\n",
       "      <th>SMILES</th>\n",
       "      <th>Name</th>\n",
       "      <th>LogS</th>\n",
       "    </tr>\n",
       "  </thead>\n",
       "  <tbody>\n",
       "    <tr>\n",
       "      <th>0</th>\n",
       "      <td>CCCCCCCCCCCCCCCCCC[N+](C)(C)C.[Br-]</td>\n",
       "      <td>N,N,N-trimethyloctadecan-1-aminium bromide</td>\n",
       "      <td>-3.616127</td>\n",
       "    </tr>\n",
       "    <tr>\n",
       "      <th>1</th>\n",
       "      <td>O=C1Nc2cccc3cccc1c23</td>\n",
       "      <td>Benzo[cd]indol-2(1H)-one</td>\n",
       "      <td>-3.254767</td>\n",
       "    </tr>\n",
       "    <tr>\n",
       "      <th>2</th>\n",
       "      <td>O=Cc1ccc(Cl)cc1</td>\n",
       "      <td>4-chlorobenzaldehyde</td>\n",
       "      <td>-2.177078</td>\n",
       "    </tr>\n",
       "    <tr>\n",
       "      <th>3</th>\n",
       "      <td>CC(c1ccccc1)c1cc(C(=O)[O-])c(O)c(C(C)c2ccccc2)...</td>\n",
       "      <td>zinc bis[2-hydroxy-3,5-bis(1-phenylethyl)benzo...</td>\n",
       "      <td>-3.924409</td>\n",
       "    </tr>\n",
       "    <tr>\n",
       "      <th>4</th>\n",
       "      <td>c1cc(N(CC2CO2)CC2CO2)ccc1Cc1ccc(N(CC2CO2)CC2CO...</td>\n",
       "      <td>4-({4-[bis(oxiran-2-ylmethyl)amino]phenyl}meth...</td>\n",
       "      <td>-4.662065</td>\n",
       "    </tr>\n",
       "    <tr>\n",
       "      <th>...</th>\n",
       "      <td>...</td>\n",
       "      <td>...</td>\n",
       "      <td>...</td>\n",
       "    </tr>\n",
       "    <tr>\n",
       "      <th>9977</th>\n",
       "      <td>CCCCNc1ccc(C(=O)OCCN(C)C)cc1</td>\n",
       "      <td>tetracaine</td>\n",
       "      <td>-3.010000</td>\n",
       "    </tr>\n",
       "    <tr>\n",
       "      <th>9978</th>\n",
       "      <td>CN(C)[C@@H]1C(O)=C(C(N)=O)C(=O)[C@@]2(O)C(O)=C...</td>\n",
       "      <td>tetracycline</td>\n",
       "      <td>-2.930000</td>\n",
       "    </tr>\n",
       "    <tr>\n",
       "      <th>9979</th>\n",
       "      <td>Cc1ccc(C(C)C)c(O)c1</td>\n",
       "      <td>thymol</td>\n",
       "      <td>-2.190000</td>\n",
       "    </tr>\n",
       "    <tr>\n",
       "      <th>9980</th>\n",
       "      <td>COc1ccc(CCN(C)CCCC(C#N)(c2ccc(OC)c(OC)c2)C(C)C...</td>\n",
       "      <td>verapamil</td>\n",
       "      <td>-3.980000</td>\n",
       "    </tr>\n",
       "    <tr>\n",
       "      <th>9981</th>\n",
       "      <td>CC(=O)CC(c1ccccc1)c1c(O)c2ccccc2oc1=O</td>\n",
       "      <td>warfarin</td>\n",
       "      <td>-4.780000</td>\n",
       "    </tr>\n",
       "  </tbody>\n",
       "</table>\n",
       "<p>9982 rows × 3 columns</p>\n",
       "</div>"
      ],
      "text/plain": [
       "                                                 SMILES  \\\n",
       "0                   CCCCCCCCCCCCCCCCCC[N+](C)(C)C.[Br-]   \n",
       "1                                  O=C1Nc2cccc3cccc1c23   \n",
       "2                                       O=Cc1ccc(Cl)cc1   \n",
       "3     CC(c1ccccc1)c1cc(C(=O)[O-])c(O)c(C(C)c2ccccc2)...   \n",
       "4     c1cc(N(CC2CO2)CC2CO2)ccc1Cc1ccc(N(CC2CO2)CC2CO...   \n",
       "...                                                 ...   \n",
       "9977                       CCCCNc1ccc(C(=O)OCCN(C)C)cc1   \n",
       "9978  CN(C)[C@@H]1C(O)=C(C(N)=O)C(=O)[C@@]2(O)C(O)=C...   \n",
       "9979                                Cc1ccc(C(C)C)c(O)c1   \n",
       "9980  COc1ccc(CCN(C)CCCC(C#N)(c2ccc(OC)c(OC)c2)C(C)C...   \n",
       "9981              CC(=O)CC(c1ccccc1)c1c(O)c2ccccc2oc1=O   \n",
       "\n",
       "                                                   Name      LogS  \n",
       "0            N,N,N-trimethyloctadecan-1-aminium bromide -3.616127  \n",
       "1                              Benzo[cd]indol-2(1H)-one -3.254767  \n",
       "2                                  4-chlorobenzaldehyde -2.177078  \n",
       "3     zinc bis[2-hydroxy-3,5-bis(1-phenylethyl)benzo... -3.924409  \n",
       "4     4-({4-[bis(oxiran-2-ylmethyl)amino]phenyl}meth... -4.662065  \n",
       "...                                                 ...       ...  \n",
       "9977                                         tetracaine -3.010000  \n",
       "9978                                       tetracycline -2.930000  \n",
       "9979                                             thymol -2.190000  \n",
       "9980                                          verapamil -3.980000  \n",
       "9981                                           warfarin -4.780000  \n",
       "\n",
       "[9982 rows x 3 columns]"
      ]
     },
     "execution_count": 10,
     "metadata": {},
     "output_type": "execute_result"
    }
   ],
   "source": [
    "sol_df = sol_df[['SMILES','Name','LogS']]\n",
    "sol_df"
   ]
  },
  {
   "cell_type": "markdown",
   "id": "506a165f",
   "metadata": {},
   "source": [
    "Before we calculate descriptors, we're going to standardize the molecules. This process removes counterions, neutralizes molecules, and generates a standard tautomer.  This process also generates **a lot** of logging output.  We don't want to look at that output, so we're going to use the function [BlockLogs](https://www.rdkit.org/docs/source/rdkit.rdBase.html) to temporarily turn off logging.  Once we're finished we delete the variable **block** and logging is back on."
   ]
  },
  {
   "cell_type": "code",
   "execution_count": 11,
   "id": "21505088",
   "metadata": {},
   "outputs": [
    {
     "name": "stderr",
     "output_type": "stream",
     "text": [
      "100%|████████████████████████████████████████████████████████████████████████████████| 9982/9982 [04:44<00:00, 35.12it/s]\n"
     ]
    }
   ],
   "source": [
    "block = BlockLogs()\n",
    "sol_df['mol'] = sol_df.SMILES.progress_apply(standardize)\n",
    "del block"
   ]
  },
  {
   "cell_type": "markdown",
   "id": "motivated-postcard",
   "metadata": {
    "id": "motivated-postcard"
   },
   "source": [
    "Add a new column \"IsSol\" to indicate whether a molecule's solubility is greater than 200uM"
   ]
  },
  {
   "cell_type": "code",
   "execution_count": 18,
   "id": "julian-representative",
   "metadata": {
    "executionInfo": {
     "elapsed": 2,
     "status": "ok",
     "timestamp": 1644717974138,
     "user": {
      "displayName": "",
      "photoUrl": "",
      "userId": ""
     },
     "user_tz": 300
    },
    "id": "julian-representative"
   },
   "outputs": [],
   "source": [
    "sol_df['IsSol'] = sol_df.LogS > math.log10(200 * 1e-6)"
   ]
  },
  {
   "cell_type": "markdown",
   "id": "certified-passage",
   "metadata": {
    "id": "certified-passage"
   },
   "source": [
    "Plot solubility as a sanity check"
   ]
  },
  {
   "cell_type": "code",
   "execution_count": 19,
   "id": "cloudy-provider",
   "metadata": {
    "colab": {
     "base_uri": "https://localhost:8080/",
     "height": 387
    },
    "executionInfo": {
     "elapsed": 1141,
     "status": "ok",
     "timestamp": 1644717983139,
     "user": {
      "displayName": "",
      "photoUrl": "",
      "userId": ""
     },
     "user_tz": 300
    },
    "id": "cloudy-provider",
    "outputId": "3e7fdcef-e0ac-4f9d-9e24-97c8a37f3d50"
   },
   "outputs": [
    {
     "data": {
      "text/plain": [
       "<seaborn.axisgrid.FacetGrid at 0x109785070>"
      ]
     },
     "execution_count": 19,
     "metadata": {},
     "output_type": "execute_result"
    },
    {
     "data": {
      "image/png": "[encoded data removed]",
      "text/plain": [
       "<Figure size 460.65x360 with 1 Axes>"
      ]
     },
     "metadata": {
      "needs_background": "light"
     },
     "output_type": "display_data"
    }
   ],
   "source": [
    "sns.set_context('talk') # Set the fonts the way I like them\n",
    "sns.displot(x='LogS',hue=\"IsSol\",data=sol_df)"
   ]
  },
  {
   "cell_type": "markdown",
   "id": "ruled-church",
   "metadata": {
    "id": "ruled-church"
   },
   "source": [
    "Add the descriptors to the dataframe.  Note that all the descriptors are going into one column called \"desc\"."
   ]
  },
  {
   "cell_type": "code",
   "execution_count": 22,
   "id": "affecting-solomon",
   "metadata": {
    "colab": {
     "base_uri": "https://localhost:8080/"
    },
    "executionInfo": {
     "elapsed": 4984,
     "status": "ok",
     "timestamp": 1644717991328,
     "user": {
      "displayName": "",
      "photoUrl": "",
      "userId": ""
     },
     "user_tz": 300
    },
    "id": "affecting-solomon",
    "outputId": "e3e92b5e-d608-484b-9273-23958db1cba6"
   },
   "outputs": [
    {
     "name": "stderr",
     "output_type": "stream",
     "text": [
      "100%|██████████████████████████████████████████████████████████████████████████████| 9982/9982 [00:05<00:00, 1926.10it/s]\n"
     ]
    }
   ],
   "source": [
    "sol_df['desc'] = sol_df.mol.progress_apply(calc_descriptors)"
   ]
  },
  {
   "cell_type": "markdown",
   "id": "ordinary-romania",
   "metadata": {
    "id": "ordinary-romania"
   },
   "source": [
    "The function call in the cell above put all the descriptors into a single column called **desc**.  We would like split the descriptors so that each is in its own column."
   ]
  },
  {
   "cell_type": "code",
   "execution_count": 23,
   "id": "racial-spell",
   "metadata": {
    "executionInfo": {
     "elapsed": 264,
     "status": "ok",
     "timestamp": 1644718012997,
     "user": {
      "displayName": "",
      "photoUrl": "",
      "userId": ""
     },
     "user_tz": 300
    },
    "id": "racial-spell"
   },
   "outputs": [],
   "source": [
    "desc_cols = ['MW','LogP','NumAromatic','HBD','HBA']\n",
    "sol_df[desc_cols] = sol_df.desc.to_list()"
   ]
  },
  {
   "cell_type": "markdown",
   "id": "hydraulic-chapter",
   "metadata": {
    "id": "hydraulic-chapter"
   },
   "source": [
    "We no longer need the \"desc\" column, let's get rid of it. "
   ]
  },
  {
   "cell_type": "code",
   "execution_count": 24,
   "id": "assured-interaction",
   "metadata": {
    "executionInfo": {
     "elapsed": 268,
     "status": "ok",
     "timestamp": 1644718016693,
     "user": {
      "displayName": "",
      "photoUrl": "",
      "userId": ""
     },
     "user_tz": 300
    },
    "id": "assured-interaction"
   },
   "outputs": [],
   "source": [
    "sol_df.drop(\"desc\",axis=1,inplace=True)"
   ]
  },
  {
   "cell_type": "markdown",
   "id": "green-deviation",
   "metadata": {
    "id": "green-deviation"
   },
   "source": [
    "Let's check the dataframe to make sure it's ok. "
   ]
  },
  {
   "cell_type": "code",
   "execution_count": 25,
   "id": "dried-guitar",
   "metadata": {
    "colab": {
     "base_uri": "https://localhost:8080/",
     "height": 423
    },
    "executionInfo": {
     "elapsed": 632,
     "status": "ok",
     "timestamp": 1644718019994,
     "user": {
      "displayName": "",
      "photoUrl": "",
      "userId": ""
     },
     "user_tz": 300
    },
    "id": "dried-guitar",
    "outputId": "922b62c0-357b-4cf8-aede-a399f97be640"
   },
   "outputs": [
    {
     "data": {
      "text/html": [
       "<div>\n",
       "<style scoped>\n",
       "    .dataframe tbody tr th:only-of-type {\n",
       "        vertical-align: middle;\n",
       "    }\n",
       "\n",
       "    .dataframe tbody tr th {\n",
       "        vertical-align: top;\n",
       "    }\n",
       "\n",
       "    .dataframe thead th {\n",
       "        text-align: right;\n",
       "    }\n",
       "</style>\n",
       "<table border=\"1\" class=\"dataframe\">\n",
       "  <thead>\n",
       "    <tr style=\"text-align: right;\">\n",
       "      <th></th>\n",
       "      <th>SMILES</th>\n",
       "      <th>Name</th>\n",
       "      <th>LogS</th>\n",
       "      <th>mol</th>\n",
       "      <th>IsSol</th>\n",
       "      <th>MW</th>\n",
       "      <th>LogP</th>\n",
       "      <th>NumAromatic</th>\n",
       "      <th>HBD</th>\n",
       "      <th>HBA</th>\n",
       "    </tr>\n",
       "  </thead>\n",
       "  <tbody>\n",
       "    <tr>\n",
       "      <th>0</th>\n",
       "      <td>CCCCCCCCCCCCCCCCCC[N+](C)(C)C.[Br-]</td>\n",
       "      <td>N,N,N-trimethyloctadecan-1-aminium bromide</td>\n",
       "      <td>-3.616127</td>\n",
       "      <td>&lt;rdkit.Chem.rdchem.Mol object at 0x1702c2b80&gt;</td>\n",
       "      <td>True</td>\n",
       "      <td>312.606</td>\n",
       "      <td>6.95410</td>\n",
       "      <td>0.0</td>\n",
       "      <td>0.0</td>\n",
       "      <td>0.0</td>\n",
       "    </tr>\n",
       "    <tr>\n",
       "      <th>1</th>\n",
       "      <td>O=C1Nc2cccc3cccc1c23</td>\n",
       "      <td>Benzo[cd]indol-2(1H)-one</td>\n",
       "      <td>-3.254767</td>\n",
       "      <td>&lt;rdkit.Chem.rdchem.Mol object at 0x1702c2b20&gt;</td>\n",
       "      <td>True</td>\n",
       "      <td>169.183</td>\n",
       "      <td>2.40550</td>\n",
       "      <td>2.0</td>\n",
       "      <td>1.0</td>\n",
       "      <td>1.0</td>\n",
       "    </tr>\n",
       "    <tr>\n",
       "      <th>2</th>\n",
       "      <td>O=Cc1ccc(Cl)cc1</td>\n",
       "      <td>4-chlorobenzaldehyde</td>\n",
       "      <td>-2.177078</td>\n",
       "      <td>&lt;rdkit.Chem.rdchem.Mol object at 0x1702c2ac0&gt;</td>\n",
       "      <td>True</td>\n",
       "      <td>140.569</td>\n",
       "      <td>2.15250</td>\n",
       "      <td>1.0</td>\n",
       "      <td>0.0</td>\n",
       "      <td>1.0</td>\n",
       "    </tr>\n",
       "    <tr>\n",
       "      <th>3</th>\n",
       "      <td>CC(c1ccccc1)c1cc(C(=O)[O-])c(O)c(C(C)c2ccccc2)...</td>\n",
       "      <td>zinc bis[2-hydroxy-3,5-bis(1-phenylethyl)benzo...</td>\n",
       "      <td>-3.924409</td>\n",
       "      <td>&lt;rdkit.Chem.rdchem.Mol object at 0x1702c29a0&gt;</td>\n",
       "      <td>False</td>\n",
       "      <td>346.426</td>\n",
       "      <td>5.39400</td>\n",
       "      <td>3.0</td>\n",
       "      <td>2.0</td>\n",
       "      <td>2.0</td>\n",
       "    </tr>\n",
       "    <tr>\n",
       "      <th>4</th>\n",
       "      <td>c1cc(N(CC2CO2)CC2CO2)ccc1Cc1ccc(N(CC2CO2)CC2CO...</td>\n",
       "      <td>4-({4-[bis(oxiran-2-ylmethyl)amino]phenyl}meth...</td>\n",
       "      <td>-4.662065</td>\n",
       "      <td>&lt;rdkit.Chem.rdchem.Mol object at 0x1702c2a60&gt;</td>\n",
       "      <td>False</td>\n",
       "      <td>422.525</td>\n",
       "      <td>2.48540</td>\n",
       "      <td>2.0</td>\n",
       "      <td>0.0</td>\n",
       "      <td>6.0</td>\n",
       "    </tr>\n",
       "    <tr>\n",
       "      <th>...</th>\n",
       "      <td>...</td>\n",
       "      <td>...</td>\n",
       "      <td>...</td>\n",
       "      <td>...</td>\n",
       "      <td>...</td>\n",
       "      <td>...</td>\n",
       "      <td>...</td>\n",
       "      <td>...</td>\n",
       "      <td>...</td>\n",
       "      <td>...</td>\n",
       "    </tr>\n",
       "    <tr>\n",
       "      <th>9977</th>\n",
       "      <td>CCCCNc1ccc(C(=O)OCCN(C)C)cc1</td>\n",
       "      <td>tetracaine</td>\n",
       "      <td>-3.010000</td>\n",
       "      <td>&lt;rdkit.Chem.rdchem.Mol object at 0x16f7453a0&gt;</td>\n",
       "      <td>True</td>\n",
       "      <td>264.369</td>\n",
       "      <td>2.61700</td>\n",
       "      <td>1.0</td>\n",
       "      <td>1.0</td>\n",
       "      <td>4.0</td>\n",
       "    </tr>\n",
       "    <tr>\n",
       "      <th>9978</th>\n",
       "      <td>CN(C)[C@@H]1C(O)=C(C(N)=O)C(=O)[C@@]2(O)C(O)=C...</td>\n",
       "      <td>tetracycline</td>\n",
       "      <td>-2.930000</td>\n",
       "      <td>&lt;rdkit.Chem.rdchem.Mol object at 0x16f745400&gt;</td>\n",
       "      <td>True</td>\n",
       "      <td>444.440</td>\n",
       "      <td>-1.46800</td>\n",
       "      <td>1.0</td>\n",
       "      <td>4.0</td>\n",
       "      <td>9.0</td>\n",
       "    </tr>\n",
       "    <tr>\n",
       "      <th>9979</th>\n",
       "      <td>Cc1ccc(C(C)C)c(O)c1</td>\n",
       "      <td>thymol</td>\n",
       "      <td>-2.190000</td>\n",
       "      <td>&lt;rdkit.Chem.rdchem.Mol object at 0x16f745460&gt;</td>\n",
       "      <td>True</td>\n",
       "      <td>150.221</td>\n",
       "      <td>2.82402</td>\n",
       "      <td>1.0</td>\n",
       "      <td>1.0</td>\n",
       "      <td>1.0</td>\n",
       "    </tr>\n",
       "    <tr>\n",
       "      <th>9980</th>\n",
       "      <td>COc1ccc(CCN(C)CCCC(C#N)(c2ccc(OC)c(OC)c2)C(C)C...</td>\n",
       "      <td>verapamil</td>\n",
       "      <td>-3.980000</td>\n",
       "      <td>&lt;rdkit.Chem.rdchem.Mol object at 0x16f7454c0&gt;</td>\n",
       "      <td>False</td>\n",
       "      <td>454.611</td>\n",
       "      <td>5.09308</td>\n",
       "      <td>2.0</td>\n",
       "      <td>0.0</td>\n",
       "      <td>6.0</td>\n",
       "    </tr>\n",
       "    <tr>\n",
       "      <th>9981</th>\n",
       "      <td>CC(=O)CC(c1ccccc1)c1c(O)c2ccccc2oc1=O</td>\n",
       "      <td>warfarin</td>\n",
       "      <td>-4.780000</td>\n",
       "      <td>&lt;rdkit.Chem.rdchem.Mol object at 0x16f745520&gt;</td>\n",
       "      <td>False</td>\n",
       "      <td>308.333</td>\n",
       "      <td>3.60960</td>\n",
       "      <td>3.0</td>\n",
       "      <td>1.0</td>\n",
       "      <td>4.0</td>\n",
       "    </tr>\n",
       "  </tbody>\n",
       "</table>\n",
       "<p>9982 rows × 10 columns</p>\n",
       "</div>"
      ],
      "text/plain": [
       "                                                 SMILES  \\\n",
       "0                   CCCCCCCCCCCCCCCCCC[N+](C)(C)C.[Br-]   \n",
       "1                                  O=C1Nc2cccc3cccc1c23   \n",
       "2                                       O=Cc1ccc(Cl)cc1   \n",
       "3     CC(c1ccccc1)c1cc(C(=O)[O-])c(O)c(C(C)c2ccccc2)...   \n",
       "4     c1cc(N(CC2CO2)CC2CO2)ccc1Cc1ccc(N(CC2CO2)CC2CO...   \n",
       "...                                                 ...   \n",
       "9977                       CCCCNc1ccc(C(=O)OCCN(C)C)cc1   \n",
       "9978  CN(C)[C@@H]1C(O)=C(C(N)=O)C(=O)[C@@]2(O)C(O)=C...   \n",
       "9979                                Cc1ccc(C(C)C)c(O)c1   \n",
       "9980  COc1ccc(CCN(C)CCCC(C#N)(c2ccc(OC)c(OC)c2)C(C)C...   \n",
       "9981              CC(=O)CC(c1ccccc1)c1c(O)c2ccccc2oc1=O   \n",
       "\n",
       "                                                   Name      LogS  \\\n",
       "0            N,N,N-trimethyloctadecan-1-aminium bromide -3.616127   \n",
       "1                              Benzo[cd]indol-2(1H)-one -3.254767   \n",
       "2                                  4-chlorobenzaldehyde -2.177078   \n",
       "3     zinc bis[2-hydroxy-3,5-bis(1-phenylethyl)benzo... -3.924409   \n",
       "4     4-({4-[bis(oxiran-2-ylmethyl)amino]phenyl}meth... -4.662065   \n",
       "...                                                 ...       ...   \n",
       "9977                                         tetracaine -3.010000   \n",
       "9978                                       tetracycline -2.930000   \n",
       "9979                                             thymol -2.190000   \n",
       "9980                                          verapamil -3.980000   \n",
       "9981                                           warfarin -4.780000   \n",
       "\n",
       "                                                mol  IsSol       MW     LogP  \\\n",
       "0     <rdkit.Chem.rdchem.Mol object at 0x1702c2b80>   True  312.606  6.95410   \n",
       "1     <rdkit.Chem.rdchem.Mol object at 0x1702c2b20>   True  169.183  2.40550   \n",
       "2     <rdkit.Chem.rdchem.Mol object at 0x1702c2ac0>   True  140.569  2.15250   \n",
       "3     <rdkit.Chem.rdchem.Mol object at 0x1702c29a0>  False  346.426  5.39400   \n",
       "4     <rdkit.Chem.rdchem.Mol object at 0x1702c2a60>  False  422.525  2.48540   \n",
       "...                                             ...    ...      ...      ...   \n",
       "9977  <rdkit.Chem.rdchem.Mol object at 0x16f7453a0>   True  264.369  2.61700   \n",
       "9978  <rdkit.Chem.rdchem.Mol object at 0x16f745400>   True  444.440 -1.46800   \n",
       "9979  <rdkit.Chem.rdchem.Mol object at 0x16f745460>   True  150.221  2.82402   \n",
       "9980  <rdkit.Chem.rdchem.Mol object at 0x16f7454c0>  False  454.611  5.09308   \n",
       "9981  <rdkit.Chem.rdchem.Mol object at 0x16f745520>  False  308.333  3.60960   \n",
       "\n",
       "      NumAromatic  HBD  HBA  \n",
       "0             0.0  0.0  0.0  \n",
       "1             2.0  1.0  1.0  \n",
       "2             1.0  0.0  1.0  \n",
       "3             3.0  2.0  2.0  \n",
       "4             2.0  0.0  6.0  \n",
       "...           ...  ...  ...  \n",
       "9977          1.0  1.0  4.0  \n",
       "9978          1.0  4.0  9.0  \n",
       "9979          1.0  1.0  1.0  \n",
       "9980          2.0  0.0  6.0  \n",
       "9981          3.0  1.0  4.0  \n",
       "\n",
       "[9982 rows x 10 columns]"
      ]
     },
     "execution_count": 25,
     "metadata": {},
     "output_type": "execute_result"
    }
   ],
   "source": [
    "sol_df"
   ]
  },
  {
   "cell_type": "markdown",
   "id": "choice-scroll",
   "metadata": {
    "id": "choice-scroll"
   },
   "source": [
    "In order to build a machine learning model, we will split the data into training and test sets. By default, the function train_test_split from scikit_learn puts 80% of the data into the training set and 20% into the test set."
   ]
  },
  {
   "cell_type": "code",
   "execution_count": 26,
   "id": "indian-payroll",
   "metadata": {
    "executionInfo": {
     "elapsed": 270,
     "status": "ok",
     "timestamp": 1644718023249,
     "user": {
      "displayName": "",
      "photoUrl": "",
      "userId": ""
     },
     "user_tz": 300
    },
    "id": "indian-payroll"
   },
   "outputs": [],
   "source": [
    "train, test = train_test_split(sol_df)"
   ]
  },
  {
   "cell_type": "markdown",
   "id": "strong-hearing",
   "metadata": {
    "id": "strong-hearing"
   },
   "source": [
    "Our data is currently in a Pandas dataframe.  I find it easier to build models with X and y variables. We'll split the training and test sets into X and y variables. "
   ]
  },
  {
   "cell_type": "code",
   "execution_count": 27,
   "id": "simplified-legislation",
   "metadata": {
    "executionInfo": {
     "elapsed": 2,
     "status": "ok",
     "timestamp": 1644718026121,
     "user": {
      "displayName": "",
      "photoUrl": "",
      "userId": ""
     },
     "user_tz": 300
    },
    "id": "simplified-legislation"
   },
   "outputs": [],
   "source": [
    "train_X = train[desc_cols]\n",
    "train_y = train.IsSol\n",
    "test_X = test[desc_cols]\n",
    "test_y = test.IsSol"
   ]
  },
  {
   "cell_type": "markdown",
   "id": "temporal-mitchell",
   "metadata": {
    "id": "temporal-mitchell"
   },
   "source": [
    "Create and train a classifier"
   ]
  },
  {
   "cell_type": "code",
   "execution_count": 28,
   "id": "continuing-reasoning",
   "metadata": {
    "colab": {
     "base_uri": "https://localhost:8080/"
    },
    "executionInfo": {
     "elapsed": 292,
     "status": "ok",
     "timestamp": 1644718036255,
     "user": {
      "displayName": "",
      "photoUrl": "",
      "userId": ""
     },
     "user_tz": 300
    },
    "id": "continuing-reasoning",
    "outputId": "f63e94ca-96e7-481e-9e36-ce81f65c6fae"
   },
   "outputs": [
    {
     "data": {
      "text/plain": [
       "DecisionTreeClassifier(max_depth=2)"
      ]
     },
     "execution_count": 28,
     "metadata": {},
     "output_type": "execute_result"
    }
   ],
   "source": [
    "cls = DecisionTreeClassifier(max_depth=2)\n",
    "cls.fit(train_X,train_y)"
   ]
  },
  {
   "cell_type": "markdown",
   "id": "concrete-heath",
   "metadata": {
    "id": "concrete-heath"
   },
   "source": [
    "Predict on the test set"
   ]
  },
  {
   "cell_type": "code",
   "execution_count": 29,
   "id": "measured-tribe",
   "metadata": {
    "colab": {
     "base_uri": "https://localhost:8080/"
    },
    "executionInfo": {
     "elapsed": 264,
     "status": "ok",
     "timestamp": 1644718040012,
     "user": {
      "displayName": "",
      "photoUrl": "",
      "userId": ""
     },
     "user_tz": 300
    },
    "id": "measured-tribe",
    "outputId": "eb117b26-ef69-4d46-8843-c90d340dd6d1"
   },
   "outputs": [
    {
     "name": "stdout",
     "output_type": "stream",
     "text": [
      "ROC AUC = 0.82\n",
      "Matthews Correlation Coefficient = 0.65\n",
      "Cohen's Kappa = 0.65\n"
     ]
    }
   ],
   "source": [
    "pred = cls.predict(test_X)\n",
    "auc, mcc, kappa = roc_auc_score(test_y, pred),matthews_corrcoef(test_y,pred),cohen_kappa_score(test_y,pred)\n",
    "print(f\"ROC AUC = {auc:.2f}\")\n",
    "print(f\"Matthews Correlation Coefficient = {mcc:.2f}\")\n",
    "print(f\"Cohen\\'s Kappa = {kappa:.2f}\")"
   ]
  },
  {
   "cell_type": "markdown",
   "id": "accompanied-playing",
   "metadata": {
    "id": "accompanied-playing"
   },
   "source": [
    "Plot a confusion matrix to show the classifier performance"
   ]
  },
  {
   "cell_type": "code",
   "execution_count": 30,
   "id": "danish-implementation",
   "metadata": {
    "colab": {
     "base_uri": "https://localhost:8080/",
     "height": 297
    },
    "executionInfo": {
     "elapsed": 600,
     "status": "ok",
     "timestamp": 1644718044618,
     "user": {
      "displayName": "",
      "photoUrl": "",
      "userId": ""
     },
     "user_tz": 300
    },
    "id": "danish-implementation",
    "outputId": "b92a390d-ee0d-40d0-dde0-ee48d8be7375"
   },
   "outputs": [
    {
     "data": {
      "text/plain": [
       "<sklearn.metrics._plot.confusion_matrix.ConfusionMatrixDisplay at 0x16e655fa0>"
      ]
     },
     "execution_count": 30,
     "metadata": {},
     "output_type": "execute_result"
    },
    {
     "data": {
      "image/png": "[encoded data removed]",
      "text/plain": [
       "<Figure size 432x288 with 2 Axes>"
      ]
     },
     "metadata": {
      "needs_background": "light"
     },
     "output_type": "display_data"
    }
   ],
   "source": [
    "plot_confusion_matrix(cls,test_X,test_y)"
   ]
  },
  {
   "cell_type": "markdown",
   "id": "second-senator",
   "metadata": {
    "id": "second-senator"
   },
   "source": [
    "Plot an ROC cure to show the classifier performance"
   ]
  },
  {
   "cell_type": "code",
   "execution_count": 31,
   "id": "educational-relay",
   "metadata": {
    "colab": {
     "base_uri": "https://localhost:8080/",
     "height": 297
    },
    "executionInfo": {
     "elapsed": 966,
     "status": "ok",
     "timestamp": 1644718048484,
     "user": {
      "displayName": "",
      "photoUrl": "",
      "userId": ""
     },
     "user_tz": 300
    },
    "id": "educational-relay",
    "outputId": "ddd32b9c-b3b0-4447-bcd8-14e043d23aac"
   },
   "outputs": [
    {
     "data": {
      "text/plain": [
       "<sklearn.metrics._plot.roc_curve.RocCurveDisplay at 0x170406430>"
      ]
     },
     "execution_count": 31,
     "metadata": {},
     "output_type": "execute_result"
    },
    {
     "data": {
      "image/png": "[encoded data removed]",
      "text/plain": [
       "<Figure size 432x288 with 1 Axes>"
      ]
     },
     "metadata": {
      "needs_background": "light"
     },
     "output_type": "display_data"
    }
   ],
   "source": [
    "plot_roc_curve(cls,test_X,test_y)"
   ]
  },
  {
   "cell_type": "markdown",
   "id": "seasonal-retro",
   "metadata": {
    "id": "seasonal-retro"
   },
   "source": [
    "Use the default view from SciKit Learn to plot the decision tree"
   ]
  },
  {
   "cell_type": "code",
   "execution_count": 32,
   "id": "physical-ordering",
   "metadata": {
    "colab": {
     "base_uri": "https://localhost:8080/",
     "height": 700
    },
    "executionInfo": {
     "elapsed": 800,
     "status": "ok",
     "timestamp": 1644718051832,
     "user": {
      "displayName": "",
      "photoUrl": "",
      "userId": ""
     },
     "user_tz": 300
    },
    "id": "physical-ordering",
    "outputId": "6f2c8a7c-cb9d-4684-c350-20c680c5ce84"
   },
   "outputs": [
    {
     "data": {
      "text/plain": [
       "[Text(279.0, 453.0, 'LogP <= 3.116\\ngini = 0.444\\nsamples = 7486\\nvalue = [2488, 4998]'),\n",
       " Text(139.5, 271.8, 'LogP <= 2.603\\ngini = 0.228\\nsamples = 5116\\nvalue = [673, 4443]'),\n",
       " Text(69.75, 90.59999999999997, 'gini = 0.17\\nsamples = 4468\\nvalue = [419, 4049]'),\n",
       " Text(209.25, 90.59999999999997, 'gini = 0.477\\nsamples = 648\\nvalue = [254, 394]'),\n",
       " Text(418.5, 271.8, 'HBD <= 4.5\\ngini = 0.359\\nsamples = 2370\\nvalue = [1815, 555]'),\n",
       " Text(348.75, 90.59999999999997, 'gini = 0.337\\nsamples = 2298\\nvalue = [1805, 493]'),\n",
       " Text(488.25, 90.59999999999997, 'gini = 0.239\\nsamples = 72\\nvalue = [10, 62]')]"
      ]
     },
     "execution_count": 32,
     "metadata": {},
     "output_type": "execute_result"
    },
    {
     "data": {
      "image/png": "[encoded data removed]",
      "text/plain": [
       "<Figure size 720x720 with 1 Axes>"
      ]
     },
     "metadata": {
      "needs_background": "light"
     },
     "output_type": "display_data"
    }
   ],
   "source": [
    "plt.rcParams[\"figure.figsize\"] = (10,10)\n",
    "plot_tree(cls,feature_names=desc_cols)"
   ]
  },
  {
   "cell_type": "markdown",
   "id": "nuclear-preservation",
   "metadata": {
    "id": "nuclear-preservation"
   },
   "source": [
    "Use dtreeviz to plot the decision tree"
   ]
  },
  {
   "cell_type": "code",
   "execution_count": 27,
   "id": "appropriate-trinidad",
   "metadata": {
    "colab": {
     "base_uri": "https://localhost:8080/",
     "height": 710
    },
    "executionInfo": {
     "elapsed": 2673,
     "status": "ok",
     "timestamp": 1644718068112,
     "user": {
      "displayName": "",
      "photoUrl": "",
      "userId": ""
     },
     "user_tz": 300
    },
    "id": "appropriate-trinidad",
    "outputId": "1fcc465d-421d-4f2b-c3c2-3fa05e8aaeb8"
   },
   "outputs": [
    {
     "name": "stderr",
     "output_type": "stream",
     "text": [
      "findfont: Font family ['Arial'] not found. Falling back to DejaVu Sans.\n",
      "findfont: Font family ['Arial'] not found. Falling back to DejaVu Sans.\n",
      "findfont: Font family ['Arial'] not found. Falling back to DejaVu Sans.\n",
      "findfont: Font family ['Arial'] not found. Falling back to DejaVu Sans.\n"
     ]
    },
    {
     "data": {
      "image/svg+xml": [
       "<svg xmlns=\"http://www.w3.org/2000/svg\" xmlns:xlink=\"http://www.w3.org/1999/xlink\" height=\"618.0\" viewBox=\"0.0 0.0 737.0 618.0\" width=\"738.0\">\n",
       "<g class=\"graph\" id=\"graph0\" transform=\"scale(2 2) rotate(0) translate(4 305)\">\n",
       "<title>G</title>\n",
       "<polygon fill=\"#ffffff\" points=\"-4,4 -4,-305 364.5,-305 364.5,4 -4,4\" stroke=\"transparent\" />\n",
       "<g class=\"cluster\" id=\"clust4\">\n",
       "<title>cluster_legend</title>\n",
       "</g>\n",
       "\n",
       "<g class=\"node\" id=\"node1\">\n",
       "<title>node1</title>\n",
       "<svg height=\"70px\" preserveAspectRatio=\"xMinYMin meet\" version=\"1.1\" viewBox=\"0 0 212.898344 93.426309\" width=\"159px\" x=\"14.5\" y=\"-174\">\n",
       " <defs>\n",
       "  <style type=\"text/css\">\n",
       "*{stroke-linecap:butt;stroke-linejoin:round;}\n",
       "  </style>\n",
       " </defs>\n",
       " <g id=\"figure_1\">\n",
       "  <g id=\"patch_1\">\n",
       "   <path d=\"M 0 93.426309  L 212.898344 93.426309  L 212.898344 -0  L 0 -0  z \" style=\"fill:#ffffff;\" />\n",
       "  </g>\n",
       "  <g id=\"axes_1\">\n",
       "   <g id=\"patch_2\">\n",
       "    <path d=\"M 27.36 63.070059  L 211.5 63.070059  L 211.5 0.037841  L 27.36 0.037841  z \" style=\"fill:#ffffff;\" />\n",
       "   </g>\n",
       "   <g id=\"patch_3\">\n",
       "    <path clip-path=\"url(#p6dfc3c91c4)\" d=\"M 27.383894 63.070059  L 36.612023 63.070059  L 36.612023 58.26174  L 27.383894 58.26174  z \" style=\"fill:#fefebb;stroke:#444443;stroke-linejoin:miter;stroke-width:0.5;\" />\n",
       "   </g>\n",
       "   <g id=\"patch_4\">\n",
       "    <path clip-path=\"url(#p6dfc3c91c4)\" d=\"M 36.612023 63.070059  L 45.840152 63.070059  L 45.840152 59.478479  L 36.612023 59.478479  z \" style=\"fill:#fefebb;stroke:#444443;stroke-linejoin:miter;stroke-width:0.5;\" />\n",
       "   </g>\n",
       "   <g id=\"patch_5\">\n",
       "    <path clip-path=\"url(#p6dfc3c91c4)\" d=\"M 45.840152 63.070059  L 55.068281 63.070059  L 55.068281 62.835507  L 45.840152 62.835507  z \" style=\"fill:#fefebb;stroke:#444443;stroke-linejoin:miter;stroke-width:0.5;\" />\n",
       "   </g>\n",
       "   <g id=\"patch_6\">\n",
       "    <path clip-path=\"url(#p6dfc3c91c4)\" d=\"M 55.068281 63.070059  L 64.29641 63.070059  L 64.29641 63.04074  L 55.068281 63.04074  z \" style=\"fill:#fefebb;stroke:#444443;stroke-linejoin:miter;stroke-width:0.5;\" />\n",
       "   </g>\n",
       "   <g id=\"patch_7\">\n",
       "    <path clip-path=\"url(#p6dfc3c91c4)\" d=\"M 64.29641 63.070059  L 73.524539 63.070059  L 73.524539 63.055399  L 64.29641 63.055399  z \" style=\"fill:#fefebb;stroke:#444443;stroke-linejoin:miter;stroke-width:0.5;\" />\n",
       "   </g>\n",
       "   <g id=\"patch_8\">\n",
       "    <path clip-path=\"url(#p6dfc3c91c4)\" d=\"M 73.524539 63.070059  L 82.752668 63.070059  L 82.752668 63.04074  L 73.524539 63.04074  z \" style=\"fill:#fefebb;stroke:#444443;stroke-linejoin:miter;stroke-width:0.5;\" />\n",
       "   </g>\n",
       "   <g id=\"patch_9\">\n",
       "    <path clip-path=\"url(#p6dfc3c91c4)\" d=\"M 82.752668 63.070059  L 91.980796 63.070059  L 91.980796 63.070059  L 82.752668 63.070059  z \" style=\"fill:#fefebb;stroke:#444443;stroke-linejoin:miter;stroke-width:0.5;\" />\n",
       "   </g>\n",
       "   <g id=\"patch_10\">\n",
       "    <path clip-path=\"url(#p6dfc3c91c4)\" d=\"M 91.980796 63.070059  L 101.208925 63.070059  L 101.208925 63.070059  L 91.980796 63.070059  z \" style=\"fill:#fefebb;stroke:#444443;stroke-linejoin:miter;stroke-width:0.5;\" />\n",
       "   </g>\n",
       "   <g id=\"patch_11\">\n",
       "    <path clip-path=\"url(#p6dfc3c91c4)\" d=\"M 101.208925 63.070059  L 110.437054 63.070059  L 110.437054 63.070059  L 101.208925 63.070059  z \" style=\"fill:#fefebb;stroke:#444443;stroke-linejoin:miter;stroke-width:0.5;\" />\n",
       "   </g>\n",
       "   <g id=\"patch_12\">\n",
       "    <path clip-path=\"url(#p6dfc3c91c4)\" d=\"M 110.437054 63.070059  L 119.665183 63.070059  L 119.665183 63.070059  L 110.437054 63.070059  z \" style=\"fill:#fefebb;stroke:#444443;stroke-linejoin:miter;stroke-width:0.5;\" />\n",
       "   </g>\n",
       "   <g id=\"patch_13\">\n",
       "    <path clip-path=\"url(#p6dfc3c91c4)\" d=\"M 119.665183 63.070059  L 128.893312 63.070059  L 128.893312 63.070059  L 119.665183 63.070059  z \" style=\"fill:#fefebb;stroke:#444443;stroke-linejoin:miter;stroke-width:0.5;\" />\n",
       "   </g>\n",
       "   <g id=\"patch_14\">\n",
       "    <path clip-path=\"url(#p6dfc3c91c4)\" d=\"M 128.893312 63.070059  L 138.121441 63.070059  L 138.121441 63.070059  L 128.893312 63.070059  z \" style=\"fill:#fefebb;stroke:#444443;stroke-linejoin:miter;stroke-width:0.5;\" />\n",
       "   </g>\n",
       "   <g id=\"patch_15\">\n",
       "    <path clip-path=\"url(#p6dfc3c91c4)\" d=\"M 138.121441 63.070059  L 147.34957 63.070059  L 147.34957 63.070059  L 138.121441 63.070059  z \" style=\"fill:#fefebb;stroke:#444443;stroke-linejoin:miter;stroke-width:0.5;\" />\n",
       "   </g>\n",
       "   <g id=\"patch_16\">\n",
       "    <path clip-path=\"url(#p6dfc3c91c4)\" d=\"M 147.34957 63.070059  L 156.577699 63.070059  L 156.577699 63.070059  L 147.34957 63.070059  z \" style=\"fill:#fefebb;stroke:#444443;stroke-linejoin:miter;stroke-width:0.5;\" />\n",
       "   </g>\n",
       "   <g id=\"patch_17\">\n",
       "    <path clip-path=\"url(#p6dfc3c91c4)\" d=\"M 156.577699 63.070059  L 165.805828 63.070059  L 165.805828 63.070059  L 156.577699 63.070059  z \" style=\"fill:#fefebb;stroke:#444443;stroke-linejoin:miter;stroke-width:0.5;\" />\n",
       "   </g>\n",
       "   <g id=\"patch_18\">\n",
       "    <path clip-path=\"url(#p6dfc3c91c4)\" d=\"M 165.805828 63.070059  L 175.033957 63.070059  L 175.033957 63.070059  L 165.805828 63.070059  z \" style=\"fill:#fefebb;stroke:#444443;stroke-linejoin:miter;stroke-width:0.5;\" />\n",
       "   </g>\n",
       "   <g id=\"patch_19\">\n",
       "    <path clip-path=\"url(#p6dfc3c91c4)\" d=\"M 175.033957 63.070059  L 184.262086 63.070059  L 184.262086 63.070059  L 175.033957 63.070059  z \" style=\"fill:#fefebb;stroke:#444443;stroke-linejoin:miter;stroke-width:0.5;\" />\n",
       "   </g>\n",
       "   <g id=\"patch_20\">\n",
       "    <path clip-path=\"url(#p6dfc3c91c4)\" d=\"M 184.262086 63.070059  L 193.490215 63.070059  L 193.490215 63.070059  L 184.262086 63.070059  z \" style=\"fill:#fefebb;stroke:#444443;stroke-linejoin:miter;stroke-width:0.5;\" />\n",
       "   </g>\n",
       "   <g id=\"patch_21\">\n",
       "    <path clip-path=\"url(#p6dfc3c91c4)\" d=\"M 193.490215 63.070059  L 202.718344 63.070059  L 202.718344 63.070059  L 193.490215 63.070059  z \" style=\"fill:#fefebb;stroke:#444443;stroke-linejoin:miter;stroke-width:0.5;\" />\n",
       "   </g>\n",
       "   <g id=\"patch_22\">\n",
       "    <path clip-path=\"url(#p6dfc3c91c4)\" d=\"M 27.383894 58.26174  L 36.612023 58.26174  L 36.612023 3.039375  L 27.383894 3.039375  z \" style=\"fill:#a1dab4;stroke:#444443;stroke-linejoin:miter;stroke-width:0.5;\" />\n",
       "   </g>\n",
       "   <g id=\"patch_23\">\n",
       "    <path clip-path=\"url(#p6dfc3c91c4)\" d=\"M 36.612023 59.478479  L 45.840152 59.478479  L 45.840152 50.52152  L 36.612023 50.52152  z \" style=\"fill:#a1dab4;stroke:#444443;stroke-linejoin:miter;stroke-width:0.5;\" />\n",
       "   </g>\n",
       "   <g id=\"patch_24\">\n",
       "    <path clip-path=\"url(#p6dfc3c91c4)\" d=\"M 45.840152 62.835507  L 55.068281 62.835507  L 55.068281 61.54547  L 45.840152 61.54547  z \" style=\"fill:#a1dab4;stroke:#444443;stroke-linejoin:miter;stroke-width:0.5;\" />\n",
       "   </g>\n",
       "   <g id=\"patch_25\">\n",
       "    <path clip-path=\"url(#p6dfc3c91c4)\" d=\"M 55.068281 63.04074  L 64.29641 63.04074  L 64.29641 62.483678  L 55.068281 62.483678  z \" style=\"fill:#a1dab4;stroke:#444443;stroke-linejoin:miter;stroke-width:0.5;\" />\n",
       "   </g>\n",
       "   <g id=\"patch_26\">\n",
       "    <path clip-path=\"url(#p6dfc3c91c4)\" d=\"M 64.29641 63.055399  L 73.524539 63.055399  L 73.524539 62.835507  L 64.29641 62.835507  z \" style=\"fill:#a1dab4;stroke:#444443;stroke-linejoin:miter;stroke-width:0.5;\" />\n",
       "   </g>\n",
       "   <g id=\"patch_27\">\n",
       "    <path clip-path=\"url(#p6dfc3c91c4)\" d=\"M 73.524539 63.04074  L 82.752668 63.04074  L 82.752668 62.982102  L 73.524539 62.982102  z \" style=\"fill:#a1dab4;stroke:#444443;stroke-linejoin:miter;stroke-width:0.5;\" />\n",
       "   </g>\n",
       "   <g id=\"patch_28\">\n",
       "    <path clip-path=\"url(#p6dfc3c91c4)\" d=\"M 82.752668 63.070059  L 91.980796 63.070059  L 91.980796 63.055399  L 82.752668 63.055399  z \" style=\"fill:#a1dab4;stroke:#444443;stroke-linejoin:miter;stroke-width:0.5;\" />\n",
       "   </g>\n",
       "   <g id=\"patch_29\">\n",
       "    <path clip-path=\"url(#p6dfc3c91c4)\" d=\"M 91.980796 63.070059  L 101.208925 63.070059  L 101.208925 63.070059  L 91.980796 63.070059  z \" style=\"fill:#a1dab4;stroke:#444443;stroke-linejoin:miter;stroke-width:0.5;\" />\n",
       "   </g>\n",
       "   <g id=\"patch_30\">\n",
       "    <path clip-path=\"url(#p6dfc3c91c4)\" d=\"M 101.208925 63.070059  L 110.437054 63.070059  L 110.437054 63.055399  L 101.208925 63.055399  z \" style=\"fill:#a1dab4;stroke:#444443;stroke-linejoin:miter;stroke-width:0.5;\" />\n",
       "   </g>\n",
       "   <g id=\"patch_31\">\n",
       "    <path clip-path=\"url(#p6dfc3c91c4)\" d=\"M 110.437054 63.070059  L 119.665183 63.070059  L 119.665183 63.070059  L 110.437054 63.070059  z \" style=\"fill:#a1dab4;stroke:#444443;stroke-linejoin:miter;stroke-width:0.5;\" />\n",
       "   </g>\n",
       "   <g id=\"patch_32\">\n",
       "    <path clip-path=\"url(#p6dfc3c91c4)\" d=\"M 119.665183 63.070059  L 128.893312 63.070059  L 128.893312 63.055399  L 119.665183 63.055399  z \" style=\"fill:#a1dab4;stroke:#444443;stroke-linejoin:miter;stroke-width:0.5;\" />\n",
       "   </g>\n",
       "   <g id=\"patch_33\">\n",
       "    <path clip-path=\"url(#p6dfc3c91c4)\" d=\"M 128.893312 63.070059  L 138.121441 63.070059  L 138.121441 63.070059  L 128.893312 63.070059  z \" style=\"fill:#a1dab4;stroke:#444443;stroke-linejoin:miter;stroke-width:0.5;\" />\n",
       "   </g>\n",
       "   <g id=\"patch_34\">\n",
       "    <path clip-path=\"url(#p6dfc3c91c4)\" d=\"M 138.121441 63.070059  L 147.34957 63.070059  L 147.34957 63.070059  L 138.121441 63.070059  z \" style=\"fill:#a1dab4;stroke:#444443;stroke-linejoin:miter;stroke-width:0.5;\" />\n",
       "   </g>\n",
       "   <g id=\"patch_35\">\n",
       "    <path clip-path=\"url(#p6dfc3c91c4)\" d=\"M 147.34957 63.070059  L 156.577699 63.070059  L 156.577699 63.070059  L 147.34957 63.070059  z \" style=\"fill:#a1dab4;stroke:#444443;stroke-linejoin:miter;stroke-width:0.5;\" />\n",
       "   </g>\n",
       "   <g id=\"patch_36\">\n",
       "    <path clip-path=\"url(#p6dfc3c91c4)\" d=\"M 156.577699 63.070059  L 165.805828 63.070059  L 165.805828 63.070059  L 156.577699 63.070059  z \" style=\"fill:#a1dab4;stroke:#444443;stroke-linejoin:miter;stroke-width:0.5;\" />\n",
       "   </g>\n",
       "   <g id=\"patch_37\">\n",
       "    <path clip-path=\"url(#p6dfc3c91c4)\" d=\"M 165.805828 63.070059  L 175.033957 63.070059  L 175.033957 63.070059  L 165.805828 63.070059  z \" style=\"fill:#a1dab4;stroke:#444443;stroke-linejoin:miter;stroke-width:0.5;\" />\n",
       "   </g>\n",
       "   <g id=\"patch_38\">\n",
       "    <path clip-path=\"url(#p6dfc3c91c4)\" d=\"M 175.033957 63.070059  L 184.262086 63.070059  L 184.262086 63.070059  L 175.033957 63.070059  z \" style=\"fill:#a1dab4;stroke:#444443;stroke-linejoin:miter;stroke-width:0.5;\" />\n",
       "   </g>\n",
       "   <g id=\"patch_39\">\n",
       "    <path clip-path=\"url(#p6dfc3c91c4)\" d=\"M 184.262086 63.070059  L 193.490215 63.070059  L 193.490215 63.070059  L 184.262086 63.070059  z \" style=\"fill:#a1dab4;stroke:#444443;stroke-linejoin:miter;stroke-width:0.5;\" />\n",
       "   </g>\n",
       "   <g id=\"patch_40\">\n",
       "    <path clip-path=\"url(#p6dfc3c91c4)\" d=\"M 193.490215 63.070059  L 202.718344 63.070059  L 202.718344 63.070059  L 193.490215 63.070059  z \" style=\"fill:#a1dab4;stroke:#444443;stroke-linejoin:miter;stroke-width:0.5;\" />\n",
       "   </g>\n",
       "   <g id=\"patch_41\">\n",
       "    <path d=\"M 35.977693 63.885459  L 32.663173 71.224059  L 39.292213 71.224059  z \" style=\"fill:#444443;\" />\n",
       "   </g>\n",
       "   <g id=\"matplotlib.axis_1\">\n",
       "    <g id=\"xtick_1\">\n",
       "     <g id=\"line2d_1\">\n",
       "      <defs>\n",
       "       <path d=\"M 0 0  L 0 3.5  \" id=\"md3eba3bf5c\" style=\"stroke:#000000;stroke-width:0.3;\" />\n",
       "      </defs>\n",
       "      <g>\n",
       "       <use style=\"stroke:#000000;stroke-width:0.3;\" x=\"27.383894\" y=\"63.070059\" xlink:href=\"#md3eba3bf5c\" />\n",
       "      </g>\n",
       "     </g>\n",
       "     <g id=\"text_1\">\n",
       "      \n",
       "      <defs>\n",
       "       <path d=\"M 10.984375 1.515625  L 10.984375 10.5  Q 14.703125 8.734375 18.5 7.8125  Q 22.3125 6.890625 25.984375 6.890625  Q 35.75 6.890625 40.890625 13.453125  Q 46.046875 20.015625 46.78125 33.40625  Q 43.953125 29.203125 39.59375 26.953125  Q 35.25 24.703125 29.984375 24.703125  Q 19.046875 24.703125 12.671875 31.3125  Q 6.296875 37.9375 6.296875 49.421875  Q 6.296875 60.640625 12.9375 67.421875  Q 19.578125 74.21875 30.609375 74.21875  Q 43.265625 74.21875 49.921875 64.515625  Q 56.59375 54.828125 56.59375 36.375  Q 56.59375 19.140625 48.40625 8.859375  Q 40.234375 -1.421875 26.421875 -1.421875  Q 22.703125 -1.421875 18.890625 -0.6875  Q 15.09375 0.046875 10.984375 1.515625  z M 30.609375 32.421875  Q 37.25 32.421875 41.125 36.953125  Q 45.015625 41.5 45.015625 49.421875  Q 45.015625 57.28125 41.125 61.84375  Q 37.25 66.40625 30.609375 66.40625  Q 23.96875 66.40625 20.09375 61.84375  Q 16.21875 57.28125 16.21875 49.421875  Q 16.21875 41.5 20.09375 36.953125  Q 23.96875 32.421875 30.609375 32.421875  z \" id=\"DejaVuSans-57\" />\n",
       "      </defs>\n",
       "      <g style=\"fill:#444443;\" transform=\"translate(24.838894 76.148809)scale(0.08 -0.08)\">\n",
       "       <use xlink:href=\"#DejaVuSans-57\" />\n",
       "      </g>\n",
       "     </g>\n",
       "    </g>\n",
       "    <g id=\"xtick_2\">\n",
       "     <g id=\"line2d_2\">\n",
       "      <g>\n",
       "       <use style=\"stroke:#000000;stroke-width:0.3;\" x=\"202.718344\" y=\"63.070059\" xlink:href=\"#md3eba3bf5c\" />\n",
       "      </g>\n",
       "     </g>\n",
       "     <g id=\"text_2\">\n",
       "      \n",
       "      <defs>\n",
       "       <path d=\"M 10.796875 72.90625  L 49.515625 72.90625  L 49.515625 64.59375  L 19.828125 64.59375  L 19.828125 46.734375  Q 21.96875 47.46875 24.109375 47.828125  Q 26.265625 48.1875 28.421875 48.1875  Q 40.625 48.1875 47.75 41.5  Q 54.890625 34.8125 54.890625 23.390625  Q 54.890625 11.625 47.5625 5.09375  Q 40.234375 -1.421875 26.90625 -1.421875  Q 22.3125 -1.421875 17.546875 -0.640625  Q 12.796875 0.140625 7.71875 1.703125  L 7.71875 11.625  Q 12.109375 9.234375 16.796875 8.0625  Q 21.484375 6.890625 26.703125 6.890625  Q 35.15625 6.890625 40.078125 11.328125  Q 45.015625 15.765625 45.015625 23.390625  Q 45.015625 31 40.078125 35.4375  Q 35.15625 39.890625 26.703125 39.890625  Q 22.75 39.890625 18.8125 39.015625  Q 14.890625 38.140625 10.796875 36.28125  z \" id=\"DejaVuSans-53\" />\n",
       "       <path d=\"M 19.1875 8.296875  L 53.609375 8.296875  L 53.609375 0  L 7.328125 0  L 7.328125 8.296875  Q 12.9375 14.109375 22.625 23.890625  Q 32.328125 33.6875 34.8125 36.53125  Q 39.546875 41.84375 41.421875 45.53125  Q 43.3125 49.21875 43.3125 52.78125  Q 43.3125 58.59375 39.234375 62.25  Q 35.15625 65.921875 28.609375 65.921875  Q 23.96875 65.921875 18.8125 64.3125  Q 13.671875 62.703125 7.8125 59.421875  L 7.8125 69.390625  Q 13.765625 71.78125 18.9375 73  Q 24.125 74.21875 28.421875 74.21875  Q 39.75 74.21875 46.484375 68.546875  Q 53.21875 62.890625 53.21875 53.421875  Q 53.21875 48.921875 51.53125 44.890625  Q 49.859375 40.875 45.40625 35.40625  Q 44.1875 33.984375 37.640625 27.21875  Q 31.109375 20.453125 19.1875 8.296875  z \" id=\"DejaVuSans-50\" />\n",
       "      </defs>\n",
       "      <g style=\"fill:#444443;\" transform=\"translate(192.538344 76.148809)scale(0.08 -0.08)\">\n",
       "       <use xlink:href=\"#DejaVuSans-53\" />\n",
       "       <use x=\"63.623047\" xlink:href=\"#DejaVuSans-50\" />\n",
       "       <use x=\"127.246094\" xlink:href=\"#DejaVuSans-57\" />\n",
       "       <use x=\"190.869141\" xlink:href=\"#DejaVuSans-57\" />\n",
       "      </g>\n",
       "     </g>\n",
       "    </g>\n",
       "    <g id=\"text_3\">\n",
       "     \n",
       "     <defs>\n",
       "      <path d=\"M 9.8125 72.90625  L 24.515625 72.90625  L 43.109375 23.296875  L 61.8125 72.90625  L 76.515625 72.90625  L 76.515625 0  L 66.890625 0  L 66.890625 64.015625  L 48.09375 14.015625  L 38.1875 14.015625  L 19.390625 64.015625  L 19.390625 0  L 9.8125 0  z \" id=\"DejaVuSans-77\" />\n",
       "      <path d=\"M 3.328125 72.90625  L 13.28125 72.90625  L 28.609375 11.28125  L 43.890625 72.90625  L 54.984375 72.90625  L 70.3125 11.28125  L 85.59375 72.90625  L 95.609375 72.90625  L 77.296875 0  L 64.890625 0  L 49.515625 63.28125  L 33.984375 0  L 21.578125 0  z \" id=\"DejaVuSans-87\" />\n",
       "     </defs>\n",
       "     <g style=\"fill:#444443;\" transform=\"translate(108.320625 90.930684)scale(0.12 -0.12)\">\n",
       "      <use xlink:href=\"#DejaVuSans-77\" />\n",
       "      <use x=\"86.279297\" xlink:href=\"#DejaVuSans-87\" />\n",
       "     </g>\n",
       "    </g>\n",
       "   </g>\n",
       "   <g id=\"matplotlib.axis_2\">\n",
       "    <g id=\"ytick_1\">\n",
       "     <g id=\"line2d_3\">\n",
       "      <defs>\n",
       "       <path d=\"M 0 0  L -3.5 0  \" id=\"mdeb7aeed80\" style=\"stroke:#000000;stroke-width:0.3;\" />\n",
       "      </defs>\n",
       "      <g>\n",
       "       <use style=\"stroke:#000000;stroke-width:0.3;\" x=\"27.36\" y=\"63.070059\" xlink:href=\"#mdeb7aeed80\" />\n",
       "      </g>\n",
       "     </g>\n",
       "     <g id=\"text_4\">\n",
       "      \n",
       "      <defs>\n",
       "       <path d=\"M 31.78125 66.40625  Q 24.171875 66.40625 20.328125 58.90625  Q 16.5 51.421875 16.5 36.375  Q 16.5 21.390625 20.328125 13.890625  Q 24.171875 6.390625 31.78125 6.390625  Q 39.453125 6.390625 43.28125 13.890625  Q 47.125 21.390625 47.125 36.375  Q 47.125 51.421875 43.28125 58.90625  Q 39.453125 66.40625 31.78125 66.40625  z M 31.78125 74.21875  Q 44.046875 74.21875 50.515625 64.515625  Q 56.984375 54.828125 56.984375 36.375  Q 56.984375 17.96875 50.515625 8.265625  Q 44.046875 -1.421875 31.78125 -1.421875  Q 19.53125 -1.421875 13.0625 8.265625  Q 6.59375 17.96875 6.59375 36.375  Q 6.59375 54.828125 13.0625 64.515625  Q 19.53125 74.21875 31.78125 74.21875  z \" id=\"DejaVuSans-48\" />\n",
       "      </defs>\n",
       "      <g style=\"fill:#444443;\" transform=\"translate(15.27 66.109434)scale(0.08 -0.08)\">\n",
       "       <use xlink:href=\"#DejaVuSans-48\" />\n",
       "      </g>\n",
       "     </g>\n",
       "    </g>\n",
       "    <g id=\"ytick_2\">\n",
       "     <g id=\"line2d_4\">\n",
       "      <g>\n",
       "       <use style=\"stroke:#000000;stroke-width:0.3;\" x=\"27.36\" y=\"3.039375\" xlink:href=\"#mdeb7aeed80\" />\n",
       "      </g>\n",
       "     </g>\n",
       "     <g id=\"text_5\">\n",
       "      \n",
       "      <defs>\n",
       "       <path d=\"M 37.796875 64.3125  L 12.890625 25.390625  L 37.796875 25.390625  z M 35.203125 72.90625  L 47.609375 72.90625  L 47.609375 25.390625  L 58.015625 25.390625  L 58.015625 17.1875  L 47.609375 17.1875  L 47.609375 0  L 37.796875 0  L 37.796875 17.1875  L 4.890625 17.1875  L 4.890625 26.703125  z \" id=\"DejaVuSans-52\" />\n",
       "      </defs>\n",
       "      <g style=\"fill:#444443;\" transform=\"translate(0 6.07875)scale(0.08 -0.08)\">\n",
       "       <use xlink:href=\"#DejaVuSans-52\" />\n",
       "       <use x=\"63.623047\" xlink:href=\"#DejaVuSans-48\" />\n",
       "       <use x=\"127.246094\" xlink:href=\"#DejaVuSans-57\" />\n",
       "       <use x=\"190.869141\" xlink:href=\"#DejaVuSans-53\" />\n",
       "      </g>\n",
       "     </g>\n",
       "    </g>\n",
       "   </g>\n",
       "   <g id=\"patch_42\">\n",
       "    <path d=\"M 27.36 63.070059  L 27.36 0.037841  \" style=\"fill:none;stroke:#000000;stroke-linecap:square;stroke-linejoin:miter;stroke-width:0.3;\" />\n",
       "   </g>\n",
       "   <g id=\"patch_43\">\n",
       "    <path d=\"M 27.36 63.070059  L 211.5 63.070059  \" style=\"fill:none;stroke:#000000;stroke-linecap:square;stroke-linejoin:miter;stroke-width:0.3;\" />\n",
       "   </g>\n",
       "   <g id=\"text_6\">\n",
       "    \n",
       "    <defs>\n",
       "     <path d=\"M 33.015625 40.375  Q 26.375 40.375 22.484375 35.828125  Q 18.609375 31.296875 18.609375 23.390625  Q 18.609375 15.53125 22.484375 10.953125  Q 26.375 6.390625 33.015625 6.390625  Q 39.65625 6.390625 43.53125 10.953125  Q 47.40625 15.53125 47.40625 23.390625  Q 47.40625 31.296875 43.53125 35.828125  Q 39.65625 40.375 33.015625 40.375  z M 52.59375 71.296875  L 52.59375 62.3125  Q 48.875 64.0625 45.09375 64.984375  Q 41.3125 65.921875 37.59375 65.921875  Q 27.828125 65.921875 22.671875 59.328125  Q 17.53125 52.734375 16.796875 39.40625  Q 19.671875 43.65625 24.015625 45.921875  Q 28.375 48.1875 33.59375 48.1875  Q 44.578125 48.1875 50.953125 41.515625  Q 57.328125 34.859375 57.328125 23.390625  Q 57.328125 12.15625 50.6875 5.359375  Q 44.046875 -1.421875 33.015625 -1.421875  Q 20.359375 -1.421875 13.671875 8.265625  Q 6.984375 17.96875 6.984375 36.375  Q 6.984375 53.65625 15.1875 63.9375  Q 23.390625 74.21875 37.203125 74.21875  Q 40.921875 74.21875 44.703125 73.484375  Q 48.484375 72.75 52.59375 71.296875  z \" id=\"DejaVuSans-54\" />\n",
       "     <path d=\"M 31.78125 34.625  Q 24.75 34.625 20.71875 30.859375  Q 16.703125 27.09375 16.703125 20.515625  Q 16.703125 13.921875 20.71875 10.15625  Q 24.75 6.390625 31.78125 6.390625  Q 38.8125 6.390625 42.859375 10.171875  Q 46.921875 13.96875 46.921875 20.515625  Q 46.921875 27.09375 42.890625 30.859375  Q 38.875 34.625 31.78125 34.625  z M 21.921875 38.8125  Q 15.578125 40.375 12.03125 44.71875  Q 8.5 49.078125 8.5 55.328125  Q 8.5 64.0625 14.71875 69.140625  Q 20.953125 74.21875 31.78125 74.21875  Q 42.671875 74.21875 48.875 69.140625  Q 55.078125 64.0625 55.078125 55.328125  Q 55.078125 49.078125 51.53125 44.71875  Q 48 40.375 41.703125 38.8125  Q 48.828125 37.15625 52.796875 32.3125  Q 56.78125 27.484375 56.78125 20.515625  Q 56.78125 9.90625 50.3125 4.234375  Q 43.84375 -1.421875 31.78125 -1.421875  Q 19.734375 -1.421875 13.25 4.234375  Q 6.78125 9.90625 6.78125 20.515625  Q 6.78125 27.484375 10.78125 32.3125  Q 14.796875 37.15625 21.921875 38.8125  z M 18.3125 54.390625  Q 18.3125 48.734375 21.84375 45.5625  Q 25.390625 42.390625 31.78125 42.390625  Q 38.140625 42.390625 41.71875 45.5625  Q 45.3125 48.734375 45.3125 54.390625  Q 45.3125 60.0625 41.71875 63.234375  Q 38.140625 66.40625 31.78125 66.40625  Q 25.390625 66.40625 21.84375 63.234375  Q 18.3125 60.0625 18.3125 54.390625  z \" id=\"DejaVuSans-56\" />\n",
       "     <path d=\"M 10.6875 12.40625  L 21 12.40625  L 21 0  L 10.6875 0  z \" id=\"DejaVuSans-46\" />\n",
       "     <path d=\"M 40.578125 39.3125  Q 47.65625 37.796875 51.625 33  Q 55.609375 28.21875 55.609375 21.1875  Q 55.609375 10.40625 48.1875 4.484375  Q 40.765625 -1.421875 27.09375 -1.421875  Q 22.515625 -1.421875 17.65625 -0.515625  Q 12.796875 0.390625 7.625 2.203125  L 7.625 11.71875  Q 11.71875 9.328125 16.59375 8.109375  Q 21.484375 6.890625 26.8125 6.890625  Q 36.078125 6.890625 40.9375 10.546875  Q 45.796875 14.203125 45.796875 21.1875  Q 45.796875 27.640625 41.28125 31.265625  Q 36.765625 34.90625 28.71875 34.90625  L 20.21875 34.90625  L 20.21875 43.015625  L 29.109375 43.015625  Q 36.375 43.015625 40.234375 45.921875  Q 44.09375 48.828125 44.09375 54.296875  Q 44.09375 59.90625 40.109375 62.90625  Q 36.140625 65.921875 28.71875 65.921875  Q 24.65625 65.921875 20.015625 65.03125  Q 15.375 64.15625 9.8125 62.3125  L 9.8125 71.09375  Q 15.4375 72.65625 20.34375 73.4375  Q 25.25 74.21875 29.59375 74.21875  Q 40.828125 74.21875 47.359375 69.109375  Q 53.90625 64.015625 53.90625 55.328125  Q 53.90625 49.265625 50.4375 45.09375  Q 46.96875 40.921875 40.578125 39.3125  z \" id=\"DejaVuSans-51\" />\n",
       "    </defs>\n",
       "    <g style=\"fill:#444443;\" transform=\"translate(21.981443 79.378059)scale(0.08 -0.08)\">\n",
       "     <use xlink:href=\"#DejaVuSans-50\" />\n",
       "     <use x=\"63.623047\" xlink:href=\"#DejaVuSans-54\" />\n",
       "     <use x=\"127.246094\" xlink:href=\"#DejaVuSans-56\" />\n",
       "     <use x=\"190.869141\" xlink:href=\"#DejaVuSans-46\" />\n",
       "     <use x=\"222.65625\" xlink:href=\"#DejaVuSans-51\" />\n",
       "     <use x=\"286.279297\" xlink:href=\"#DejaVuSans-50\" />\n",
       "    </g>\n",
       "   </g>\n",
       "  </g>\n",
       " </g>\n",
       " <defs>\n",
       "  <clipPath id=\"p6dfc3c91c4\">\n",
       "   <rect height=\"63.032218\" width=\"184.14\" x=\"27.36\" y=\"0.037841\" />\n",
       "  </clipPath>\n",
       " </defs>\n",
       "</svg></g>\n",
       "\n",
       "<g class=\"node\" id=\"node2\">\n",
       "<title>node4</title>\n",
       "<svg height=\"45px\" preserveAspectRatio=\"xMinYMin meet\" version=\"1.1\" viewBox=\"0 0 216.704917 59.281339\" width=\"162px\" x=\"194.5\" y=\"-161\">\n",
       " <defs>\n",
       "  <style type=\"text/css\">\n",
       "*{stroke-linecap:butt;stroke-linejoin:round;}\n",
       "  </style>\n",
       " </defs>\n",
       " <g id=\"figure_1\">\n",
       "  <g id=\"patch_1\">\n",
       "   <path d=\"M 0 59.281339  L 216.704917 59.281339  L 216.704917 0  L 0 0  z \" style=\"fill:#ffffff;\" />\n",
       "  </g>\n",
       "  <g id=\"axes_1\">\n",
       "   <g id=\"patch_2\">\n",
       "    <path d=\"M 27.36 28.925089  L 211.5 28.925089  L 211.5 1.745089  L 27.36 1.745089  z \" style=\"fill:#ffffff;\" />\n",
       "   </g>\n",
       "   <g id=\"patch_3\">\n",
       "    <path clip-path=\"url(#pb702c49eec)\" d=\"M 27.36 28.925089  L 36.722825 28.925089  L 36.722825 28.925089  L 27.36 28.925089  z \" style=\"fill:#fefebb;stroke:#444443;stroke-linejoin:miter;stroke-width:0.5;\" />\n",
       "   </g>\n",
       "   <g id=\"patch_4\">\n",
       "    <path clip-path=\"url(#pb702c49eec)\" d=\"M 36.722825 28.925089  L 46.085649 28.925089  L 46.085649 28.925089  L 36.722825 28.925089  z \" style=\"fill:#fefebb;stroke:#444443;stroke-linejoin:miter;stroke-width:0.5;\" />\n",
       "   </g>\n",
       "   <g id=\"patch_5\">\n",
       "    <path clip-path=\"url(#pb702c49eec)\" d=\"M 46.085649 28.925089  L 55.448474 28.925089  L 55.448474 28.925089  L 46.085649 28.925089  z \" style=\"fill:#fefebb;stroke:#444443;stroke-linejoin:miter;stroke-width:0.5;\" />\n",
       "   </g>\n",
       "   <g id=\"patch_6\">\n",
       "    <path clip-path=\"url(#pb702c49eec)\" d=\"M 55.448474 28.925089  L 64.811298 28.925089  L 64.811298 28.925089  L 55.448474 28.925089  z \" style=\"fill:#fefebb;stroke:#444443;stroke-linejoin:miter;stroke-width:0.5;\" />\n",
       "   </g>\n",
       "   <g id=\"patch_7\">\n",
       "    <path clip-path=\"url(#pb702c49eec)\" d=\"M 64.811298 28.925089  L 74.174123 28.925089  L 74.174123 28.925089  L 64.811298 28.925089  z \" style=\"fill:#fefebb;stroke:#444443;stroke-linejoin:miter;stroke-width:0.5;\" />\n",
       "   </g>\n",
       "   <g id=\"patch_8\">\n",
       "    <path clip-path=\"url(#pb702c49eec)\" d=\"M 74.174123 28.925089  L 83.536947 28.925089  L 83.536947 28.925089  L 74.174123 28.925089  z \" style=\"fill:#fefebb;stroke:#444443;stroke-linejoin:miter;stroke-width:0.5;\" />\n",
       "   </g>\n",
       "   <g id=\"patch_9\">\n",
       "    <path clip-path=\"url(#pb702c49eec)\" d=\"M 83.536947 28.925089  L 92.899772 28.925089  L 92.899772 9.276744  L 83.536947 9.276744  z \" style=\"fill:#fefebb;stroke:#444443;stroke-linejoin:miter;stroke-width:0.5;\" />\n",
       "   </g>\n",
       "   <g id=\"patch_10\">\n",
       "    <path clip-path=\"url(#pb702c49eec)\" d=\"M 92.899772 28.925089  L 102.262597 28.925089  L 102.262597 25.838034  L 92.899772 25.838034  z \" style=\"fill:#fefebb;stroke:#444443;stroke-linejoin:miter;stroke-width:0.5;\" />\n",
       "   </g>\n",
       "   <g id=\"patch_11\">\n",
       "    <path clip-path=\"url(#pb702c49eec)\" d=\"M 102.262597 28.925089  L 111.625421 28.925089  L 111.625421 28.406363  L 102.262597 28.406363  z \" style=\"fill:#fefebb;stroke:#444443;stroke-linejoin:miter;stroke-width:0.5;\" />\n",
       "   </g>\n",
       "   <g id=\"patch_12\">\n",
       "    <path clip-path=\"url(#pb702c49eec)\" d=\"M 111.625421 28.925089  L 120.988246 28.925089  L 120.988246 28.836526  L 111.625421 28.836526  z \" style=\"fill:#fefebb;stroke:#444443;stroke-linejoin:miter;stroke-width:0.5;\" />\n",
       "   </g>\n",
       "   <g id=\"patch_13\">\n",
       "    <path clip-path=\"url(#pb702c49eec)\" d=\"M 120.988246 28.925089  L 130.35107 28.925089  L 130.35107 28.823874  L 120.988246 28.823874  z \" style=\"fill:#fefebb;stroke:#444443;stroke-linejoin:miter;stroke-width:0.5;\" />\n",
       "   </g>\n",
       "   <g id=\"patch_14\">\n",
       "    <path clip-path=\"url(#pb702c49eec)\" d=\"M 130.35107 28.925089  L 139.713895 28.925089  L 139.713895 28.887134  L 130.35107 28.887134  z \" style=\"fill:#fefebb;stroke:#444443;stroke-linejoin:miter;stroke-width:0.5;\" />\n",
       "   </g>\n",
       "   <g id=\"patch_15\">\n",
       "    <path clip-path=\"url(#pb702c49eec)\" d=\"M 139.713895 28.925089  L 149.076719 28.925089  L 149.076719 28.925089  L 139.713895 28.925089  z \" style=\"fill:#fefebb;stroke:#444443;stroke-linejoin:miter;stroke-width:0.5;\" />\n",
       "   </g>\n",
       "   <g id=\"patch_16\">\n",
       "    <path clip-path=\"url(#pb702c49eec)\" d=\"M 149.076719 28.925089  L 158.439544 28.925089  L 158.439544 28.912437  L 149.076719 28.912437  z \" style=\"fill:#fefebb;stroke:#444443;stroke-linejoin:miter;stroke-width:0.5;\" />\n",
       "   </g>\n",
       "   <g id=\"patch_17\">\n",
       "    <path clip-path=\"url(#pb702c49eec)\" d=\"M 158.439544 28.925089  L 167.802369 28.925089  L 167.802369 28.925089  L 158.439544 28.925089  z \" style=\"fill:#fefebb;stroke:#444443;stroke-linejoin:miter;stroke-width:0.5;\" />\n",
       "   </g>\n",
       "   <g id=\"patch_18\">\n",
       "    <path clip-path=\"url(#pb702c49eec)\" d=\"M 167.802369 28.925089  L 177.165193 28.925089  L 177.165193 28.912437  L 167.802369 28.912437  z \" style=\"fill:#fefebb;stroke:#444443;stroke-linejoin:miter;stroke-width:0.5;\" />\n",
       "   </g>\n",
       "   <g id=\"patch_19\">\n",
       "    <path clip-path=\"url(#pb702c49eec)\" d=\"M 177.165193 28.925089  L 186.528018 28.925089  L 186.528018 28.925089  L 177.165193 28.925089  z \" style=\"fill:#fefebb;stroke:#444443;stroke-linejoin:miter;stroke-width:0.5;\" />\n",
       "   </g>\n",
       "   <g id=\"patch_20\">\n",
       "    <path clip-path=\"url(#pb702c49eec)\" d=\"M 186.528018 28.925089  L 195.890842 28.925089  L 195.890842 28.925089  L 186.528018 28.925089  z \" style=\"fill:#fefebb;stroke:#444443;stroke-linejoin:miter;stroke-width:0.5;\" />\n",
       "   </g>\n",
       "   <g id=\"patch_21\">\n",
       "    <path clip-path=\"url(#pb702c49eec)\" d=\"M 195.890842 28.925089  L 205.253667 28.925089  L 205.253667 28.912437  L 195.890842 28.912437  z \" style=\"fill:#fefebb;stroke:#444443;stroke-linejoin:miter;stroke-width:0.5;\" />\n",
       "   </g>\n",
       "   <g id=\"patch_22\">\n",
       "    <path clip-path=\"url(#pb702c49eec)\" d=\"M 27.36 28.925089  L 36.722825 28.925089  L 36.722825 28.925089  L 27.36 28.925089  z \" style=\"fill:#a1dab4;stroke:#444443;stroke-linejoin:miter;stroke-width:0.5;\" />\n",
       "   </g>\n",
       "   <g id=\"patch_23\">\n",
       "    <path clip-path=\"url(#pb702c49eec)\" d=\"M 36.722825 28.925089  L 46.085649 28.925089  L 46.085649 28.925089  L 36.722825 28.925089  z \" style=\"fill:#a1dab4;stroke:#444443;stroke-linejoin:miter;stroke-width:0.5;\" />\n",
       "   </g>\n",
       "   <g id=\"patch_24\">\n",
       "    <path clip-path=\"url(#pb702c49eec)\" d=\"M 46.085649 28.925089  L 55.448474 28.925089  L 55.448474 28.925089  L 46.085649 28.925089  z \" style=\"fill:#a1dab4;stroke:#444443;stroke-linejoin:miter;stroke-width:0.5;\" />\n",
       "   </g>\n",
       "   <g id=\"patch_25\">\n",
       "    <path clip-path=\"url(#pb702c49eec)\" d=\"M 55.448474 28.925089  L 64.811298 28.925089  L 64.811298 28.925089  L 55.448474 28.925089  z \" style=\"fill:#a1dab4;stroke:#444443;stroke-linejoin:miter;stroke-width:0.5;\" />\n",
       "   </g>\n",
       "   <g id=\"patch_26\">\n",
       "    <path clip-path=\"url(#pb702c49eec)\" d=\"M 64.811298 28.925089  L 74.174123 28.925089  L 74.174123 28.925089  L 64.811298 28.925089  z \" style=\"fill:#a1dab4;stroke:#444443;stroke-linejoin:miter;stroke-width:0.5;\" />\n",
       "   </g>\n",
       "   <g id=\"patch_27\">\n",
       "    <path clip-path=\"url(#pb702c49eec)\" d=\"M 74.174123 28.925089  L 83.536947 28.925089  L 83.536947 28.925089  L 74.174123 28.925089  z \" style=\"fill:#a1dab4;stroke:#444443;stroke-linejoin:miter;stroke-width:0.5;\" />\n",
       "   </g>\n",
       "   <g id=\"patch_28\">\n",
       "    <path clip-path=\"url(#pb702c49eec)\" d=\"M 83.536947 9.276744  L 92.899772 9.276744  L 92.899772 3.039375  L 83.536947 3.039375  z \" style=\"fill:#a1dab4;stroke:#444443;stroke-linejoin:miter;stroke-width:0.5;\" />\n",
       "   </g>\n",
       "   <g id=\"patch_29\">\n",
       "    <path clip-path=\"url(#pb702c49eec)\" d=\"M 92.899772 25.838034  L 102.262597 25.838034  L 102.262597 25.698864  L 92.899772 25.698864  z \" style=\"fill:#a1dab4;stroke:#444443;stroke-linejoin:miter;stroke-width:0.5;\" />\n",
       "   </g>\n",
       "   <g id=\"patch_30\">\n",
       "    <path clip-path=\"url(#pb702c49eec)\" d=\"M 102.262597 28.406363  L 111.625421 28.406363  L 111.625421 28.381059  L 102.262597 28.381059  z \" style=\"fill:#a1dab4;stroke:#444443;stroke-linejoin:miter;stroke-width:0.5;\" />\n",
       "   </g>\n",
       "   <g id=\"patch_31\">\n",
       "    <path clip-path=\"url(#pb702c49eec)\" d=\"M 111.625421 28.836526  L 120.988246 28.836526  L 120.988246 28.823874  L 111.625421 28.823874  z \" style=\"fill:#a1dab4;stroke:#444443;stroke-linejoin:miter;stroke-width:0.5;\" />\n",
       "   </g>\n",
       "   <g id=\"patch_32\">\n",
       "    <path clip-path=\"url(#pb702c49eec)\" d=\"M 120.988246 28.823874  L 130.35107 28.823874  L 130.35107 28.823874  L 120.988246 28.823874  z \" style=\"fill:#a1dab4;stroke:#444443;stroke-linejoin:miter;stroke-width:0.5;\" />\n",
       "   </g>\n",
       "   <g id=\"patch_33\">\n",
       "    <path clip-path=\"url(#pb702c49eec)\" d=\"M 130.35107 28.887134  L 139.713895 28.887134  L 139.713895 28.887134  L 130.35107 28.887134  z \" style=\"fill:#a1dab4;stroke:#444443;stroke-linejoin:miter;stroke-width:0.5;\" />\n",
       "   </g>\n",
       "   <g id=\"patch_34\">\n",
       "    <path clip-path=\"url(#pb702c49eec)\" d=\"M 139.713895 28.925089  L 149.076719 28.925089  L 149.076719 28.925089  L 139.713895 28.925089  z \" style=\"fill:#a1dab4;stroke:#444443;stroke-linejoin:miter;stroke-width:0.5;\" />\n",
       "   </g>\n",
       "   <g id=\"patch_35\">\n",
       "    <path clip-path=\"url(#pb702c49eec)\" d=\"M 149.076719 28.912437  L 158.439544 28.912437  L 158.439544 28.912437  L 149.076719 28.912437  z \" style=\"fill:#a1dab4;stroke:#444443;stroke-linejoin:miter;stroke-width:0.5;\" />\n",
       "   </g>\n",
       "   <g id=\"patch_36\">\n",
       "    <path clip-path=\"url(#pb702c49eec)\" d=\"M 158.439544 28.925089  L 167.802369 28.925089  L 167.802369 28.925089  L 158.439544 28.925089  z \" style=\"fill:#a1dab4;stroke:#444443;stroke-linejoin:miter;stroke-width:0.5;\" />\n",
       "   </g>\n",
       "   <g id=\"patch_37\">\n",
       "    <path clip-path=\"url(#pb702c49eec)\" d=\"M 167.802369 28.912437  L 177.165193 28.912437  L 177.165193 28.912437  L 167.802369 28.912437  z \" style=\"fill:#a1dab4;stroke:#444443;stroke-linejoin:miter;stroke-width:0.5;\" />\n",
       "   </g>\n",
       "   <g id=\"patch_38\">\n",
       "    <path clip-path=\"url(#pb702c49eec)\" d=\"M 177.165193 28.925089  L 186.528018 28.925089  L 186.528018 28.925089  L 177.165193 28.925089  z \" style=\"fill:#a1dab4;stroke:#444443;stroke-linejoin:miter;stroke-width:0.5;\" />\n",
       "   </g>\n",
       "   <g id=\"patch_39\">\n",
       "    <path clip-path=\"url(#pb702c49eec)\" d=\"M 186.528018 28.925089  L 195.890842 28.925089  L 195.890842 28.925089  L 186.528018 28.925089  z \" style=\"fill:#a1dab4;stroke:#444443;stroke-linejoin:miter;stroke-width:0.5;\" />\n",
       "   </g>\n",
       "   <g id=\"patch_40\">\n",
       "    <path clip-path=\"url(#pb702c49eec)\" d=\"M 195.890842 28.912437  L 205.253667 28.912437  L 205.253667 28.912437  L 195.890842 28.912437  z \" style=\"fill:#a1dab4;stroke:#444443;stroke-linejoin:miter;stroke-width:0.5;\" />\n",
       "   </g>\n",
       "   <g id=\"patch_41\">\n",
       "    <path d=\"M 86.892288 29.740489  L 83.577768 37.079089  L 90.206808 37.079089  z \" style=\"fill:#444443;\" />\n",
       "   </g>\n",
       "   <g id=\"matplotlib.axis_1\">\n",
       "    <g id=\"xtick_1\">\n",
       "     <g id=\"line2d_1\">\n",
       "      <defs>\n",
       "       <path d=\"M 0 0  L 0 3.5  \" id=\"ma48d2d2fa3\" style=\"stroke:#000000;stroke-width:0.3;\" />\n",
       "      </defs>\n",
       "      <g>\n",
       "       <use style=\"stroke:#000000;stroke-width:0.3;\" x=\"27.36\" y=\"28.925089\" xlink:href=\"#ma48d2d2fa3\" />\n",
       "      </g>\n",
       "     </g>\n",
       "     <g id=\"text_1\">\n",
       "      \n",
       "      <defs>\n",
       "       <path d=\"M 10.59375 35.5  L 73.1875 35.5  L 73.1875 27.203125  L 10.59375 27.203125  z \" id=\"DejaVuSans-8722\" />\n",
       "       <path d=\"M 19.1875 8.296875  L 53.609375 8.296875  L 53.609375 0  L 7.328125 0  L 7.328125 8.296875  Q 12.9375 14.109375 22.625 23.890625  Q 32.328125 33.6875 34.8125 36.53125  Q 39.546875 41.84375 41.421875 45.53125  Q 43.3125 49.21875 43.3125 52.78125  Q 43.3125 58.59375 39.234375 62.25  Q 35.15625 65.921875 28.609375 65.921875  Q 23.96875 65.921875 18.8125 64.3125  Q 13.671875 62.703125 7.8125 59.421875  L 7.8125 69.390625  Q 13.765625 71.78125 18.9375 73  Q 24.125 74.21875 28.421875 74.21875  Q 39.75 74.21875 46.484375 68.546875  Q 53.21875 62.890625 53.21875 53.421875  Q 53.21875 48.921875 51.53125 44.890625  Q 49.859375 40.875 45.40625 35.40625  Q 44.1875 33.984375 37.640625 27.21875  Q 31.109375 20.453125 19.1875 8.296875  z \" id=\"DejaVuSans-50\" />\n",
       "       <path d=\"M 10.984375 1.515625  L 10.984375 10.5  Q 14.703125 8.734375 18.5 7.8125  Q 22.3125 6.890625 25.984375 6.890625  Q 35.75 6.890625 40.890625 13.453125  Q 46.046875 20.015625 46.78125 33.40625  Q 43.953125 29.203125 39.59375 26.953125  Q 35.25 24.703125 29.984375 24.703125  Q 19.046875 24.703125 12.671875 31.3125  Q 6.296875 37.9375 6.296875 49.421875  Q 6.296875 60.640625 12.9375 67.421875  Q 19.578125 74.21875 30.609375 74.21875  Q 43.265625 74.21875 49.921875 64.515625  Q 56.59375 54.828125 56.59375 36.375  Q 56.59375 19.140625 48.40625 8.859375  Q 40.234375 -1.421875 26.421875 -1.421875  Q 22.703125 -1.421875 18.890625 -0.6875  Q 15.09375 0.046875 10.984375 1.515625  z M 30.609375 32.421875  Q 37.25 32.421875 41.125 36.953125  Q 45.015625 41.5 45.015625 49.421875  Q 45.015625 57.28125 41.125 61.84375  Q 37.25 66.40625 30.609375 66.40625  Q 23.96875 66.40625 20.09375 61.84375  Q 16.21875 57.28125 16.21875 49.421875  Q 16.21875 41.5 20.09375 36.953125  Q 23.96875 32.421875 30.609375 32.421875  z \" id=\"DejaVuSans-57\" />\n",
       "       <path d=\"M 10.6875 12.40625  L 21 12.40625  L 21 0  L 10.6875 0  z \" id=\"DejaVuSans-46\" />\n",
       "       <path d=\"M 31.78125 66.40625  Q 24.171875 66.40625 20.328125 58.90625  Q 16.5 51.421875 16.5 36.375  Q 16.5 21.390625 20.328125 13.890625  Q 24.171875 6.390625 31.78125 6.390625  Q 39.453125 6.390625 43.28125 13.890625  Q 47.125 21.390625 47.125 36.375  Q 47.125 51.421875 43.28125 58.90625  Q 39.453125 66.40625 31.78125 66.40625  z M 31.78125 74.21875  Q 44.046875 74.21875 50.515625 64.515625  Q 56.984375 54.828125 56.984375 36.375  Q 56.984375 17.96875 50.515625 8.265625  Q 44.046875 -1.421875 31.78125 -1.421875  Q 19.53125 -1.421875 13.0625 8.265625  Q 6.59375 17.96875 6.59375 36.375  Q 6.59375 54.828125 13.0625 64.515625  Q 19.53125 74.21875 31.78125 74.21875  z \" id=\"DejaVuSans-48\" />\n",
       "       <path d=\"M 33.015625 40.375  Q 26.375 40.375 22.484375 35.828125  Q 18.609375 31.296875 18.609375 23.390625  Q 18.609375 15.53125 22.484375 10.953125  Q 26.375 6.390625 33.015625 6.390625  Q 39.65625 6.390625 43.53125 10.953125  Q 47.40625 15.53125 47.40625 23.390625  Q 47.40625 31.296875 43.53125 35.828125  Q 39.65625 40.375 33.015625 40.375  z M 52.59375 71.296875  L 52.59375 62.3125  Q 48.875 64.0625 45.09375 64.984375  Q 41.3125 65.921875 37.59375 65.921875  Q 27.828125 65.921875 22.671875 59.328125  Q 17.53125 52.734375 16.796875 39.40625  Q 19.671875 43.65625 24.015625 45.921875  Q 28.375 48.1875 33.59375 48.1875  Q 44.578125 48.1875 50.953125 41.515625  Q 57.328125 34.859375 57.328125 23.390625  Q 57.328125 12.15625 50.6875 5.359375  Q 44.046875 -1.421875 33.015625 -1.421875  Q 20.359375 -1.421875 13.671875 8.265625  Q 6.984375 17.96875 6.984375 36.375  Q 6.984375 53.65625 15.1875 63.9375  Q 23.390625 74.21875 37.203125 74.21875  Q 40.921875 74.21875 44.703125 73.484375  Q 48.484375 72.75 52.59375 71.296875  z \" id=\"DejaVuSans-54\" />\n",
       "      </defs>\n",
       "      <g style=\"fill:#444443;\" transform=\"translate(12.556875 42.003839)scale(0.08 -0.08)\">\n",
       "       <use xlink:href=\"#DejaVuSans-8722\" />\n",
       "       <use x=\"83.789062\" xlink:href=\"#DejaVuSans-50\" />\n",
       "       <use x=\"147.412109\" xlink:href=\"#DejaVuSans-57\" />\n",
       "       <use x=\"211.035156\" xlink:href=\"#DejaVuSans-46\" />\n",
       "       <use x=\"242.822266\" xlink:href=\"#DejaVuSans-48\" />\n",
       "       <use x=\"306.445312\" xlink:href=\"#DejaVuSans-54\" />\n",
       "      </g>\n",
       "     </g>\n",
       "    </g>\n",
       "    <g id=\"xtick_2\">\n",
       "     <g id=\"line2d_2\">\n",
       "      <g>\n",
       "       <use style=\"stroke:#000000;stroke-width:0.3;\" x=\"205.253667\" y=\"28.925089\" xlink:href=\"#ma48d2d2fa3\" />\n",
       "      </g>\n",
       "     </g>\n",
       "     <g id=\"text_2\">\n",
       "      \n",
       "      <defs>\n",
       "       <path d=\"M 31.78125 34.625  Q 24.75 34.625 20.71875 30.859375  Q 16.703125 27.09375 16.703125 20.515625  Q 16.703125 13.921875 20.71875 10.15625  Q 24.75 6.390625 31.78125 6.390625  Q 38.8125 6.390625 42.859375 10.171875  Q 46.921875 13.96875 46.921875 20.515625  Q 46.921875 27.09375 42.890625 30.859375  Q 38.875 34.625 31.78125 34.625  z M 21.921875 38.8125  Q 15.578125 40.375 12.03125 44.71875  Q 8.5 49.078125 8.5 55.328125  Q 8.5 64.0625 14.71875 69.140625  Q 20.953125 74.21875 31.78125 74.21875  Q 42.671875 74.21875 48.875 69.140625  Q 55.078125 64.0625 55.078125 55.328125  Q 55.078125 49.078125 51.53125 44.71875  Q 48 40.375 41.703125 38.8125  Q 48.828125 37.15625 52.796875 32.3125  Q 56.78125 27.484375 56.78125 20.515625  Q 56.78125 9.90625 50.3125 4.234375  Q 43.84375 -1.421875 31.78125 -1.421875  Q 19.734375 -1.421875 13.25 4.234375  Q 6.78125 9.90625 6.78125 20.515625  Q 6.78125 27.484375 10.78125 32.3125  Q 14.796875 37.15625 21.921875 38.8125  z M 18.3125 54.390625  Q 18.3125 48.734375 21.84375 45.5625  Q 25.390625 42.390625 31.78125 42.390625  Q 38.140625 42.390625 41.71875 45.5625  Q 45.3125 48.734375 45.3125 54.390625  Q 45.3125 60.0625 41.71875 63.234375  Q 38.140625 66.40625 31.78125 66.40625  Q 25.390625 66.40625 21.84375 63.234375  Q 18.3125 60.0625 18.3125 54.390625  z \" id=\"DejaVuSans-56\" />\n",
       "       <path d=\"M 10.796875 72.90625  L 49.515625 72.90625  L 49.515625 64.59375  L 19.828125 64.59375  L 19.828125 46.734375  Q 21.96875 47.46875 24.109375 47.828125  Q 26.265625 48.1875 28.421875 48.1875  Q 40.625 48.1875 47.75 41.5  Q 54.890625 34.8125 54.890625 23.390625  Q 54.890625 11.625 47.5625 5.09375  Q 40.234375 -1.421875 26.90625 -1.421875  Q 22.3125 -1.421875 17.546875 -0.640625  Q 12.796875 0.140625 7.71875 1.703125  L 7.71875 11.625  Q 12.109375 9.234375 16.796875 8.0625  Q 21.484375 6.890625 26.703125 6.890625  Q 35.15625 6.890625 40.078125 11.328125  Q 45.015625 15.765625 45.015625 23.390625  Q 45.015625 31 40.078125 35.4375  Q 35.15625 39.890625 26.703125 39.890625  Q 22.75 39.890625 18.8125 39.015625  Q 14.890625 38.140625 10.796875 36.28125  z \" id=\"DejaVuSans-53\" />\n",
       "       <path d=\"M 37.796875 64.3125  L 12.890625 25.390625  L 37.796875 25.390625  z M 35.203125 72.90625  L 47.609375 72.90625  L 47.609375 25.390625  L 58.015625 25.390625  L 58.015625 17.1875  L 47.609375 17.1875  L 47.609375 0  L 37.796875 0  L 37.796875 17.1875  L 4.890625 17.1875  L 4.890625 26.703125  z \" id=\"DejaVuSans-52\" />\n",
       "      </defs>\n",
       "      <g style=\"fill:#444443;\" transform=\"translate(193.802417 42.003839)scale(0.08 -0.08)\">\n",
       "       <use xlink:href=\"#DejaVuSans-54\" />\n",
       "       <use x=\"63.623047\" xlink:href=\"#DejaVuSans-56\" />\n",
       "       <use x=\"127.246094\" xlink:href=\"#DejaVuSans-46\" />\n",
       "       <use x=\"159.033203\" xlink:href=\"#DejaVuSans-53\" />\n",
       "       <use x=\"222.65625\" xlink:href=\"#DejaVuSans-52\" />\n",
       "      </g>\n",
       "     </g>\n",
       "    </g>\n",
       "    <g id=\"text_3\">\n",
       "     \n",
       "     <defs>\n",
       "      <path d=\"M 9.8125 72.90625  L 19.671875 72.90625  L 19.671875 8.296875  L 55.171875 8.296875  L 55.171875 0  L 9.8125 0  z \" id=\"DejaVuSans-76\" />\n",
       "      <path d=\"M 30.609375 48.390625  Q 23.390625 48.390625 19.1875 42.75  Q 14.984375 37.109375 14.984375 27.296875  Q 14.984375 17.484375 19.15625 11.84375  Q 23.34375 6.203125 30.609375 6.203125  Q 37.796875 6.203125 41.984375 11.859375  Q 46.1875 17.53125 46.1875 27.296875  Q 46.1875 37.015625 41.984375 42.703125  Q 37.796875 48.390625 30.609375 48.390625  z M 30.609375 56  Q 42.328125 56 49.015625 48.375  Q 55.71875 40.765625 55.71875 27.296875  Q 55.71875 13.875 49.015625 6.21875  Q 42.328125 -1.421875 30.609375 -1.421875  Q 18.84375 -1.421875 12.171875 6.21875  Q 5.515625 13.875 5.515625 27.296875  Q 5.515625 40.765625 12.171875 48.375  Q 18.84375 56 30.609375 56  z \" id=\"DejaVuSans-111\" />\n",
       "      <path d=\"M 45.40625 27.984375  Q 45.40625 37.75 41.375 43.109375  Q 37.359375 48.484375 30.078125 48.484375  Q 22.859375 48.484375 18.828125 43.109375  Q 14.796875 37.75 14.796875 27.984375  Q 14.796875 18.265625 18.828125 12.890625  Q 22.859375 7.515625 30.078125 7.515625  Q 37.359375 7.515625 41.375 12.890625  Q 45.40625 18.265625 45.40625 27.984375  z M 54.390625 6.78125  Q 54.390625 -7.171875 48.1875 -13.984375  Q 42 -20.796875 29.203125 -20.796875  Q 24.46875 -20.796875 20.265625 -20.09375  Q 16.0625 -19.390625 12.109375 -17.921875  L 12.109375 -9.1875  Q 16.0625 -11.328125 19.921875 -12.34375  Q 23.78125 -13.375 27.78125 -13.375  Q 36.625 -13.375 41.015625 -8.765625  Q 45.40625 -4.15625 45.40625 5.171875  L 45.40625 9.625  Q 42.625 4.78125 38.28125 2.390625  Q 33.9375 0 27.875 0  Q 17.828125 0 11.671875 7.65625  Q 5.515625 15.328125 5.515625 27.984375  Q 5.515625 40.671875 11.671875 48.328125  Q 17.828125 56 27.875 56  Q 33.9375 56 38.28125 53.609375  Q 42.625 51.21875 45.40625 46.390625  L 45.40625 54.6875  L 54.390625 54.6875  z \" id=\"DejaVuSans-103\" />\n",
       "      <path d=\"M 19.671875 64.796875  L 19.671875 37.40625  L 32.078125 37.40625  Q 38.96875 37.40625 42.71875 40.96875  Q 46.484375 44.53125 46.484375 51.125  Q 46.484375 57.671875 42.71875 61.234375  Q 38.96875 64.796875 32.078125 64.796875  z M 9.8125 72.90625  L 32.078125 72.90625  Q 44.34375 72.90625 50.609375 67.359375  Q 56.890625 61.8125 56.890625 51.125  Q 56.890625 40.328125 50.609375 34.8125  Q 44.34375 29.296875 32.078125 29.296875  L 19.671875 29.296875  L 19.671875 0  L 9.8125 0  z \" id=\"DejaVuSans-80\" />\n",
       "     </defs>\n",
       "     <g style=\"fill:#444443;\" transform=\"translate(105.09375 56.785714)scale(0.12 -0.12)\">\n",
       "      <use xlink:href=\"#DejaVuSans-76\" />\n",
       "      <use x=\"53.962891\" xlink:href=\"#DejaVuSans-111\" />\n",
       "      <use x=\"115.144531\" xlink:href=\"#DejaVuSans-103\" />\n",
       "      <use x=\"178.621094\" xlink:href=\"#DejaVuSans-80\" />\n",
       "     </g>\n",
       "    </g>\n",
       "   </g>\n",
       "   <g id=\"matplotlib.axis_2\">\n",
       "    <g id=\"ytick_1\">\n",
       "     <g id=\"line2d_3\">\n",
       "      <defs>\n",
       "       <path d=\"M 0 0  L -3.5 0  \" id=\"mc47bdf0467\" style=\"stroke:#000000;stroke-width:0.3;\" />\n",
       "      </defs>\n",
       "      <g>\n",
       "       <use style=\"stroke:#000000;stroke-width:0.3;\" x=\"27.36\" y=\"28.925089\" xlink:href=\"#mc47bdf0467\" />\n",
       "      </g>\n",
       "     </g>\n",
       "     <g id=\"text_4\">\n",
       "      \n",
       "      <g style=\"fill:#444443;\" transform=\"translate(15.27 31.964464)scale(0.08 -0.08)\">\n",
       "       <use xlink:href=\"#DejaVuSans-48\" />\n",
       "      </g>\n",
       "     </g>\n",
       "    </g>\n",
       "    <g id=\"ytick_2\">\n",
       "     <g id=\"line2d_4\">\n",
       "      <g>\n",
       "       <use style=\"stroke:#000000;stroke-width:0.3;\" x=\"27.36\" y=\"3.039375\" xlink:href=\"#mc47bdf0467\" />\n",
       "      </g>\n",
       "     </g>\n",
       "     <g id=\"text_5\">\n",
       "      \n",
       "      <g style=\"fill:#444443;\" transform=\"translate(0 6.07875)scale(0.08 -0.08)\">\n",
       "       <use xlink:href=\"#DejaVuSans-50\" />\n",
       "       <use x=\"63.623047\" xlink:href=\"#DejaVuSans-48\" />\n",
       "       <use x=\"127.246094\" xlink:href=\"#DejaVuSans-52\" />\n",
       "       <use x=\"190.869141\" xlink:href=\"#DejaVuSans-54\" />\n",
       "      </g>\n",
       "     </g>\n",
       "    </g>\n",
       "   </g>\n",
       "   <g id=\"patch_42\">\n",
       "    <path d=\"M 27.36 28.925089  L 27.36 1.745089  \" style=\"fill:none;stroke:#000000;stroke-linecap:square;stroke-linejoin:miter;stroke-width:0.3;\" />\n",
       "   </g>\n",
       "   <g id=\"patch_43\">\n",
       "    <path d=\"M 27.36 28.925089  L 211.5 28.925089  \" style=\"fill:none;stroke:#000000;stroke-linecap:square;stroke-linejoin:miter;stroke-width:0.3;\" />\n",
       "   </g>\n",
       "   <g id=\"text_6\">\n",
       "    \n",
       "    <defs>\n",
       "     <path d=\"M 40.578125 39.3125  Q 47.65625 37.796875 51.625 33  Q 55.609375 28.21875 55.609375 21.1875  Q 55.609375 10.40625 48.1875 4.484375  Q 40.765625 -1.421875 27.09375 -1.421875  Q 22.515625 -1.421875 17.65625 -0.515625  Q 12.796875 0.390625 7.625 2.203125  L 7.625 11.71875  Q 11.71875 9.328125 16.59375 8.109375  Q 21.484375 6.890625 26.8125 6.890625  Q 36.078125 6.890625 40.9375 10.546875  Q 45.796875 14.203125 45.796875 21.1875  Q 45.796875 27.640625 41.28125 31.265625  Q 36.765625 34.90625 28.71875 34.90625  L 20.21875 34.90625  L 20.21875 43.015625  L 29.109375 43.015625  Q 36.375 43.015625 40.234375 45.921875  Q 44.09375 48.828125 44.09375 54.296875  Q 44.09375 59.90625 40.109375 62.90625  Q 36.140625 65.921875 28.71875 65.921875  Q 24.65625 65.921875 20.015625 65.03125  Q 15.375 64.15625 9.8125 62.3125  L 9.8125 71.09375  Q 15.4375 72.65625 20.34375 73.4375  Q 25.25 74.21875 29.59375 74.21875  Q 40.828125 74.21875 47.359375 69.109375  Q 53.90625 64.015625 53.90625 55.328125  Q 53.90625 49.265625 50.4375 45.09375  Q 46.96875 40.921875 40.578125 39.3125  z \" id=\"DejaVuSans-51\" />\n",
       "    </defs>\n",
       "    <g style=\"fill:#444443;\" transform=\"translate(77.986038 45.233089)scale(0.08 -0.08)\">\n",
       "     <use xlink:href=\"#DejaVuSans-51\" />\n",
       "     <use x=\"63.623047\" xlink:href=\"#DejaVuSans-46\" />\n",
       "     <use x=\"95.410156\" xlink:href=\"#DejaVuSans-54\" />\n",
       "     <use x=\"159.033203\" xlink:href=\"#DejaVuSans-48\" />\n",
       "    </g>\n",
       "   </g>\n",
       "  </g>\n",
       " </g>\n",
       " <defs>\n",
       "  <clipPath id=\"pb702c49eec\">\n",
       "   <rect height=\"27.18\" width=\"184.14\" x=\"27.36\" y=\"1.745089\" />\n",
       "  </clipPath>\n",
       " </defs>\n",
       "</svg></g>\n",
       "\n",
       "\n",
       "<g class=\"node\" id=\"node4\">\n",
       "<title>leaf2</title>\n",
       "<polygon fill=\"none\" points=\"67,-83 0,-83 0,0 67,0 67,-83\" stroke=\"#444443\" stroke-width=\"0\" />\n",
       "<svg height=\"75px\" preserveAspectRatio=\"xMinYMin meet\" version=\"1.1\" viewBox=\"0 0 78.807073 100.509876\" width=\"59px\" x=\"4.5\" y=\"-78.5\">\n",
       " <defs>\n",
       "  <style type=\"text/css\">\n",
       "*{stroke-linecap:butt;stroke-linejoin:round;}\n",
       "  </style>\n",
       " </defs>\n",
       " <g id=\"figure_1\">\n",
       "  <g id=\"patch_1\">\n",
       "   <path d=\"M -0 100.509876  L 78.807073 100.509876  L 78.807073 0  L -0 0  z \" style=\"fill:#ffffff;\" />\n",
       "  </g>\n",
       "  <g id=\"axes_1\">\n",
       "   <g id=\"patch_2\">\n",
       "    <path d=\"M 78.807072 39.320732  C 78.807072 36.263285 78.449915 33.216277 77.742869 30.241706  C 77.035823 27.267136 75.983715 24.385315 74.607953 21.654882  L 39.547072 39.320732  L 78.807072 39.320732  z \" style=\"fill:#fefebb;stroke:#444443;stroke-linejoin:miter;stroke-width:0.5;\" />\n",
       "   </g>\n",
       "   <g id=\"patch_3\">\n",
       "    <path d=\"M 74.607953 21.654882  C 72.461398 17.394679 69.556229 13.561168 66.035137 10.342636  C 62.514045 7.124105 58.435637 4.574124 54.000229 2.817939  C 49.56482 1.061754 44.846237 0.128596 40.076237 0.064298  C 35.306237 0 30.564215 0.805632 26.083082 2.441625  C 21.601948 4.077617 17.456288 6.51674 13.849722 9.639193  C 10.243155 12.761645 7.235711 16.515456 4.975105 20.716253  C 2.714498 24.917049 1.238354 29.49491 0.619177 34.22499  C 0 38.955069 0.248095 43.758637 1.351276 48.39976  C 2.454457 53.040883 4.394363 57.442313 7.075713 61.387867  C 9.757063 65.333421 13.135227 68.757427 17.044282 71.491713  C 20.953338 74.225999 25.32822 76.225052 29.954053 77.390688  C 34.579885 78.556324 39.379673 78.86914 44.117668 78.313773  C 48.855664 77.758406 53.453005 76.344098 57.683889 74.140317  C 61.914773 71.936535 65.708778 68.979959 68.879558 65.415806  C 72.050337 61.851653 74.545115 57.739245 76.241357 53.280568  C 77.9376 48.821892 78.807073 44.09116 78.807072 39.320726  L 39.547072 39.320732  L 74.607953 21.654882  z \" style=\"fill:#a1dab4;stroke:#444443;stroke-linejoin:miter;stroke-width:0.5;\" />\n",
       "   </g>\n",
       "   <g id=\"text_1\">\n",
       "    \n",
       "    <defs>\n",
       "     <path d=\"M 54.890625 33.015625  L 54.890625 0  L 45.90625 0  L 45.90625 32.71875  Q 45.90625 40.484375 42.875 44.328125  Q 39.84375 48.1875 33.796875 48.1875  Q 26.515625 48.1875 22.3125 43.546875  Q 18.109375 38.921875 18.109375 30.90625  L 18.109375 0  L 9.078125 0  L 9.078125 54.6875  L 18.109375 54.6875  L 18.109375 46.1875  Q 21.34375 51.125 25.703125 53.5625  Q 30.078125 56 35.796875 56  Q 45.21875 56 50.046875 50.171875  Q 54.890625 44.34375 54.890625 33.015625  z \" id=\"DejaVuSans-110\" />\n",
       "     <path d=\"M 10.59375 45.40625  L 73.1875 45.40625  L 73.1875 37.203125  L 10.59375 37.203125  z M 10.59375 25.484375  L 73.1875 25.484375  L 73.1875 17.1875  L 10.59375 17.1875  z \" id=\"DejaVuSans-61\" />\n",
       "     <path d=\"M 40.578125 39.3125  Q 47.65625 37.796875 51.625 33  Q 55.609375 28.21875 55.609375 21.1875  Q 55.609375 10.40625 48.1875 4.484375  Q 40.765625 -1.421875 27.09375 -1.421875  Q 22.515625 -1.421875 17.65625 -0.515625  Q 12.796875 0.390625 7.625 2.203125  L 7.625 11.71875  Q 11.71875 9.328125 16.59375 8.109375  Q 21.484375 6.890625 26.8125 6.890625  Q 36.078125 6.890625 40.9375 10.546875  Q 45.796875 14.203125 45.796875 21.1875  Q 45.796875 27.640625 41.28125 31.265625  Q 36.765625 34.90625 28.71875 34.90625  L 20.21875 34.90625  L 20.21875 43.015625  L 29.109375 43.015625  Q 36.375 43.015625 40.234375 45.921875  Q 44.09375 48.828125 44.09375 54.296875  Q 44.09375 59.90625 40.109375 62.90625  Q 36.140625 65.921875 28.71875 65.921875  Q 24.65625 65.921875 20.015625 65.03125  Q 15.375 64.15625 9.8125 62.3125  L 9.8125 71.09375  Q 15.4375 72.65625 20.34375 73.4375  Q 25.25 74.21875 29.59375 74.21875  Q 40.828125 74.21875 47.359375 69.109375  Q 53.90625 64.015625 53.90625 55.328125  Q 53.90625 49.265625 50.4375 45.09375  Q 46.96875 40.921875 40.578125 39.3125  z \" id=\"DejaVuSans-51\" />\n",
       "     <path d=\"M 10.984375 1.515625  L 10.984375 10.5  Q 14.703125 8.734375 18.5 7.8125  Q 22.3125 6.890625 25.984375 6.890625  Q 35.75 6.890625 40.890625 13.453125  Q 46.046875 20.015625 46.78125 33.40625  Q 43.953125 29.203125 39.59375 26.953125  Q 35.25 24.703125 29.984375 24.703125  Q 19.046875 24.703125 12.671875 31.3125  Q 6.296875 37.9375 6.296875 49.421875  Q 6.296875 60.640625 12.9375 67.421875  Q 19.578125 74.21875 30.609375 74.21875  Q 43.265625 74.21875 49.921875 64.515625  Q 56.59375 54.828125 56.59375 36.375  Q 56.59375 19.140625 48.40625 8.859375  Q 40.234375 -1.421875 26.421875 -1.421875  Q 22.703125 -1.421875 18.890625 -0.6875  Q 15.09375 0.046875 10.984375 1.515625  z M 30.609375 32.421875  Q 37.25 32.421875 41.125 36.953125  Q 45.015625 41.5 45.015625 49.421875  Q 45.015625 57.28125 41.125 61.84375  Q 37.25 66.40625 30.609375 66.40625  Q 23.96875 66.40625 20.09375 61.84375  Q 16.21875 57.28125 16.21875 49.421875  Q 16.21875 41.5 20.09375 36.953125  Q 23.96875 32.421875 30.609375 32.421875  z \" id=\"DejaVuSans-57\" />\n",
       "     <path d=\"M 31.78125 66.40625  Q 24.171875 66.40625 20.328125 58.90625  Q 16.5 51.421875 16.5 36.375  Q 16.5 21.390625 20.328125 13.890625  Q 24.171875 6.390625 31.78125 6.390625  Q 39.453125 6.390625 43.28125 13.890625  Q 47.125 21.390625 47.125 36.375  Q 47.125 51.421875 43.28125 58.90625  Q 39.453125 66.40625 31.78125 66.40625  z M 31.78125 74.21875  Q 44.046875 74.21875 50.515625 64.515625  Q 56.984375 54.828125 56.984375 36.375  Q 56.984375 17.96875 50.515625 8.265625  Q 44.046875 -1.421875 31.78125 -1.421875  Q 19.53125 -1.421875 13.0625 8.265625  Q 6.59375 17.96875 6.59375 36.375  Q 6.59375 54.828125 13.0625 64.515625  Q 19.53125 74.21875 31.78125 74.21875  z \" id=\"DejaVuSans-48\" />\n",
       "     <path d=\"M 37.796875 64.3125  L 12.890625 25.390625  L 37.796875 25.390625  z M 35.203125 72.90625  L 47.609375 72.90625  L 47.609375 25.390625  L 58.015625 25.390625  L 58.015625 17.1875  L 47.609375 17.1875  L 47.609375 0  L 37.796875 0  L 37.796875 17.1875  L 4.890625 17.1875  L 4.890625 26.703125  z \" id=\"DejaVuSans-52\" />\n",
       "    </defs>\n",
       "    <g style=\"fill:#444443;\" transform=\"translate(21.471838 88.560126)scale(0.09 -0.09)\">\n",
       "     <use xlink:href=\"#DejaVuSans-110\" />\n",
       "     <use x=\"63.378906\" xlink:href=\"#DejaVuSans-61\" />\n",
       "     <use x=\"147.167969\" xlink:href=\"#DejaVuSans-51\" />\n",
       "     <use x=\"210.791016\" xlink:href=\"#DejaVuSans-57\" />\n",
       "     <use x=\"274.414062\" xlink:href=\"#DejaVuSans-48\" />\n",
       "     <use x=\"338.037109\" xlink:href=\"#DejaVuSans-52\" />\n",
       "    </g>\n",
       "    \n",
       "    <defs>\n",
       "     <path d=\"M -0.296875 72.90625  L 61.375 72.90625  L 61.375 64.59375  L 35.5 64.59375  L 35.5 0  L 25.59375 0  L 25.59375 64.59375  L -0.296875 64.59375  z \" id=\"DejaVuSans-84\" />\n",
       "     <path d=\"M 41.109375 46.296875  Q 39.59375 47.171875 37.8125 47.578125  Q 36.03125 48 33.890625 48  Q 26.265625 48 22.1875 43.046875  Q 18.109375 38.09375 18.109375 28.8125  L 18.109375 0  L 9.078125 0  L 9.078125 54.6875  L 18.109375 54.6875  L 18.109375 46.1875  Q 20.953125 51.171875 25.484375 53.578125  Q 30.03125 56 36.53125 56  Q 37.453125 56 38.578125 55.875  Q 39.703125 55.765625 41.0625 55.515625  z \" id=\"DejaVuSans-114\" />\n",
       "     <path d=\"M 8.5 21.578125  L 8.5 54.6875  L 17.484375 54.6875  L 17.484375 21.921875  Q 17.484375 14.15625 20.5 10.265625  Q 23.53125 6.390625 29.59375 6.390625  Q 36.859375 6.390625 41.078125 11.03125  Q 45.3125 15.671875 45.3125 23.6875  L 45.3125 54.6875  L 54.296875 54.6875  L 54.296875 0  L 45.3125 0  L 45.3125 8.40625  Q 42.046875 3.421875 37.71875 1  Q 33.40625 -1.421875 27.6875 -1.421875  Q 18.265625 -1.421875 13.375 4.4375  Q 8.5 10.296875 8.5 21.578125  z M 31.109375 56  z \" id=\"DejaVuSans-117\" />\n",
       "     <path d=\"M 56.203125 29.59375  L 56.203125 25.203125  L 14.890625 25.203125  Q 15.484375 15.921875 20.484375 11.0625  Q 25.484375 6.203125 34.421875 6.203125  Q 39.59375 6.203125 44.453125 7.46875  Q 49.3125 8.734375 54.109375 11.28125  L 54.109375 2.78125  Q 49.265625 0.734375 44.1875 -0.34375  Q 39.109375 -1.421875 33.890625 -1.421875  Q 20.796875 -1.421875 13.15625 6.1875  Q 5.515625 13.8125 5.515625 26.8125  Q 5.515625 40.234375 12.765625 48.109375  Q 20.015625 56 32.328125 56  Q 43.359375 56 49.78125 48.890625  Q 56.203125 41.796875 56.203125 29.59375  z M 47.21875 32.234375  Q 47.125 39.59375 43.09375 43.984375  Q 39.0625 48.390625 32.421875 48.390625  Q 24.90625 48.390625 20.390625 44.140625  Q 15.875 39.890625 15.1875 32.171875  z \" id=\"DejaVuSans-101\" />\n",
       "    </defs>\n",
       "    <g style=\"fill:#444443;\" transform=\"translate(29.991604 98.638157)scale(0.09 -0.09)\">\n",
       "     <use xlink:href=\"#DejaVuSans-84\" />\n",
       "     <use x=\"46.333984\" xlink:href=\"#DejaVuSans-114\" />\n",
       "     <use x=\"87.447266\" xlink:href=\"#DejaVuSans-117\" />\n",
       "     <use x=\"150.826172\" xlink:href=\"#DejaVuSans-101\" />\n",
       "    </g>\n",
       "   </g>\n",
       "  </g>\n",
       " </g>\n",
       "</svg></g>\n",
       "\n",
       "<g class=\"edge\" id=\"edge1\">\n",
       "<title>node1-&gt;leaf2</title>\n",
       "<path d=\"M69.4414,-99.9048C66.7925,-95.6003 64.0791,-91.1911 61.3886,-86.8189\" fill=\"none\" stroke=\"#444443\" stroke-width=\".3\" />\n",
       "<polygon fill=\"#444443\" points=\"62.4245,-85.831 59.1358,-83.1581 60.0399,-87.2985 62.4245,-85.831\" stroke=\"#444443\" stroke-width=\".3\" />\n",
       "</g>\n",
       "\n",
       "<g class=\"node\" id=\"node5\">\n",
       "<title>leaf3</title>\n",
       "<polygon fill=\"none\" points=\"148.5,-83 80.5,-83 80.5,0 148.5,0 148.5,-83\" stroke=\"#444443\" stroke-width=\"0\" />\n",
       "<svg height=\"75px\" preserveAspectRatio=\"xMinYMin meet\" version=\"1.1\" viewBox=\"0 0 79.280305 100.449144\" width=\"60px\" x=\"84.5\" y=\"-78.5\">\n",
       " <defs>\n",
       "  <style type=\"text/css\">\n",
       "*{stroke-linecap:butt;stroke-linejoin:round;}\n",
       "  </style>\n",
       " </defs>\n",
       " <g id=\"figure_1\">\n",
       "  <g id=\"patch_1\">\n",
       "   <path d=\"M 0 100.449144  L 79.280305 100.449144  L 79.280305 -0  L 0 -0  z \" style=\"fill:#ffffff;\" />\n",
       "  </g>\n",
       "  <g id=\"axes_1\">\n",
       "   <g id=\"patch_2\">\n",
       "    <path d=\"M 79.280305 39.26  C 79.280305 28.851594 75.141171 18.858842 67.781317 11.498988  C 60.421462 4.139133 50.428711 0 40.020305 0  L 40.020305 39.26  L 79.280305 39.26  z \" style=\"fill:#fefebb;stroke:#444443;stroke-linejoin:miter;stroke-width:0.5;\" />\n",
       "   </g>\n",
       "   <g id=\"patch_3\">\n",
       "    <path d=\"M 40.020305 0  C 32.256339 0 24.664118 2.303075 18.208617 6.616503  C 11.753116 10.929931 6.719935 17.06288 3.748794 24.235848  C 0.777653 31.408817 -0 39.304463 1.514674 46.919246  C 3.029349 54.534029 6.76934 61.53106 12.259292 67.021012  C 17.749245 72.510965 24.746276 76.250956 32.361059 77.76563  C 39.975841 79.280305 47.871488 78.502651 55.044456 75.53151  C 62.217425 72.56037 68.350374 67.527188 72.663802 61.071687  C 76.977229 54.616186 79.280305 47.023965 79.280305 39.26  L 40.020305 39.26  L 40.020305 0  z \" style=\"fill:#a1dab4;stroke:#444443;stroke-linejoin:miter;stroke-width:0.5;\" />\n",
       "   </g>\n",
       "   <g id=\"text_1\">\n",
       "    \n",
       "    <defs>\n",
       "     <path d=\"M 54.890625 33.015625  L 54.890625 0  L 45.90625 0  L 45.90625 32.71875  Q 45.90625 40.484375 42.875 44.328125  Q 39.84375 48.1875 33.796875 48.1875  Q 26.515625 48.1875 22.3125 43.546875  Q 18.109375 38.921875 18.109375 30.90625  L 18.109375 0  L 9.078125 0  L 9.078125 54.6875  L 18.109375 54.6875  L 18.109375 46.1875  Q 21.34375 51.125 25.703125 53.5625  Q 30.078125 56 35.796875 56  Q 45.21875 56 50.046875 50.171875  Q 54.890625 44.34375 54.890625 33.015625  z \" id=\"DejaVuSans-110\" />\n",
       "     <path d=\"M 10.59375 45.40625  L 73.1875 45.40625  L 73.1875 37.203125  L 10.59375 37.203125  z M 10.59375 25.484375  L 73.1875 25.484375  L 73.1875 17.1875  L 10.59375 17.1875  z \" id=\"DejaVuSans-61\" />\n",
       "     <path d=\"M 12.40625 8.296875  L 28.515625 8.296875  L 28.515625 63.921875  L 10.984375 60.40625  L 10.984375 69.390625  L 28.421875 72.90625  L 38.28125 72.90625  L 38.28125 8.296875  L 54.390625 8.296875  L 54.390625 0  L 12.40625 0  z \" id=\"DejaVuSans-49\" />\n",
       "     <path d=\"M 19.1875 8.296875  L 53.609375 8.296875  L 53.609375 0  L 7.328125 0  L 7.328125 8.296875  Q 12.9375 14.109375 22.625 23.890625  Q 32.328125 33.6875 34.8125 36.53125  Q 39.546875 41.84375 41.421875 45.53125  Q 43.3125 49.21875 43.3125 52.78125  Q 43.3125 58.59375 39.234375 62.25  Q 35.15625 65.921875 28.609375 65.921875  Q 23.96875 65.921875 18.8125 64.3125  Q 13.671875 62.703125 7.8125 59.421875  L 7.8125 69.390625  Q 13.765625 71.78125 18.9375 73  Q 24.125 74.21875 28.421875 74.21875  Q 39.75 74.21875 46.484375 68.546875  Q 53.21875 62.890625 53.21875 53.421875  Q 53.21875 48.921875 51.53125 44.890625  Q 49.859375 40.875 45.40625 35.40625  Q 44.1875 33.984375 37.640625 27.21875  Q 31.109375 20.453125 19.1875 8.296875  z \" id=\"DejaVuSans-50\" />\n",
       "     <path d=\"M 33.015625 40.375  Q 26.375 40.375 22.484375 35.828125  Q 18.609375 31.296875 18.609375 23.390625  Q 18.609375 15.53125 22.484375 10.953125  Q 26.375 6.390625 33.015625 6.390625  Q 39.65625 6.390625 43.53125 10.953125  Q 47.40625 15.53125 47.40625 23.390625  Q 47.40625 31.296875 43.53125 35.828125  Q 39.65625 40.375 33.015625 40.375  z M 52.59375 71.296875  L 52.59375 62.3125  Q 48.875 64.0625 45.09375 64.984375  Q 41.3125 65.921875 37.59375 65.921875  Q 27.828125 65.921875 22.671875 59.328125  Q 17.53125 52.734375 16.796875 39.40625  Q 19.671875 43.65625 24.015625 45.921875  Q 28.375 48.1875 33.59375 48.1875  Q 44.578125 48.1875 50.953125 41.515625  Q 57.328125 34.859375 57.328125 23.390625  Q 57.328125 12.15625 50.6875 5.359375  Q 44.046875 -1.421875 33.015625 -1.421875  Q 20.359375 -1.421875 13.671875 8.265625  Q 6.984375 17.96875 6.984375 36.375  Q 6.984375 53.65625 15.1875 63.9375  Q 23.390625 74.21875 37.203125 74.21875  Q 40.921875 74.21875 44.703125 73.484375  Q 48.484375 72.75 52.59375 71.296875  z \" id=\"DejaVuSans-54\" />\n",
       "    </defs>\n",
       "    <g style=\"fill:#444443;\" transform=\"translate(21.94507 88.499394)scale(0.09 -0.09)\">\n",
       "     <use xlink:href=\"#DejaVuSans-110\" />\n",
       "     <use x=\"63.378906\" xlink:href=\"#DejaVuSans-61\" />\n",
       "     <use x=\"147.167969\" xlink:href=\"#DejaVuSans-49\" />\n",
       "     <use x=\"210.791016\" xlink:href=\"#DejaVuSans-50\" />\n",
       "     <use x=\"274.414062\" xlink:href=\"#DejaVuSans-49\" />\n",
       "     <use x=\"338.037109\" xlink:href=\"#DejaVuSans-54\" />\n",
       "    </g>\n",
       "    \n",
       "    <defs>\n",
       "     <path d=\"M -0.296875 72.90625  L 61.375 72.90625  L 61.375 64.59375  L 35.5 64.59375  L 35.5 0  L 25.59375 0  L 25.59375 64.59375  L -0.296875 64.59375  z \" id=\"DejaVuSans-84\" />\n",
       "     <path d=\"M 41.109375 46.296875  Q 39.59375 47.171875 37.8125 47.578125  Q 36.03125 48 33.890625 48  Q 26.265625 48 22.1875 43.046875  Q 18.109375 38.09375 18.109375 28.8125  L 18.109375 0  L 9.078125 0  L 9.078125 54.6875  L 18.109375 54.6875  L 18.109375 46.1875  Q 20.953125 51.171875 25.484375 53.578125  Q 30.03125 56 36.53125 56  Q 37.453125 56 38.578125 55.875  Q 39.703125 55.765625 41.0625 55.515625  z \" id=\"DejaVuSans-114\" />\n",
       "     <path d=\"M 8.5 21.578125  L 8.5 54.6875  L 17.484375 54.6875  L 17.484375 21.921875  Q 17.484375 14.15625 20.5 10.265625  Q 23.53125 6.390625 29.59375 6.390625  Q 36.859375 6.390625 41.078125 11.03125  Q 45.3125 15.671875 45.3125 23.6875  L 45.3125 54.6875  L 54.296875 54.6875  L 54.296875 0  L 45.3125 0  L 45.3125 8.40625  Q 42.046875 3.421875 37.71875 1  Q 33.40625 -1.421875 27.6875 -1.421875  Q 18.265625 -1.421875 13.375 4.4375  Q 8.5 10.296875 8.5 21.578125  z M 31.109375 56  z \" id=\"DejaVuSans-117\" />\n",
       "     <path d=\"M 56.203125 29.59375  L 56.203125 25.203125  L 14.890625 25.203125  Q 15.484375 15.921875 20.484375 11.0625  Q 25.484375 6.203125 34.421875 6.203125  Q 39.59375 6.203125 44.453125 7.46875  Q 49.3125 8.734375 54.109375 11.28125  L 54.109375 2.78125  Q 49.265625 0.734375 44.1875 -0.34375  Q 39.109375 -1.421875 33.890625 -1.421875  Q 20.796875 -1.421875 13.15625 6.1875  Q 5.515625 13.8125 5.515625 26.8125  Q 5.515625 40.234375 12.765625 48.109375  Q 20.015625 56 32.328125 56  Q 43.359375 56 49.78125 48.890625  Q 56.203125 41.796875 56.203125 29.59375  z M 47.21875 32.234375  Q 47.125 39.59375 43.09375 43.984375  Q 39.0625 48.390625 32.421875 48.390625  Q 24.90625 48.390625 20.390625 44.140625  Q 15.875 39.890625 15.1875 32.171875  z \" id=\"DejaVuSans-101\" />\n",
       "    </defs>\n",
       "    <g style=\"fill:#444443;\" transform=\"translate(30.464836 98.577425)scale(0.09 -0.09)\">\n",
       "     <use xlink:href=\"#DejaVuSans-84\" />\n",
       "     <use x=\"46.333984\" xlink:href=\"#DejaVuSans-114\" />\n",
       "     <use x=\"87.447266\" xlink:href=\"#DejaVuSans-117\" />\n",
       "     <use x=\"150.826172\" xlink:href=\"#DejaVuSans-101\" />\n",
       "    </g>\n",
       "   </g>\n",
       "  </g>\n",
       " </g>\n",
       "</svg></g>\n",
       "\n",
       "<g class=\"edge\" id=\"edge2\">\n",
       "<title>node1-&gt;leaf3</title>\n",
       "<path d=\"M101.9205,-99.9048C102.8291,-95.6864 103.7593,-91.3674 104.6825,-87.0813\" fill=\"none\" stroke=\"#444443\" stroke-width=\".3\" />\n",
       "<polygon fill=\"#444443\" points=\"106.0538,-87.3632 105.5275,-83.1581 103.3166,-86.7736 106.0538,-87.3632\" stroke=\"#444443\" stroke-width=\".3\" />\n",
       "</g>\n",
       "\n",
       "<g class=\"node\" id=\"node6\">\n",
       "<title>leaf5</title>\n",
       "<polygon fill=\"none\" points=\"268,-83 201,-83 201,0 268,0 268,-83\" stroke=\"#444443\" stroke-width=\"0\" />\n",
       "<svg height=\"75px\" preserveAspectRatio=\"xMinYMin meet\" version=\"1.1\" viewBox=\"0 0 78.89658 100.851988\" width=\"59px\" x=\"205.5\" y=\"-78.5\">\n",
       " <defs>\n",
       "  <style type=\"text/css\">\n",
       "*{stroke-linecap:butt;stroke-linejoin:round;}\n",
       "  </style>\n",
       " </defs>\n",
       " <g id=\"figure_1\">\n",
       "  <g id=\"patch_1\">\n",
       "   <path d=\"M -0 100.851988  L 78.89658 100.851988  L 78.89658 0  L -0 0  z \" style=\"fill:#ffffff;\" />\n",
       "  </g>\n",
       "  <g id=\"axes_1\">\n",
       "   <g id=\"patch_2\">\n",
       "    <path d=\"M 78.89658 39.662845  C 78.89658 33.957709 77.653003 28.320543 75.252673 23.144929  C 72.852343 17.969314 69.352455 13.378573 64.997368 9.693225  C 60.64228 6.007878 55.535764 3.315738 50.034352 1.804768  C 44.532939 0.293798 38.767715 0 33.141202 0.943887  C 27.514689 1.887774 22.160953 4.046856 17.453787 7.270388  C 12.74662 10.493919 8.798184 14.705091 5.884153 19.609884  C 2.970122 24.514677 1.159931 29.996222 0.579965 35.671802  C 0 41.347382 0.664079 47.081763 2.525838 52.474575  L 39.63658 39.662845  L 78.89658 39.662845  z \" style=\"fill:#fefebb;stroke:#444443;stroke-linejoin:miter;stroke-width:0.5;\" />\n",
       "   </g>\n",
       "   <g id=\"patch_3\">\n",
       "    <path d=\"M 2.525838 52.474575  C 5.555501 61.250362 11.601992 68.673235 19.58362 73.415272  C 27.565247 78.157309 36.975868 79.917801 46.131958 78.381802  C 55.288049 76.845803 63.608991 72.110717 69.6062 65.023632  C 75.603408 57.936547 78.89658 48.946879 78.89658 39.662845  L 39.63658 39.662845  L 2.525838 52.474575  z \" style=\"fill:#a1dab4;stroke:#444443;stroke-linejoin:miter;stroke-width:0.5;\" />\n",
       "   </g>\n",
       "   <g id=\"text_1\">\n",
       "    \n",
       "    <defs>\n",
       "     <path d=\"M 54.890625 33.015625  L 54.890625 0  L 45.90625 0  L 45.90625 32.71875  Q 45.90625 40.484375 42.875 44.328125  Q 39.84375 48.1875 33.796875 48.1875  Q 26.515625 48.1875 22.3125 43.546875  Q 18.109375 38.921875 18.109375 30.90625  L 18.109375 0  L 9.078125 0  L 9.078125 54.6875  L 18.109375 54.6875  L 18.109375 46.1875  Q 21.34375 51.125 25.703125 53.5625  Q 30.078125 56 35.796875 56  Q 45.21875 56 50.046875 50.171875  Q 54.890625 44.34375 54.890625 33.015625  z \" id=\"DejaVuSans-110\" />\n",
       "     <path d=\"M 10.59375 45.40625  L 73.1875 45.40625  L 73.1875 37.203125  L 10.59375 37.203125  z M 10.59375 25.484375  L 73.1875 25.484375  L 73.1875 17.1875  L 10.59375 17.1875  z \" id=\"DejaVuSans-61\" />\n",
       "     <path d=\"M 33.015625 40.375  Q 26.375 40.375 22.484375 35.828125  Q 18.609375 31.296875 18.609375 23.390625  Q 18.609375 15.53125 22.484375 10.953125  Q 26.375 6.390625 33.015625 6.390625  Q 39.65625 6.390625 43.53125 10.953125  Q 47.40625 15.53125 47.40625 23.390625  Q 47.40625 31.296875 43.53125 35.828125  Q 39.65625 40.375 33.015625 40.375  z M 52.59375 71.296875  L 52.59375 62.3125  Q 48.875 64.0625 45.09375 64.984375  Q 41.3125 65.921875 37.59375 65.921875  Q 27.828125 65.921875 22.671875 59.328125  Q 17.53125 52.734375 16.796875 39.40625  Q 19.671875 43.65625 24.015625 45.921875  Q 28.375 48.1875 33.59375 48.1875  Q 44.578125 48.1875 50.953125 41.515625  Q 57.328125 34.859375 57.328125 23.390625  Q 57.328125 12.15625 50.6875 5.359375  Q 44.046875 -1.421875 33.015625 -1.421875  Q 20.359375 -1.421875 13.671875 8.265625  Q 6.984375 17.96875 6.984375 36.375  Q 6.984375 53.65625 15.1875 63.9375  Q 23.390625 74.21875 37.203125 74.21875  Q 40.921875 74.21875 44.703125 73.484375  Q 48.484375 72.75 52.59375 71.296875  z \" id=\"DejaVuSans-54\" />\n",
       "     <path d=\"M 8.203125 72.90625  L 55.078125 72.90625  L 55.078125 68.703125  L 28.609375 0  L 18.3125 0  L 43.21875 64.59375  L 8.203125 64.59375  z \" id=\"DejaVuSans-55\" />\n",
       "     <path d=\"M 12.40625 8.296875  L 28.515625 8.296875  L 28.515625 63.921875  L 10.984375 60.40625  L 10.984375 69.390625  L 28.421875 72.90625  L 38.28125 72.90625  L 38.28125 8.296875  L 54.390625 8.296875  L 54.390625 0  L 12.40625 0  z \" id=\"DejaVuSans-49\" />\n",
       "    </defs>\n",
       "    <g style=\"fill:#444443;\" transform=\"translate(24.424471 88.902238)scale(0.09 -0.09)\">\n",
       "     <use xlink:href=\"#DejaVuSans-110\" />\n",
       "     <use x=\"63.378906\" xlink:href=\"#DejaVuSans-61\" />\n",
       "     <use x=\"147.167969\" xlink:href=\"#DejaVuSans-54\" />\n",
       "     <use x=\"210.791016\" xlink:href=\"#DejaVuSans-55\" />\n",
       "     <use x=\"274.414062\" xlink:href=\"#DejaVuSans-49\" />\n",
       "    </g>\n",
       "    \n",
       "    <defs>\n",
       "     <path d=\"M 9.8125 72.90625  L 51.703125 72.90625  L 51.703125 64.59375  L 19.671875 64.59375  L 19.671875 43.109375  L 48.578125 43.109375  L 48.578125 34.8125  L 19.671875 34.8125  L 19.671875 0  L 9.8125 0  z \" id=\"DejaVuSans-70\" />\n",
       "     <path d=\"M 34.28125 27.484375  Q 23.390625 27.484375 19.1875 25  Q 14.984375 22.515625 14.984375 16.5  Q 14.984375 11.71875 18.140625 8.90625  Q 21.296875 6.109375 26.703125 6.109375  Q 34.1875 6.109375 38.703125 11.40625  Q 43.21875 16.703125 43.21875 25.484375  L 43.21875 27.484375  z M 52.203125 31.203125  L 52.203125 0  L 43.21875 0  L 43.21875 8.296875  Q 40.140625 3.328125 35.546875 0.953125  Q 30.953125 -1.421875 24.3125 -1.421875  Q 15.921875 -1.421875 10.953125 3.296875  Q 6 8.015625 6 15.921875  Q 6 25.140625 12.171875 29.828125  Q 18.359375 34.515625 30.609375 34.515625  L 43.21875 34.515625  L 43.21875 35.40625  Q 43.21875 41.609375 39.140625 45  Q 35.0625 48.390625 27.6875 48.390625  Q 23 48.390625 18.546875 47.265625  Q 14.109375 46.140625 10.015625 43.890625  L 10.015625 52.203125  Q 14.9375 54.109375 19.578125 55.046875  Q 24.21875 56 28.609375 56  Q 40.484375 56 46.34375 49.84375  Q 52.203125 43.703125 52.203125 31.203125  z \" id=\"DejaVuSans-97\" />\n",
       "     <path d=\"M 9.421875 75.984375  L 18.40625 75.984375  L 18.40625 0  L 9.421875 0  z \" id=\"DejaVuSans-108\" />\n",
       "     <path d=\"M 44.28125 53.078125  L 44.28125 44.578125  Q 40.484375 46.53125 36.375 47.5  Q 32.28125 48.484375 27.875 48.484375  Q 21.1875 48.484375 17.84375 46.4375  Q 14.5 44.390625 14.5 40.28125  Q 14.5 37.15625 16.890625 35.375  Q 19.28125 33.59375 26.515625 31.984375  L 29.59375 31.296875  Q 39.15625 29.25 43.1875 25.515625  Q 47.21875 21.78125 47.21875 15.09375  Q 47.21875 7.46875 41.1875 3.015625  Q 35.15625 -1.421875 24.609375 -1.421875  Q 20.21875 -1.421875 15.453125 -0.5625  Q 10.6875 0.296875 5.421875 2  L 5.421875 11.28125  Q 10.40625 8.6875 15.234375 7.390625  Q 20.0625 6.109375 24.8125 6.109375  Q 31.15625 6.109375 34.5625 8.28125  Q 37.984375 10.453125 37.984375 14.40625  Q 37.984375 18.0625 35.515625 20.015625  Q 33.0625 21.96875 24.703125 23.78125  L 21.578125 24.515625  Q 13.234375 26.265625 9.515625 29.90625  Q 5.8125 33.546875 5.8125 39.890625  Q 5.8125 47.609375 11.28125 51.796875  Q 16.75 56 26.8125 56  Q 31.78125 56 36.171875 55.265625  Q 40.578125 54.546875 44.28125 53.078125  z \" id=\"DejaVuSans-115\" />\n",
       "     <path d=\"M 56.203125 29.59375  L 56.203125 25.203125  L 14.890625 25.203125  Q 15.484375 15.921875 20.484375 11.0625  Q 25.484375 6.203125 34.421875 6.203125  Q 39.59375 6.203125 44.453125 7.46875  Q 49.3125 8.734375 54.109375 11.28125  L 54.109375 2.78125  Q 49.265625 0.734375 44.1875 -0.34375  Q 39.109375 -1.421875 33.890625 -1.421875  Q 20.796875 -1.421875 13.15625 6.1875  Q 5.515625 13.8125 5.515625 26.8125  Q 5.515625 40.234375 12.765625 48.109375  Q 20.015625 56 32.328125 56  Q 43.359375 56 49.78125 48.890625  Q 56.203125 41.796875 56.203125 29.59375  z M 47.21875 32.234375  Q 47.125 39.59375 43.09375 43.984375  Q 39.0625 48.390625 32.421875 48.390625  Q 24.90625 48.390625 20.390625 44.140625  Q 15.875 39.890625 15.1875 32.171875  z \" id=\"DejaVuSans-101\" />\n",
       "    </defs>\n",
       "    <g style=\"fill:#444443;\" transform=\"translate(28.338065 98.98027)scale(0.09 -0.09)\">\n",
       "     <use xlink:href=\"#DejaVuSans-70\" />\n",
       "     <use x=\"48.394531\" xlink:href=\"#DejaVuSans-97\" />\n",
       "     <use x=\"109.673828\" xlink:href=\"#DejaVuSans-108\" />\n",
       "     <use x=\"137.457031\" xlink:href=\"#DejaVuSans-115\" />\n",
       "     <use x=\"189.556641\" xlink:href=\"#DejaVuSans-101\" />\n",
       "    </g>\n",
       "   </g>\n",
       "  </g>\n",
       " </g>\n",
       "</svg></g>\n",
       "\n",
       "<g class=\"edge\" id=\"edge4\">\n",
       "<title>node4-&gt;leaf5</title>\n",
       "<path d=\"M264.2966,-112.3577C260.9772,-104.4641 257.2453,-95.5894 253.5746,-86.8604\" fill=\"none\" stroke=\"#444443\" stroke-width=\".3\" />\n",
       "<polygon fill=\"#444443\" points=\"254.8478,-86.2761 252.0066,-83.1316 252.2667,-87.3616 254.8478,-86.2761\" stroke=\"#444443\" stroke-width=\".3\" />\n",
       "</g>\n",
       "\n",
       "<g class=\"node\" id=\"node7\">\n",
       "<title>leaf6</title>\n",
       "<polygon fill=\"none\" points=\"349,-83 282,-83 282,0 349,0 349,-83\" stroke=\"#444443\" stroke-width=\"0\" />\n",
       "<svg height=\"75px\" preserveAspectRatio=\"xMinYMin meet\" version=\"1.1\" viewBox=\"0 0 78.666253 100.679927\" width=\"59px\" x=\"286.5\" y=\"-78.5\">\n",
       " <defs>\n",
       "  <style type=\"text/css\">\n",
       "*{stroke-linecap:butt;stroke-linejoin:round;}\n",
       "  </style>\n",
       " </defs>\n",
       " <g id=\"figure_1\">\n",
       "  <g id=\"patch_1\">\n",
       "   <path d=\"M -0 100.679927  L 78.666253 100.679927  L 78.666253 0  L -0 0  z \" style=\"fill:#ffffff;\" />\n",
       "  </g>\n",
       "  <g id=\"axes_1\">\n",
       "   <g id=\"patch_2\">\n",
       "    <path d=\"M 78.666253 39.490783  C 78.666253 34.96813 77.884756 30.4793 76.356311 26.222746  C 74.827867 21.966193 72.575337 18.005581 69.698306 14.516013  C 66.821275 11.026445 63.362776 8.060114 59.475711 5.748163  C 55.588646 3.436212 51.331155 1.813221 46.891462 0.950944  C 42.45177 0.088666 37.896281 0 33.426398 0.688864  C 28.956514 1.377729 24.639093 2.83382 20.665008 4.992765  C 16.690923 7.151709 13.119616 9.981214 10.108976 13.356187  C 7.098336 16.73116 4.693394 20.601119 3.000474 24.794974  C 1.307554 28.988828 0.351976 33.443848 0.175988 37.963076  C -0 42.482304 0.606234 46.998144 1.967887 51.31095  C 3.32954 55.623755 5.426247 59.669019 8.165311 63.267897  C 10.904374 66.866775 14.244826 69.965438 18.038983 72.426894  C 21.83314 74.88835 26.024253 76.675781 30.427029 77.710165  C 34.829806 78.744549 39.378394 79.010414 43.871697 78.496006  C 48.365001 77.981598 52.735813 76.694612 56.790898 74.691944  C 60.845983 72.689277 64.524689 70.000883 67.664377 66.745619  L 39.406253 39.490783  L 78.666253 39.490783  z \" style=\"fill:#fefebb;stroke:#444443;stroke-linejoin:miter;stroke-width:0.5;\" />\n",
       "   </g>\n",
       "   <g id=\"patch_3\">\n",
       "    <path d=\"M 67.664377 66.745619  C 71.160593 63.120702 73.926873 58.856681 75.812033 54.186593  C 77.697193 49.516506 78.666253 44.527007 78.666253 39.490783  L 39.406253 39.490783  L 67.664377 66.745619  z \" style=\"fill:#a1dab4;stroke:#444443;stroke-linejoin:miter;stroke-width:0.5;\" />\n",
       "   </g>\n",
       "   <g id=\"text_1\">\n",
       "    \n",
       "    <defs>\n",
       "     <path d=\"M 54.890625 33.015625  L 54.890625 0  L 45.90625 0  L 45.90625 32.71875  Q 45.90625 40.484375 42.875 44.328125  Q 39.84375 48.1875 33.796875 48.1875  Q 26.515625 48.1875 22.3125 43.546875  Q 18.109375 38.921875 18.109375 30.90625  L 18.109375 0  L 9.078125 0  L 9.078125 54.6875  L 18.109375 54.6875  L 18.109375 46.1875  Q 21.34375 51.125 25.703125 53.5625  Q 30.078125 56 35.796875 56  Q 45.21875 56 50.046875 50.171875  Q 54.890625 44.34375 54.890625 33.015625  z \" id=\"DejaVuSans-110\" />\n",
       "     <path d=\"M 10.59375 45.40625  L 73.1875 45.40625  L 73.1875 37.203125  L 10.59375 37.203125  z M 10.59375 25.484375  L 73.1875 25.484375  L 73.1875 17.1875  L 10.59375 17.1875  z \" id=\"DejaVuSans-61\" />\n",
       "     <path d=\"M 12.40625 8.296875  L 28.515625 8.296875  L 28.515625 63.921875  L 10.984375 60.40625  L 10.984375 69.390625  L 28.421875 72.90625  L 38.28125 72.90625  L 38.28125 8.296875  L 54.390625 8.296875  L 54.390625 0  L 12.40625 0  z \" id=\"DejaVuSans-49\" />\n",
       "     <path d=\"M 33.015625 40.375  Q 26.375 40.375 22.484375 35.828125  Q 18.609375 31.296875 18.609375 23.390625  Q 18.609375 15.53125 22.484375 10.953125  Q 26.375 6.390625 33.015625 6.390625  Q 39.65625 6.390625 43.53125 10.953125  Q 47.40625 15.53125 47.40625 23.390625  Q 47.40625 31.296875 43.53125 35.828125  Q 39.65625 40.375 33.015625 40.375  z M 52.59375 71.296875  L 52.59375 62.3125  Q 48.875 64.0625 45.09375 64.984375  Q 41.3125 65.921875 37.59375 65.921875  Q 27.828125 65.921875 22.671875 59.328125  Q 17.53125 52.734375 16.796875 39.40625  Q 19.671875 43.65625 24.015625 45.921875  Q 28.375 48.1875 33.59375 48.1875  Q 44.578125 48.1875 50.953125 41.515625  Q 57.328125 34.859375 57.328125 23.390625  Q 57.328125 12.15625 50.6875 5.359375  Q 44.046875 -1.421875 33.015625 -1.421875  Q 20.359375 -1.421875 13.671875 8.265625  Q 6.984375 17.96875 6.984375 36.375  Q 6.984375 53.65625 15.1875 63.9375  Q 23.390625 74.21875 37.203125 74.21875  Q 40.921875 74.21875 44.703125 73.484375  Q 48.484375 72.75 52.59375 71.296875  z \" id=\"DejaVuSans-54\" />\n",
       "     <path d=\"M 10.984375 1.515625  L 10.984375 10.5  Q 14.703125 8.734375 18.5 7.8125  Q 22.3125 6.890625 25.984375 6.890625  Q 35.75 6.890625 40.890625 13.453125  Q 46.046875 20.015625 46.78125 33.40625  Q 43.953125 29.203125 39.59375 26.953125  Q 35.25 24.703125 29.984375 24.703125  Q 19.046875 24.703125 12.671875 31.3125  Q 6.296875 37.9375 6.296875 49.421875  Q 6.296875 60.640625 12.9375 67.421875  Q 19.578125 74.21875 30.609375 74.21875  Q 43.265625 74.21875 49.921875 64.515625  Q 56.59375 54.828125 56.59375 36.375  Q 56.59375 19.140625 48.40625 8.859375  Q 40.234375 -1.421875 26.421875 -1.421875  Q 22.703125 -1.421875 18.890625 -0.6875  Q 15.09375 0.046875 10.984375 1.515625  z M 30.609375 32.421875  Q 37.25 32.421875 41.125 36.953125  Q 45.015625 41.5 45.015625 49.421875  Q 45.015625 57.28125 41.125 61.84375  Q 37.25 66.40625 30.609375 66.40625  Q 23.96875 66.40625 20.09375 61.84375  Q 16.21875 57.28125 16.21875 49.421875  Q 16.21875 41.5 20.09375 36.953125  Q 23.96875 32.421875 30.609375 32.421875  z \" id=\"DejaVuSans-57\" />\n",
       "     <path d=\"M 10.796875 72.90625  L 49.515625 72.90625  L 49.515625 64.59375  L 19.828125 64.59375  L 19.828125 46.734375  Q 21.96875 47.46875 24.109375 47.828125  Q 26.265625 48.1875 28.421875 48.1875  Q 40.625 48.1875 47.75 41.5  Q 54.890625 34.8125 54.890625 23.390625  Q 54.890625 11.625 47.5625 5.09375  Q 40.234375 -1.421875 26.90625 -1.421875  Q 22.3125 -1.421875 17.546875 -0.640625  Q 12.796875 0.140625 7.71875 1.703125  L 7.71875 11.625  Q 12.109375 9.234375 16.796875 8.0625  Q 21.484375 6.890625 26.703125 6.890625  Q 35.15625 6.890625 40.078125 11.328125  Q 45.015625 15.765625 45.015625 23.390625  Q 45.015625 31 40.078125 35.4375  Q 35.15625 39.890625 26.703125 39.890625  Q 22.75 39.890625 18.8125 39.015625  Q 14.890625 38.140625 10.796875 36.28125  z \" id=\"DejaVuSans-53\" />\n",
       "    </defs>\n",
       "    <g style=\"fill:#444443;\" transform=\"translate(21.331019 88.730177)scale(0.09 -0.09)\">\n",
       "     <use xlink:href=\"#DejaVuSans-110\" />\n",
       "     <use x=\"63.378906\" xlink:href=\"#DejaVuSans-61\" />\n",
       "     <use x=\"147.167969\" xlink:href=\"#DejaVuSans-49\" />\n",
       "     <use x=\"210.791016\" xlink:href=\"#DejaVuSans-54\" />\n",
       "     <use x=\"274.414062\" xlink:href=\"#DejaVuSans-57\" />\n",
       "     <use x=\"338.037109\" xlink:href=\"#DejaVuSans-53\" />\n",
       "    </g>\n",
       "    \n",
       "    <defs>\n",
       "     <path d=\"M 9.8125 72.90625  L 51.703125 72.90625  L 51.703125 64.59375  L 19.671875 64.59375  L 19.671875 43.109375  L 48.578125 43.109375  L 48.578125 34.8125  L 19.671875 34.8125  L 19.671875 0  L 9.8125 0  z \" id=\"DejaVuSans-70\" />\n",
       "     <path d=\"M 34.28125 27.484375  Q 23.390625 27.484375 19.1875 25  Q 14.984375 22.515625 14.984375 16.5  Q 14.984375 11.71875 18.140625 8.90625  Q 21.296875 6.109375 26.703125 6.109375  Q 34.1875 6.109375 38.703125 11.40625  Q 43.21875 16.703125 43.21875 25.484375  L 43.21875 27.484375  z M 52.203125 31.203125  L 52.203125 0  L 43.21875 0  L 43.21875 8.296875  Q 40.140625 3.328125 35.546875 0.953125  Q 30.953125 -1.421875 24.3125 -1.421875  Q 15.921875 -1.421875 10.953125 3.296875  Q 6 8.015625 6 15.921875  Q 6 25.140625 12.171875 29.828125  Q 18.359375 34.515625 30.609375 34.515625  L 43.21875 34.515625  L 43.21875 35.40625  Q 43.21875 41.609375 39.140625 45  Q 35.0625 48.390625 27.6875 48.390625  Q 23 48.390625 18.546875 47.265625  Q 14.109375 46.140625 10.015625 43.890625  L 10.015625 52.203125  Q 14.9375 54.109375 19.578125 55.046875  Q 24.21875 56 28.609375 56  Q 40.484375 56 46.34375 49.84375  Q 52.203125 43.703125 52.203125 31.203125  z \" id=\"DejaVuSans-97\" />\n",
       "     <path d=\"M 9.421875 75.984375  L 18.40625 75.984375  L 18.40625 0  L 9.421875 0  z \" id=\"DejaVuSans-108\" />\n",
       "     <path d=\"M 44.28125 53.078125  L 44.28125 44.578125  Q 40.484375 46.53125 36.375 47.5  Q 32.28125 48.484375 27.875 48.484375  Q 21.1875 48.484375 17.84375 46.4375  Q 14.5 44.390625 14.5 40.28125  Q 14.5 37.15625 16.890625 35.375  Q 19.28125 33.59375 26.515625 31.984375  L 29.59375 31.296875  Q 39.15625 29.25 43.1875 25.515625  Q 47.21875 21.78125 47.21875 15.09375  Q 47.21875 7.46875 41.1875 3.015625  Q 35.15625 -1.421875 24.609375 -1.421875  Q 20.21875 -1.421875 15.453125 -0.5625  Q 10.6875 0.296875 5.421875 2  L 5.421875 11.28125  Q 10.40625 8.6875 15.234375 7.390625  Q 20.0625 6.109375 24.8125 6.109375  Q 31.15625 6.109375 34.5625 8.28125  Q 37.984375 10.453125 37.984375 14.40625  Q 37.984375 18.0625 35.515625 20.015625  Q 33.0625 21.96875 24.703125 23.78125  L 21.578125 24.515625  Q 13.234375 26.265625 9.515625 29.90625  Q 5.8125 33.546875 5.8125 39.890625  Q 5.8125 47.609375 11.28125 51.796875  Q 16.75 56 26.8125 56  Q 31.78125 56 36.171875 55.265625  Q 40.578125 54.546875 44.28125 53.078125  z \" id=\"DejaVuSans-115\" />\n",
       "     <path d=\"M 56.203125 29.59375  L 56.203125 25.203125  L 14.890625 25.203125  Q 15.484375 15.921875 20.484375 11.0625  Q 25.484375 6.203125 34.421875 6.203125  Q 39.59375 6.203125 44.453125 7.46875  Q 49.3125 8.734375 54.109375 11.28125  L 54.109375 2.78125  Q 49.265625 0.734375 44.1875 -0.34375  Q 39.109375 -1.421875 33.890625 -1.421875  Q 20.796875 -1.421875 13.15625 6.1875  Q 5.515625 13.8125 5.515625 26.8125  Q 5.515625 40.234375 12.765625 48.109375  Q 20.015625 56 32.328125 56  Q 43.359375 56 49.78125 48.890625  Q 56.203125 41.796875 56.203125 29.59375  z M 47.21875 32.234375  Q 47.125 39.59375 43.09375 43.984375  Q 39.0625 48.390625 32.421875 48.390625  Q 24.90625 48.390625 20.390625 44.140625  Q 15.875 39.890625 15.1875 32.171875  z \" id=\"DejaVuSans-101\" />\n",
       "    </defs>\n",
       "    <g style=\"fill:#444443;\" transform=\"translate(28.107738 98.808208)scale(0.09 -0.09)\">\n",
       "     <use xlink:href=\"#DejaVuSans-70\" />\n",
       "     <use x=\"48.394531\" xlink:href=\"#DejaVuSans-97\" />\n",
       "     <use x=\"109.673828\" xlink:href=\"#DejaVuSans-108\" />\n",
       "     <use x=\"137.457031\" xlink:href=\"#DejaVuSans-115\" />\n",
       "     <use x=\"189.556641\" xlink:href=\"#DejaVuSans-101\" />\n",
       "    </g>\n",
       "   </g>\n",
       "  </g>\n",
       " </g>\n",
       "</svg></g>\n",
       "\n",
       "<g class=\"edge\" id=\"edge5\">\n",
       "<title>node4-&gt;leaf6</title>\n",
       "<path d=\"M286.4302,-112.3577C289.6686,-104.4641 293.3095,-95.5894 296.8906,-86.8604\" fill=\"none\" stroke=\"#444443\" stroke-width=\".3\" />\n",
       "<polygon fill=\"#444443\" points=\"298.1973,-87.3637 298.4204,-83.1316 295.6068,-86.3009 298.1973,-87.3637\" stroke=\"#444443\" stroke-width=\".3\" />\n",
       "</g>\n",
       "\n",
       "<g class=\"node\" id=\"node3\">\n",
       "<title>node0</title>\n",
       "<svg height=\"84px\" preserveAspectRatio=\"xMinYMin meet\" version=\"1.1\" viewBox=\"0 0 216.704917 111.89625\" width=\"162px\" x=\"103.5\" y=\"-297\">\n",
       " <defs>\n",
       "  <style type=\"text/css\">\n",
       "*{stroke-linecap:butt;stroke-linejoin:round;}\n",
       "  </style>\n",
       " </defs>\n",
       " <g id=\"figure_1\">\n",
       "  <g id=\"patch_1\">\n",
       "   <path d=\"M 0 111.89625  L 216.704917 111.89625  L 216.704917 0  L 0 0  z \" style=\"fill:#ffffff;\" />\n",
       "  </g>\n",
       "  <g id=\"axes_1\">\n",
       "   <g id=\"patch_2\">\n",
       "    <path d=\"M 27.36 81.54  L 211.5 81.54  L 211.5 0  L 27.36 0  z \" style=\"fill:#ffffff;\" />\n",
       "   </g>\n",
       "   <g id=\"patch_3\">\n",
       "    <path clip-path=\"url(#p8bcf6508df)\" d=\"M 27.36 81.54  L 36.722825 81.54  L 36.722825 81.54  L 27.36 81.54  z \" style=\"fill:#fefebb;stroke:#444443;stroke-linejoin:miter;stroke-width:0.5;\" />\n",
       "   </g>\n",
       "   <g id=\"patch_4\">\n",
       "    <path clip-path=\"url(#p8bcf6508df)\" d=\"M 36.722825 81.54  L 46.085649 81.54  L 46.085649 81.54  L 36.722825 81.54  z \" style=\"fill:#fefebb;stroke:#444443;stroke-linejoin:miter;stroke-width:0.5;\" />\n",
       "   </g>\n",
       "   <g id=\"patch_5\">\n",
       "    <path clip-path=\"url(#p8bcf6508df)\" d=\"M 46.085649 81.54  L 55.448474 81.54  L 55.448474 81.54  L 46.085649 81.54  z \" style=\"fill:#fefebb;stroke:#444443;stroke-linejoin:miter;stroke-width:0.5;\" />\n",
       "   </g>\n",
       "   <g id=\"patch_6\">\n",
       "    <path clip-path=\"url(#p8bcf6508df)\" d=\"M 55.448474 81.54  L 64.811298 81.54  L 64.811298 81.288139  L 55.448474 81.288139  z \" style=\"fill:#fefebb;stroke:#444443;stroke-linejoin:miter;stroke-width:0.5;\" />\n",
       "   </g>\n",
       "   <g id=\"patch_7\">\n",
       "    <path clip-path=\"url(#p8bcf6508df)\" d=\"M 64.811298 81.54  L 74.174123 81.54  L 74.174123 81.246162  L 64.811298 81.246162  z \" style=\"fill:#fefebb;stroke:#444443;stroke-linejoin:miter;stroke-width:0.5;\" />\n",
       "   </g>\n",
       "   <g id=\"patch_8\">\n",
       "    <path clip-path=\"url(#p8bcf6508df)\" d=\"M 74.174123 81.54  L 83.536947 81.54  L 83.536947 76.838595  L 74.174123 76.838595  z \" style=\"fill:#fefebb;stroke:#444443;stroke-linejoin:miter;stroke-width:0.5;\" />\n",
       "   </g>\n",
       "   <g id=\"patch_9\">\n",
       "    <path clip-path=\"url(#p8bcf6508df)\" d=\"M 83.536947 81.54  L 92.899772 81.54  L 92.899772 41.724973  L 83.536947 41.724973  z \" style=\"fill:#fefebb;stroke:#444443;stroke-linejoin:miter;stroke-width:0.5;\" />\n",
       "   </g>\n",
       "   <g id=\"patch_10\">\n",
       "    <path clip-path=\"url(#p8bcf6508df)\" d=\"M 92.899772 81.54  L 102.262597 81.54  L 102.262597 76.418826  L 92.899772 76.418826  z \" style=\"fill:#fefebb;stroke:#444443;stroke-linejoin:miter;stroke-width:0.5;\" />\n",
       "   </g>\n",
       "   <g id=\"patch_11\">\n",
       "    <path clip-path=\"url(#p8bcf6508df)\" d=\"M 102.262597 81.54  L 111.625421 81.54  L 111.625421 80.679475  L 102.262597 80.679475  z \" style=\"fill:#fefebb;stroke:#444443;stroke-linejoin:miter;stroke-width:0.5;\" />\n",
       "   </g>\n",
       "   <g id=\"patch_12\">\n",
       "    <path clip-path=\"url(#p8bcf6508df)\" d=\"M 111.625421 81.54  L 120.988246 81.54  L 120.988246 81.393081  L 111.625421 81.393081  z \" style=\"fill:#fefebb;stroke:#444443;stroke-linejoin:miter;stroke-width:0.5;\" />\n",
       "   </g>\n",
       "   <g id=\"patch_13\">\n",
       "    <path clip-path=\"url(#p8bcf6508df)\" d=\"M 120.988246 81.54  L 130.35107 81.54  L 130.35107 81.372093  L 120.988246 81.372093  z \" style=\"fill:#fefebb;stroke:#444443;stroke-linejoin:miter;stroke-width:0.5;\" />\n",
       "   </g>\n",
       "   <g id=\"patch_14\">\n",
       "    <path clip-path=\"url(#p8bcf6508df)\" d=\"M 130.35107 81.54  L 139.713895 81.54  L 139.713895 81.477035  L 130.35107 81.477035  z \" style=\"fill:#fefebb;stroke:#444443;stroke-linejoin:miter;stroke-width:0.5;\" />\n",
       "   </g>\n",
       "   <g id=\"patch_15\">\n",
       "    <path clip-path=\"url(#p8bcf6508df)\" d=\"M 139.713895 81.54  L 149.076719 81.54  L 149.076719 81.54  L 139.713895 81.54  z \" style=\"fill:#fefebb;stroke:#444443;stroke-linejoin:miter;stroke-width:0.5;\" />\n",
       "   </g>\n",
       "   <g id=\"patch_16\">\n",
       "    <path clip-path=\"url(#p8bcf6508df)\" d=\"M 149.076719 81.54  L 158.439544 81.54  L 158.439544 81.519012  L 149.076719 81.519012  z \" style=\"fill:#fefebb;stroke:#444443;stroke-linejoin:miter;stroke-width:0.5;\" />\n",
       "   </g>\n",
       "   <g id=\"patch_17\">\n",
       "    <path clip-path=\"url(#p8bcf6508df)\" d=\"M 158.439544 81.54  L 167.802369 81.54  L 167.802369 81.54  L 158.439544 81.54  z \" style=\"fill:#fefebb;stroke:#444443;stroke-linejoin:miter;stroke-width:0.5;\" />\n",
       "   </g>\n",
       "   <g id=\"patch_18\">\n",
       "    <path clip-path=\"url(#p8bcf6508df)\" d=\"M 167.802369 81.54  L 177.165193 81.54  L 177.165193 81.519012  L 167.802369 81.519012  z \" style=\"fill:#fefebb;stroke:#444443;stroke-linejoin:miter;stroke-width:0.5;\" />\n",
       "   </g>\n",
       "   <g id=\"patch_19\">\n",
       "    <path clip-path=\"url(#p8bcf6508df)\" d=\"M 177.165193 81.54  L 186.528018 81.54  L 186.528018 81.54  L 177.165193 81.54  z \" style=\"fill:#fefebb;stroke:#444443;stroke-linejoin:miter;stroke-width:0.5;\" />\n",
       "   </g>\n",
       "   <g id=\"patch_20\">\n",
       "    <path clip-path=\"url(#p8bcf6508df)\" d=\"M 186.528018 81.54  L 195.890842 81.54  L 195.890842 81.54  L 186.528018 81.54  z \" style=\"fill:#fefebb;stroke:#444443;stroke-linejoin:miter;stroke-width:0.5;\" />\n",
       "   </g>\n",
       "   <g id=\"patch_21\">\n",
       "    <path clip-path=\"url(#p8bcf6508df)\" d=\"M 195.890842 81.54  L 205.253667 81.54  L 205.253667 81.519012  L 195.890842 81.519012  z \" style=\"fill:#fefebb;stroke:#444443;stroke-linejoin:miter;stroke-width:0.5;\" />\n",
       "   </g>\n",
       "   <g id=\"patch_22\">\n",
       "    <path clip-path=\"url(#p8bcf6508df)\" d=\"M 27.36 81.54  L 36.722825 81.54  L 36.722825 81.477035  L 27.36 81.477035  z \" style=\"fill:#a1dab4;stroke:#444443;stroke-linejoin:miter;stroke-width:0.5;\" />\n",
       "   </g>\n",
       "   <g id=\"patch_23\">\n",
       "    <path clip-path=\"url(#p8bcf6508df)\" d=\"M 36.722825 81.54  L 46.085649 81.54  L 46.085649 81.456046  L 36.722825 81.456046  z \" style=\"fill:#a1dab4;stroke:#444443;stroke-linejoin:miter;stroke-width:0.5;\" />\n",
       "   </g>\n",
       "   <g id=\"patch_24\">\n",
       "    <path clip-path=\"url(#p8bcf6508df)\" d=\"M 46.085649 81.54  L 55.448474 81.54  L 55.448474 81.120232  L 46.085649 81.120232  z \" style=\"fill:#a1dab4;stroke:#444443;stroke-linejoin:miter;stroke-width:0.5;\" />\n",
       "   </g>\n",
       "   <g id=\"patch_25\">\n",
       "    <path clip-path=\"url(#p8bcf6508df)\" d=\"M 55.448474 81.288139  L 64.811298 81.288139  L 64.811298 80.322672  L 55.448474 80.322672  z \" style=\"fill:#a1dab4;stroke:#444443;stroke-linejoin:miter;stroke-width:0.5;\" />\n",
       "   </g>\n",
       "   <g id=\"patch_26\">\n",
       "    <path clip-path=\"url(#p8bcf6508df)\" d=\"M 64.811298 81.246162  L 74.174123 81.246162  L 74.174123 77.02749  L 64.811298 77.02749  z \" style=\"fill:#a1dab4;stroke:#444443;stroke-linejoin:miter;stroke-width:0.5;\" />\n",
       "   </g>\n",
       "   <g id=\"patch_27\">\n",
       "    <path clip-path=\"url(#p8bcf6508df)\" d=\"M 74.174123 76.838595  L 83.536947 76.838595  L 83.536947 15.090672  L 74.174123 15.090672  z \" style=\"fill:#a1dab4;stroke:#444443;stroke-linejoin:miter;stroke-width:0.5;\" />\n",
       "   </g>\n",
       "   <g id=\"patch_28\">\n",
       "    <path clip-path=\"url(#p8bcf6508df)\" d=\"M 83.536947 41.724973  L 92.899772 41.724973  L 92.899772 3.882857  L 83.536947 3.882857  z \" style=\"fill:#a1dab4;stroke:#444443;stroke-linejoin:miter;stroke-width:0.5;\" />\n",
       "   </g>\n",
       "   <g id=\"patch_29\">\n",
       "    <path clip-path=\"url(#p8bcf6508df)\" d=\"M 92.899772 76.418826  L 102.262597 76.418826  L 102.262597 76.187954  L 92.899772 76.187954  z \" style=\"fill:#a1dab4;stroke:#444443;stroke-linejoin:miter;stroke-width:0.5;\" />\n",
       "   </g>\n",
       "   <g id=\"patch_30\">\n",
       "    <path clip-path=\"url(#p8bcf6508df)\" d=\"M 102.262597 80.679475  L 111.625421 80.679475  L 111.625421 80.637498  L 102.262597 80.637498  z \" style=\"fill:#a1dab4;stroke:#444443;stroke-linejoin:miter;stroke-width:0.5;\" />\n",
       "   </g>\n",
       "   <g id=\"patch_31\">\n",
       "    <path clip-path=\"url(#p8bcf6508df)\" d=\"M 111.625421 81.393081  L 120.988246 81.393081  L 120.988246 81.372093  L 111.625421 81.372093  z \" style=\"fill:#a1dab4;stroke:#444443;stroke-linejoin:miter;stroke-width:0.5;\" />\n",
       "   </g>\n",
       "   <g id=\"patch_32\">\n",
       "    <path clip-path=\"url(#p8bcf6508df)\" d=\"M 120.988246 81.372093  L 130.35107 81.372093  L 130.35107 81.372093  L 120.988246 81.372093  z \" style=\"fill:#a1dab4;stroke:#444443;stroke-linejoin:miter;stroke-width:0.5;\" />\n",
       "   </g>\n",
       "   <g id=\"patch_33\">\n",
       "    <path clip-path=\"url(#p8bcf6508df)\" d=\"M 130.35107 81.477035  L 139.713895 81.477035  L 139.713895 81.477035  L 130.35107 81.477035  z \" style=\"fill:#a1dab4;stroke:#444443;stroke-linejoin:miter;stroke-width:0.5;\" />\n",
       "   </g>\n",
       "   <g id=\"patch_34\">\n",
       "    <path clip-path=\"url(#p8bcf6508df)\" d=\"M 139.713895 81.54  L 149.076719 81.54  L 149.076719 81.54  L 139.713895 81.54  z \" style=\"fill:#a1dab4;stroke:#444443;stroke-linejoin:miter;stroke-width:0.5;\" />\n",
       "   </g>\n",
       "   <g id=\"patch_35\">\n",
       "    <path clip-path=\"url(#p8bcf6508df)\" d=\"M 149.076719 81.519012  L 158.439544 81.519012  L 158.439544 81.519012  L 149.076719 81.519012  z \" style=\"fill:#a1dab4;stroke:#444443;stroke-linejoin:miter;stroke-width:0.5;\" />\n",
       "   </g>\n",
       "   <g id=\"patch_36\">\n",
       "    <path clip-path=\"url(#p8bcf6508df)\" d=\"M 158.439544 81.54  L 167.802369 81.54  L 167.802369 81.54  L 158.439544 81.54  z \" style=\"fill:#a1dab4;stroke:#444443;stroke-linejoin:miter;stroke-width:0.5;\" />\n",
       "   </g>\n",
       "   <g id=\"patch_37\">\n",
       "    <path clip-path=\"url(#p8bcf6508df)\" d=\"M 167.802369 81.519012  L 177.165193 81.519012  L 177.165193 81.519012  L 167.802369 81.519012  z \" style=\"fill:#a1dab4;stroke:#444443;stroke-linejoin:miter;stroke-width:0.5;\" />\n",
       "   </g>\n",
       "   <g id=\"patch_38\">\n",
       "    <path clip-path=\"url(#p8bcf6508df)\" d=\"M 177.165193 81.54  L 186.528018 81.54  L 186.528018 81.54  L 177.165193 81.54  z \" style=\"fill:#a1dab4;stroke:#444443;stroke-linejoin:miter;stroke-width:0.5;\" />\n",
       "   </g>\n",
       "   <g id=\"patch_39\">\n",
       "    <path clip-path=\"url(#p8bcf6508df)\" d=\"M 186.528018 81.54  L 195.890842 81.54  L 195.890842 81.54  L 186.528018 81.54  z \" style=\"fill:#a1dab4;stroke:#444443;stroke-linejoin:miter;stroke-width:0.5;\" />\n",
       "   </g>\n",
       "   <g id=\"patch_40\">\n",
       "    <path clip-path=\"url(#p8bcf6508df)\" d=\"M 195.890842 81.519012  L 205.253667 81.519012  L 205.253667 81.519012  L 195.890842 81.519012  z \" style=\"fill:#a1dab4;stroke:#444443;stroke-linejoin:miter;stroke-width:0.5;\" />\n",
       "   </g>\n",
       "   <g id=\"patch_41\">\n",
       "    <path d=\"M 85.697175 82.3554  L 82.382655 89.694  L 89.011695 89.694  z \" style=\"fill:#444443;\" />\n",
       "   </g>\n",
       "   <g id=\"matplotlib.axis_1\">\n",
       "    <g id=\"xtick_1\">\n",
       "     <g id=\"line2d_1\">\n",
       "      <defs>\n",
       "       <path d=\"M 0 0  L 0 3.5  \" id=\"m93f9ec936d\" style=\"stroke:#000000;stroke-width:0.3;\" />\n",
       "      </defs>\n",
       "      <g>\n",
       "       <use style=\"stroke:#000000;stroke-width:0.3;\" x=\"27.36\" y=\"81.54\" xlink:href=\"#m93f9ec936d\" />\n",
       "      </g>\n",
       "     </g>\n",
       "     <g id=\"text_1\">\n",
       "      \n",
       "      <defs>\n",
       "       <path d=\"M 10.59375 35.5  L 73.1875 35.5  L 73.1875 27.203125  L 10.59375 27.203125  z \" id=\"DejaVuSans-8722\" />\n",
       "       <path d=\"M 19.1875 8.296875  L 53.609375 8.296875  L 53.609375 0  L 7.328125 0  L 7.328125 8.296875  Q 12.9375 14.109375 22.625 23.890625  Q 32.328125 33.6875 34.8125 36.53125  Q 39.546875 41.84375 41.421875 45.53125  Q 43.3125 49.21875 43.3125 52.78125  Q 43.3125 58.59375 39.234375 62.25  Q 35.15625 65.921875 28.609375 65.921875  Q 23.96875 65.921875 18.8125 64.3125  Q 13.671875 62.703125 7.8125 59.421875  L 7.8125 69.390625  Q 13.765625 71.78125 18.9375 73  Q 24.125 74.21875 28.421875 74.21875  Q 39.75 74.21875 46.484375 68.546875  Q 53.21875 62.890625 53.21875 53.421875  Q 53.21875 48.921875 51.53125 44.890625  Q 49.859375 40.875 45.40625 35.40625  Q 44.1875 33.984375 37.640625 27.21875  Q 31.109375 20.453125 19.1875 8.296875  z \" id=\"DejaVuSans-50\" />\n",
       "       <path d=\"M 10.984375 1.515625  L 10.984375 10.5  Q 14.703125 8.734375 18.5 7.8125  Q 22.3125 6.890625 25.984375 6.890625  Q 35.75 6.890625 40.890625 13.453125  Q 46.046875 20.015625 46.78125 33.40625  Q 43.953125 29.203125 39.59375 26.953125  Q 35.25 24.703125 29.984375 24.703125  Q 19.046875 24.703125 12.671875 31.3125  Q 6.296875 37.9375 6.296875 49.421875  Q 6.296875 60.640625 12.9375 67.421875  Q 19.578125 74.21875 30.609375 74.21875  Q 43.265625 74.21875 49.921875 64.515625  Q 56.59375 54.828125 56.59375 36.375  Q 56.59375 19.140625 48.40625 8.859375  Q 40.234375 -1.421875 26.421875 -1.421875  Q 22.703125 -1.421875 18.890625 -0.6875  Q 15.09375 0.046875 10.984375 1.515625  z M 30.609375 32.421875  Q 37.25 32.421875 41.125 36.953125  Q 45.015625 41.5 45.015625 49.421875  Q 45.015625 57.28125 41.125 61.84375  Q 37.25 66.40625 30.609375 66.40625  Q 23.96875 66.40625 20.09375 61.84375  Q 16.21875 57.28125 16.21875 49.421875  Q 16.21875 41.5 20.09375 36.953125  Q 23.96875 32.421875 30.609375 32.421875  z \" id=\"DejaVuSans-57\" />\n",
       "       <path d=\"M 10.6875 12.40625  L 21 12.40625  L 21 0  L 10.6875 0  z \" id=\"DejaVuSans-46\" />\n",
       "       <path d=\"M 31.78125 66.40625  Q 24.171875 66.40625 20.328125 58.90625  Q 16.5 51.421875 16.5 36.375  Q 16.5 21.390625 20.328125 13.890625  Q 24.171875 6.390625 31.78125 6.390625  Q 39.453125 6.390625 43.28125 13.890625  Q 47.125 21.390625 47.125 36.375  Q 47.125 51.421875 43.28125 58.90625  Q 39.453125 66.40625 31.78125 66.40625  z M 31.78125 74.21875  Q 44.046875 74.21875 50.515625 64.515625  Q 56.984375 54.828125 56.984375 36.375  Q 56.984375 17.96875 50.515625 8.265625  Q 44.046875 -1.421875 31.78125 -1.421875  Q 19.53125 -1.421875 13.0625 8.265625  Q 6.59375 17.96875 6.59375 36.375  Q 6.59375 54.828125 13.0625 64.515625  Q 19.53125 74.21875 31.78125 74.21875  z \" id=\"DejaVuSans-48\" />\n",
       "       <path d=\"M 33.015625 40.375  Q 26.375 40.375 22.484375 35.828125  Q 18.609375 31.296875 18.609375 23.390625  Q 18.609375 15.53125 22.484375 10.953125  Q 26.375 6.390625 33.015625 6.390625  Q 39.65625 6.390625 43.53125 10.953125  Q 47.40625 15.53125 47.40625 23.390625  Q 47.40625 31.296875 43.53125 35.828125  Q 39.65625 40.375 33.015625 40.375  z M 52.59375 71.296875  L 52.59375 62.3125  Q 48.875 64.0625 45.09375 64.984375  Q 41.3125 65.921875 37.59375 65.921875  Q 27.828125 65.921875 22.671875 59.328125  Q 17.53125 52.734375 16.796875 39.40625  Q 19.671875 43.65625 24.015625 45.921875  Q 28.375 48.1875 33.59375 48.1875  Q 44.578125 48.1875 50.953125 41.515625  Q 57.328125 34.859375 57.328125 23.390625  Q 57.328125 12.15625 50.6875 5.359375  Q 44.046875 -1.421875 33.015625 -1.421875  Q 20.359375 -1.421875 13.671875 8.265625  Q 6.984375 17.96875 6.984375 36.375  Q 6.984375 53.65625 15.1875 63.9375  Q 23.390625 74.21875 37.203125 74.21875  Q 40.921875 74.21875 44.703125 73.484375  Q 48.484375 72.75 52.59375 71.296875  z \" id=\"DejaVuSans-54\" />\n",
       "      </defs>\n",
       "      <g style=\"fill:#444443;\" transform=\"translate(12.556875 94.61875)scale(0.08 -0.08)\">\n",
       "       <use xlink:href=\"#DejaVuSans-8722\" />\n",
       "       <use x=\"83.789062\" xlink:href=\"#DejaVuSans-50\" />\n",
       "       <use x=\"147.412109\" xlink:href=\"#DejaVuSans-57\" />\n",
       "       <use x=\"211.035156\" xlink:href=\"#DejaVuSans-46\" />\n",
       "       <use x=\"242.822266\" xlink:href=\"#DejaVuSans-48\" />\n",
       "       <use x=\"306.445312\" xlink:href=\"#DejaVuSans-54\" />\n",
       "      </g>\n",
       "     </g>\n",
       "    </g>\n",
       "    <g id=\"xtick_2\">\n",
       "     <g id=\"line2d_2\">\n",
       "      <g>\n",
       "       <use style=\"stroke:#000000;stroke-width:0.3;\" x=\"205.253667\" y=\"81.54\" xlink:href=\"#m93f9ec936d\" />\n",
       "      </g>\n",
       "     </g>\n",
       "     <g id=\"text_2\">\n",
       "      \n",
       "      <defs>\n",
       "       <path d=\"M 31.78125 34.625  Q 24.75 34.625 20.71875 30.859375  Q 16.703125 27.09375 16.703125 20.515625  Q 16.703125 13.921875 20.71875 10.15625  Q 24.75 6.390625 31.78125 6.390625  Q 38.8125 6.390625 42.859375 10.171875  Q 46.921875 13.96875 46.921875 20.515625  Q 46.921875 27.09375 42.890625 30.859375  Q 38.875 34.625 31.78125 34.625  z M 21.921875 38.8125  Q 15.578125 40.375 12.03125 44.71875  Q 8.5 49.078125 8.5 55.328125  Q 8.5 64.0625 14.71875 69.140625  Q 20.953125 74.21875 31.78125 74.21875  Q 42.671875 74.21875 48.875 69.140625  Q 55.078125 64.0625 55.078125 55.328125  Q 55.078125 49.078125 51.53125 44.71875  Q 48 40.375 41.703125 38.8125  Q 48.828125 37.15625 52.796875 32.3125  Q 56.78125 27.484375 56.78125 20.515625  Q 56.78125 9.90625 50.3125 4.234375  Q 43.84375 -1.421875 31.78125 -1.421875  Q 19.734375 -1.421875 13.25 4.234375  Q 6.78125 9.90625 6.78125 20.515625  Q 6.78125 27.484375 10.78125 32.3125  Q 14.796875 37.15625 21.921875 38.8125  z M 18.3125 54.390625  Q 18.3125 48.734375 21.84375 45.5625  Q 25.390625 42.390625 31.78125 42.390625  Q 38.140625 42.390625 41.71875 45.5625  Q 45.3125 48.734375 45.3125 54.390625  Q 45.3125 60.0625 41.71875 63.234375  Q 38.140625 66.40625 31.78125 66.40625  Q 25.390625 66.40625 21.84375 63.234375  Q 18.3125 60.0625 18.3125 54.390625  z \" id=\"DejaVuSans-56\" />\n",
       "       <path d=\"M 10.796875 72.90625  L 49.515625 72.90625  L 49.515625 64.59375  L 19.828125 64.59375  L 19.828125 46.734375  Q 21.96875 47.46875 24.109375 47.828125  Q 26.265625 48.1875 28.421875 48.1875  Q 40.625 48.1875 47.75 41.5  Q 54.890625 34.8125 54.890625 23.390625  Q 54.890625 11.625 47.5625 5.09375  Q 40.234375 -1.421875 26.90625 -1.421875  Q 22.3125 -1.421875 17.546875 -0.640625  Q 12.796875 0.140625 7.71875 1.703125  L 7.71875 11.625  Q 12.109375 9.234375 16.796875 8.0625  Q 21.484375 6.890625 26.703125 6.890625  Q 35.15625 6.890625 40.078125 11.328125  Q 45.015625 15.765625 45.015625 23.390625  Q 45.015625 31 40.078125 35.4375  Q 35.15625 39.890625 26.703125 39.890625  Q 22.75 39.890625 18.8125 39.015625  Q 14.890625 38.140625 10.796875 36.28125  z \" id=\"DejaVuSans-53\" />\n",
       "       <path d=\"M 37.796875 64.3125  L 12.890625 25.390625  L 37.796875 25.390625  z M 35.203125 72.90625  L 47.609375 72.90625  L 47.609375 25.390625  L 58.015625 25.390625  L 58.015625 17.1875  L 47.609375 17.1875  L 47.609375 0  L 37.796875 0  L 37.796875 17.1875  L 4.890625 17.1875  L 4.890625 26.703125  z \" id=\"DejaVuSans-52\" />\n",
       "      </defs>\n",
       "      <g style=\"fill:#444443;\" transform=\"translate(193.802417 94.61875)scale(0.08 -0.08)\">\n",
       "       <use xlink:href=\"#DejaVuSans-54\" />\n",
       "       <use x=\"63.623047\" xlink:href=\"#DejaVuSans-56\" />\n",
       "       <use x=\"127.246094\" xlink:href=\"#DejaVuSans-46\" />\n",
       "       <use x=\"159.033203\" xlink:href=\"#DejaVuSans-53\" />\n",
       "       <use x=\"222.65625\" xlink:href=\"#DejaVuSans-52\" />\n",
       "      </g>\n",
       "     </g>\n",
       "    </g>\n",
       "    <g id=\"text_3\">\n",
       "     \n",
       "     <defs>\n",
       "      <path d=\"M 9.8125 72.90625  L 19.671875 72.90625  L 19.671875 8.296875  L 55.171875 8.296875  L 55.171875 0  L 9.8125 0  z \" id=\"DejaVuSans-76\" />\n",
       "      <path d=\"M 30.609375 48.390625  Q 23.390625 48.390625 19.1875 42.75  Q 14.984375 37.109375 14.984375 27.296875  Q 14.984375 17.484375 19.15625 11.84375  Q 23.34375 6.203125 30.609375 6.203125  Q 37.796875 6.203125 41.984375 11.859375  Q 46.1875 17.53125 46.1875 27.296875  Q 46.1875 37.015625 41.984375 42.703125  Q 37.796875 48.390625 30.609375 48.390625  z M 30.609375 56  Q 42.328125 56 49.015625 48.375  Q 55.71875 40.765625 55.71875 27.296875  Q 55.71875 13.875 49.015625 6.21875  Q 42.328125 -1.421875 30.609375 -1.421875  Q 18.84375 -1.421875 12.171875 6.21875  Q 5.515625 13.875 5.515625 27.296875  Q 5.515625 40.765625 12.171875 48.375  Q 18.84375 56 30.609375 56  z \" id=\"DejaVuSans-111\" />\n",
       "      <path d=\"M 45.40625 27.984375  Q 45.40625 37.75 41.375 43.109375  Q 37.359375 48.484375 30.078125 48.484375  Q 22.859375 48.484375 18.828125 43.109375  Q 14.796875 37.75 14.796875 27.984375  Q 14.796875 18.265625 18.828125 12.890625  Q 22.859375 7.515625 30.078125 7.515625  Q 37.359375 7.515625 41.375 12.890625  Q 45.40625 18.265625 45.40625 27.984375  z M 54.390625 6.78125  Q 54.390625 -7.171875 48.1875 -13.984375  Q 42 -20.796875 29.203125 -20.796875  Q 24.46875 -20.796875 20.265625 -20.09375  Q 16.0625 -19.390625 12.109375 -17.921875  L 12.109375 -9.1875  Q 16.0625 -11.328125 19.921875 -12.34375  Q 23.78125 -13.375 27.78125 -13.375  Q 36.625 -13.375 41.015625 -8.765625  Q 45.40625 -4.15625 45.40625 5.171875  L 45.40625 9.625  Q 42.625 4.78125 38.28125 2.390625  Q 33.9375 0 27.875 0  Q 17.828125 0 11.671875 7.65625  Q 5.515625 15.328125 5.515625 27.984375  Q 5.515625 40.671875 11.671875 48.328125  Q 17.828125 56 27.875 56  Q 33.9375 56 38.28125 53.609375  Q 42.625 51.21875 45.40625 46.390625  L 45.40625 54.6875  L 54.390625 54.6875  z \" id=\"DejaVuSans-103\" />\n",
       "      <path d=\"M 19.671875 64.796875  L 19.671875 37.40625  L 32.078125 37.40625  Q 38.96875 37.40625 42.71875 40.96875  Q 46.484375 44.53125 46.484375 51.125  Q 46.484375 57.671875 42.71875 61.234375  Q 38.96875 64.796875 32.078125 64.796875  z M 9.8125 72.90625  L 32.078125 72.90625  Q 44.34375 72.90625 50.609375 67.359375  Q 56.890625 61.8125 56.890625 51.125  Q 56.890625 40.328125 50.609375 34.8125  Q 44.34375 29.296875 32.078125 29.296875  L 19.671875 29.296875  L 19.671875 0  L 9.8125 0  z \" id=\"DejaVuSans-80\" />\n",
       "     </defs>\n",
       "     <g style=\"fill:#444443;\" transform=\"translate(105.09375 109.400625)scale(0.12 -0.12)\">\n",
       "      <use xlink:href=\"#DejaVuSans-76\" />\n",
       "      <use x=\"53.962891\" xlink:href=\"#DejaVuSans-111\" />\n",
       "      <use x=\"115.144531\" xlink:href=\"#DejaVuSans-103\" />\n",
       "      <use x=\"178.621094\" xlink:href=\"#DejaVuSans-80\" />\n",
       "     </g>\n",
       "    </g>\n",
       "   </g>\n",
       "   <g id=\"matplotlib.axis_2\">\n",
       "    <g id=\"ytick_1\">\n",
       "     <g id=\"line2d_3\">\n",
       "      <defs>\n",
       "       <path d=\"M 0 0  L -3.5 0  \" id=\"mcbb56e6e41\" style=\"stroke:#000000;stroke-width:0.3;\" />\n",
       "      </defs>\n",
       "      <g>\n",
       "       <use style=\"stroke:#000000;stroke-width:0.3;\" x=\"27.36\" y=\"81.54\" xlink:href=\"#mcbb56e6e41\" />\n",
       "      </g>\n",
       "     </g>\n",
       "     <g id=\"text_4\">\n",
       "      \n",
       "      <g style=\"fill:#444443;\" transform=\"translate(15.27 84.579375)scale(0.08 -0.08)\">\n",
       "       <use xlink:href=\"#DejaVuSans-48\" />\n",
       "      </g>\n",
       "     </g>\n",
       "    </g>\n",
       "    <g id=\"ytick_2\">\n",
       "     <g id=\"line2d_4\">\n",
       "      <g>\n",
       "       <use style=\"stroke:#000000;stroke-width:0.3;\" x=\"27.36\" y=\"3.882857\" xlink:href=\"#mcbb56e6e41\" />\n",
       "      </g>\n",
       "     </g>\n",
       "     <g id=\"text_5\">\n",
       "      \n",
       "      <defs>\n",
       "       <path d=\"M 40.578125 39.3125  Q 47.65625 37.796875 51.625 33  Q 55.609375 28.21875 55.609375 21.1875  Q 55.609375 10.40625 48.1875 4.484375  Q 40.765625 -1.421875 27.09375 -1.421875  Q 22.515625 -1.421875 17.65625 -0.515625  Q 12.796875 0.390625 7.625 2.203125  L 7.625 11.71875  Q 11.71875 9.328125 16.59375 8.109375  Q 21.484375 6.890625 26.8125 6.890625  Q 36.078125 6.890625 40.9375 10.546875  Q 45.796875 14.203125 45.796875 21.1875  Q 45.796875 27.640625 41.28125 31.265625  Q 36.765625 34.90625 28.71875 34.90625  L 20.21875 34.90625  L 20.21875 43.015625  L 29.109375 43.015625  Q 36.375 43.015625 40.234375 45.921875  Q 44.09375 48.828125 44.09375 54.296875  Q 44.09375 59.90625 40.109375 62.90625  Q 36.140625 65.921875 28.71875 65.921875  Q 24.65625 65.921875 20.015625 65.03125  Q 15.375 64.15625 9.8125 62.3125  L 9.8125 71.09375  Q 15.4375 72.65625 20.34375 73.4375  Q 25.25 74.21875 29.59375 74.21875  Q 40.828125 74.21875 47.359375 69.109375  Q 53.90625 64.015625 53.90625 55.328125  Q 53.90625 49.265625 50.4375 45.09375  Q 46.96875 40.921875 40.578125 39.3125  z \" id=\"DejaVuSans-51\" />\n",
       "       <path d=\"M 8.203125 72.90625  L 55.078125 72.90625  L 55.078125 68.703125  L 28.609375 0  L 18.3125 0  L 43.21875 64.59375  L 8.203125 64.59375  z \" id=\"DejaVuSans-55\" />\n",
       "      </defs>\n",
       "      <g style=\"fill:#444443;\" transform=\"translate(0 6.922232)scale(0.08 -0.08)\">\n",
       "       <use xlink:href=\"#DejaVuSans-51\" />\n",
       "       <use x=\"63.623047\" xlink:href=\"#DejaVuSans-55\" />\n",
       "       <use x=\"127.246094\" xlink:href=\"#DejaVuSans-48\" />\n",
       "       <use x=\"190.869141\" xlink:href=\"#DejaVuSans-48\" />\n",
       "      </g>\n",
       "     </g>\n",
       "    </g>\n",
       "   </g>\n",
       "   <g id=\"patch_42\">\n",
       "    <path d=\"M 27.36 81.54  L 27.36 0  \" style=\"fill:none;stroke:#000000;stroke-linecap:square;stroke-linejoin:miter;stroke-width:0.3;\" />\n",
       "   </g>\n",
       "   <g id=\"patch_43\">\n",
       "    <path d=\"M 27.36 81.54  L 211.5 81.54  \" style=\"fill:none;stroke:#000000;stroke-linecap:square;stroke-linejoin:miter;stroke-width:0.3;\" />\n",
       "   </g>\n",
       "   <g id=\"text_6\">\n",
       "    \n",
       "    <g style=\"fill:#444443;\" transform=\"translate(76.790925 97.848)scale(0.08 -0.08)\">\n",
       "     <use xlink:href=\"#DejaVuSans-50\" />\n",
       "     <use x=\"63.623047\" xlink:href=\"#DejaVuSans-46\" />\n",
       "     <use x=\"95.410156\" xlink:href=\"#DejaVuSans-57\" />\n",
       "     <use x=\"159.033203\" xlink:href=\"#DejaVuSans-53\" />\n",
       "    </g>\n",
       "   </g>\n",
       "  </g>\n",
       " </g>\n",
       " <defs>\n",
       "  <clipPath id=\"p8bcf6508df\">\n",
       "   <rect height=\"81.54\" width=\"184.14\" x=\"27.36\" y=\"0\" />\n",
       "  </clipPath>\n",
       " </defs>\n",
       "</svg></g>\n",
       "\n",
       "<g class=\"edge\" id=\"edge7\">\n",
       "<title>node0-&gt;node1</title>\n",
       "<path d=\"M148.2729,-208.8204C141.21,-199.8171 133.8357,-190.417 126.8706,-181.5383\" fill=\"none\" stroke=\"#444443\" stroke-width=\".3\" />\n",
       "<polygon fill=\"#444443\" points=\"127.8948,-180.5756 124.3243,-178.2925 125.6917,-182.3038 127.8948,-180.5756\" stroke=\"#444443\" stroke-width=\".3\" />\n",
       "<text fill=\"#000000\" font-family=\"Times,serif\" font-size=\"14.00\" text-anchor=\"start\" x=\"142.5\" y=\"-189.8\">&#8804;</text>\n",
       "</g>\n",
       "\n",
       "<g class=\"edge\" id=\"edge8\">\n",
       "<title>node0-&gt;node4</title>\n",
       "<path d=\"M220.7271,-208.8204C231.2378,-195.4221 242.438,-181.1449 251.9535,-169.0154\" fill=\"none\" stroke=\"#444443\" stroke-width=\".3\" />\n",
       "<polygon fill=\"#444443\" points=\"253.2232,-169.665 254.5906,-165.6537 251.0202,-167.9367 253.2232,-169.665\" stroke=\"#444443\" stroke-width=\".3\" />\n",
       "<text fill=\"#000000\" font-family=\"Times,serif\" font-size=\"14.00\" text-anchor=\"start\" x=\"238.5\" y=\"-189.8\">&gt;</text>\n",
       "</g>\n",
       "\n",
       "\n",
       "\n",
       "<g class=\"node\" id=\"node8\">\n",
       "<title>legend</title>\n",
       "<polygon fill=\"none\" points=\"332.5,-278 276.5,-278 276.5,-232 332.5,-232 332.5,-278\" stroke=\"#000000\" stroke-width=\"0\" />\n",
       "<svg height=\"42px\" preserveAspectRatio=\"xMinYMin meet\" version=\"1.1\" viewBox=\"0 0 69.359375 55.1125\" width=\"52px\" x=\"278.5\" y=\"-276\">\n",
       " <defs>\n",
       "  <style type=\"text/css\">\n",
       "*{stroke-linecap:butt;stroke-linejoin:round;}\n",
       "  </style>\n",
       " </defs>\n",
       " <g id=\"figure_1\">\n",
       "  <g id=\"patch_1\">\n",
       "   <path d=\"M 0 55.1125  L 69.359375 55.1125  L 69.359375 0  L 0 0  z \" style=\"fill:#ffffff;\" />\n",
       "  </g>\n",
       "  <g id=\"axes_1\">\n",
       "   <g id=\"legend_1\">\n",
       "    <g id=\"patch_2\">\n",
       "     <path d=\"M 2 55.1125  L 67.359375 55.1125  Q 69.359375 55.1125 69.359375 53.1125  L 69.359375 2  Q 69.359375 -0 67.359375 -0  L 2 -0  Q 0 -0 0 2  L 0 53.1125  Q 0 55.1125 2 55.1125  z \" style=\"fill:#ffffff;opacity:0.8;stroke:#444443;stroke-linejoin:miter;stroke-width:0.5;\" />\n",
       "    </g>\n",
       "    <g id=\"text_1\">\n",
       "     \n",
       "     <defs>\n",
       "      <path d=\"M 59.90625 70.609375  L 59.90625 55.171875  Q 53.90625 57.859375 48.1875 59.21875  Q 42.484375 60.59375 37.40625 60.59375  Q 30.671875 60.59375 27.4375 58.734375  Q 24.21875 56.890625 24.21875 52.984375  Q 24.21875 50.046875 26.390625 48.40625  Q 28.5625 46.78125 34.28125 45.609375  L 42.28125 44  Q 54.4375 41.546875 59.5625 36.5625  Q 64.703125 31.59375 64.703125 22.40625  Q 64.703125 10.359375 57.546875 4.46875  Q 50.390625 -1.421875 35.6875 -1.421875  Q 28.765625 -1.421875 21.78125 -0.09375  Q 14.796875 1.21875 7.8125 3.8125  L 7.8125 19.671875  Q 14.796875 15.96875 21.3125 14.078125  Q 27.828125 12.203125 33.890625 12.203125  Q 40.046875 12.203125 43.3125 14.25  Q 46.578125 16.3125 46.578125 20.125  Q 46.578125 23.53125 44.359375 25.390625  Q 42.140625 27.25 35.5 28.71875  L 28.21875 30.328125  Q 17.28125 32.671875 12.21875 37.796875  Q 7.171875 42.921875 7.171875 51.609375  Q 7.171875 62.5 14.203125 68.359375  Q 21.234375 74.21875 34.421875 74.21875  Q 40.4375 74.21875 46.78125 73.3125  Q 53.125 72.40625 59.90625 70.609375  z \" id=\"DejaVuSans-Bold-83\" />\n",
       "      <path d=\"M 34.421875 43.5  Q 28.609375 43.5 25.5625 39.328125  Q 22.515625 35.15625 22.515625 27.296875  Q 22.515625 19.4375 25.5625 15.25  Q 28.609375 11.078125 34.421875 11.078125  Q 40.140625 11.078125 43.15625 15.25  Q 46.1875 19.4375 46.1875 27.296875  Q 46.1875 35.15625 43.15625 39.328125  Q 40.140625 43.5 34.421875 43.5  z M 34.421875 56  Q 48.53125 56 56.46875 48.375  Q 64.40625 40.765625 64.40625 27.296875  Q 64.40625 13.8125 56.46875 6.1875  Q 48.53125 -1.421875 34.421875 -1.421875  Q 20.265625 -1.421875 12.28125 6.1875  Q 4.296875 13.8125 4.296875 27.296875  Q 4.296875 40.765625 12.28125 48.375  Q 20.265625 56 34.421875 56  z \" id=\"DejaVuSans-Bold-111\" />\n",
       "      <path d=\"M 8.40625 75.984375  L 25.875 75.984375  L 25.875 0  L 8.40625 0  z \" id=\"DejaVuSans-Bold-108\" />\n",
       "      <path d=\"M 7.8125 21.296875  L 7.8125 54.6875  L 25.390625 54.6875  L 25.390625 49.21875  Q 25.390625 44.78125 25.34375 38.0625  Q 25.296875 31.34375 25.296875 29.109375  Q 25.296875 22.515625 25.640625 19.609375  Q 25.984375 16.703125 26.8125 15.375  Q 27.875 13.671875 29.609375 12.734375  Q 31.34375 11.8125 33.59375 11.8125  Q 39.0625 11.8125 42.1875 16.015625  Q 45.3125 20.21875 45.3125 27.6875  L 45.3125 54.6875  L 62.796875 54.6875  L 62.796875 0  L 45.3125 0  L 45.3125 7.90625  Q 41.359375 3.125 36.9375 0.84375  Q 32.515625 -1.421875 27.203125 -1.421875  Q 17.71875 -1.421875 12.765625 4.390625  Q 7.8125 10.203125 7.8125 21.296875  z \" id=\"DejaVuSans-Bold-117\" />\n",
       "      <path d=\"M 37.5 11.28125  Q 43.109375 11.28125 46.0625 15.375  Q 49.03125 19.484375 49.03125 27.296875  Q 49.03125 35.109375 46.0625 39.203125  Q 43.109375 43.3125 37.5 43.3125  Q 31.890625 43.3125 28.875 39.1875  Q 25.875 35.0625 25.875 27.296875  Q 25.875 19.53125 28.875 15.40625  Q 31.890625 11.28125 37.5 11.28125  z M 25.875 46.6875  Q 29.5 51.46875 33.890625 53.734375  Q 38.28125 56 44 56  Q 54.109375 56 60.59375 47.96875  Q 67.09375 39.9375 67.09375 27.296875  Q 67.09375 14.65625 60.59375 6.609375  Q 54.109375 -1.421875 44 -1.421875  Q 38.28125 -1.421875 33.890625 0.84375  Q 29.5 3.125 25.875 7.90625  L 25.875 0  L 8.40625 0  L 8.40625 75.984375  L 25.875 75.984375  z \" id=\"DejaVuSans-Bold-98\" />\n",
       "      <path d=\"M 8.40625 54.6875  L 25.875 54.6875  L 25.875 0  L 8.40625 0  z M 8.40625 75.984375  L 25.875 75.984375  L 25.875 61.71875  L 8.40625 61.71875  z \" id=\"DejaVuSans-Bold-105\" />\n",
       "      <path d=\"M 27.484375 70.21875  L 27.484375 54.6875  L 45.515625 54.6875  L 45.515625 42.1875  L 27.484375 42.1875  L 27.484375 19  Q 27.484375 15.1875 29 13.84375  Q 30.515625 12.5 35.015625 12.5  L 44 12.5  L 44 0  L 29 0  Q 18.65625 0 14.328125 4.3125  Q 10.015625 8.640625 10.015625 19  L 10.015625 42.1875  L 1.3125 42.1875  L 1.3125 54.6875  L 10.015625 54.6875  L 10.015625 70.21875  z \" id=\"DejaVuSans-Bold-116\" />\n",
       "      <path d=\"M 1.21875 54.6875  L 18.703125 54.6875  L 33.40625 17.578125  L 45.90625 54.6875  L 63.375 54.6875  L 40.375 -5.171875  Q 36.921875 -14.3125 32.296875 -17.9375  Q 27.6875 -21.578125 20.125 -21.578125  L 10.015625 -21.578125  L 10.015625 -10.109375  L 15.484375 -10.109375  Q 19.921875 -10.109375 21.9375 -8.6875  Q 23.96875 -7.28125 25.09375 -3.609375  L 25.59375 -2.09375  z \" id=\"DejaVuSans-Bold-121\" />\n",
       "     </defs>\n",
       "     <g style=\"fill:#444443;\" transform=\"translate(8 15.598437)scale(0.1 -0.1)\">\n",
       "      <use xlink:href=\"#DejaVuSans-Bold-83\" />\n",
       "      <use x=\"72.021484\" xlink:href=\"#DejaVuSans-Bold-111\" />\n",
       "      <use x=\"140.722656\" xlink:href=\"#DejaVuSans-Bold-108\" />\n",
       "      <use x=\"175\" xlink:href=\"#DejaVuSans-Bold-117\" />\n",
       "      <use x=\"246.191406\" xlink:href=\"#DejaVuSans-Bold-98\" />\n",
       "      <use x=\"317.773438\" xlink:href=\"#DejaVuSans-Bold-105\" />\n",
       "      <use x=\"352.050781\" xlink:href=\"#DejaVuSans-Bold-108\" />\n",
       "      <use x=\"386.328125\" xlink:href=\"#DejaVuSans-Bold-105\" />\n",
       "      <use x=\"420.605469\" xlink:href=\"#DejaVuSans-Bold-116\" />\n",
       "      <use x=\"468.408203\" xlink:href=\"#DejaVuSans-Bold-121\" />\n",
       "     </g>\n",
       "    </g>\n",
       "    <g id=\"patch_3\">\n",
       "     <path d=\"M 10.375781 30.354687  L 30.375781 30.354687  L 30.375781 23.354687  L 10.375781 23.354687  z \" style=\"fill:#fefebb;stroke:#444443;stroke-linejoin:miter;stroke-width:0.4;\" />\n",
       "    </g>\n",
       "    <g id=\"text_2\">\n",
       "     \n",
       "     <defs>\n",
       "      <path d=\"M 9.8125 72.90625  L 51.703125 72.90625  L 51.703125 64.59375  L 19.671875 64.59375  L 19.671875 43.109375  L 48.578125 43.109375  L 48.578125 34.8125  L 19.671875 34.8125  L 19.671875 0  L 9.8125 0  z \" id=\"DejaVuSans-70\" />\n",
       "      <path d=\"M 34.28125 27.484375  Q 23.390625 27.484375 19.1875 25  Q 14.984375 22.515625 14.984375 16.5  Q 14.984375 11.71875 18.140625 8.90625  Q 21.296875 6.109375 26.703125 6.109375  Q 34.1875 6.109375 38.703125 11.40625  Q 43.21875 16.703125 43.21875 25.484375  L 43.21875 27.484375  z M 52.203125 31.203125  L 52.203125 0  L 43.21875 0  L 43.21875 8.296875  Q 40.140625 3.328125 35.546875 0.953125  Q 30.953125 -1.421875 24.3125 -1.421875  Q 15.921875 -1.421875 10.953125 3.296875  Q 6 8.015625 6 15.921875  Q 6 25.140625 12.171875 29.828125  Q 18.359375 34.515625 30.609375 34.515625  L 43.21875 34.515625  L 43.21875 35.40625  Q 43.21875 41.609375 39.140625 45  Q 35.0625 48.390625 27.6875 48.390625  Q 23 48.390625 18.546875 47.265625  Q 14.109375 46.140625 10.015625 43.890625  L 10.015625 52.203125  Q 14.9375 54.109375 19.578125 55.046875  Q 24.21875 56 28.609375 56  Q 40.484375 56 46.34375 49.84375  Q 52.203125 43.703125 52.203125 31.203125  z \" id=\"DejaVuSans-97\" />\n",
       "      <path d=\"M 9.421875 75.984375  L 18.40625 75.984375  L 18.40625 0  L 9.421875 0  z \" id=\"DejaVuSans-108\" />\n",
       "      <path d=\"M 44.28125 53.078125  L 44.28125 44.578125  Q 40.484375 46.53125 36.375 47.5  Q 32.28125 48.484375 27.875 48.484375  Q 21.1875 48.484375 17.84375 46.4375  Q 14.5 44.390625 14.5 40.28125  Q 14.5 37.15625 16.890625 35.375  Q 19.28125 33.59375 26.515625 31.984375  L 29.59375 31.296875  Q 39.15625 29.25 43.1875 25.515625  Q 47.21875 21.78125 47.21875 15.09375  Q 47.21875 7.46875 41.1875 3.015625  Q 35.15625 -1.421875 24.609375 -1.421875  Q 20.21875 -1.421875 15.453125 -0.5625  Q 10.6875 0.296875 5.421875 2  L 5.421875 11.28125  Q 10.40625 8.6875 15.234375 7.390625  Q 20.0625 6.109375 24.8125 6.109375  Q 31.15625 6.109375 34.5625 8.28125  Q 37.984375 10.453125 37.984375 14.40625  Q 37.984375 18.0625 35.515625 20.015625  Q 33.0625 21.96875 24.703125 23.78125  L 21.578125 24.515625  Q 13.234375 26.265625 9.515625 29.90625  Q 5.8125 33.546875 5.8125 39.890625  Q 5.8125 47.609375 11.28125 51.796875  Q 16.75 56 26.8125 56  Q 31.78125 56 36.171875 55.265625  Q 40.578125 54.546875 44.28125 53.078125  z \" id=\"DejaVuSans-115\" />\n",
       "      <path d=\"M 56.203125 29.59375  L 56.203125 25.203125  L 14.890625 25.203125  Q 15.484375 15.921875 20.484375 11.0625  Q 25.484375 6.203125 34.421875 6.203125  Q 39.59375 6.203125 44.453125 7.46875  Q 49.3125 8.734375 54.109375 11.28125  L 54.109375 2.78125  Q 49.265625 0.734375 44.1875 -0.34375  Q 39.109375 -1.421875 33.890625 -1.421875  Q 20.796875 -1.421875 13.15625 6.1875  Q 5.515625 13.8125 5.515625 26.8125  Q 5.515625 40.234375 12.765625 48.109375  Q 20.015625 56 32.328125 56  Q 43.359375 56 49.78125 48.890625  Q 56.203125 41.796875 56.203125 29.59375  z M 47.21875 32.234375  Q 47.125 39.59375 43.09375 43.984375  Q 39.0625 48.390625 32.421875 48.390625  Q 24.90625 48.390625 20.390625 44.140625  Q 15.875 39.890625 15.1875 32.171875  z \" id=\"DejaVuSans-101\" />\n",
       "     </defs>\n",
       "     <g style=\"fill:#444443;\" transform=\"translate(33.875781 30.354687)scale(0.1 -0.1)\">\n",
       "      <use xlink:href=\"#DejaVuSans-70\" />\n",
       "      <use x=\"48.394531\" xlink:href=\"#DejaVuSans-97\" />\n",
       "      <use x=\"109.673828\" xlink:href=\"#DejaVuSans-108\" />\n",
       "      <use x=\"137.457031\" xlink:href=\"#DejaVuSans-115\" />\n",
       "      <use x=\"189.556641\" xlink:href=\"#DejaVuSans-101\" />\n",
       "     </g>\n",
       "    </g>\n",
       "    <g id=\"patch_4\">\n",
       "     <path d=\"M 10.375781 45.032812  L 30.375781 45.032812  L 30.375781 38.032812  L 10.375781 38.032812  z \" style=\"fill:#a1dab4;stroke:#444443;stroke-linejoin:miter;stroke-width:0.4;\" />\n",
       "    </g>\n",
       "    <g id=\"text_3\">\n",
       "     \n",
       "     <defs>\n",
       "      <path d=\"M -0.296875 72.90625  L 61.375 72.90625  L 61.375 64.59375  L 35.5 64.59375  L 35.5 0  L 25.59375 0  L 25.59375 64.59375  L -0.296875 64.59375  z \" id=\"DejaVuSans-84\" />\n",
       "      <path d=\"M 41.109375 46.296875  Q 39.59375 47.171875 37.8125 47.578125  Q 36.03125 48 33.890625 48  Q 26.265625 48 22.1875 43.046875  Q 18.109375 38.09375 18.109375 28.8125  L 18.109375 0  L 9.078125 0  L 9.078125 54.6875  L 18.109375 54.6875  L 18.109375 46.1875  Q 20.953125 51.171875 25.484375 53.578125  Q 30.03125 56 36.53125 56  Q 37.453125 56 38.578125 55.875  Q 39.703125 55.765625 41.0625 55.515625  z \" id=\"DejaVuSans-114\" />\n",
       "      <path d=\"M 8.5 21.578125  L 8.5 54.6875  L 17.484375 54.6875  L 17.484375 21.921875  Q 17.484375 14.15625 20.5 10.265625  Q 23.53125 6.390625 29.59375 6.390625  Q 36.859375 6.390625 41.078125 11.03125  Q 45.3125 15.671875 45.3125 23.6875  L 45.3125 54.6875  L 54.296875 54.6875  L 54.296875 0  L 45.3125 0  L 45.3125 8.40625  Q 42.046875 3.421875 37.71875 1  Q 33.40625 -1.421875 27.6875 -1.421875  Q 18.265625 -1.421875 13.375 4.4375  Q 8.5 10.296875 8.5 21.578125  z M 31.109375 56  z \" id=\"DejaVuSans-117\" />\n",
       "     </defs>\n",
       "     <g style=\"fill:#444443;\" transform=\"translate(33.875781 45.032812)scale(0.1 -0.1)\">\n",
       "      <use xlink:href=\"#DejaVuSans-84\" />\n",
       "      <use x=\"46.333984\" xlink:href=\"#DejaVuSans-114\" />\n",
       "      <use x=\"87.447266\" xlink:href=\"#DejaVuSans-117\" />\n",
       "      <use x=\"150.826172\" xlink:href=\"#DejaVuSans-101\" />\n",
       "     </g>\n",
       "    </g>\n",
       "   </g>\n",
       "  </g>\n",
       " </g>\n",
       "</svg></g>\n",
       "</g>\n",
       "</svg>"
      ],
      "text/plain": [
       "<dtreeviz.trees.DTreeViz at 0x7f83f0473110>"
      ]
     },
     "execution_count": 27,
     "metadata": {},
     "output_type": "execute_result"
    }
   ],
   "source": [
    "viz = dtreeviz(cls, train_X, train_y, feature_names = desc_cols, \n",
    "               target_name = \"Solubility\",class_names=[\"False\",\"True\"],scale=2)\n",
    "viz"
   ]
  },
  {
   "cell_type": "markdown",
   "id": "concerned-warrior",
   "metadata": {
    "id": "concerned-warrior"
   },
   "source": [
    "As a final check we're going to see if we can fit a model to incorrect data.  If we shuffle the y values, we shouldn't be able to get a good model. \n",
    "\n",
    "Shuffle the y-variable as a sanity check"
   ]
  },
  {
   "cell_type": "code",
   "execution_count": 28,
   "id": "painful-median",
   "metadata": {
    "executionInfo": {
     "elapsed": 282,
     "status": "ok",
     "timestamp": 1644718071690,
     "user": {
      "displayName": "",
      "photoUrl": "",
      "userId": ""
     },
     "user_tz": 300
    },
    "id": "painful-median"
   },
   "outputs": [],
   "source": [
    "sol_df['fake'] = sol_df.IsSol.sample(frac=1)"
   ]
  },
  {
   "cell_type": "markdown",
   "id": "functional-premises",
   "metadata": {
    "id": "functional-premises"
   },
   "source": [
    "Split the dataframe into training a test sets. "
   ]
  },
  {
   "cell_type": "code",
   "execution_count": 29,
   "id": "early-invite",
   "metadata": {
    "executionInfo": {
     "elapsed": 284,
     "status": "ok",
     "timestamp": 1644718077367,
     "user": {
      "displayName": "",
      "photoUrl": "",
      "userId": ""
     },
     "user_tz": 300
    },
    "id": "early-invite"
   },
   "outputs": [],
   "source": [
    "fake_train, fake_test = train_test_split(sol_df)"
   ]
  },
  {
   "cell_type": "markdown",
   "id": "immune-ambassador",
   "metadata": {
    "id": "immune-ambassador"
   },
   "source": [
    "Split the training and test sets into X and y variables"
   ]
  },
  {
   "cell_type": "code",
   "execution_count": 30,
   "id": "numerical-blake",
   "metadata": {
    "executionInfo": {
     "elapsed": 2,
     "status": "ok",
     "timestamp": 1644718079980,
     "user": {
      "displayName": "",
      "photoUrl": "",
      "userId": ""
     },
     "user_tz": 300
    },
    "id": "numerical-blake"
   },
   "outputs": [],
   "source": [
    "fake_train_X = fake_train[desc_cols]\n",
    "fake_train_y = fake_train.fake\n",
    "fake_test_X = fake_test[desc_cols]\n",
    "fake_test_y = fake_test.fake"
   ]
  },
  {
   "cell_type": "markdown",
   "id": "verbal-permission",
   "metadata": {
    "id": "verbal-permission"
   },
   "source": [
    "Build a classifer"
   ]
  },
  {
   "cell_type": "code",
   "execution_count": 31,
   "id": "explicit-moscow",
   "metadata": {
    "colab": {
     "base_uri": "https://localhost:8080/"
    },
    "executionInfo": {
     "elapsed": 262,
     "status": "ok",
     "timestamp": 1644718086198,
     "user": {
      "displayName": "",
      "photoUrl": "",
      "userId": ""
     },
     "user_tz": 300
    },
    "id": "explicit-moscow",
    "outputId": "a8ff4632-e352-45b7-8d00-1900a0ef2e8c"
   },
   "outputs": [
    {
     "data": {
      "text/plain": [
       "DecisionTreeClassifier(max_depth=2)"
      ]
     },
     "execution_count": 31,
     "metadata": {},
     "output_type": "execute_result"
    }
   ],
   "source": [
    "fake_cls = DecisionTreeClassifier(max_depth=2)\n",
    "fake_cls.fit(fake_train_X,fake_train_y)"
   ]
  },
  {
   "cell_type": "markdown",
   "id": "elegant-husband",
   "metadata": {
    "id": "elegant-husband"
   },
   "source": [
    "Generate the predictions"
   ]
  },
  {
   "cell_type": "code",
   "execution_count": 32,
   "id": "celtic-adelaide",
   "metadata": {
    "executionInfo": {
     "elapsed": 272,
     "status": "ok",
     "timestamp": 1644718088841,
     "user": {
      "displayName": "",
      "photoUrl": "",
      "userId": ""
     },
     "user_tz": 300
    },
    "id": "celtic-adelaide"
   },
   "outputs": [],
   "source": [
    "fake_pred = fake_cls.predict(fake_test_X)"
   ]
  },
  {
   "cell_type": "markdown",
   "id": "backed-syndicate",
   "metadata": {
    "id": "backed-syndicate"
   },
   "source": [
    "Calculate the AUC score"
   ]
  },
  {
   "cell_type": "code",
   "execution_count": 33,
   "id": "desperate-tribute",
   "metadata": {
    "colab": {
     "base_uri": "https://localhost:8080/"
    },
    "executionInfo": {
     "elapsed": 267,
     "status": "ok",
     "timestamp": 1644718091505,
     "user": {
      "displayName": "",
      "photoUrl": "",
      "userId": ""
     },
     "user_tz": 300
    },
    "id": "desperate-tribute",
    "outputId": "4b3f13cc-bf5c-476a-81db-0cf75dc0f740"
   },
   "outputs": [
    {
     "data": {
      "text/plain": [
       "0.5147169833232684"
      ]
     },
     "execution_count": 33,
     "metadata": {},
     "output_type": "execute_result"
    }
   ],
   "source": [
    "roc_auc_score(fake_test_y,pred)"
   ]
  },
  {
   "cell_type": "code",
   "execution_count": null,
   "id": "vocational-diabetes",
   "metadata": {
    "id": "vocational-diabetes"
   },
   "outputs": [],
   "source": []
  }
 ],
 "metadata": {
  "colab": {
   "name": "Copy of tutorial_02_classification_model.ipynb",
   "provenance": [
    {
     "file_id": "https://github.com/PatWalters/EFMC/blob/main/tutorial_02_classification_model.ipynb",
     "timestamp": 1644718189634
    }
   ]
  },
  "kernelspec": {
   "display_name": "Python 3 (ipykernel)",
   "language": "python",
   "name": "python3"
  },
  "language_info": {
   "codemirror_mode": {
    "name": "ipython",
    "version": 3
   },
   "file_extension": ".py",
   "mimetype": "text/x-python",
   "name": "python",
   "nbconvert_exporter": "python",
   "pygments_lexer": "ipython3",
   "version": "3.9.6"
  }
 },
 "nbformat": 4,
 "nbformat_minor": 5
}