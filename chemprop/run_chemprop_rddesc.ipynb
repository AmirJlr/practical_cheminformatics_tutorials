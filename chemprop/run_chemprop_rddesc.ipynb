{
 "cells": [
  {
   "cell_type": "markdown",
   "id": "a9d0b1f85e7f20cb",
   "metadata": {},
   "source": [
    "### Building a ChemProp model with RDKit descriptors\n",
    "\n",
    "This notebook shows how to build a ChemProp model using RDKit descriptors as additional features.  The notebook borrows heavily from the ChemProp examples. \n",
    "1. Read the input data\n",
    "2. Divide the dataset into training, validation, and test sets\n",
    "3. Calculate RDKit descriptors\n",
    "4. Create the datasets\n",
    "5. Create dataloaders\n",
    "6. Create the model\n",
    "7. Train the model\n",
    "8. Predict the values for the test set\n",
    "9. Evaluate the model"
   ]
  },
  {
   "cell_type": "code",
   "execution_count": 1,
   "id": "d1433b9d3ff861e7",
   "metadata": {
    "ExecuteTime": {
     "end_time": "2024-07-30T17:19:46.441415Z",
     "start_time": "2024-07-30T17:19:44.235679Z"
    }
   },
   "outputs": [],
   "source": [
    "import itertools\n",
    "\n",
    "import numpy as np\n",
    "import pandas as pd\n",
    "import seaborn as sns\n",
    "import useful_rdkit_utils as uru\n",
    "from chemprop import data, featurizers, nn, models\n",
    "from lightning import pytorch as pl\n",
    "from sklearn.metrics import r2_score, root_mean_squared_error\n",
    "from sklearn.model_selection import train_test_split"
   ]
  },
  {
   "cell_type": "markdown",
   "id": "ea5a0149-5a99-457d-a7b1-8e6d4d478238",
   "metadata": {},
   "source": [
    "### 1. Read the input data\n",
    "Read the input data. For this exercise, we'll use one of the datasets from [this paper by Fang et al](https://pubs.acs.org/doi/10.1021/acs.jcim.3c00160). "
   ]
  },
  {
   "cell_type": "code",
   "execution_count": 2,
   "id": "3f4772a9-6a1f-4278-bf43-e9bdb14e4b87",
   "metadata": {
    "ExecuteTime": {
     "end_time": "2024-07-30T17:19:46.448211Z",
     "start_time": "2024-07-30T17:19:46.442406Z"
    }
   },
   "outputs": [],
   "source": [
    "df = pd.read_csv(\"/Users/pwalters/software/benchmark/data/biogen_logS.csv\")\n",
    "y_col = \"logS\""
   ]
  },
  {
   "cell_type": "markdown",
   "id": "7b8c2245-bf8d-465f-aad6-5168f8e86a94",
   "metadata": {},
   "source": [
    "### 2. Divide the dataset into training, validation, and test sets\n",
    "Divide the dataset into training, validation, and test sets.  ChemProp has functions for dataset splitting, but I thought it might be useful to show how to do it with scikit-learn."
   ]
  },
  {
   "cell_type": "code",
   "execution_count": 3,
   "id": "49fe4b88f5b40163",
   "metadata": {
    "ExecuteTime": {
     "end_time": "2024-07-30T17:24:16.514186Z",
     "start_time": "2024-07-30T17:24:16.459074Z"
    }
   },
   "outputs": [],
   "source": [
    "train_frac, val_frac, test_frac = 0.8, 0.1, 0.1\n",
    "train, test = train_test_split(df, test_size=test_frac)\n",
    "train, val = train_test_split(train, test_size=len(test))"
   ]
  },
  {
   "cell_type": "markdown",
   "id": "d04c0c0f-1469-4399-a38d-7df53262fefd",
   "metadata": {},
   "source": [
    "Examine the sizes of the training, validation, and test sets."
   ]
  },
  {
   "cell_type": "code",
   "execution_count": 4,
   "id": "7170d683-d9d1-4d21-9d19-9da0dafb18d2",
   "metadata": {
    "ExecuteTime": {
     "end_time": "2024-07-30T17:24:18.694027Z",
     "start_time": "2024-07-30T17:24:18.689324Z"
    }
   },
   "outputs": [
    {
     "data": {
      "text/plain": [
       "(1737, 218, 218)"
      ]
     },
     "execution_count": 4,
     "metadata": {},
     "output_type": "execute_result"
    }
   ],
   "source": [
    "len(train), len(val), len(test)"
   ]
  },
  {
   "cell_type": "markdown",
   "id": "b60637b625627621",
   "metadata": {},
   "source": [
    "### 3. Calculate RDKit descriptors\n",
    "A small function to calculate RDKit descriptors using [useful_rdkit_utils](https://useful-rdkit-utils.readthedocs.io/en/latest/)."
   ]
  },
  {
   "cell_type": "code",
   "execution_count": 5,
   "id": "8a6a19cc4135365e",
   "metadata": {
    "ExecuteTime": {
     "end_time": "2024-07-30T17:24:23.142561Z",
     "start_time": "2024-07-30T17:24:23.138786Z"
    }
   },
   "outputs": [],
   "source": [
    "def calc_descriptors(smi_list):\n",
    "    generator = uru.RDKitDescriptors()\n",
    "    return generator.pandas_smiles(smi_list).values.tolist()"
   ]
  },
  {
   "cell_type": "markdown",
   "id": "575148638ecee979",
   "metadata": {},
   "source": [
    "Calculate the RDKit descriptors for the training, validation, and test sets."
   ]
  },
  {
   "cell_type": "code",
   "execution_count": 6,
   "id": "b28df94985f2f157",
   "metadata": {
    "ExecuteTime": {
     "end_time": "2024-07-30T17:24:46.525440Z",
     "start_time": "2024-07-30T17:24:25.601627Z"
    }
   },
   "outputs": [
    {
     "data": {
      "application/vnd.jupyter.widget-view+json": {
       "model_id": "e9e015800d6b484790eeec2c29d6d34c",
       "version_major": 2,
       "version_minor": 0
      },
      "text/plain": [
       "  0%|          | 0/1737 [00:00<?, ?it/s]"
      ]
     },
     "metadata": {},
     "output_type": "display_data"
    },
    {
     "data": {
      "application/vnd.jupyter.widget-view+json": {
       "model_id": "63e35e20fcbb4bcc884d94d958e95fb8",
       "version_major": 2,
       "version_minor": 0
      },
      "text/plain": [
       "  0%|          | 0/218 [00:00<?, ?it/s]"
      ]
     },
     "metadata": {},
     "output_type": "display_data"
    },
    {
     "data": {
      "application/vnd.jupyter.widget-view+json": {
       "model_id": "2b1054368b64469eac4b825e469df328",
       "version_major": 2,
       "version_minor": 0
      },
      "text/plain": [
       "  0%|          | 0/218 [00:00<?, ?it/s]"
      ]
     },
     "metadata": {},
     "output_type": "display_data"
    }
   ],
   "source": [
    "train['feat'] = calc_descriptors(train.SMILES.values)\n",
    "val['feat'] = calc_descriptors(val.SMILES.values)\n",
    "test['feat'] = calc_descriptors(test.SMILES.values)"
   ]
  },
  {
   "cell_type": "markdown",
   "id": "81d3eaa90f9efdc2",
   "metadata": {},
   "source": [
    "### 4. Create the datasets\n",
    "Convert the data to MoleculeDatapoints.  We're adding extra molecule features, so we use the **x_d** argument in **data.MoleculeDatapoint.from_smi**."
   ]
  },
  {
   "cell_type": "code",
   "execution_count": 7,
   "id": "33f7350272b2b4f7",
   "metadata": {
    "ExecuteTime": {
     "end_time": "2024-07-30T17:24:57.674111Z",
     "start_time": "2024-07-30T17:24:57.490786Z"
    }
   },
   "outputs": [],
   "source": [
    "cols = [\"SMILES\", y_col, 'feat']\n",
    "train_pt = [data.MoleculeDatapoint.from_smi(smi, [y], x_d=np.array(X_d)) for smi, y, X_d in train[cols].values]\n",
    "val_pt = [data.MoleculeDatapoint.from_smi(smi, [y], x_d=np.array(X_d)) for smi, y, X_d in val[cols].values]\n",
    "test_pt = [data.MoleculeDatapoint.from_smi(smi, [y], x_d=np.array(X_d)) for smi, y, X_d in test[cols].values]"
   ]
  },
  {
   "cell_type": "markdown",
   "id": "02531c9b-20a2-4cb2-9f11-615f2e3359c6",
   "metadata": {},
   "source": [
    "Create a featurizer to generate graph node and edge features for the molecules."
   ]
  },
  {
   "cell_type": "code",
   "execution_count": 8,
   "id": "f10597d22823a4d8",
   "metadata": {
    "ExecuteTime": {
     "end_time": "2024-07-30T17:25:01.403070Z",
     "start_time": "2024-07-30T17:25:01.400822Z"
    }
   },
   "outputs": [],
   "source": [
    "featurizer = featurizers.SimpleMoleculeMolGraphFeaturizer()"
   ]
  },
  {
   "cell_type": "markdown",
   "id": "f6038f4f-245a-4a7f-9e42-535adde00256",
   "metadata": {},
   "source": [
    "Create a training dataset by featurizing the training set, and normalizing the targets. Create another scaler for the added descriptors. "
   ]
  },
  {
   "cell_type": "code",
   "execution_count": 9,
   "id": "549b79b9936a1d66",
   "metadata": {
    "ExecuteTime": {
     "end_time": "2024-07-30T17:25:53.088722Z",
     "start_time": "2024-07-30T17:25:53.074386Z"
    }
   },
   "outputs": [],
   "source": [
    "train_dset = data.MoleculeDataset(train_pt, featurizer)\n",
    "scaler = train_dset.normalize_targets()\n",
    "extra_datapoint_descriptors_scaler = train_dset.normalize_inputs(\"X_d\")"
   ]
  },
  {
   "cell_type": "markdown",
   "id": "6d69c66a-80e0-40c9-b80a-5798a77ce105",
   "metadata": {},
   "source": [
    "Do the same with the validation dataset.  Use the scalers we created for the training set to scale the validation set descriptors and targets."
   ]
  },
  {
   "cell_type": "code",
   "execution_count": 10,
   "id": "5656fc28-72ea-466f-8215-2271be5106a7",
   "metadata": {
    "ExecuteTime": {
     "end_time": "2024-07-30T17:26:27.014413Z",
     "start_time": "2024-07-30T17:26:27.007303Z"
    }
   },
   "outputs": [
    {
     "data": {
      "text/html": [
       "<style>#sk-container-id-1 {\n",
       "  /* Definition of color scheme common for light and dark mode */\n",
       "  --sklearn-color-text: black;\n",
       "  --sklearn-color-line: gray;\n",
       "  /* Definition of color scheme for unfitted estimators */\n",
       "  --sklearn-color-unfitted-level-0: #fff5e6;\n",
       "  --sklearn-color-unfitted-level-1: #f6e4d2;\n",
       "  --sklearn-color-unfitted-level-2: #ffe0b3;\n",
       "  --sklearn-color-unfitted-level-3: chocolate;\n",
       "  /* Definition of color scheme for fitted estimators */\n",
       "  --sklearn-color-fitted-level-0: #f0f8ff;\n",
       "  --sklearn-color-fitted-level-1: #d4ebff;\n",
       "  --sklearn-color-fitted-level-2: #b3dbfd;\n",
       "  --sklearn-color-fitted-level-3: cornflowerblue;\n",
       "\n",
       "  /* Specific color for light theme */\n",
       "  --sklearn-color-text-on-default-background: var(--sg-text-color, var(--theme-code-foreground, var(--jp-content-font-color1, black)));\n",
       "  --sklearn-color-background: var(--sg-background-color, var(--theme-background, var(--jp-layout-color0, white)));\n",
       "  --sklearn-color-border-box: var(--sg-text-color, var(--theme-code-foreground, var(--jp-content-font-color1, black)));\n",
       "  --sklearn-color-icon: #696969;\n",
       "\n",
       "  @media (prefers-color-scheme: dark) {\n",
       "    /* Redefinition of color scheme for dark theme */\n",
       "    --sklearn-color-text-on-default-background: var(--sg-text-color, var(--theme-code-foreground, var(--jp-content-font-color1, white)));\n",
       "    --sklearn-color-background: var(--sg-background-color, var(--theme-background, var(--jp-layout-color0, #111)));\n",
       "    --sklearn-color-border-box: var(--sg-text-color, var(--theme-code-foreground, var(--jp-content-font-color1, white)));\n",
       "    --sklearn-color-icon: #878787;\n",
       "  }\n",
       "}\n",
       "\n",
       "#sk-container-id-1 {\n",
       "  color: var(--sklearn-color-text);\n",
       "}\n",
       "\n",
       "#sk-container-id-1 pre {\n",
       "  padding: 0;\n",
       "}\n",
       "\n",
       "#sk-container-id-1 input.sk-hidden--visually {\n",
       "  border: 0;\n",
       "  clip: rect(1px 1px 1px 1px);\n",
       "  clip: rect(1px, 1px, 1px, 1px);\n",
       "  height: 1px;\n",
       "  margin: -1px;\n",
       "  overflow: hidden;\n",
       "  padding: 0;\n",
       "  position: absolute;\n",
       "  width: 1px;\n",
       "}\n",
       "\n",
       "#sk-container-id-1 div.sk-dashed-wrapped {\n",
       "  border: 1px dashed var(--sklearn-color-line);\n",
       "  margin: 0 0.4em 0.5em 0.4em;\n",
       "  box-sizing: border-box;\n",
       "  padding-bottom: 0.4em;\n",
       "  background-color: var(--sklearn-color-background);\n",
       "}\n",
       "\n",
       "#sk-container-id-1 div.sk-container {\n",
       "  /* jupyter's `normalize.less` sets `[hidden] { display: none; }`\n",
       "     but bootstrap.min.css set `[hidden] { display: none !important; }`\n",
       "     so we also need the `!important` here to be able to override the\n",
       "     default hidden behavior on the sphinx rendered scikit-learn.org.\n",
       "     See: https://github.com/scikit-learn/scikit-learn/issues/21755 */\n",
       "  display: inline-block !important;\n",
       "  position: relative;\n",
       "}\n",
       "\n",
       "#sk-container-id-1 div.sk-text-repr-fallback {\n",
       "  display: none;\n",
       "}\n",
       "\n",
       "div.sk-parallel-item,\n",
       "div.sk-serial,\n",
       "div.sk-item {\n",
       "  /* draw centered vertical line to link estimators */\n",
       "  background-image: linear-gradient(var(--sklearn-color-text-on-default-background), var(--sklearn-color-text-on-default-background));\n",
       "  background-size: 2px 100%;\n",
       "  background-repeat: no-repeat;\n",
       "  background-position: center center;\n",
       "}\n",
       "\n",
       "/* Parallel-specific style estimator block */\n",
       "\n",
       "#sk-container-id-1 div.sk-parallel-item::after {\n",
       "  content: \"\";\n",
       "  width: 100%;\n",
       "  border-bottom: 2px solid var(--sklearn-color-text-on-default-background);\n",
       "  flex-grow: 1;\n",
       "}\n",
       "\n",
       "#sk-container-id-1 div.sk-parallel {\n",
       "  display: flex;\n",
       "  align-items: stretch;\n",
       "  justify-content: center;\n",
       "  background-color: var(--sklearn-color-background);\n",
       "  position: relative;\n",
       "}\n",
       "\n",
       "#sk-container-id-1 div.sk-parallel-item {\n",
       "  display: flex;\n",
       "  flex-direction: column;\n",
       "}\n",
       "\n",
       "#sk-container-id-1 div.sk-parallel-item:first-child::after {\n",
       "  align-self: flex-end;\n",
       "  width: 50%;\n",
       "}\n",
       "\n",
       "#sk-container-id-1 div.sk-parallel-item:last-child::after {\n",
       "  align-self: flex-start;\n",
       "  width: 50%;\n",
       "}\n",
       "\n",
       "#sk-container-id-1 div.sk-parallel-item:only-child::after {\n",
       "  width: 0;\n",
       "}\n",
       "\n",
       "/* Serial-specific style estimator block */\n",
       "\n",
       "#sk-container-id-1 div.sk-serial {\n",
       "  display: flex;\n",
       "  flex-direction: column;\n",
       "  align-items: center;\n",
       "  background-color: var(--sklearn-color-background);\n",
       "  padding-right: 1em;\n",
       "  padding-left: 1em;\n",
       "}\n",
       "\n",
       "\n",
       "/* Toggleable style: style used for estimator/Pipeline/ColumnTransformer box that is\n",
       "clickable and can be expanded/collapsed.\n",
       "- Pipeline and ColumnTransformer use this feature and define the default style\n",
       "- Estimators will overwrite some part of the style using the `sk-estimator` class\n",
       "*/\n",
       "\n",
       "/* Pipeline and ColumnTransformer style (default) */\n",
       "\n",
       "#sk-container-id-1 div.sk-toggleable {\n",
       "  /* Default theme specific background. It is overwritten whether we have a\n",
       "  specific estimator or a Pipeline/ColumnTransformer */\n",
       "  background-color: var(--sklearn-color-background);\n",
       "}\n",
       "\n",
       "/* Toggleable label */\n",
       "#sk-container-id-1 label.sk-toggleable__label {\n",
       "  cursor: pointer;\n",
       "  display: block;\n",
       "  width: 100%;\n",
       "  margin-bottom: 0;\n",
       "  padding: 0.5em;\n",
       "  box-sizing: border-box;\n",
       "  text-align: center;\n",
       "}\n",
       "\n",
       "#sk-container-id-1 label.sk-toggleable__label-arrow:before {\n",
       "  /* Arrow on the left of the label */\n",
       "  content: \"▸\";\n",
       "  float: left;\n",
       "  margin-right: 0.25em;\n",
       "  color: var(--sklearn-color-icon);\n",
       "}\n",
       "\n",
       "#sk-container-id-1 label.sk-toggleable__label-arrow:hover:before {\n",
       "  color: var(--sklearn-color-text);\n",
       "}\n",
       "\n",
       "/* Toggleable content - dropdown */\n",
       "\n",
       "#sk-container-id-1 div.sk-toggleable__content {\n",
       "  max-height: 0;\n",
       "  max-width: 0;\n",
       "  overflow: hidden;\n",
       "  text-align: left;\n",
       "  /* unfitted */\n",
       "  background-color: var(--sklearn-color-unfitted-level-0);\n",
       "}\n",
       "\n",
       "#sk-container-id-1 div.sk-toggleable__content.fitted {\n",
       "  /* fitted */\n",
       "  background-color: var(--sklearn-color-fitted-level-0);\n",
       "}\n",
       "\n",
       "#sk-container-id-1 div.sk-toggleable__content pre {\n",
       "  margin: 0.2em;\n",
       "  border-radius: 0.25em;\n",
       "  color: var(--sklearn-color-text);\n",
       "  /* unfitted */\n",
       "  background-color: var(--sklearn-color-unfitted-level-0);\n",
       "}\n",
       "\n",
       "#sk-container-id-1 div.sk-toggleable__content.fitted pre {\n",
       "  /* unfitted */\n",
       "  background-color: var(--sklearn-color-fitted-level-0);\n",
       "}\n",
       "\n",
       "#sk-container-id-1 input.sk-toggleable__control:checked~div.sk-toggleable__content {\n",
       "  /* Expand drop-down */\n",
       "  max-height: 200px;\n",
       "  max-width: 100%;\n",
       "  overflow: auto;\n",
       "}\n",
       "\n",
       "#sk-container-id-1 input.sk-toggleable__control:checked~label.sk-toggleable__label-arrow:before {\n",
       "  content: \"▾\";\n",
       "}\n",
       "\n",
       "/* Pipeline/ColumnTransformer-specific style */\n",
       "\n",
       "#sk-container-id-1 div.sk-label input.sk-toggleable__control:checked~label.sk-toggleable__label {\n",
       "  color: var(--sklearn-color-text);\n",
       "  background-color: var(--sklearn-color-unfitted-level-2);\n",
       "}\n",
       "\n",
       "#sk-container-id-1 div.sk-label.fitted input.sk-toggleable__control:checked~label.sk-toggleable__label {\n",
       "  background-color: var(--sklearn-color-fitted-level-2);\n",
       "}\n",
       "\n",
       "/* Estimator-specific style */\n",
       "\n",
       "/* Colorize estimator box */\n",
       "#sk-container-id-1 div.sk-estimator input.sk-toggleable__control:checked~label.sk-toggleable__label {\n",
       "  /* unfitted */\n",
       "  background-color: var(--sklearn-color-unfitted-level-2);\n",
       "}\n",
       "\n",
       "#sk-container-id-1 div.sk-estimator.fitted input.sk-toggleable__control:checked~label.sk-toggleable__label {\n",
       "  /* fitted */\n",
       "  background-color: var(--sklearn-color-fitted-level-2);\n",
       "}\n",
       "\n",
       "#sk-container-id-1 div.sk-label label.sk-toggleable__label,\n",
       "#sk-container-id-1 div.sk-label label {\n",
       "  /* The background is the default theme color */\n",
       "  color: var(--sklearn-color-text-on-default-background);\n",
       "}\n",
       "\n",
       "/* On hover, darken the color of the background */\n",
       "#sk-container-id-1 div.sk-label:hover label.sk-toggleable__label {\n",
       "  color: var(--sklearn-color-text);\n",
       "  background-color: var(--sklearn-color-unfitted-level-2);\n",
       "}\n",
       "\n",
       "/* Label box, darken color on hover, fitted */\n",
       "#sk-container-id-1 div.sk-label.fitted:hover label.sk-toggleable__label.fitted {\n",
       "  color: var(--sklearn-color-text);\n",
       "  background-color: var(--sklearn-color-fitted-level-2);\n",
       "}\n",
       "\n",
       "/* Estimator label */\n",
       "\n",
       "#sk-container-id-1 div.sk-label label {\n",
       "  font-family: monospace;\n",
       "  font-weight: bold;\n",
       "  display: inline-block;\n",
       "  line-height: 1.2em;\n",
       "}\n",
       "\n",
       "#sk-container-id-1 div.sk-label-container {\n",
       "  text-align: center;\n",
       "}\n",
       "\n",
       "/* Estimator-specific */\n",
       "#sk-container-id-1 div.sk-estimator {\n",
       "  font-family: monospace;\n",
       "  border: 1px dotted var(--sklearn-color-border-box);\n",
       "  border-radius: 0.25em;\n",
       "  box-sizing: border-box;\n",
       "  margin-bottom: 0.5em;\n",
       "  /* unfitted */\n",
       "  background-color: var(--sklearn-color-unfitted-level-0);\n",
       "}\n",
       "\n",
       "#sk-container-id-1 div.sk-estimator.fitted {\n",
       "  /* fitted */\n",
       "  background-color: var(--sklearn-color-fitted-level-0);\n",
       "}\n",
       "\n",
       "/* on hover */\n",
       "#sk-container-id-1 div.sk-estimator:hover {\n",
       "  /* unfitted */\n",
       "  background-color: var(--sklearn-color-unfitted-level-2);\n",
       "}\n",
       "\n",
       "#sk-container-id-1 div.sk-estimator.fitted:hover {\n",
       "  /* fitted */\n",
       "  background-color: var(--sklearn-color-fitted-level-2);\n",
       "}\n",
       "\n",
       "/* Specification for estimator info (e.g. \"i\" and \"?\") */\n",
       "\n",
       "/* Common style for \"i\" and \"?\" */\n",
       "\n",
       ".sk-estimator-doc-link,\n",
       "a:link.sk-estimator-doc-link,\n",
       "a:visited.sk-estimator-doc-link {\n",
       "  float: right;\n",
       "  font-size: smaller;\n",
       "  line-height: 1em;\n",
       "  font-family: monospace;\n",
       "  background-color: var(--sklearn-color-background);\n",
       "  border-radius: 1em;\n",
       "  height: 1em;\n",
       "  width: 1em;\n",
       "  text-decoration: none !important;\n",
       "  margin-left: 1ex;\n",
       "  /* unfitted */\n",
       "  border: var(--sklearn-color-unfitted-level-1) 1pt solid;\n",
       "  color: var(--sklearn-color-unfitted-level-1);\n",
       "}\n",
       "\n",
       ".sk-estimator-doc-link.fitted,\n",
       "a:link.sk-estimator-doc-link.fitted,\n",
       "a:visited.sk-estimator-doc-link.fitted {\n",
       "  /* fitted */\n",
       "  border: var(--sklearn-color-fitted-level-1) 1pt solid;\n",
       "  color: var(--sklearn-color-fitted-level-1);\n",
       "}\n",
       "\n",
       "/* On hover */\n",
       "div.sk-estimator:hover .sk-estimator-doc-link:hover,\n",
       ".sk-estimator-doc-link:hover,\n",
       "div.sk-label-container:hover .sk-estimator-doc-link:hover,\n",
       ".sk-estimator-doc-link:hover {\n",
       "  /* unfitted */\n",
       "  background-color: var(--sklearn-color-unfitted-level-3);\n",
       "  color: var(--sklearn-color-background);\n",
       "  text-decoration: none;\n",
       "}\n",
       "\n",
       "div.sk-estimator.fitted:hover .sk-estimator-doc-link.fitted:hover,\n",
       ".sk-estimator-doc-link.fitted:hover,\n",
       "div.sk-label-container:hover .sk-estimator-doc-link.fitted:hover,\n",
       ".sk-estimator-doc-link.fitted:hover {\n",
       "  /* fitted */\n",
       "  background-color: var(--sklearn-color-fitted-level-3);\n",
       "  color: var(--sklearn-color-background);\n",
       "  text-decoration: none;\n",
       "}\n",
       "\n",
       "/* Span, style for the box shown on hovering the info icon */\n",
       ".sk-estimator-doc-link span {\n",
       "  display: none;\n",
       "  z-index: 9999;\n",
       "  position: relative;\n",
       "  font-weight: normal;\n",
       "  right: .2ex;\n",
       "  padding: .5ex;\n",
       "  margin: .5ex;\n",
       "  width: min-content;\n",
       "  min-width: 20ex;\n",
       "  max-width: 50ex;\n",
       "  color: var(--sklearn-color-text);\n",
       "  box-shadow: 2pt 2pt 4pt #999;\n",
       "  /* unfitted */\n",
       "  background: var(--sklearn-color-unfitted-level-0);\n",
       "  border: .5pt solid var(--sklearn-color-unfitted-level-3);\n",
       "}\n",
       "\n",
       ".sk-estimator-doc-link.fitted span {\n",
       "  /* fitted */\n",
       "  background: var(--sklearn-color-fitted-level-0);\n",
       "  border: var(--sklearn-color-fitted-level-3);\n",
       "}\n",
       "\n",
       ".sk-estimator-doc-link:hover span {\n",
       "  display: block;\n",
       "}\n",
       "\n",
       "/* \"?\"-specific style due to the `<a>` HTML tag */\n",
       "\n",
       "#sk-container-id-1 a.estimator_doc_link {\n",
       "  float: right;\n",
       "  font-size: 1rem;\n",
       "  line-height: 1em;\n",
       "  font-family: monospace;\n",
       "  background-color: var(--sklearn-color-background);\n",
       "  border-radius: 1rem;\n",
       "  height: 1rem;\n",
       "  width: 1rem;\n",
       "  text-decoration: none;\n",
       "  /* unfitted */\n",
       "  color: var(--sklearn-color-unfitted-level-1);\n",
       "  border: var(--sklearn-color-unfitted-level-1) 1pt solid;\n",
       "}\n",
       "\n",
       "#sk-container-id-1 a.estimator_doc_link.fitted {\n",
       "  /* fitted */\n",
       "  border: var(--sklearn-color-fitted-level-1) 1pt solid;\n",
       "  color: var(--sklearn-color-fitted-level-1);\n",
       "}\n",
       "\n",
       "/* On hover */\n",
       "#sk-container-id-1 a.estimator_doc_link:hover {\n",
       "  /* unfitted */\n",
       "  background-color: var(--sklearn-color-unfitted-level-3);\n",
       "  color: var(--sklearn-color-background);\n",
       "  text-decoration: none;\n",
       "}\n",
       "\n",
       "#sk-container-id-1 a.estimator_doc_link.fitted:hover {\n",
       "  /* fitted */\n",
       "  background-color: var(--sklearn-color-fitted-level-3);\n",
       "}\n",
       "</style><div id=\"sk-container-id-1\" class=\"sk-top-container\"><div class=\"sk-text-repr-fallback\"><pre>StandardScaler()</pre><b>In a Jupyter environment, please rerun this cell to show the HTML representation or trust the notebook. <br />On GitHub, the HTML representation is unable to render, please try loading this page with nbviewer.org.</b></div><div class=\"sk-container\" hidden><div class=\"sk-item\"><div class=\"sk-estimator fitted sk-toggleable\"><input class=\"sk-toggleable__control sk-hidden--visually\" id=\"sk-estimator-id-1\" type=\"checkbox\" checked><label for=\"sk-estimator-id-1\" class=\"sk-toggleable__label fitted sk-toggleable__label-arrow fitted\">&nbsp;&nbsp;StandardScaler<a class=\"sk-estimator-doc-link fitted\" rel=\"noreferrer\" target=\"_blank\" href=\"https://scikit-learn.org/1.4/modules/generated/sklearn.preprocessing.StandardScaler.html\">?<span>Documentation for StandardScaler</span></a><span class=\"sk-estimator-doc-link fitted\">i<span>Fitted</span></span></label><div class=\"sk-toggleable__content fitted\"><pre>StandardScaler()</pre></div> </div></div></div></div>"
      ],
      "text/plain": [
       "StandardScaler()"
      ]
     },
     "execution_count": 10,
     "metadata": {},
     "output_type": "execute_result"
    }
   ],
   "source": [
    "val_dset = data.MoleculeDataset(val_pt, featurizer)\n",
    "val_dset.normalize_targets(scaler)\n",
    "val_dset.normalize_inputs(\"X_d\", extra_datapoint_descriptors_scaler)"
   ]
  },
  {
   "cell_type": "markdown",
   "id": "55f29e5f-00d9-4b75-9472-74a2b0971823",
   "metadata": {},
   "source": [
    "Create the test dataset  "
   ]
  },
  {
   "cell_type": "code",
   "execution_count": 11,
   "id": "1689fb59-30b8-485d-925e-20d9a61d687f",
   "metadata": {
    "ExecuteTime": {
     "end_time": "2024-07-30T17:26:32.118836Z",
     "start_time": "2024-07-30T17:26:32.114564Z"
    }
   },
   "outputs": [],
   "source": [
    "test_dset = data.MoleculeDataset(test_pt, featurizer)"
   ]
  },
  {
   "cell_type": "markdown",
   "id": "f9a591c7-ec12-42ba-9449-77fe4e433f5a",
   "metadata": {},
   "source": [
    "### 5. Create dataloaders\n",
    "Create dataloaders for the training validation and test sets.  "
   ]
  },
  {
   "cell_type": "code",
   "execution_count": 12,
   "id": "22fb820e-478c-4294-90fe-85d91afd2710",
   "metadata": {
    "ExecuteTime": {
     "end_time": "2024-07-30T17:26:34.380263Z",
     "start_time": "2024-07-30T17:26:34.351413Z"
    }
   },
   "outputs": [],
   "source": [
    "num_workers = 0\n",
    "train_loader = data.build_dataloader(train_dset, num_workers=num_workers)\n",
    "val_loader = data.build_dataloader(val_dset, num_workers=num_workers, shuffle=False)\n",
    "test_loader = data.build_dataloader(test_dset, num_workers=num_workers, shuffle=False)"
   ]
  },
  {
   "cell_type": "markdown",
   "id": "80b3f796-28c5-4282-a08f-ff3569f56cf6",
   "metadata": {},
   "source": [
    "### 6. Create the model\n",
    "Create the Feed Forward Neural Network (FFNN)"
   ]
  },
  {
   "cell_type": "code",
   "execution_count": 13,
   "id": "582d0a76-1c0c-4ed7-b79d-1eaf5d1044e6",
   "metadata": {
    "ExecuteTime": {
     "end_time": "2024-07-30T17:26:36.736835Z",
     "start_time": "2024-07-30T17:26:36.724117Z"
    }
   },
   "outputs": [],
   "source": [
    "num_extra_features = len(train.feat.values[0])\n",
    "mp = nn.BondMessagePassing()\n",
    "ffn_input_dim = mp.output_dim + num_extra_features\n",
    "output_transform = nn.UnscaleTransform.from_standard_scaler(scaler)\n",
    "ffn = nn.RegressionFFN(input_dim=ffn_input_dim, output_transform=output_transform)"
   ]
  },
  {
   "cell_type": "markdown",
   "id": "ec46f74c-17b6-4117-9043-5a0cf03bcb3b",
   "metadata": {},
   "source": [
    "Create the Message Passing Neural Network (MPNN)"
   ]
  },
  {
   "cell_type": "code",
   "execution_count": 14,
   "id": "2d8e598d398e9561",
   "metadata": {
    "ExecuteTime": {
     "end_time": "2024-07-30T17:26:39.225651Z",
     "start_time": "2024-07-30T17:26:39.218376Z"
    }
   },
   "outputs": [],
   "source": [
    "batch_norm = True\n",
    "agg = nn.MeanAggregation()\n",
    "metric_list = [nn.metrics.RMSEMetric()]\n",
    "X_d_transform = nn.ScaleTransform.from_standard_scaler(extra_datapoint_descriptors_scaler)\n",
    "mpnn = models.MPNN(mp, agg, ffn, metrics=metric_list, X_d_transform=X_d_transform, batch_norm=batch_norm)"
   ]
  },
  {
   "cell_type": "markdown",
   "id": "3de6f4cc-0e70-4f84-af8c-511c8f2d4f60",
   "metadata": {},
   "source": [
    "### 7. Train the model\n",
    "Train the MPNN on the training and validation sets"
   ]
  },
  {
   "cell_type": "code",
   "execution_count": 15,
   "id": "6b6b056c-cc56-4b4d-ae34-40de7df20f65",
   "metadata": {
    "ExecuteTime": {
     "end_time": "2024-07-30T17:27:21.049234Z",
     "start_time": "2024-07-30T17:26:41.516132Z"
    }
   },
   "outputs": [
    {
     "name": "stderr",
     "output_type": "stream",
     "text": [
      "GPU available: True (mps), used: False\n",
      "TPU available: False, using: 0 TPU cores\n",
      "IPU available: False, using: 0 IPUs\n",
      "HPU available: False, using: 0 HPUs\n",
      "/Users/pwalters/miniconda3/envs/chemprop/lib/python3.11/site-packages/lightning/pytorch/trainer/setup.py:187: GPU available but not used. You can set it by doing `Trainer(accelerator='gpu')`.\n",
      "Loading `train_dataloader` to estimate number of stepping batches.\n",
      "/Users/pwalters/miniconda3/envs/chemprop/lib/python3.11/site-packages/lightning/pytorch/trainer/connectors/data_connector.py:441: The 'train_dataloader' does not have many workers which may be a bottleneck. Consider increasing the value of the `num_workers` argument` to `num_workers=9` in the `DataLoader` to improve performance.\n",
      "\n",
      "  | Name            | Type               | Params\n",
      "-------------------------------------------------------\n",
      "0 | message_passing | BondMessagePassing | 227 K \n",
      "1 | agg             | MeanAggregation    | 0     \n",
      "2 | bn              | BatchNorm1d        | 600   \n",
      "3 | predictor       | RegressionFFN      | 153 K \n",
      "4 | X_d_transform   | ScaleTransform     | 0     \n",
      "-------------------------------------------------------\n",
      "381 K     Trainable params\n",
      "0         Non-trainable params\n",
      "381 K     Total params\n",
      "1.528     Total estimated model params size (MB)\n"
     ]
    },
    {
     "data": {
      "application/vnd.jupyter.widget-view+json": {
       "model_id": "",
       "version_major": 2,
       "version_minor": 0
      },
      "text/plain": [
       "Sanity Checking: |                                                                                            …"
      ]
     },
     "metadata": {},
     "output_type": "display_data"
    },
    {
     "name": "stderr",
     "output_type": "stream",
     "text": [
      "/Users/pwalters/miniconda3/envs/chemprop/lib/python3.11/site-packages/lightning/pytorch/trainer/connectors/data_connector.py:441: The 'val_dataloader' does not have many workers which may be a bottleneck. Consider increasing the value of the `num_workers` argument` to `num_workers=9` in the `DataLoader` to improve performance.\n"
     ]
    },
    {
     "data": {
      "application/vnd.jupyter.widget-view+json": {
       "model_id": "2514123a2b9e422aa12a89a2fc191c85",
       "version_major": 2,
       "version_minor": 0
      },
      "text/plain": [
       "Training: |                                                                                                   …"
      ]
     },
     "metadata": {},
     "output_type": "display_data"
    },
    {
     "data": {
      "application/vnd.jupyter.widget-view+json": {
       "model_id": "",
       "version_major": 2,
       "version_minor": 0
      },
      "text/plain": [
       "Validation: |                                                                                                 …"
      ]
     },
     "metadata": {},
     "output_type": "display_data"
    },
    {
     "data": {
      "application/vnd.jupyter.widget-view+json": {
       "model_id": "",
       "version_major": 2,
       "version_minor": 0
      },
      "text/plain": [
       "Validation: |                                                                                                 …"
      ]
     },
     "metadata": {},
     "output_type": "display_data"
    },
    {
     "data": {
      "application/vnd.jupyter.widget-view+json": {
       "model_id": "",
       "version_major": 2,
       "version_minor": 0
      },
      "text/plain": [
       "Validation: |                                                                                                 …"
      ]
     },
     "metadata": {},
     "output_type": "display_data"
    },
    {
     "data": {
      "application/vnd.jupyter.widget-view+json": {
       "model_id": "",
       "version_major": 2,
       "version_minor": 0
      },
      "text/plain": [
       "Validation: |                                                                                                 …"
      ]
     },
     "metadata": {},
     "output_type": "display_data"
    },
    {
     "data": {
      "application/vnd.jupyter.widget-view+json": {
       "model_id": "",
       "version_major": 2,
       "version_minor": 0
      },
      "text/plain": [
       "Validation: |                                                                                                 …"
      ]
     },
     "metadata": {},
     "output_type": "display_data"
    },
    {
     "data": {
      "application/vnd.jupyter.widget-view+json": {
       "model_id": "",
       "version_major": 2,
       "version_minor": 0
      },
      "text/plain": [
       "Validation: |                                                                                                 …"
      ]
     },
     "metadata": {},
     "output_type": "display_data"
    },
    {
     "data": {
      "application/vnd.jupyter.widget-view+json": {
       "model_id": "",
       "version_major": 2,
       "version_minor": 0
      },
      "text/plain": [
       "Validation: |                                                                                                 …"
      ]
     },
     "metadata": {},
     "output_type": "display_data"
    },
    {
     "data": {
      "application/vnd.jupyter.widget-view+json": {
       "model_id": "",
       "version_major": 2,
       "version_minor": 0
      },
      "text/plain": [
       "Validation: |                                                                                                 …"
      ]
     },
     "metadata": {},
     "output_type": "display_data"
    },
    {
     "data": {
      "application/vnd.jupyter.widget-view+json": {
       "model_id": "",
       "version_major": 2,
       "version_minor": 0
      },
      "text/plain": [
       "Validation: |                                                                                                 …"
      ]
     },
     "metadata": {},
     "output_type": "display_data"
    },
    {
     "data": {
      "application/vnd.jupyter.widget-view+json": {
       "model_id": "",
       "version_major": 2,
       "version_minor": 0
      },
      "text/plain": [
       "Validation: |                                                                                                 …"
      ]
     },
     "metadata": {},
     "output_type": "display_data"
    },
    {
     "data": {
      "application/vnd.jupyter.widget-view+json": {
       "model_id": "",
       "version_major": 2,
       "version_minor": 0
      },
      "text/plain": [
       "Validation: |                                                                                                 …"
      ]
     },
     "metadata": {},
     "output_type": "display_data"
    },
    {
     "data": {
      "application/vnd.jupyter.widget-view+json": {
       "model_id": "",
       "version_major": 2,
       "version_minor": 0
      },
      "text/plain": [
       "Validation: |                                                                                                 …"
      ]
     },
     "metadata": {},
     "output_type": "display_data"
    },
    {
     "data": {
      "application/vnd.jupyter.widget-view+json": {
       "model_id": "",
       "version_major": 2,
       "version_minor": 0
      },
      "text/plain": [
       "Validation: |                                                                                                 …"
      ]
     },
     "metadata": {},
     "output_type": "display_data"
    },
    {
     "data": {
      "application/vnd.jupyter.widget-view+json": {
       "model_id": "",
       "version_major": 2,
       "version_minor": 0
      },
      "text/plain": [
       "Validation: |                                                                                                 …"
      ]
     },
     "metadata": {},
     "output_type": "display_data"
    },
    {
     "data": {
      "application/vnd.jupyter.widget-view+json": {
       "model_id": "",
       "version_major": 2,
       "version_minor": 0
      },
      "text/plain": [
       "Validation: |                                                                                                 …"
      ]
     },
     "metadata": {},
     "output_type": "display_data"
    },
    {
     "data": {
      "application/vnd.jupyter.widget-view+json": {
       "model_id": "",
       "version_major": 2,
       "version_minor": 0
      },
      "text/plain": [
       "Validation: |                                                                                                 …"
      ]
     },
     "metadata": {},
     "output_type": "display_data"
    },
    {
     "data": {
      "application/vnd.jupyter.widget-view+json": {
       "model_id": "",
       "version_major": 2,
       "version_minor": 0
      },
      "text/plain": [
       "Validation: |                                                                                                 …"
      ]
     },
     "metadata": {},
     "output_type": "display_data"
    },
    {
     "data": {
      "application/vnd.jupyter.widget-view+json": {
       "model_id": "",
       "version_major": 2,
       "version_minor": 0
      },
      "text/plain": [
       "Validation: |                                                                                                 …"
      ]
     },
     "metadata": {},
     "output_type": "display_data"
    },
    {
     "data": {
      "application/vnd.jupyter.widget-view+json": {
       "model_id": "",
       "version_major": 2,
       "version_minor": 0
      },
      "text/plain": [
       "Validation: |                                                                                                 …"
      ]
     },
     "metadata": {},
     "output_type": "display_data"
    },
    {
     "data": {
      "application/vnd.jupyter.widget-view+json": {
       "model_id": "",
       "version_major": 2,
       "version_minor": 0
      },
      "text/plain": [
       "Validation: |                                                                                                 …"
      ]
     },
     "metadata": {},
     "output_type": "display_data"
    },
    {
     "name": "stderr",
     "output_type": "stream",
     "text": [
      "`Trainer.fit` stopped: `max_epochs=20` reached.\n"
     ]
    }
   ],
   "source": [
    "trainer = pl.Trainer(\n",
    "    logger=False,\n",
    "    enable_checkpointing=False,\n",
    "    enable_progress_bar=True,\n",
    "    accelerator=\"cpu\",\n",
    "    devices=1,\n",
    "    max_epochs=20,  # number of epochs to train for\n",
    ")\n",
    "trainer.fit(mpnn, train_loader, val_loader)"
   ]
  },
  {
   "cell_type": "markdown",
   "id": "87660b3d-8b58-4d15-8fe1-ca09f5173eb4",
   "metadata": {},
   "source": [
    "### 8. Predict the values for the test set\n",
    "Predict the values for the test set. ChemProp returns the results from **predict** as an array of PyTorch tensors, which isn't particularly convenient. We'll fix that below. "
   ]
  },
  {
   "cell_type": "code",
   "execution_count": 16,
   "id": "643529c0-c850-4879-a0ab-307d20a09fbd",
   "metadata": {
    "ExecuteTime": {
     "end_time": "2024-07-30T17:27:30.852144Z",
     "start_time": "2024-07-30T17:27:30.669512Z"
    }
   },
   "outputs": [
    {
     "name": "stderr",
     "output_type": "stream",
     "text": [
      "/Users/pwalters/miniconda3/envs/chemprop/lib/python3.11/site-packages/lightning/pytorch/trainer/connectors/data_connector.py:441: The 'predict_dataloader' does not have many workers which may be a bottleneck. Consider increasing the value of the `num_workers` argument` to `num_workers=9` in the `DataLoader` to improve performance.\n"
     ]
    },
    {
     "data": {
      "application/vnd.jupyter.widget-view+json": {
       "model_id": "b2e6759b014c41aa8a265bb190da593a",
       "version_major": 2,
       "version_minor": 0
      },
      "text/plain": [
       "Predicting: |                                                                                                 …"
      ]
     },
     "metadata": {},
     "output_type": "display_data"
    }
   ],
   "source": [
    "pred_tensor = trainer.predict(mpnn, test_loader)"
   ]
  },
  {
   "cell_type": "code",
   "execution_count": 17,
   "id": "8f5e663b-2ec3-4cf7-8ad2-39771bfe0242",
   "metadata": {
    "ExecuteTime": {
     "end_time": "2024-07-30T17:27:33.519710Z",
     "start_time": "2024-07-30T17:27:33.516617Z"
    }
   },
   "outputs": [],
   "source": [
    "pred = np.array(list(itertools.chain(*pred_tensor))).flatten()"
   ]
  },
  {
   "cell_type": "markdown",
   "id": "51041183295f35e0",
   "metadata": {},
   "source": [
    "### 9. Evaluate the model\n",
    "Plot the distribution of the predicted values. I just put this in to make sure the predictions look reasonable."
   ]
  },
  {
   "cell_type": "code",
   "execution_count": 18,
   "id": "9d8507756084445f",
   "metadata": {
    "ExecuteTime": {
     "end_time": "2024-07-30T17:27:40.478575Z",
     "start_time": "2024-07-30T17:27:40.331874Z"
    }
   },
   "outputs": [
    {
     "data": {
      "text/plain": [
       "<seaborn.axisgrid.FacetGrid at 0x317747b50>"
      ]
     },
     "execution_count": 18,
     "metadata": {},
     "output_type": "execute_result"
    },
    {
     "data": {
      "image/png": "[encoded data removed]",
      "text/plain": [
       "<Figure size 500x500 with 1 Axes>"
      ]
     },
     "metadata": {},
     "output_type": "display_data"
    }
   ],
   "source": [
    "sns.displot(pred)"
   ]
  },
  {
   "cell_type": "code",
   "execution_count": 19,
   "id": "8aaf6296-37f2-4ad3-8068-e859842982f9",
   "metadata": {
    "ExecuteTime": {
     "end_time": "2024-07-30T17:27:41.696452Z",
     "start_time": "2024-07-30T17:27:41.692909Z"
    }
   },
   "outputs": [],
   "source": [
    "pred_df = pd.DataFrame({y_col: test[y_col], 'pred': pred})"
   ]
  },
  {
   "cell_type": "markdown",
   "id": "3f5de4b0-eff6-42ad-a806-900a7494680b",
   "metadata": {},
   "source": [
    "Plot the experimental vs predicted values."
   ]
  },
  {
   "cell_type": "code",
   "execution_count": 20,
   "id": "a8ec6416-e759-44f0-9394-43d803c6b817",
   "metadata": {
    "ExecuteTime": {
     "end_time": "2024-07-30T17:27:45.830118Z",
     "start_time": "2024-07-30T17:27:45.653033Z"
    }
   },
   "outputs": [
    {
     "data": {
      "text/plain": [
       "<seaborn.axisgrid.FacetGrid at 0x33e472dd0>"
      ]
     },
     "execution_count": 20,
     "metadata": {},
     "output_type": "execute_result"
    },
    {
     "data": {
      "image/png": "[encoded data removed]",
      "text/plain": [
       "<Figure size 500x500 with 1 Axes>"
      ]
     },
     "metadata": {},
     "output_type": "display_data"
    }
   ],
   "source": [
    "sns.lmplot(x=y_col, y=\"pred\", data=pred_df)"
   ]
  },
  {
   "cell_type": "code",
   "execution_count": 21,
   "id": "02eba13c-d357-48bb-8728-71889d4b6432",
   "metadata": {
    "ExecuteTime": {
     "end_time": "2024-07-30T17:27:47.441065Z",
     "start_time": "2024-07-30T17:27:47.437310Z"
    }
   },
   "outputs": [
    {
     "data": {
      "text/plain": [
       "0.5124348553763154"
      ]
     },
     "execution_count": 21,
     "metadata": {},
     "output_type": "execute_result"
    }
   ],
   "source": [
    "r2_score(pred_df[y_col], pred)"
   ]
  },
  {
   "cell_type": "code",
   "execution_count": 22,
   "id": "e2587ebb-b695-47a7-b8ea-db4a2e6b69f4",
   "metadata": {
    "ExecuteTime": {
     "end_time": "2024-07-30T17:27:49.410184Z",
     "start_time": "2024-07-30T17:27:49.407381Z"
    }
   },
   "outputs": [
    {
     "data": {
      "text/plain": [
       "0.4879472414309902"
      ]
     },
     "execution_count": 22,
     "metadata": {},
     "output_type": "execute_result"
    }
   ],
   "source": [
    "root_mean_squared_error(pred_df[y_col], pred)"
   ]
  },
  {
   "cell_type": "code",
   "execution_count": null,
   "id": "fa2f33701239ff0a",
   "metadata": {
    "ExecuteTime": {
     "end_time": "2024-07-30T17:20:48.311839Z",
     "start_time": "2024-07-30T17:20:48.310299Z"
    }
   },
   "outputs": [],
   "source": []
  }
 ],
 "metadata": {
  "kernelspec": {
   "display_name": "Python 3 (ipykernel)",
   "language": "python",
   "name": "python3"
  },
  "language_info": {
   "codemirror_mode": {
    "name": "ipython",
    "version": 3
   },
   "file_extension": ".py",
   "mimetype": "text/x-python",
   "name": "python",
   "nbconvert_exporter": "python",
   "pygments_lexer": "ipython3",
   "version": "3.11.9"
  }
 },
 "nbformat": 4,
 "nbformat_minor": 5
}
