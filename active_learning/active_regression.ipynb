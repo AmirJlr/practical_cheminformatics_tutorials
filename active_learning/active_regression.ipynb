{
 "cells": [
  {
   "cell_type": "markdown",
   "id": "bc3c50f0",
   "metadata": {},
   "source": [
    "### Introduction"
   ]
  },
  {
   "cell_type": "markdown",
   "id": "5769c09f",
   "metadata": {
    "pycharm": {
     "name": "#%% md\n"
    }
   },
   "source": [
    "This tutorial shows how to use active learning to rapidly process a large dataset using a more computationally expensive method like docking, FEP, or 3D similarity calculations.  The code here is a scaled-down version of the code in our paper [\"Optimizing active learning for free energy calculations\"](https://www.sciencedirect.com/science/article/pii/S2667318522000204).  The code is fully functional.  I just removed a few of the options and benchmarks from our original work.  "
   ]
  },
  {
   "cell_type": "markdown",
   "id": "aec40556",
   "metadata": {},
   "source": [
    "### Installation"
   ]
  },
  {
   "cell_type": "markdown",
   "id": "df5be2a6",
   "metadata": {},
   "source": [
    "Install the necessary Python libraries."
   ]
  },
  {
   "cell_type": "code",
   "execution_count": null,
   "id": "4e0fdb79",
   "metadata": {},
   "outputs": [],
   "source": [
    "!pip install pandas numpy seaborn useful_rdkit_utils tqdm scikit-learn\n",
    "!pip install git+https://github.com/modAL-python/modAL.git"
   ]
  },
  {
   "cell_type": "code",
   "execution_count": 96,
   "id": "bdc5358b-51a1-4b8c-bc5d-f484eb8eab6b",
   "metadata": {
    "pycharm": {
     "name": "#%%\n"
    }
   },
   "outputs": [],
   "source": [
    "from operator import itemgetter\n",
    "\n",
    "import numpy as np\n",
    "import pandas as pd\n",
    "import seaborn as sns\n",
    "import sklearn.gaussian_process as gp\n",
    "import useful_rdkit_utils as uru\n",
    "from modAL.acquisition import BaseLearner\n",
    "from modAL.models import BayesianOptimizer\n",
    "from modAL.utils.data import modALinput\n",
    "from modAL.acquisition import optimizer_PI\n",
    "from rdkit import Chem\n",
    "from sklearn.gaussian_process import GaussianProcessRegressor\n",
    "from tqdm.auto import tqdm\n",
    "from modAL.utils.selection import multi_argmax"
   ]
  },
  {
   "cell_type": "markdown",
   "id": "ead57862",
   "metadata": {},
   "source": [
    "### Defining an Oracle"
   ]
  },
  {
   "cell_type": "markdown",
   "id": "94f7e918",
   "metadata": {
    "pycharm": {
     "name": "#%% md\n"
    }
   },
   "source": [
    "As with the classification example, we'll define an oracle that looks up values from a dataframe.  In practice, the oracle would perform some more expensive calculation like docking, FEP, or shape overlap. "
   ]
  },
  {
   "cell_type": "code",
   "execution_count": 97,
   "id": "ed43e30d",
   "metadata": {
    "pycharm": {
     "name": "#%%\n"
    }
   },
   "outputs": [],
   "source": [
    "class Oracle:\n",
    "    def __init__(self, df, col_name, invert=True):\n",
    "        self.df = df\n",
    "        self.col_name = col_name\n",
    "        if invert:\n",
    "            self.df[col_name] = self.df[col_name]\n",
    "\n",
    "    def sample(self, num):\n",
    "        sample_df = self.df.sample(num)\n",
    "        return sample_df.fp.values, sample_df[self.col_name].values, sample_df.index\n",
    "\n",
    "    def get_values(self, idx_list):\n",
    "        return df[self.col_name].values[idx_list]"
   ]
  },
  {
   "cell_type": "markdown",
   "id": "55e13d03",
   "metadata": {},
   "source": [
    "### Defining the Kernel Function for the Machine Learning Model"
   ]
  },
  {
   "cell_type": "markdown",
   "id": "9909b693",
   "metadata": {
    "pycharm": {
     "name": "#%% md\n"
    }
   },
   "source": [
    "When we do active learning, we have to define a machine learning models that acts as a surrogate for the more expensive calculations.  In this case, we're going to use Gaussian Process Regression (GPR) to build our regression models.  To use GPR, we need to define a kernel function. Here we calculate a kernel based on the Tanimoto similarities of the molecules."
   ]
  },
  {
   "cell_type": "code",
   "execution_count": 98,
   "id": "669dc440-93c9-4d29-8256-4249efb8c213",
   "metadata": {
    "pycharm": {
     "name": "#%%\n"
    }
   },
   "outputs": [],
   "source": [
    "def calculate_similarity(a, b):\n",
    "    # Tanimoto similarity a vs. b\n",
    "    aa = np.sum(a, axis=1, keepdims=True)\n",
    "    bb = np.sum(b, axis=1, keepdims=True)\n",
    "    ab = np.matmul(a, b.T)\n",
    "    return np.true_divide(ab, aa + bb.T - ab)\n",
    "\n",
    "\n",
    "class TanimotoKernel(gp.kernels.NormalizedKernelMixin,\n",
    "                     gp.kernels.StationaryKernelMixin, gp.kernels.Kernel):\n",
    "\n",
    "    def __init__(self):\n",
    "        pass\n",
    "\n",
    "    def __call__(self, X, Y=None, eval_gradient=False):\n",
    "        assert not eval_gradient\n",
    "        if Y is None:\n",
    "            Y = X\n",
    "        return calculate_similarity(X, Y)"
   ]
  },
  {
   "cell_type": "markdown",
   "id": "21cbb28d",
   "metadata": {},
   "source": [
    "### Reading the Data"
   ]
  },
  {
   "cell_type": "markdown",
   "id": "e99227cf",
   "metadata": {
    "pycharm": {
     "name": "#%% md\n"
    }
   },
   "source": [
    "Enable progress bars for the Pandas apply function."
   ]
  },
  {
   "cell_type": "code",
   "execution_count": 99,
   "id": "a1678470-9858-43e8-8132-d9518e1dcd9d",
   "metadata": {
    "pycharm": {
     "name": "#%%\n"
    }
   },
   "outputs": [],
   "source": [
    "tqdm.pandas()"
   ]
  },
  {
   "cell_type": "markdown",
   "id": "bae9d650",
   "metadata": {
    "pycharm": {
     "name": "#%% md\n"
    }
   },
   "source": [
    "Read the input data.  This data comes from [\"Optimizing active learning for free energy calculations\"](https://www.sciencedirect.com/science/article/pii/S2667318522000204)"
   ]
  },
  {
   "cell_type": "code",
   "execution_count": 100,
   "id": "ce34db47-4911-41a0-9c04-5c95f56be258",
   "metadata": {
    "pycharm": {
     "name": "#%%\n"
    }
   },
   "outputs": [],
   "source": [
    "df = pd.read_csv(\"data/tyk2_fep.csv\")"
   ]
  },
  {
   "cell_type": "markdown",
   "id": "6a4b2af7",
   "metadata": {
    "pycharm": {
     "name": "#%% md\n"
    }
   },
   "source": [
    "Take a quick look at the data."
   ]
  },
  {
   "cell_type": "code",
   "execution_count": 101,
   "id": "e3c2c66d",
   "metadata": {
    "pycharm": {
     "name": "#%%\n"
    }
   },
   "outputs": [
    {
     "data": {
      "text/html": [
       "<div>\n",
       "<style scoped>\n",
       "    .dataframe tbody tr th:only-of-type {\n",
       "        vertical-align: middle;\n",
       "    }\n",
       "\n",
       "    .dataframe tbody tr th {\n",
       "        vertical-align: top;\n",
       "    }\n",
       "\n",
       "    .dataframe thead th {\n",
       "        text-align: right;\n",
       "    }\n",
       "</style>\n",
       "<table border=\"1\" class=\"dataframe\">\n",
       "  <thead>\n",
       "    <tr style=\"text-align: right;\">\n",
       "      <th></th>\n",
       "      <th>LigandId</th>\n",
       "      <th>DockingScore</th>\n",
       "      <th>SMILES</th>\n",
       "      <th>dG</th>\n",
       "      <th>dGError</th>\n",
       "    </tr>\n",
       "  </thead>\n",
       "  <tbody>\n",
       "    <tr>\n",
       "      <th>0</th>\n",
       "      <td>0</td>\n",
       "      <td>-8.654</td>\n",
       "      <td>O=C(Nc1ccnc(NC(=O)C2CCC2)c1)c1c(Cl)cccc1Cl</td>\n",
       "      <td>-2.995</td>\n",
       "      <td>0.455</td>\n",
       "    </tr>\n",
       "    <tr>\n",
       "      <th>1</th>\n",
       "      <td>1</td>\n",
       "      <td>-8.126</td>\n",
       "      <td>O=C(Nc1ccnc(NC(=O)C2CCCC2)c1)c1ccccc1Cl</td>\n",
       "      <td>8.731</td>\n",
       "      <td>0.462</td>\n",
       "    </tr>\n",
       "    <tr>\n",
       "      <th>2</th>\n",
       "      <td>2</td>\n",
       "      <td>-8.655</td>\n",
       "      <td>O=C(Nc1ccnc(NC(=O)C2CCC2)c1)c1ccccc1Cl</td>\n",
       "      <td>3.316</td>\n",
       "      <td>0.448</td>\n",
       "    </tr>\n",
       "    <tr>\n",
       "      <th>3</th>\n",
       "      <td>3</td>\n",
       "      <td>-8.429</td>\n",
       "      <td>O=C(Nc1ccnc(NC(=O)C2CC2)c1)c1c(Cl)cc(Cl)cc1Cl</td>\n",
       "      <td>-0.070</td>\n",
       "      <td>0.462</td>\n",
       "    </tr>\n",
       "    <tr>\n",
       "      <th>4</th>\n",
       "      <td>4</td>\n",
       "      <td>-8.458</td>\n",
       "      <td>O=C(Nc1ccnc(NC(=O)C2CC2)c1)c1cc(Cl)ccc1Cl</td>\n",
       "      <td>3.431</td>\n",
       "      <td>0.449</td>\n",
       "    </tr>\n",
       "    <tr>\n",
       "      <th>...</th>\n",
       "      <td>...</td>\n",
       "      <td>...</td>\n",
       "      <td>...</td>\n",
       "      <td>...</td>\n",
       "      <td>...</td>\n",
       "    </tr>\n",
       "    <tr>\n",
       "      <th>9992</th>\n",
       "      <td>9994</td>\n",
       "      <td>-8.900</td>\n",
       "      <td>COc1cc(Cl)c(C(=O)Nc2cc(Nc3cccc(C(N)=O)n3)ncc2F...</td>\n",
       "      <td>3.288</td>\n",
       "      <td>0.512</td>\n",
       "    </tr>\n",
       "    <tr>\n",
       "      <th>9993</th>\n",
       "      <td>9995</td>\n",
       "      <td>-8.371</td>\n",
       "      <td>COc1ccnc(Nc2cc(NC(=O)c3cccc(Cl)c3N)c(F)cn2)c1</td>\n",
       "      <td>15.143</td>\n",
       "      <td>0.478</td>\n",
       "    </tr>\n",
       "    <tr>\n",
       "      <th>9994</th>\n",
       "      <td>9996</td>\n",
       "      <td>-8.897</td>\n",
       "      <td>O=C(COCc1ccccc1)Nc1cc(NC(=O)c2cccc(Cl)c2)c(F)cn1</td>\n",
       "      <td>5.480</td>\n",
       "      <td>0.500</td>\n",
       "    </tr>\n",
       "    <tr>\n",
       "      <th>9995</th>\n",
       "      <td>9997</td>\n",
       "      <td>-8.218</td>\n",
       "      <td>COc1c(F)cccc1C(=O)Nc1ccnc(NC(=O)NC(C)C)c1</td>\n",
       "      <td>10.696</td>\n",
       "      <td>0.467</td>\n",
       "    </tr>\n",
       "    <tr>\n",
       "      <th>9996</th>\n",
       "      <td>9998</td>\n",
       "      <td>-9.235</td>\n",
       "      <td>O=C(Nc1cc(Nc2cncc(CO)n2)ncc1F)c1cccc(Cl)c1F</td>\n",
       "      <td>2.736</td>\n",
       "      <td>0.474</td>\n",
       "    </tr>\n",
       "  </tbody>\n",
       "</table>\n",
       "<p>9997 rows × 5 columns</p>\n",
       "</div>"
      ],
      "text/plain": [
       "      LigandId  DockingScore  \\\n",
       "0            0        -8.654   \n",
       "1            1        -8.126   \n",
       "2            2        -8.655   \n",
       "3            3        -8.429   \n",
       "4            4        -8.458   \n",
       "...        ...           ...   \n",
       "9992      9994        -8.900   \n",
       "9993      9995        -8.371   \n",
       "9994      9996        -8.897   \n",
       "9995      9997        -8.218   \n",
       "9996      9998        -9.235   \n",
       "\n",
       "                                                 SMILES      dG  dGError  \n",
       "0            O=C(Nc1ccnc(NC(=O)C2CCC2)c1)c1c(Cl)cccc1Cl  -2.995    0.455  \n",
       "1               O=C(Nc1ccnc(NC(=O)C2CCCC2)c1)c1ccccc1Cl   8.731    0.462  \n",
       "2                O=C(Nc1ccnc(NC(=O)C2CCC2)c1)c1ccccc1Cl   3.316    0.448  \n",
       "3         O=C(Nc1ccnc(NC(=O)C2CC2)c1)c1c(Cl)cc(Cl)cc1Cl  -0.070    0.462  \n",
       "4             O=C(Nc1ccnc(NC(=O)C2CC2)c1)c1cc(Cl)ccc1Cl   3.431    0.449  \n",
       "...                                                 ...     ...      ...  \n",
       "9992  COc1cc(Cl)c(C(=O)Nc2cc(Nc3cccc(C(N)=O)n3)ncc2F...   3.288    0.512  \n",
       "9993      COc1ccnc(Nc2cc(NC(=O)c3cccc(Cl)c3N)c(F)cn2)c1  15.143    0.478  \n",
       "9994   O=C(COCc1ccccc1)Nc1cc(NC(=O)c2cccc(Cl)c2)c(F)cn1   5.480    0.500  \n",
       "9995          COc1c(F)cccc1C(=O)Nc1ccnc(NC(=O)NC(C)C)c1  10.696    0.467  \n",
       "9996        O=C(Nc1cc(Nc2cncc(CO)n2)ncc1F)c1cccc(Cl)c1F   2.736    0.474  \n",
       "\n",
       "[9997 rows x 5 columns]"
      ]
     },
     "execution_count": 101,
     "metadata": {},
     "output_type": "execute_result"
    }
   ],
   "source": [
    "df"
   ]
  },
  {
   "cell_type": "markdown",
   "id": "4cec76c9",
   "metadata": {},
   "source": [
    "The data in the table is in kcal/mol, we'll convert to a pKd and call the new column \"Activity\"."
   ]
  },
  {
   "cell_type": "code",
   "execution_count": 102,
   "id": "7ab9248b",
   "metadata": {},
   "outputs": [
    {
     "data": {
      "image/png": "[encoded data removed]",
      "text/plain": [
       "<Figure size 500x500 with 1 Axes>"
      ]
     },
     "metadata": {},
     "output_type": "display_data"
    }
   ],
   "source": [
    "df['Activity'] = -np.log10(np.exp(df.dG/0.5961)/1e-6)\n",
    "sns.displot(df.Activity);"
   ]
  },
  {
   "cell_type": "markdown",
   "id": "a8467530",
   "metadata": {},
   "source": [
    "### Setup for Machine Learning "
   ]
  },
  {
   "cell_type": "markdown",
   "id": "dd1beb2e",
   "metadata": {
    "pycharm": {
     "name": "#%% md\n"
    }
   },
   "source": [
    "Add an RDKit molecule column to the dataframe."
   ]
  },
  {
   "cell_type": "code",
   "execution_count": 103,
   "id": "fe0ab8ee-8fef-48ed-b334-d9cd4ee66aff",
   "metadata": {
    "pycharm": {
     "name": "#%%\n"
    }
   },
   "outputs": [
    {
     "data": {
      "application/vnd.jupyter.widget-view+json": {
       "model_id": "e293d0e1b26840169313abf4e3605fb0",
       "version_major": 2,
       "version_minor": 0
      },
      "text/plain": [
       "  0%|          | 0/9997 [00:00<?, ?it/s]"
      ]
     },
     "metadata": {},
     "output_type": "display_data"
    }
   ],
   "source": [
    "df['mol'] = df.SMILES.progress_apply(Chem.MolFromSmiles)"
   ]
  },
  {
   "cell_type": "markdown",
   "id": "dfa0db27",
   "metadata": {
    "pycharm": {
     "name": "#%% md\n"
    }
   },
   "source": [
    "Add a fingerprint column to the dataframe."
   ]
  },
  {
   "cell_type": "code",
   "execution_count": 118,
   "id": "12417e8f-f9bb-4f5d-bf89-593247971303",
   "metadata": {
    "pycharm": {
     "name": "#%%\n"
    }
   },
   "outputs": [
    {
     "data": {
      "application/vnd.jupyter.widget-view+json": {
       "model_id": "ae0c94fddf324da49362cd9391f8779d",
       "version_major": 2,
       "version_minor": 0
      },
      "text/plain": [
       "  0%|          | 0/9997 [00:00<?, ?it/s]"
      ]
     },
     "metadata": {},
     "output_type": "display_data"
    }
   ],
   "source": [
    "df['fp'] = df.mol.progress_apply(uru.mol2numpy_fp)"
   ]
  },
  {
   "cell_type": "markdown",
   "id": "d399cef5",
   "metadata": {
    "pycharm": {
     "name": "#%% md\n"
    }
   },
   "source": [
    "Create a pool for fingerprints for the active learning algorithm to draw from."
   ]
  },
  {
   "cell_type": "code",
   "execution_count": 119,
   "id": "094e011b-da93-49ab-9798-f0e733069774",
   "metadata": {
    "pycharm": {
     "name": "#%%\n"
    }
   },
   "outputs": [
    {
     "name": "stdout",
     "output_type": "stream",
     "text": [
      "CPU times: user 7.72 ms, sys: 7.43 ms, total: 15.2 ms\n",
      "Wall time: 21.7 ms\n"
     ]
    }
   ],
   "source": [
    "%%time\n",
    "X_pool = np.stack(df.fp.values)"
   ]
  },
  {
   "cell_type": "markdown",
   "id": "3e72593d",
   "metadata": {},
   "source": [
    "### Define Helper Functions for Active Learning"
   ]
  },
  {
   "cell_type": "markdown",
   "id": "1452e741",
   "metadata": {
    "pycharm": {
     "name": "#%% md\n"
    }
   },
   "source": [
    "For the greedy search, we want to select the best scoring molecules, but we want to avoid selecting the same molecules multiple times. This function accepts a list of predictions and does the following.\n",
    "- Sort by score\n",
    "- Remove the molecules that were previously selected\n",
    "- Return the top **n_to_choose**"
   ]
  },
  {
   "cell_type": "code",
   "execution_count": 120,
   "id": "cc13556d",
   "metadata": {
    "pycharm": {
     "name": "#%%\n"
    }
   },
   "outputs": [],
   "source": [
    "def find_best_idx(predicted, used, num_to_choose):\n",
    "    tmp_list = list(enumerate(predicted))\n",
    "    tmp_list.sort(key=itemgetter(1), reverse=True)\n",
    "    tmp_list = [x for x in tmp_list if x[0] not in used]\n",
    "    tmp_list = [x[0] for x in tmp_list]\n",
    "    return tmp_list[:num_to_choose]"
   ]
  },
  {
   "cell_type": "markdown",
   "id": "f1df581e",
   "metadata": {
    "pycharm": {
     "name": "#%% md\n"
    }
   },
   "source": [
    "Here are a couple of acquistion functions.  The first **greedy** simply selects the **n** top scoring molecules to be evaluated by the oracle.  The second **my_max_PI** maximizes the Probability of Improvement (PI) and uses uncertainty and the scores to balance exploration and exploitation.  The git repo associated with our paper [\"Optimizing active learning for free energy calculations\"](https://www.sciencedirect.com/science/article/pii/S2667318522000204) has examples of several other acquistion functions.  TLDR from our work, the acquistion function doesn't make a huge difference. "
   ]
  },
  {
   "cell_type": "code",
   "execution_count": 121,
   "id": "241046d8",
   "metadata": {
    "pycharm": {
     "name": "#%%\n"
    }
   },
   "outputs": [],
   "source": [
    "def greedy(optimizer: BaseLearner, X: modALinput, n_instances=1, used=[]):\n",
    "    res = optimizer.predict(X)\n",
    "    best_idx = find_best_idx(res, used, n_instances)\n",
    "    return best_idx, X[best_idx]\n",
    "\n",
    "def my_max_PI(optimizer: BaseLearner, X: modALinput, tradeoff: float = 0,\n",
    "           n_instances: int = 1, used = [], cycle = -1) -> np.ndarray:\n",
    "    pi = optimizer_PI(optimizer, X, tradeoff=tradeoff)\n",
    "    best_idx = find_best_idx(pi, used, n_instances)\n",
    "    return best_idx, X[best_idx]"
   ]
  },
  {
   "cell_type": "markdown",
   "id": "53dc2b63",
   "metadata": {},
   "source": [
    "### Create an Oracle"
   ]
  },
  {
   "cell_type": "markdown",
   "id": "73b52131",
   "metadata": {
    "pycharm": {
     "name": "#%% md\n"
    }
   },
   "source": [
    "Create an oracle that will return values. This example oracle just looks up a value in a table.  In practice, you'd put code here to do a more expensive calculation.  The notebook **active_shape_search.ipynb** has a complete implementation of an oracle. "
   ]
  },
  {
   "cell_type": "code",
   "execution_count": 122,
   "id": "aefb3804",
   "metadata": {
    "pycharm": {
     "name": "#%%\n"
    }
   },
   "outputs": [],
   "source": [
    "value_column = \"Activity\"\n",
    "oracle = Oracle(df, value_column)"
   ]
  },
  {
   "cell_type": "markdown",
   "id": "d12bfa14",
   "metadata": {},
   "source": [
    "### Run Active Learning"
   ]
  },
  {
   "cell_type": "markdown",
   "id": "bf69645c",
   "metadata": {
    "pycharm": {
     "name": "#%% md\n"
    }
   },
   "source": [
    "This is the main active learning loop."
   ]
  },
  {
   "cell_type": "code",
   "execution_count": 125,
   "id": "03d3defe-55e6-4e34-bce7-a429b3ca9acb",
   "metadata": {
    "pycharm": {
     "name": "#%%\n"
    }
   },
   "outputs": [
    {
     "data": {
      "application/vnd.jupyter.widget-view+json": {
       "model_id": "01cb0ca654ca4720a15af6061e28f7f2",
       "version_major": 2,
       "version_minor": 0
      },
      "text/plain": [
       "  0%|          | 0/5 [00:00<?, ?it/s]"
      ]
     },
     "metadata": {},
     "output_type": "display_data"
    }
   ],
   "source": [
    "# number of molecules to select at each active learning cycle\n",
    "n_instances = 50\n",
    "# number of active learning cycles to run\n",
    "n_cycles = 5\n",
    "\n",
    "# define the acquistion function, to change to greedy just change the line below\n",
    "query_strategy = my_max_PI\n",
    "# select an initial random cycle\n",
    "X_initial, y_initial, sample_idx = oracle.sample(n_instances)\n",
    "# instantiate the optimizer with an estimator, training data, and an acquistion function\n",
    "optimizer = BayesianOptimizer(estimator=GaussianProcessRegressor(kernel=TanimotoKernel()),\n",
    "                              X_training=np.stack(X_initial), y_training=y_initial,\n",
    "                              query_strategy=query_strategy)\n",
    "# initialize a list of scores\n",
    "val_list = [y_initial]\n",
    "# keep track of which molecules we've sampled\n",
    "used = list(sample_idx)\n",
    "# the active learning loop\n",
    "for i in tqdm(range(0, n_cycles)):\n",
    "    # ask the optimizer for the next set of molecules\n",
    "    query_idx, query_desc = optimizer.query(X_pool, n_instances=n_instances, used=used)\n",
    "    # get values from the oracle, in practice, this is where we would do the more expensive calculations\n",
    "    vals = oracle.get_values(query_idx)\n",
    "    # add the returned values to val_list\n",
    "    val_list.append(vals)\n",
    "    # keep track of the molecules we've used\n",
    "    used += query_idx\n",
    "    # update the optimizer with the new values\n",
    "    optimizer.teach(query_desc, vals)"
   ]
  },
  {
   "cell_type": "markdown",
   "id": "eda89042",
   "metadata": {},
   "source": [
    "### Analyze Active Learning Results"
   ]
  },
  {
   "cell_type": "markdown",
   "id": "2ff0b2aa",
   "metadata": {
    "pycharm": {
     "name": "#%% md\n"
    }
   },
   "source": [
    "Let's see how many of the top 100 molecules we found."
   ]
  },
  {
   "cell_type": "code",
   "execution_count": 126,
   "id": "054caae0",
   "metadata": {
    "pycharm": {
     "name": "#%%\n"
    }
   },
   "outputs": [
    {
     "data": {
      "text/plain": [
       "55"
      ]
     },
     "execution_count": 126,
     "metadata": {},
     "output_type": "execute_result"
    }
   ],
   "source": [
    "# sort the initial dataframe by score\n",
    "ref_df = df.sort_values(value_column, ascending=False).head(100).copy()\n",
    "# create a new dataframe with the selected molecules and sort by score\n",
    "pick_df = df.iloc[used].sort_values(value_column, ascending=False).head(100).copy()\n",
    "# merge the two dataframes to see how many molecules are in common\n",
    "len(ref_df.merge(pick_df, on=\"LigandId\"))"
   ]
  },
  {
   "cell_type": "markdown",
   "id": "197498dd",
   "metadata": {
    "pycharm": {
     "name": "#%% md\n"
    }
   },
   "source": [
    "Let's look at how the scores were distributed across the active learning cycles. First we need to put the data in a dataframe."
   ]
  },
  {
   "cell_type": "code",
   "execution_count": 127,
   "id": "1904073c",
   "metadata": {
    "pycharm": {
     "name": "#%%\n"
    }
   },
   "outputs": [
    {
     "data": {
      "text/html": [
       "<div>\n",
       "<style scoped>\n",
       "    .dataframe tbody tr th:only-of-type {\n",
       "        vertical-align: middle;\n",
       "    }\n",
       "\n",
       "    .dataframe tbody tr th {\n",
       "        vertical-align: top;\n",
       "    }\n",
       "\n",
       "    .dataframe thead th {\n",
       "        text-align: right;\n",
       "    }\n",
       "</style>\n",
       "<table border=\"1\" class=\"dataframe\">\n",
       "  <thead>\n",
       "    <tr style=\"text-align: right;\">\n",
       "      <th></th>\n",
       "      <th>SMILES</th>\n",
       "      <th>cycle</th>\n",
       "      <th>mol_idx</th>\n",
       "      <th>Activity</th>\n",
       "    </tr>\n",
       "  </thead>\n",
       "  <tbody>\n",
       "    <tr>\n",
       "      <th>0</th>\n",
       "      <td>COc1cccc(C(=O)Nc2ccnc(NC(=O)C3CC3)c2)c1C</td>\n",
       "      <td>0</td>\n",
       "      <td>638</td>\n",
       "      <td>-16.132809</td>\n",
       "    </tr>\n",
       "    <tr>\n",
       "      <th>1</th>\n",
       "      <td>Cc1cc(Nc2cc(NC(=O)c3c(Cl)cccc3Br)ccn2)nc(N2CC(...</td>\n",
       "      <td>0</td>\n",
       "      <td>6417</td>\n",
       "      <td>4.940782</td>\n",
       "    </tr>\n",
       "    <tr>\n",
       "      <th>2</th>\n",
       "      <td>O=C(Nc1cccnc1)Nc1cc(NC(=O)c2c(F)ccc(F)c2Cl)c(F...</td>\n",
       "      <td>0</td>\n",
       "      <td>7579</td>\n",
       "      <td>-2.716381</td>\n",
       "    </tr>\n",
       "    <tr>\n",
       "      <th>3</th>\n",
       "      <td>O=C(Nc1ccnc(Nc2cncc(CO)n2)c1)c1c(Cl)cccc1Cl</td>\n",
       "      <td>0</td>\n",
       "      <td>1404</td>\n",
       "      <td>-6.684846</td>\n",
       "    </tr>\n",
       "    <tr>\n",
       "      <th>4</th>\n",
       "      <td>COc1ccc(C)c(C(=O)Nc2ccnc(Nc3ccccc3)c2)c1</td>\n",
       "      <td>0</td>\n",
       "      <td>8775</td>\n",
       "      <td>-16.544446</td>\n",
       "    </tr>\n",
       "    <tr>\n",
       "      <th>...</th>\n",
       "      <td>...</td>\n",
       "      <td>...</td>\n",
       "      <td>...</td>\n",
       "      <td>...</td>\n",
       "    </tr>\n",
       "    <tr>\n",
       "      <th>295</th>\n",
       "      <td>NC(=O)c1cccc(Nc2cc(NC(=O)c3cc(F)ccc3Cl)c(F)cn2)n1</td>\n",
       "      <td>5</td>\n",
       "      <td>6812</td>\n",
       "      <td>3.514262</td>\n",
       "    </tr>\n",
       "    <tr>\n",
       "      <th>296</th>\n",
       "      <td>O=C(NCc1ccccc1)Nc1cc(NC(=O)c2cc(F)ccc2Cl)c(F)cn1</td>\n",
       "      <td>5</td>\n",
       "      <td>6668</td>\n",
       "      <td>-1.713154</td>\n",
       "    </tr>\n",
       "    <tr>\n",
       "      <th>297</th>\n",
       "      <td>O=C(Nc1ccnc(Nc2ccnc(CO)n2)c1)c1c(F)cccc1Cl</td>\n",
       "      <td>5</td>\n",
       "      <td>3624</td>\n",
       "      <td>1.037887</td>\n",
       "    </tr>\n",
       "    <tr>\n",
       "      <th>298</th>\n",
       "      <td>O=C(Nc1cc(NC(=O)c2c(F)cccc2Cl)c(F)cn1)NC1CC1</td>\n",
       "      <td>5</td>\n",
       "      <td>2319</td>\n",
       "      <td>-3.139674</td>\n",
       "    </tr>\n",
       "    <tr>\n",
       "      <th>299</th>\n",
       "      <td>COC(=O)c1cccc(Nc2cc(NC(=O)c3cc(F)ccc3Cl)c(F)cn...</td>\n",
       "      <td>5</td>\n",
       "      <td>9957</td>\n",
       "      <td>-1.231576</td>\n",
       "    </tr>\n",
       "  </tbody>\n",
       "</table>\n",
       "<p>300 rows × 4 columns</p>\n",
       "</div>"
      ],
      "text/plain": [
       "                                                SMILES  cycle  mol_idx  \\\n",
       "0             COc1cccc(C(=O)Nc2ccnc(NC(=O)C3CC3)c2)c1C      0      638   \n",
       "1    Cc1cc(Nc2cc(NC(=O)c3c(Cl)cccc3Br)ccn2)nc(N2CC(...      0     6417   \n",
       "2    O=C(Nc1cccnc1)Nc1cc(NC(=O)c2c(F)ccc(F)c2Cl)c(F...      0     7579   \n",
       "3          O=C(Nc1ccnc(Nc2cncc(CO)n2)c1)c1c(Cl)cccc1Cl      0     1404   \n",
       "4             COc1ccc(C)c(C(=O)Nc2ccnc(Nc3ccccc3)c2)c1      0     8775   \n",
       "..                                                 ...    ...      ...   \n",
       "295  NC(=O)c1cccc(Nc2cc(NC(=O)c3cc(F)ccc3Cl)c(F)cn2)n1      5     6812   \n",
       "296   O=C(NCc1ccccc1)Nc1cc(NC(=O)c2cc(F)ccc2Cl)c(F)cn1      5     6668   \n",
       "297         O=C(Nc1ccnc(Nc2ccnc(CO)n2)c1)c1c(F)cccc1Cl      5     3624   \n",
       "298       O=C(Nc1cc(NC(=O)c2c(F)cccc2Cl)c(F)cn1)NC1CC1      5     2319   \n",
       "299  COC(=O)c1cccc(Nc2cc(NC(=O)c3cc(F)ccc3Cl)c(F)cn...      5     9957   \n",
       "\n",
       "      Activity  \n",
       "0   -16.132809  \n",
       "1     4.940782  \n",
       "2    -2.716381  \n",
       "3    -6.684846  \n",
       "4   -16.544446  \n",
       "..         ...  \n",
       "295   3.514262  \n",
       "296  -1.713154  \n",
       "297   1.037887  \n",
       "298  -3.139674  \n",
       "299  -1.231576  \n",
       "\n",
       "[300 rows x 4 columns]"
      ]
     },
     "execution_count": 127,
     "metadata": {},
     "output_type": "execute_result"
    }
   ],
   "source": [
    "res_list = []\n",
    "for idx, v in enumerate(val_list):\n",
    "    res_list += [(idx, x) for x in v]\n",
    "res_df = pd.DataFrame(res_list, columns=[\"cycle\", value_column])\n",
    "# add row numbers for the selected molecules\n",
    "res_df['mol_idx'] = used\n",
    "# add the SMILES for the selected molecules \n",
    "res_df['SMILES'] = df.SMILES.values[used]\n",
    "# reorder the columns in res_df\n",
    "res_df = res_df[['SMILES','cycle','mol_idx','Activity']]\n",
    "res_df"
   ]
  },
  {
   "cell_type": "markdown",
   "id": "d68ce763",
   "metadata": {
    "pycharm": {
     "name": "#%% md\n"
    }
   },
   "source": [
    "Plot the scores of the molecules selected in each active learning round.  Remember that the first active learning cycle was randomly selected. "
   ]
  },
  {
   "cell_type": "code",
   "execution_count": 128,
   "id": "9366f78c",
   "metadata": {
    "pycharm": {
     "name": "#%%\n"
    }
   },
   "outputs": [
    {
     "data": {
      "image/png": "[encoded data removed]",
      "text/plain": [
       "<Figure size 640x480 with 1 Axes>"
      ]
     },
     "metadata": {},
     "output_type": "display_data"
    }
   ],
   "source": [
    "ax = sns.boxplot(x=\"cycle\", y=value_column, data=res_df,color=\"lightblue\")\n",
    "ax.set_xlabel(\"Active Learning Cycle\");"
   ]
  },
  {
   "cell_type": "markdown",
   "id": "b1faec23",
   "metadata": {
    "pycharm": {
     "name": "#%% md\n"
    }
   },
   "source": [
    "Now let's plot the distributions for the top 100 molecules from the input data vs the top 100 found using active learning."
   ]
  },
  {
   "cell_type": "code",
   "execution_count": 129,
   "id": "bf64efc0",
   "metadata": {
    "pycharm": {
     "name": "#%%\n"
    }
   },
   "outputs": [
    {
     "data": {
      "image/png": "[encoded data removed]",
      "text/plain": [
       "<Figure size 640x480 with 1 Axes>"
      ]
     },
     "metadata": {},
     "output_type": "display_data"
    }
   ],
   "source": [
    "# Get a dataframe with the top 100 reference molecules\n",
    "ref_top_100 = ref_df.sort_values(\"Activity\",ascending=False).head(100).copy()\n",
    "ref_top_100['Dataset'] = 'Reference'\n",
    "# Get a dataframe with top 100 molecules predicted by active learning\n",
    "pred_top_100 = res_df.sort_values(\"Activity\",ascending=False).head(100).copy()\n",
    "pred_top_100['Dataset'] = 'Active Learning'\n",
    "# Make a boxplot comparing the scores of the top 100 molecules\n",
    "ax = sns.boxplot(x=\"Dataset\", y=\"Activity\", data=pd.concat([ref_top_100,pred_top_100]),color=\"lightblue\");\n",
    "ax.set_ylabel(\"Activity\");"
   ]
  },
  {
   "cell_type": "markdown",
   "id": "6f607c2b",
   "metadata": {
    "pycharm": {
     "name": "#%%\n"
    }
   },
   "source": [
    "We can also compare the scores of the molecules selected by active learning with scores from randomly selected molecules. "
   ]
  },
  {
   "cell_type": "code",
   "execution_count": 130,
   "id": "59ec5da3",
   "metadata": {
    "pycharm": {
     "name": "#%%\n"
    }
   },
   "outputs": [
    {
     "data": {
      "image/png": "[encoded data removed]",
      "text/plain": [
       "<Figure size 640x480 with 1 Axes>"
      ]
     },
     "metadata": {},
     "output_type": "display_data"
    }
   ],
   "source": [
    "# Take a random sample from the input data that is the same size as the dataframe with the selected molecules\n",
    "random_df = df.sample(len(res_df)).copy()\n",
    "random_df['Dataset'] = 'Random'\n",
    "# Label the active learning data\n",
    "res_df['Dataset'] = 'Active Learning'\n",
    "ax = sns.boxplot(x=\"Dataset\", y=\"Activity\", data=pd.concat([random_df,res_df]),color=\"lightblue\");\n",
    "ax.set_ylabel(\"Activity\");"
   ]
  },
  {
   "cell_type": "code",
   "execution_count": null,
   "id": "ae8cd85b",
   "metadata": {
    "pycharm": {
     "name": "#%%\n"
    }
   },
   "outputs": [],
   "source": []
  },
  {
   "cell_type": "code",
   "execution_count": null,
   "id": "0865c777",
   "metadata": {},
   "outputs": [],
   "source": []
  }
 ],
 "metadata": {
  "kernelspec": {
   "display_name": "Python 3 (ipykernel)",
   "language": "python",
   "name": "python3"
  },
  "language_info": {
   "codemirror_mode": {
    "name": "ipython",
    "version": 3
   },
   "file_extension": ".py",
   "mimetype": "text/x-python",
   "name": "python",
   "nbconvert_exporter": "python",
   "pygments_lexer": "ipython3",
   "version": "3.11.3"
  }
 },
 "nbformat": 4,
 "nbformat_minor": 5
}
