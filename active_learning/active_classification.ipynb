{
 "cells": [
  {
   "cell_type": "markdown",
   "id": "d0dba865",
   "metadata": {
    "pycharm": {
     "name": "#%% md\n"
    }
   },
   "source": [
    "### Introduction\n",
    "In active learning (AL), we use a machine learning (ML) model as a surrogate for a more computationally expensive method.  Let's say we want to dock millions of molecules, but have limited computational resources.  We could sample a subset of the molecules we want to dock and dock the subset.  The chemical structures and docking scores for the subset could then be used to build an ML model to predict the docking scores for the entire set of molecules. In AL, we perform multiple cycles of this prediction and sampling workflow. Throughout the process, we want to balance two parameters.\n",
    "- Exploration - efficiently search the chemical space and identify the most promising regions\n",
    "- Explotation - focus the search on the most interesting regions of chemical space\n",
    "\n",
    "This process is illustrated in the figure below.  The two red boxes represent the **oracle** that performs the more expensive calculations.\n",
    "<br>\n",
    "<center><img src=\"images/active_learning.png\" alt=\"active learning figure\" width=\"800\"/></center>"
   ]
  },
  {
   "cell_type": "markdown",
   "id": "145192fd",
   "metadata": {
    "pycharm": {
     "name": "#%% md\n"
    }
   },
   "source": [
    "1. Begin with a pool of M molecules\n",
    "2. Sample N molecules from the pool\n",
    "3. Perform the computationally expensive calculations on the subset of N molecules.  If our objective is docking, we dock the N molecules.\n",
    "4. The chemical structures and docking scores for the N molecules are used to build an ML model\n",
    "5. The model from step 4 ised to predict values for the M molecules from step 1\n",
    "6. The predictions from the previous step are used to select another set of N molecules.  There are several ways to do this.  One of the simplest is a **greedy** search where we select the N best scoring molecules.  Alternately, we can employ strategies that use the uncertainty in the predictions to direct exploration.\n",
    "7. Perform the computationally expensive calculations on the molecules selected in step 6. If our objective is docking, we would dock the N molecules.\n",
    "8. The results from step 7 are combined with the results from step 3 and the model is retrained.\n",
    "Steps 4 through 8 can be repeated multiple times\n",
    "\n",
    "In the example below, we use AL to dock a set of 100K molecules.  To make this exercise more time efficient, we'll look up the activity rather performing the docking. The code below uses modAL, an open source library for active learning. Modal provides several different AL strategies."
   ]
  },
  {
   "cell_type": "markdown",
   "id": "329cbaf0",
   "metadata": {},
   "source": [
    "### Installation"
   ]
  },
  {
   "cell_type": "code",
   "id": "85af0192",
   "metadata": {
    "ExecuteTime": {
     "end_time": "2025-05-05T17:03:06.840173Z",
     "start_time": "2025-05-05T17:03:06.838228Z"
    }
   },
   "source": [
    "%%capture\n",
    "import sys\n",
    "IN_COLAB = 'google.colab' in sys.modules\n",
    "if IN_COLAB:\n",
    "    !pip install pandas numpy seaborn useful_rdkit_utils tqdm scikit-learn 'modAL-python>=0.4.1'"
   ],
   "outputs": [],
   "execution_count": 1
  },
  {
   "cell_type": "code",
   "id": "5de68ff8",
   "metadata": {
    "ExecuteTime": {
     "end_time": "2025-05-05T17:03:21.475284Z",
     "start_time": "2025-05-05T17:03:21.472516Z"
    }
   },
   "source": [
    "import os\n",
    "import sys\n",
    "if IN_COLAB:\n",
    "  import urllib.request\n",
    "\n",
    "  os.makedirs(\"./data\", exist_ok=True)\n",
    "  url = \"https://raw.githubusercontent.com/PatWalters/practical_cheminformatics_tutorials/main/active_learning/data/screen.csv\"\n",
    "  filename = \"data/screen.csv\"\n",
    "  urllib.request.urlretrieve(url,filename)"
   ],
   "outputs": [],
   "execution_count": 2
  },
  {
   "cell_type": "markdown",
   "id": "f64d67f8",
   "metadata": {
    "pycharm": {
     "name": "#%% md\n"
    }
   },
   "source": [
    "### Setup"
   ]
  },
  {
   "cell_type": "code",
   "id": "4cce7404",
   "metadata": {
    "pycharm": {
     "name": "#%%\n"
    },
    "ExecuteTime": {
     "end_time": "2025-05-05T21:38:53.379241Z",
     "start_time": "2025-05-05T21:38:53.376517Z"
    }
   },
   "source": [
    "import numpy as np\n",
    "import pandas as pd\n",
    "import seaborn as sns\n",
    "import useful_rdkit_utils as uru\n",
    "from modAL.models import ActiveLearner\n",
    "from sklearn.ensemble import RandomForestClassifier\n",
    "from tqdm.auto import tqdm\n",
    "from rdkit import rdBase\n",
    "import warnings"
   ],
   "outputs": [],
   "execution_count": 21
  },
  {
   "cell_type": "markdown",
   "id": "6ba10e39",
   "metadata": {
    "pycharm": {
     "name": "#%% md\n"
    }
   },
   "source": [
    "Enable Pandas **progress_apply**"
   ]
  },
  {
   "cell_type": "code",
   "id": "75cbe78c",
   "metadata": {
    "pycharm": {
     "name": "#%%\n"
    },
    "ExecuteTime": {
     "end_time": "2025-05-05T17:03:32.566341Z",
     "start_time": "2025-05-05T17:03:32.563852Z"
    }
   },
   "source": [
    "tqdm.pandas()"
   ],
   "outputs": [],
   "execution_count": 4
  },
  {
   "cell_type": "markdown",
   "id": "b74fd873",
   "metadata": {
    "pycharm": {
     "name": "#%% md\n"
    }
   },
   "source": [
    "Read data from [\"Traversing Chemical Space with Active Deep Learning\"](https://chemrxiv.org/engage/chemrxiv/article-details/654a603348dad23120461847) by Derek van Tilborg and Francesca Grisoni. \n",
    "\n",
    "The data is formatted with SMILES and 1 or 0 inidicating active or inactive. \n",
    "```\n",
    "smiles,y\n",
    "COc1cc(/C=N/NC(=O)C(=O)NCC2CCCO2)ccc1O,0\n",
    "CC1CCCCC12NC(=O)N(CC(=O)Nc1ccc(N3CCOCC3)cc1)C2=O,0\n",
    "C[NH+]1CCCC(OC(=O)c2cccc(Cl)c2)C1,0\n",
    "CCOc1ccc(C(=O)NCC(=O)OCC(=O)N2CCCC2)cc1,0\n",
    "```\n",
    "After reading the data w generate fingerprints as descriptors. The function **uru.smi2numpy_fp** takes SMILES as input and returns a fingerprint as a numpy array."
   ]
  },
  {
   "cell_type": "code",
   "id": "c4281aa7",
   "metadata": {
    "pycharm": {
     "name": "#%%\n"
    },
    "ExecuteTime": {
     "end_time": "2025-05-05T17:04:43.999589Z",
     "start_time": "2025-05-05T17:04:35.339921Z"
    }
   },
   "source": [
    "df = pd.read_csv(\"data/screen.csv\")\n",
    "with rdBase.BlockLogs():\n",
    "    df['fp'] = df.smiles.progress_apply(uru.smi2numpy_fp)"
   ],
   "outputs": [
    {
     "data": {
      "text/plain": [
       "  0%|          | 0/100000 [00:00<?, ?it/s]"
      ],
      "application/vnd.jupyter.widget-view+json": {
       "version_major": 2,
       "version_minor": 0,
       "model_id": "55befc00f1034f4e99b8355eeb37530a"
      }
     },
     "metadata": {},
     "output_type": "display_data"
    }
   ],
   "execution_count": 7
  },
  {
   "cell_type": "markdown",
   "id": "bd4cfe76-113b-4e03-9db3-c01d207bf519",
   "metadata": {},
   "source": "Look at the activity distribution in the data. We can see that there are ~95K inactives and 5K actives."
  },
  {
   "cell_type": "code",
   "id": "f89ae4d4-b615-4093-9114-6b02e5b9a6df",
   "metadata": {
    "ExecuteTime": {
     "end_time": "2025-05-05T17:04:59.870269Z",
     "start_time": "2025-05-05T17:04:59.863418Z"
    }
   },
   "source": [
    "df.y.value_counts()"
   ],
   "outputs": [
    {
     "data": {
      "text/plain": [
       "y\n",
       "0    95014\n",
       "1     4986\n",
       "Name: count, dtype: int64"
      ]
     },
     "execution_count": 8,
     "metadata": {},
     "output_type": "execute_result"
    }
   ],
   "execution_count": 8
  },
  {
   "cell_type": "markdown",
   "id": "de18c722",
   "metadata": {
    "pycharm": {
     "name": "#%% md\n"
    }
   },
   "source": [
    "Convert the data to numpy arrays"
   ]
  },
  {
   "cell_type": "code",
   "id": "119b1ab5",
   "metadata": {
    "pycharm": {
     "name": "#%%\n"
    },
    "ExecuteTime": {
     "end_time": "2025-05-05T17:05:03.189234Z",
     "start_time": "2025-05-05T17:05:03.124287Z"
    }
   },
   "source": [
    "%%time\n",
    "X_pool = np.stack(df.fp.values)\n",
    "y_pool = df.y.values"
   ],
   "outputs": [
    {
     "name": "stdout",
     "output_type": "stream",
     "text": [
      "CPU times: user 43.9 ms, sys: 19.5 ms, total: 63.5 ms\n",
      "Wall time: 62.5 ms\n"
     ]
    }
   ],
   "execution_count": 9
  },
  {
   "cell_type": "markdown",
   "id": "d98619a8",
   "metadata": {
    "pycharm": {
     "name": "#%% md\n"
    }
   },
   "source": [
    "### Initial Model\n",
    "Here's where we define an oracle to return the results of our calculation.  In this case, we're just looking up a value.  In practice an oracle might perform docking calcuations or something else that's more compute itensive. The notebook **active_shape_search.ipynb** has a complete implementation of an oracle. "
   ]
  },
  {
   "cell_type": "code",
   "id": "54d69d28",
   "metadata": {
    "pycharm": {
     "name": "#%%\n"
    },
    "ExecuteTime": {
     "end_time": "2025-05-05T17:05:06.076630Z",
     "start_time": "2025-05-05T17:05:06.073693Z"
    }
   },
   "source": [
    "class Oracle:\n",
    "    def __init__(self, df):\n",
    "        self.df = df\n",
    "\n",
    "    def get_values(self, idx_list):\n",
    "        return df.y.values[idx_list]"
   ],
   "outputs": [],
   "execution_count": 10
  },
  {
   "cell_type": "markdown",
   "id": "149177eb",
   "metadata": {
    "pycharm": {
     "name": "#%% md\n"
    }
   },
   "source": [
    "Select a set of molecules to build and initial model.  In this case, we'll randomly select 100 molecules and use this set of 100 to build an ML model. "
   ]
  },
  {
   "cell_type": "code",
   "id": "5bd48a5b",
   "metadata": {
    "pycharm": {
     "name": "#%%\n"
    },
    "ExecuteTime": {
     "end_time": "2025-05-05T17:05:08.906082Z",
     "start_time": "2025-05-05T17:05:08.896183Z"
    }
   },
   "source": [
    "n_initial = 100\n",
    "initial_list = np.random.choice(range(len(df)), size=n_initial, replace=False)"
   ],
   "outputs": [],
   "execution_count": 11
  },
  {
   "cell_type": "markdown",
   "id": "5d3cfe78",
   "metadata": {
    "pycharm": {
     "name": "#%% md\n"
    }
   },
   "source": [
    "Select 100 examples to build the initial model"
   ]
  },
  {
   "cell_type": "code",
   "id": "475cdb17",
   "metadata": {
    "pycharm": {
     "name": "#%%\n"
    },
    "ExecuteTime": {
     "end_time": "2025-05-05T17:05:19.585701Z",
     "start_time": "2025-05-05T17:05:19.583378Z"
    }
   },
   "source": [
    "X_training = X_pool[initial_list]\n",
    "y_training = y_pool[initial_list]"
   ],
   "outputs": [],
   "execution_count": 12
  },
  {
   "cell_type": "markdown",
   "id": "f4c00dc9",
   "metadata": {
    "pycharm": {
     "name": "#%% md\n"
    }
   },
   "source": [
    "### Active Learning\n",
    "Define an ActiveLearner.  This class holds the ML model used to preform the active learning. In this case we'll use a RandomForestClassifier from scikit_learn as our ML model. "
   ]
  },
  {
   "cell_type": "code",
   "id": "e6451973",
   "metadata": {
    "pycharm": {
     "name": "#%%\n"
    },
    "ExecuteTime": {
     "end_time": "2025-05-05T17:05:23.968289Z",
     "start_time": "2025-05-05T17:05:23.909524Z"
    }
   },
   "source": [
    "learner = ActiveLearner(\n",
    "    estimator=RandomForestClassifier(),\n",
    "    X_training=X_training, y_training=y_training\n",
    ")"
   ],
   "outputs": [],
   "execution_count": 13
  },
  {
   "cell_type": "markdown",
   "id": "c71b5e2d",
   "metadata": {
    "pycharm": {
     "name": "#%% md\n"
    }
   },
   "source": [
    "Instantiate an oracle.  As mentioned above, this is a simple lookup. "
   ]
  },
  {
   "cell_type": "code",
   "id": "bb44c6cf",
   "metadata": {
    "pycharm": {
     "name": "#%%\n"
    },
    "ExecuteTime": {
     "end_time": "2025-05-05T17:05:26.378552Z",
     "start_time": "2025-05-05T17:05:26.376411Z"
    }
   },
   "source": [
    "oracle = Oracle(df)"
   ],
   "outputs": [],
   "execution_count": 14
  },
  {
   "cell_type": "markdown",
   "id": "07155674",
   "metadata": {
    "pycharm": {
     "name": "#%% md\n"
    }
   },
   "source": [
    "Run 10 cycles of active learning. We'll print out the number of active molecules we've found at each iteration."
   ]
  },
  {
   "cell_type": "code",
   "id": "270d51da",
   "metadata": {
    "pycharm": {
     "name": "#%%\n"
    },
    "ExecuteTime": {
     "end_time": "2025-05-05T21:49:50.329347Z",
     "start_time": "2025-05-05T21:49:11.804079Z"
    }
   },
   "source": [
    "# Define a list to keep track of the molecules we've selected\n",
    "pick_list = initial_list\n",
    "# How many molecules we will select at each iteration\n",
    "n_instances = 100\n",
    "for i in range(0, 10):\n",
    "    with warnings.catch_warnings():\n",
    "        warnings.simplefilter(\"ignore\",category=FutureWarning)\n",
    "        # Use the model to select the next set of molecules\n",
    "        query_idx, query_inst = learner.query(X_pool, n_instances=n_instances)\n",
    "        # Use the oracle to look up the value\n",
    "        y_new = oracle.get_values(query_idx)\n",
    "        # Use the values from the oracle to update the model\n",
    "        learner.teach(X_pool[query_idx], y_new)\n",
    "        # Add the picks to pick_list\n",
    "        pick_list = np.append(pick_list, query_idx)\n",
    "        # How many active molecules have we found\n",
    "        print(i,sum(y_pool[pick_list]))"
   ],
   "outputs": [
    {
     "name": "stdout",
     "output_type": "stream",
     "text": [
      "0 44\n",
      "1 77\n",
      "2 105\n",
      "3 130\n",
      "4 164\n",
      "5 206\n",
      "6 232\n",
      "7 259\n",
      "8 299\n",
      "9 329\n"
     ]
    }
   ],
   "execution_count": 36
  },
  {
   "cell_type": "markdown",
   "id": "11749652",
   "metadata": {
    "pycharm": {
     "name": "#%% md\n"
    }
   },
   "source": [
    "### Compare With a Random Baseline\n",
    "That looks pretty good, but we should compare with a random baseline.  Let's select 1,000 random molecules and see how many actives we find."
   ]
  },
  {
   "cell_type": "code",
   "id": "5b7107fb",
   "metadata": {
    "pycharm": {
     "name": "#%%\n"
    },
    "ExecuteTime": {
     "end_time": "2025-05-05T21:50:02.229643Z",
     "start_time": "2025-05-05T21:50:02.177264Z"
    }
   },
   "source": [
    "random_hit_count_list = []\n",
    "for i in range(0, 10):\n",
    "    random_list = np.random.choice(range(len(df)), size=1000, replace=False)\n",
    "    random_hit_count_list.append(sum(df.y.values[random_list]))"
   ],
   "outputs": [],
   "execution_count": 37
  },
  {
   "cell_type": "markdown",
   "id": "123e60c8",
   "metadata": {
    "pycharm": {
     "name": "#%% md\n"
    }
   },
   "source": [
    "Look at the number of active molecules we found with a random search."
   ]
  },
  {
   "cell_type": "code",
   "id": "0d0a669f",
   "metadata": {
    "pycharm": {
     "name": "#%%\n"
    },
    "ExecuteTime": {
     "end_time": "2025-05-05T21:50:05.408140Z",
     "start_time": "2025-05-05T21:50:05.405145Z"
    }
   },
   "source": [
    "random_hit_count_list"
   ],
   "outputs": [
    {
     "data": {
      "text/plain": [
       "[42, 59, 49, 51, 59, 58, 55, 56, 54, 50]"
      ]
     },
     "execution_count": 38,
     "metadata": {},
     "output_type": "execute_result"
    }
   ],
   "execution_count": 38
  },
  {
   "cell_type": "markdown",
   "id": "70bf16e1",
   "metadata": {
    "pycharm": {
     "name": "#%% md\n"
    }
   },
   "source": [
    "Now lets run 10 active learning trials.  To do this, we'll write a function that encapsulates the active learning code we wrote above."
   ]
  },
  {
   "cell_type": "code",
   "id": "4cb202f9",
   "metadata": {
    "pycharm": {
     "name": "#%%\n"
    },
    "ExecuteTime": {
     "end_time": "2025-05-05T21:55:28.459892Z",
     "start_time": "2025-05-05T21:55:28.456462Z"
    }
   },
   "source": [
    "def run_active_learning(X, y, oracle, num_cycles=10):\n",
    "    initial_list = np.random.choice(range(len(df)), size=n_initial, replace=False)\n",
    "    pick_list = initial_list\n",
    "    learner = ActiveLearner(\n",
    "        estimator=RandomForestClassifier(),\n",
    "        X_training=X_training, y_training=y_training\n",
    "    )\n",
    "    for i in tqdm(range(0, num_cycles)):\n",
    "        query_idx, query_inst = learner.query(X_pool, n_instances=n_instances)\n",
    "        y_new = oracle.get_values(query_idx)\n",
    "        learner.teach(X_pool[query_idx],y_new)\n",
    "        pick_list = np.append(pick_list, query_idx)\n",
    "    return sum(y[pick_list])"
   ],
   "outputs": [],
   "execution_count": 45
  },
  {
   "cell_type": "code",
   "id": "a5461e15",
   "metadata": {
    "pycharm": {
     "name": "#%%\n"
    },
    "ExecuteTime": {
     "end_time": "2025-05-05T21:57:28.581129Z",
     "start_time": "2025-05-05T21:55:29.673009Z"
    }
   },
   "source": [
    "active_learning_hit_count_list = []\n",
    "for i in range(0, 10):\n",
    "    with warnings.catch_warnings():\n",
    "        warnings.simplefilter(\"ignore\",category=FutureWarning)\n",
    "        num_hits = run_active_learning(X_pool, y_pool, oracle)\n",
    "        active_learning_hit_count_list.append(num_hits)"
   ],
   "outputs": [
    {
     "data": {
      "text/plain": [
       "  0%|          | 0/10 [00:00<?, ?it/s]"
      ],
      "application/vnd.jupyter.widget-view+json": {
       "version_major": 2,
       "version_minor": 0,
       "model_id": "8431c32ffce44e83bbe0774ad16d4ad9"
      }
     },
     "metadata": {},
     "output_type": "display_data"
    },
    {
     "data": {
      "text/plain": [
       "  0%|          | 0/10 [00:00<?, ?it/s]"
      ],
      "application/vnd.jupyter.widget-view+json": {
       "version_major": 2,
       "version_minor": 0,
       "model_id": "3550fce705ca4f13bf1e7fe759ff0cf8"
      }
     },
     "metadata": {},
     "output_type": "display_data"
    },
    {
     "data": {
      "text/plain": [
       "  0%|          | 0/10 [00:00<?, ?it/s]"
      ],
      "application/vnd.jupyter.widget-view+json": {
       "version_major": 2,
       "version_minor": 0,
       "model_id": "acb549a61ffa4e06a1bd356f816f76b0"
      }
     },
     "metadata": {},
     "output_type": "display_data"
    },
    {
     "data": {
      "text/plain": [
       "  0%|          | 0/10 [00:00<?, ?it/s]"
      ],
      "application/vnd.jupyter.widget-view+json": {
       "version_major": 2,
       "version_minor": 0,
       "model_id": "42a9742540cc4af3ab5d83c24ff2aba7"
      }
     },
     "metadata": {},
     "output_type": "display_data"
    },
    {
     "data": {
      "text/plain": [
       "  0%|          | 0/10 [00:00<?, ?it/s]"
      ],
      "application/vnd.jupyter.widget-view+json": {
       "version_major": 2,
       "version_minor": 0,
       "model_id": "808d6fcfabd146798166131ea8478d76"
      }
     },
     "metadata": {},
     "output_type": "display_data"
    },
    {
     "data": {
      "text/plain": [
       "  0%|          | 0/10 [00:00<?, ?it/s]"
      ],
      "application/vnd.jupyter.widget-view+json": {
       "version_major": 2,
       "version_minor": 0,
       "model_id": "1b3bd7fe9fa34429be0930cab80f2cea"
      }
     },
     "metadata": {},
     "output_type": "display_data"
    },
    {
     "data": {
      "text/plain": [
       "  0%|          | 0/10 [00:00<?, ?it/s]"
      ],
      "application/vnd.jupyter.widget-view+json": {
       "version_major": 2,
       "version_minor": 0,
       "model_id": "aea015b9d5df4f33b8e9bf25609a3c1e"
      }
     },
     "metadata": {},
     "output_type": "display_data"
    },
    {
     "data": {
      "text/plain": [
       "  0%|          | 0/10 [00:00<?, ?it/s]"
      ],
      "application/vnd.jupyter.widget-view+json": {
       "version_major": 2,
       "version_minor": 0,
       "model_id": "6a1baf2c42cc4ccb82aa7a9fdbd6752a"
      }
     },
     "metadata": {},
     "output_type": "display_data"
    },
    {
     "data": {
      "text/plain": [
       "  0%|          | 0/10 [00:00<?, ?it/s]"
      ],
      "application/vnd.jupyter.widget-view+json": {
       "version_major": 2,
       "version_minor": 0,
       "model_id": "37e0a36b4e1a4ffc91a9f9ef30f18d75"
      }
     },
     "metadata": {},
     "output_type": "display_data"
    },
    {
     "data": {
      "text/plain": [
       "  0%|          | 0/10 [00:00<?, ?it/s]"
      ],
      "application/vnd.jupyter.widget-view+json": {
       "version_major": 2,
       "version_minor": 0,
       "model_id": "00420a4d3ca545568d903b89cdd8fd3d"
      }
     },
     "metadata": {},
     "output_type": "display_data"
    }
   ],
   "execution_count": 46
  },
  {
   "cell_type": "markdown",
   "id": "9e5291b0",
   "metadata": {
    "pycharm": {
     "name": "#%% md\n"
    }
   },
   "source": [
    "Look at the number of hits we found with active learning.  Note that it's a lot more than what we found with a random search."
   ]
  },
  {
   "cell_type": "code",
   "id": "6dfff580",
   "metadata": {
    "pycharm": {
     "name": "#%%\n"
    },
    "ExecuteTime": {
     "end_time": "2025-05-05T21:57:33.691070Z",
     "start_time": "2025-05-05T21:57:33.688474Z"
    }
   },
   "source": [
    "active_learning_hit_count_list"
   ],
   "outputs": [
    {
     "data": {
      "text/plain": [
       "[312, 315, 298, 310, 326, 325, 316, 312, 290, 369]"
      ]
     },
     "execution_count": 47,
     "metadata": {},
     "output_type": "execute_result"
    }
   ],
   "execution_count": 47
  },
  {
   "cell_type": "markdown",
   "id": "7740a196",
   "metadata": {
    "pycharm": {
     "name": "#%% md\n"
    }
   },
   "source": [
    "Let's make a boxplot to compare the random and active learning searches.   This will be a lot easier if we put the data into a dataframe."
   ]
  },
  {
   "cell_type": "code",
   "id": "25f6cc01",
   "metadata": {
    "pycharm": {
     "name": "#%%\n"
    },
    "ExecuteTime": {
     "end_time": "2025-05-05T21:57:37.258242Z",
     "start_time": "2025-05-05T21:57:37.254103Z"
    }
   },
   "source": [
    "random_df = pd.DataFrame(random_hit_count_list)\n",
    "random_df.columns = [\"count\"]\n",
    "random_df['category'] = \"random\"\n",
    "active_df = pd.DataFrame(active_learning_hit_count_list)\n",
    "active_df.columns = [\"count\"]\n",
    "active_df['category'] = \"active learning\"\n",
    "plot_df = pd.concat([random_df, active_df])"
   ],
   "outputs": [],
   "execution_count": 48
  },
  {
   "cell_type": "markdown",
   "id": "2f33f741",
   "metadata": {
    "pycharm": {
     "name": "#%% md\n"
    }
   },
   "source": [
    "Now make the boxplot"
   ]
  },
  {
   "cell_type": "code",
   "id": "2fa2a9ac",
   "metadata": {
    "pycharm": {
     "name": "#%%\n"
    },
    "ExecuteTime": {
     "end_time": "2025-05-05T21:57:39.856137Z",
     "start_time": "2025-05-05T21:57:39.802165Z"
    }
   },
   "source": [
    "sns.boxplot(data=plot_df, x=\"category\", y=\"count\");"
   ],
   "outputs": [
    {
     "data": {
      "text/plain": [
       "<Figure size 640x480 with 1 Axes>"
      ],
      "image/png": "[encoded data removed]"
     },
     "metadata": {},
     "output_type": "display_data"
    }
   ],
   "execution_count": 49
  },
  {
   "cell_type": "markdown",
   "id": "af77878b",
   "metadata": {
    "pycharm": {
     "name": "#%% md\n"
    }
   },
   "source": [
    "Calculate the enrichment ratio for active learning vs random"
   ]
  },
  {
   "cell_type": "code",
   "id": "e7bfd7c8",
   "metadata": {
    "pycharm": {
     "name": "#%%\n"
    },
    "ExecuteTime": {
     "end_time": "2025-05-05T21:57:42.497117Z",
     "start_time": "2025-05-05T21:57:42.494055Z"
    }
   },
   "source": [
    "np.mean(active_learning_hit_count_list) / np.mean(random_hit_count_list)"
   ],
   "outputs": [
    {
     "data": {
      "text/plain": [
       "5.953095684803002"
      ]
     },
     "execution_count": 50,
     "metadata": {},
     "output_type": "execute_result"
    }
   ],
   "execution_count": 50
  },
  {
   "cell_type": "code",
   "id": "8f76c501",
   "metadata": {
    "pycharm": {
     "name": "#%%\n"
    },
    "ExecuteTime": {
     "end_time": "2025-05-05T21:43:17.949912Z",
     "start_time": "2025-05-05T21:43:17.948225Z"
    }
   },
   "source": [],
   "outputs": [],
   "execution_count": null
  },
  {
   "metadata": {},
   "cell_type": "code",
   "outputs": [],
   "execution_count": null,
   "source": "",
   "id": "8bf2cbd55ab234b9"
  }
 ],
 "metadata": {
  "kernelspec": {
   "display_name": "Python 3 (ipykernel)",
   "language": "python",
   "name": "python3"
  },
  "language_info": {
   "codemirror_mode": {
    "name": "ipython",
    "version": 3
   },
   "file_extension": ".py",
   "mimetype": "text/x-python",
   "name": "python",
   "nbconvert_exporter": "python",
   "pygments_lexer": "ipython3",
   "version": "3.12.2"
  }
 },
 "nbformat": 4,
 "nbformat_minor": 5
}
