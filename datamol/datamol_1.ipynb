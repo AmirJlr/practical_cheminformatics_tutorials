{
 "cells": [
  {
   "cell_type": "markdown",
   "id": "956449a3",
   "metadata": {},
   "source": [
    "### Streamlining Cheminformatics Workflows with [datamol](https://datamol.io) 1. Data manipulation, descriptors and clustering \n",
    "\n",
    "The [datamol](datamol.io) package from the M2D2 group provides set of functions that simplify some common Cheminformatics tasks.  The best part of this package is that it wraps the RDKit. All of the RDKit functionality you know and love is there, it's just easier to access.  In this notebook I'll highlight some of basic data manipulation capabilities available in datamol. \n",
    "- Transforming units\n",
    "- Adding molecules and descriptors to Pandas dataframes\n",
    "- Filtering dataframes based on descriptor values\n",
    "- Clustering"
   ]
  },
  {
   "cell_type": "markdown",
   "id": "fc143d7e",
   "metadata": {},
   "source": [
    "Install the necessary Python libraries"
   ]
  },
  {
   "cell_type": "code",
   "execution_count": 1,
   "id": "fa9cf58c",
   "metadata": {},
   "outputs": [],
   "source": [
    "import pandas as pd\n",
    "import datamol as dm\n",
    "from tqdm.auto import tqdm\n",
    "from rdkit.Chem import rdDepictor\n",
    "import mols2grid\n",
    "from ipywidgets import interact\n",
    "import ipywidgets as widgets"
   ]
  },
  {
   "cell_type": "markdown",
   "id": "4306fb90",
   "metadata": {},
   "source": [
    "### A few preliminary settings\n",
    "A couple of settings to get us started.  Let's make sure our chemical structures will look good and that floating point values aren't shown with a ridiculous number of decimal places. "
   ]
  },
  {
   "cell_type": "code",
   "execution_count": 2,
   "id": "03da248a",
   "metadata": {},
   "outputs": [],
   "source": [
    "rdDepictor.SetPreferCoordGen(True)\n",
    "pd.options.display.float_format = '{:,.2f}'.format"
   ]
  },
  {
   "cell_type": "markdown",
   "id": "5e3313a2",
   "metadata": {},
   "source": [
    "### Reading data\n",
    "Read an input dataset.  There are a couple of things to notice here.  \n",
    "- The input data doesn't have column headers, we use the \"names\" argument to **pd.read_csv** to specify column names. \n",
    "- We are using a space as a delimiter, this is specified in the **sep** argument."
   ]
  },
  {
   "cell_type": "code",
   "execution_count": 3,
   "id": "a6f00b70",
   "metadata": {},
   "outputs": [],
   "source": [
    "#url = \"https://raw.githubusercontent.com/PatWalters/yamc/main/data/HERG.smi\"\n",
    "url = \"/Users/pwalters/software/yamc/data/HERG.smi\"\n",
    "df = pd.read_csv(url,sep=\" \",names=[\"SMILES\",\"Name\",\"pIC50\"])"
   ]
  },
  {
   "cell_type": "code",
   "execution_count": 4,
   "id": "e8511b97",
   "metadata": {},
   "outputs": [
    {
     "data": {
      "text/html": [
       "<div>\n",
       "<style scoped>\n",
       "    .dataframe tbody tr th:only-of-type {\n",
       "        vertical-align: middle;\n",
       "    }\n",
       "\n",
       "    .dataframe tbody tr th {\n",
       "        vertical-align: top;\n",
       "    }\n",
       "\n",
       "    .dataframe thead th {\n",
       "        text-align: right;\n",
       "    }\n",
       "</style>\n",
       "<table border=\"1\" class=\"dataframe\">\n",
       "  <thead>\n",
       "    <tr style=\"text-align: right;\">\n",
       "      <th></th>\n",
       "      <th>SMILES</th>\n",
       "      <th>Name</th>\n",
       "      <th>pIC50</th>\n",
       "    </tr>\n",
       "  </thead>\n",
       "  <tbody>\n",
       "    <tr>\n",
       "      <th>0</th>\n",
       "      <td>c1cc(ccc1n2cc(c3c2ccc(c3)Cl)C4CCN(CC4)CCN5CCNC...</td>\n",
       "      <td>CHEMBL12713</td>\n",
       "      <td>8.03</td>\n",
       "    </tr>\n",
       "    <tr>\n",
       "      <th>1</th>\n",
       "      <td>c1ccc2c(c1)[nH]c(=O)n2C3=CCN(CC3)CCCC(=O)c4ccc...</td>\n",
       "      <td>CHEMBL1108</td>\n",
       "      <td>7.33</td>\n",
       "    </tr>\n",
       "    <tr>\n",
       "      <th>2</th>\n",
       "      <td>c1ccc2c(c1)c(c[nH]2)C(=O)OC3CC4CC5CC(C3)N4CC5=O</td>\n",
       "      <td>CHEMBL2368925</td>\n",
       "      <td>5.07</td>\n",
       "    </tr>\n",
       "    <tr>\n",
       "      <th>3</th>\n",
       "      <td>CC(C)C(CCCN(C)CCc1ccc(c(c1)OC)OC)(C#N)c2ccc(c(...</td>\n",
       "      <td>CHEMBL6966</td>\n",
       "      <td>6.83</td>\n",
       "    </tr>\n",
       "    <tr>\n",
       "      <th>4</th>\n",
       "      <td>CCOC(=O)N1CCC(=C2c3ccc(cc3CCc4c2nccc4)Cl)CC1</td>\n",
       "      <td>CHEMBL998</td>\n",
       "      <td>6.43</td>\n",
       "    </tr>\n",
       "  </tbody>\n",
       "</table>\n",
       "</div>"
      ],
      "text/plain": [
       "                                              SMILES           Name  pIC50\n",
       "0  c1cc(ccc1n2cc(c3c2ccc(c3)Cl)C4CCN(CC4)CCN5CCNC...    CHEMBL12713   8.03\n",
       "1  c1ccc2c(c1)[nH]c(=O)n2C3=CCN(CC3)CCCC(=O)c4ccc...     CHEMBL1108   7.33\n",
       "2    c1ccc2c(c1)c(c[nH]2)C(=O)OC3CC4CC5CC(C3)N4CC5=O  CHEMBL2368925   5.07\n",
       "3  CC(C)C(CCCN(C)CCc1ccc(c(c1)OC)OC)(C#N)c2ccc(c(...     CHEMBL6966   6.83\n",
       "4       CCOC(=O)N1CCC(=C2c3ccc(cc3CCc4c2nccc4)Cl)CC1      CHEMBL998   6.43"
      ]
     },
     "execution_count": 4,
     "metadata": {},
     "output_type": "execute_result"
    }
   ],
   "source": [
    "df.head()"
   ]
  },
  {
   "cell_type": "markdown",
   "id": "a2cca208",
   "metadata": {},
   "source": [
    "### Transforming units\n",
    "This data has the pIC50, or the log10 of the IC50 in $\\mu$M.  Whenever I look at pIC50 values I end up mentally coverting them to IC50 values.  I've become pretty good at this but I'd prefer to have the IC50 values in the table. Fortunately, datamol has a set of convenience methods in the **dm.molar** package that do this conversion.  This isn't something that's hard to do, but it's nice to have a simple function available to handle the conversion. For more on **dm.molar** consult the docs.  \n",
    "```python\n",
    "help(dm.molar)\n",
    "```"
   ]
  },
  {
   "cell_type": "code",
   "execution_count": 5,
   "id": "fa3a6683",
   "metadata": {},
   "outputs": [
    {
     "data": {
      "text/html": [
       "<div>\n",
       "<style scoped>\n",
       "    .dataframe tbody tr th:only-of-type {\n",
       "        vertical-align: middle;\n",
       "    }\n",
       "\n",
       "    .dataframe tbody tr th {\n",
       "        vertical-align: top;\n",
       "    }\n",
       "\n",
       "    .dataframe thead th {\n",
       "        text-align: right;\n",
       "    }\n",
       "</style>\n",
       "<table border=\"1\" class=\"dataframe\">\n",
       "  <thead>\n",
       "    <tr style=\"text-align: right;\">\n",
       "      <th></th>\n",
       "      <th>SMILES</th>\n",
       "      <th>Name</th>\n",
       "      <th>pIC50</th>\n",
       "      <th>IC50</th>\n",
       "    </tr>\n",
       "  </thead>\n",
       "  <tbody>\n",
       "    <tr>\n",
       "      <th>0</th>\n",
       "      <td>c1cc(ccc1n2cc(c3c2ccc(c3)Cl)C4CCN(CC4)CCN5CCNC...</td>\n",
       "      <td>CHEMBL12713</td>\n",
       "      <td>8.03</td>\n",
       "      <td>0.01</td>\n",
       "    </tr>\n",
       "    <tr>\n",
       "      <th>1</th>\n",
       "      <td>c1ccc2c(c1)[nH]c(=O)n2C3=CCN(CC3)CCCC(=O)c4ccc...</td>\n",
       "      <td>CHEMBL1108</td>\n",
       "      <td>7.33</td>\n",
       "      <td>0.05</td>\n",
       "    </tr>\n",
       "    <tr>\n",
       "      <th>2</th>\n",
       "      <td>c1ccc2c(c1)c(c[nH]2)C(=O)OC3CC4CC5CC(C3)N4CC5=O</td>\n",
       "      <td>CHEMBL2368925</td>\n",
       "      <td>5.07</td>\n",
       "      <td>8.48</td>\n",
       "    </tr>\n",
       "    <tr>\n",
       "      <th>3</th>\n",
       "      <td>CC(C)C(CCCN(C)CCc1ccc(c(c1)OC)OC)(C#N)c2ccc(c(...</td>\n",
       "      <td>CHEMBL6966</td>\n",
       "      <td>6.83</td>\n",
       "      <td>0.15</td>\n",
       "    </tr>\n",
       "    <tr>\n",
       "      <th>4</th>\n",
       "      <td>CCOC(=O)N1CCC(=C2c3ccc(cc3CCc4c2nccc4)Cl)CC1</td>\n",
       "      <td>CHEMBL998</td>\n",
       "      <td>6.43</td>\n",
       "      <td>0.37</td>\n",
       "    </tr>\n",
       "  </tbody>\n",
       "</table>\n",
       "</div>"
      ],
      "text/plain": [
       "                                              SMILES           Name  pIC50  \\\n",
       "0  c1cc(ccc1n2cc(c3c2ccc(c3)Cl)C4CCN(CC4)CCN5CCNC...    CHEMBL12713   8.03   \n",
       "1  c1ccc2c(c1)[nH]c(=O)n2C3=CCN(CC3)CCCC(=O)c4ccc...     CHEMBL1108   7.33   \n",
       "2    c1ccc2c(c1)c(c[nH]2)C(=O)OC3CC4CC5CC(C3)N4CC5=O  CHEMBL2368925   5.07   \n",
       "3  CC(C)C(CCCN(C)CCc1ccc(c(c1)OC)OC)(C#N)c2ccc(c(...     CHEMBL6966   6.83   \n",
       "4       CCOC(=O)N1CCC(=C2c3ccc(cc3CCc4c2nccc4)Cl)CC1      CHEMBL998   6.43   \n",
       "\n",
       "   IC50  \n",
       "0  0.01  \n",
       "1  0.05  \n",
       "2  8.48  \n",
       "3  0.15  \n",
       "4  0.37  "
      ]
     },
     "execution_count": 5,
     "metadata": {},
     "output_type": "execute_result"
    }
   ],
   "source": [
    "df['IC50'] = dm.molar.log_to_molar(df.pIC50,'uM')\n",
    "df.head()"
   ]
  },
  {
   "cell_type": "markdown",
   "id": "1a540683",
   "metadata": {},
   "source": [
    "### Adding a molecule to a dataframe\n",
    "The datamol function **from_df** provides a convenient means of adding an RDKit molecule column to a dataframe."
   ]
  },
  {
   "cell_type": "code",
   "execution_count": 6,
   "id": "e7bbb9d9",
   "metadata": {},
   "outputs": [
    {
     "data": {
      "text/html": [
       "<div>\n",
       "<style scoped>\n",
       "    .dataframe tbody tr th:only-of-type {\n",
       "        vertical-align: middle;\n",
       "    }\n",
       "\n",
       "    .dataframe tbody tr th {\n",
       "        vertical-align: top;\n",
       "    }\n",
       "\n",
       "    .dataframe thead th {\n",
       "        text-align: right;\n",
       "    }\n",
       "</style>\n",
       "<table border=\"1\" class=\"dataframe\">\n",
       "  <thead>\n",
       "    <tr style=\"text-align: right;\">\n",
       "      <th></th>\n",
       "      <th>SMILES</th>\n",
       "      <th>Name</th>\n",
       "      <th>pIC50</th>\n",
       "      <th>IC50</th>\n",
       "      <th>mol</th>\n",
       "    </tr>\n",
       "  </thead>\n",
       "  <tbody>\n",
       "    <tr>\n",
       "      <th>0</th>\n",
       "      <td>c1cc(ccc1n2cc(c3c2ccc(c3)Cl)C4CCN(CC4)CCN5CCNC...</td>\n",
       "      <td>CHEMBL12713</td>\n",
       "      <td>8.03</td>\n",
       "      <td>0.01</td>\n",
       "      <td>&lt;rdkit.Chem.rdchem.Mol object at 0x28585c5f0&gt;</td>\n",
       "    </tr>\n",
       "    <tr>\n",
       "      <th>1</th>\n",
       "      <td>c1ccc2c(c1)[nH]c(=O)n2C3=CCN(CC3)CCCC(=O)c4ccc...</td>\n",
       "      <td>CHEMBL1108</td>\n",
       "      <td>7.33</td>\n",
       "      <td>0.05</td>\n",
       "      <td>&lt;rdkit.Chem.rdchem.Mol object at 0x28585c9e0&gt;</td>\n",
       "    </tr>\n",
       "    <tr>\n",
       "      <th>2</th>\n",
       "      <td>c1ccc2c(c1)c(c[nH]2)C(=O)OC3CC4CC5CC(C3)N4CC5=O</td>\n",
       "      <td>CHEMBL2368925</td>\n",
       "      <td>5.07</td>\n",
       "      <td>8.48</td>\n",
       "      <td>&lt;rdkit.Chem.rdchem.Mol object at 0x28585c6d0&gt;</td>\n",
       "    </tr>\n",
       "    <tr>\n",
       "      <th>3</th>\n",
       "      <td>CC(C)C(CCCN(C)CCc1ccc(c(c1)OC)OC)(C#N)c2ccc(c(...</td>\n",
       "      <td>CHEMBL6966</td>\n",
       "      <td>6.83</td>\n",
       "      <td>0.15</td>\n",
       "      <td>&lt;rdkit.Chem.rdchem.Mol object at 0x28585c820&gt;</td>\n",
       "    </tr>\n",
       "    <tr>\n",
       "      <th>4</th>\n",
       "      <td>CCOC(=O)N1CCC(=C2c3ccc(cc3CCc4c2nccc4)Cl)CC1</td>\n",
       "      <td>CHEMBL998</td>\n",
       "      <td>6.43</td>\n",
       "      <td>0.37</td>\n",
       "      <td>&lt;rdkit.Chem.rdchem.Mol object at 0x28585cac0&gt;</td>\n",
       "    </tr>\n",
       "  </tbody>\n",
       "</table>\n",
       "</div>"
      ],
      "text/plain": [
       "                                              SMILES           Name  pIC50  \\\n",
       "0  c1cc(ccc1n2cc(c3c2ccc(c3)Cl)C4CCN(CC4)CCN5CCNC...    CHEMBL12713   8.03   \n",
       "1  c1ccc2c(c1)[nH]c(=O)n2C3=CCN(CC3)CCCC(=O)c4ccc...     CHEMBL1108   7.33   \n",
       "2    c1ccc2c(c1)c(c[nH]2)C(=O)OC3CC4CC5CC(C3)N4CC5=O  CHEMBL2368925   5.07   \n",
       "3  CC(C)C(CCCN(C)CCc1ccc(c(c1)OC)OC)(C#N)c2ccc(c(...     CHEMBL6966   6.83   \n",
       "4       CCOC(=O)N1CCC(=C2c3ccc(cc3CCc4c2nccc4)Cl)CC1      CHEMBL998   6.43   \n",
       "\n",
       "   IC50                                            mol  \n",
       "0  0.01  <rdkit.Chem.rdchem.Mol object at 0x28585c5f0>  \n",
       "1  0.05  <rdkit.Chem.rdchem.Mol object at 0x28585c9e0>  \n",
       "2  8.48  <rdkit.Chem.rdchem.Mol object at 0x28585c6d0>  \n",
       "3  0.15  <rdkit.Chem.rdchem.Mol object at 0x28585c820>  \n",
       "4  0.37  <rdkit.Chem.rdchem.Mol object at 0x28585cac0>  "
      ]
     },
     "execution_count": 6,
     "metadata": {},
     "output_type": "execute_result"
    }
   ],
   "source": [
    "df['mol'] = dm.from_df(df, smiles_column=\"SMILES\")\n",
    "df.head()"
   ]
  },
  {
   "cell_type": "markdown",
   "id": "cc3306f9",
   "metadata": {},
   "source": [
    "### Calculating simple 1D descriptors\n",
    "The datamol package has a function **batch_compute_many_descriptors** that calculates many of the molecular descriptors supported by the RDKit.  When called with the default arguments, this function calculates 22 different descriptors. While this is useful, I usually only want to add a few descriptors to a dataframe.  We can do this by passing a dictionary to the **properties_fn** argument of **batch_compute_many_descriptors**.  The key for this dictionary is the name of the resulting dataframe column and the value is the the function that will be called to calculate the descriptor. This function should take an RDKit molecule as an argument. These functions don't necessarily have to be datamol or RDKit functions.  You can also add your own functions. For instance let's define a function to get the size of the largest ring in a molecule. "
   ]
  },
  {
   "cell_type": "code",
   "execution_count": 7,
   "id": "e1bf5acb",
   "metadata": {},
   "outputs": [],
   "source": [
    "def max_ring_size(mol):\n",
    "    \"\"\"Get the size of the largest ring in a molecule\n",
    "\n",
    "    :param mol: input_molecule\n",
    "    :return: size of the largest ring or 0 for an acyclic molecule\n",
    "    \"\"\"\n",
    "    ri = mol.GetRingInfo()\n",
    "    atom_rings = ri.AtomRings()\n",
    "    if len(atom_rings) == 0:\n",
    "        return 0\n",
    "    else:\n",
    "        return max([len(x) for x in ri.AtomRings()])"
   ]
  },
  {
   "cell_type": "markdown",
   "id": "05f6ab68",
   "metadata": {},
   "source": [
    "Now we can define the dictionary with the properties we want to calculate."
   ]
  },
  {
   "cell_type": "code",
   "execution_count": 8,
   "id": "8b1a0550",
   "metadata": {},
   "outputs": [],
   "source": [
    "my_prop_dict = {\n",
    "    \"mw\" : dm.descriptors.mw,\n",
    "    \"logp\" : dm.descriptors.clogp,\n",
    "    \"hbd\" : dm.descriptors.n_lipinski_hbd,\n",
    "    \"hba\" : dm.descriptors.n_lipinski_hba,\n",
    "    \"max_ring_size\" : max_ring_size\n",
    "}"
   ]
  },
  {
   "cell_type": "markdown",
   "id": "446a940c",
   "metadata": {},
   "source": [
    "The datamol function **batch_compute_many_descriptors** returns a new dataframe with the computed descriptors. Note a couple of paramater settings. \n",
    "- add_properties=False - if this is set to True, all the supported descriptors are calculated\n",
    "- progress=True - show a progress bar"
   ]
  },
  {
   "cell_type": "code",
   "execution_count": 9,
   "id": "2133a2a1",
   "metadata": {},
   "outputs": [
    {
     "data": {
      "application/vnd.jupyter.widget-view+json": {
       "model_id": "6b5497c9fbed437fb6927897dded92d9",
       "version_major": 2,
       "version_minor": 0
      },
      "text/plain": [
       "  0%|          | 0/4042 [00:00<?, ?it/s]"
      ]
     },
     "metadata": {},
     "output_type": "display_data"
    }
   ],
   "source": [
    "prop_df = dm.descriptors.batch_compute_many_descriptors(df.mol,properties_fn=my_prop_dict,add_properties=False,\n",
    "                                             progress=True)"
   ]
  },
  {
   "cell_type": "markdown",
   "id": "35712e42",
   "metadata": {},
   "source": [
    "Now we have a dataframe with the properties, but it doesn't have any of the information from our original dataframe.  We need to merge the two dataframes. "
   ]
  },
  {
   "cell_type": "code",
   "execution_count": 10,
   "id": "ff41a32e",
   "metadata": {},
   "outputs": [
    {
     "data": {
      "text/html": [
       "<div>\n",
       "<style scoped>\n",
       "    .dataframe tbody tr th:only-of-type {\n",
       "        vertical-align: middle;\n",
       "    }\n",
       "\n",
       "    .dataframe tbody tr th {\n",
       "        vertical-align: top;\n",
       "    }\n",
       "\n",
       "    .dataframe thead th {\n",
       "        text-align: right;\n",
       "    }\n",
       "</style>\n",
       "<table border=\"1\" class=\"dataframe\">\n",
       "  <thead>\n",
       "    <tr style=\"text-align: right;\">\n",
       "      <th></th>\n",
       "      <th>mw</th>\n",
       "      <th>logp</th>\n",
       "      <th>hbd</th>\n",
       "      <th>hba</th>\n",
       "      <th>max_ring_size</th>\n",
       "    </tr>\n",
       "  </thead>\n",
       "  <tbody>\n",
       "    <tr>\n",
       "      <th>0</th>\n",
       "      <td>440.18</td>\n",
       "      <td>4.63</td>\n",
       "      <td>1</td>\n",
       "      <td>5</td>\n",
       "      <td>6</td>\n",
       "    </tr>\n",
       "    <tr>\n",
       "      <th>1</th>\n",
       "      <td>379.17</td>\n",
       "      <td>3.68</td>\n",
       "      <td>1</td>\n",
       "      <td>5</td>\n",
       "      <td>6</td>\n",
       "    </tr>\n",
       "    <tr>\n",
       "      <th>2</th>\n",
       "      <td>324.15</td>\n",
       "      <td>2.52</td>\n",
       "      <td>1</td>\n",
       "      <td>5</td>\n",
       "      <td>6</td>\n",
       "    </tr>\n",
       "    <tr>\n",
       "      <th>3</th>\n",
       "      <td>454.28</td>\n",
       "      <td>5.09</td>\n",
       "      <td>0</td>\n",
       "      <td>6</td>\n",
       "      <td>6</td>\n",
       "    </tr>\n",
       "    <tr>\n",
       "      <th>4</th>\n",
       "      <td>382.14</td>\n",
       "      <td>4.89</td>\n",
       "      <td>0</td>\n",
       "      <td>4</td>\n",
       "      <td>7</td>\n",
       "    </tr>\n",
       "    <tr>\n",
       "      <th>...</th>\n",
       "      <td>...</td>\n",
       "      <td>...</td>\n",
       "      <td>...</td>\n",
       "      <td>...</td>\n",
       "      <td>...</td>\n",
       "    </tr>\n",
       "    <tr>\n",
       "      <th>4037</th>\n",
       "      <td>493.21</td>\n",
       "      <td>3.38</td>\n",
       "      <td>2</td>\n",
       "      <td>10</td>\n",
       "      <td>6</td>\n",
       "    </tr>\n",
       "    <tr>\n",
       "      <th>4038</th>\n",
       "      <td>480.18</td>\n",
       "      <td>3.16</td>\n",
       "      <td>2</td>\n",
       "      <td>10</td>\n",
       "      <td>6</td>\n",
       "    </tr>\n",
       "    <tr>\n",
       "      <th>4039</th>\n",
       "      <td>494.19</td>\n",
       "      <td>3.81</td>\n",
       "      <td>1</td>\n",
       "      <td>10</td>\n",
       "      <td>6</td>\n",
       "    </tr>\n",
       "    <tr>\n",
       "      <th>4040</th>\n",
       "      <td>494.19</td>\n",
       "      <td>3.55</td>\n",
       "      <td>2</td>\n",
       "      <td>10</td>\n",
       "      <td>6</td>\n",
       "    </tr>\n",
       "    <tr>\n",
       "      <th>4041</th>\n",
       "      <td>494.19</td>\n",
       "      <td>3.55</td>\n",
       "      <td>2</td>\n",
       "      <td>10</td>\n",
       "      <td>6</td>\n",
       "    </tr>\n",
       "  </tbody>\n",
       "</table>\n",
       "<p>4042 rows × 5 columns</p>\n",
       "</div>"
      ],
      "text/plain": [
       "         mw  logp  hbd  hba  max_ring_size\n",
       "0    440.18  4.63    1    5              6\n",
       "1    379.17  3.68    1    5              6\n",
       "2    324.15  2.52    1    5              6\n",
       "3    454.28  5.09    0    6              6\n",
       "4    382.14  4.89    0    4              7\n",
       "...     ...   ...  ...  ...            ...\n",
       "4037 493.21  3.38    2   10              6\n",
       "4038 480.18  3.16    2   10              6\n",
       "4039 494.19  3.81    1   10              6\n",
       "4040 494.19  3.55    2   10              6\n",
       "4041 494.19  3.55    2   10              6\n",
       "\n",
       "[4042 rows x 5 columns]"
      ]
     },
     "execution_count": 10,
     "metadata": {},
     "output_type": "execute_result"
    }
   ],
   "source": [
    "prop_df"
   ]
  },
  {
   "cell_type": "markdown",
   "id": "8a39017a",
   "metadata": {},
   "source": [
    "Merge the descriptors into the main dataframe."
   ]
  },
  {
   "cell_type": "code",
   "execution_count": 11,
   "id": "19842e7e",
   "metadata": {},
   "outputs": [],
   "source": [
    "df = pd.concat([df,prop_df],axis=1)"
   ]
  },
  {
   "cell_type": "markdown",
   "id": "4fe25310",
   "metadata": {},
   "source": [
    "### Filtering a dataframe based on descriptor values \n",
    "Let's filter the dataframe to only include molecules meeting the Lipinski Rule of 5 (Ro5) criteria.  I see a lot of people doing this using the Pandas bracket notation to do something like this.  \n",
    "```python\n",
    "df = df[df['mw'] <= 500]\n",
    "df = df[df['logp'] <= 5]\n",
    "df = df[df['hbd'] <= 5\n",
    "df = df[df['hba'] <= 10\n",
    "```\n",
    "To me, this feels convoluted. When I try to do this, I usuually forget the syntax or screw something up.  I prefer using the pandas **query** function. "
   ]
  },
  {
   "cell_type": "code",
   "execution_count": 12,
   "id": "4d75ee15",
   "metadata": {},
   "outputs": [
    {
     "data": {
      "text/plain": [
       "3476"
      ]
     },
     "execution_count": 12,
     "metadata": {},
     "output_type": "execute_result"
    }
   ],
   "source": [
    "df_ro5_ok = df.query(\"mw <= 500 and logp <= 5 and hbd <= 5 and hba <= 10\")\n",
    "len(df_ro5_ok)"
   ]
  },
  {
   "cell_type": "markdown",
   "id": "ded91d60",
   "metadata": {},
   "source": [
    "We could also create a column indicating whether a molecule passed the Ro5"
   ]
  },
  {
   "cell_type": "code",
   "execution_count": 13,
   "id": "f309fd45",
   "metadata": {},
   "outputs": [
    {
     "data": {
      "text/plain": [
       "3476"
      ]
     },
     "execution_count": 13,
     "metadata": {},
     "output_type": "execute_result"
    }
   ],
   "source": [
    "df['ro5_ok'] = (df.mw <= 500) & (df.logp <=5) & (df.hbd <= 5) & (df.hba <= 10)\n",
    "df.ro5_ok.sum()"
   ]
  },
  {
   "cell_type": "markdown",
   "id": "07ed4336",
   "metadata": {},
   "source": [
    "What if we want to count how many of the Ro5 criteria a molecule meets?  We could simply write a function to convert a boolean column to integers and calculate the sum of these integer columns. "
   ]
  },
  {
   "cell_type": "code",
   "execution_count": 14,
   "id": "e3233b09",
   "metadata": {},
   "outputs": [
    {
     "data": {
      "text/plain": [
       "array([1, 1, 1, ..., 1, 1, 1])"
      ]
     },
     "execution_count": 14,
     "metadata": {},
     "output_type": "execute_result"
    }
   ],
   "source": [
    "def bool_to_int(bool_in):\n",
    "    return bool_in.values.astype(int)\n",
    "bool_to_int(df.mw <= 500)"
   ]
  },
  {
   "cell_type": "markdown",
   "id": "319c005d",
   "metadata": {},
   "source": [
    "Now we can use the function above to count how many of the Ro5 rules a molecule passes.  A molecule that passes all of the rules will have **ro5_count** set to 4.  As a check we can make sure the number of molecules passing all the rules is the same as what we calculated above. "
   ]
  },
  {
   "cell_type": "code",
   "execution_count": 15,
   "id": "78e551f2",
   "metadata": {},
   "outputs": [
    {
     "data": {
      "text/plain": [
       "3476"
      ]
     },
     "execution_count": 15,
     "metadata": {},
     "output_type": "execute_result"
    }
   ],
   "source": [
    "df['ro5_count'] = bool_to_int(df.mw <= 500) + bool_to_int(df.logp <=5) + bool_to_int(df.hbd <= 5) + bool_to_int(df.hba <= 10)\n",
    "len(df.query(\"ro5_count == 4\"))"
   ]
  },
  {
   "cell_type": "markdown",
   "id": "8f94c7da",
   "metadata": {},
   "source": [
    "### Clustering\n",
    "The datamol package provides a couple of useful functions for clustering.  The **cluster_mols** function provides a simple means of clustering based on the Butina alogorithm using the RDKit's Morgan fingerprints.  You can perform Butina clustering with the RDKit, but it takes a few more steps.  \n",
    "\n",
    "When I look at the results of clustering, I like to see similar molecules aligned in a similar fashion.  Datamol has a another convenience function **auto_align_many**, that aligns molecules with same scaffold.  Note that you can do clustering and alignment in one step with **auto_align_many**.  However, I prefer to do this as two step process that gives me a bit more control over the clustering and the alignment. Both **cluster_mols** and **auto_align_many** have several options.  Check out the docs for more information. "
   ]
  },
  {
   "cell_type": "code",
   "execution_count": 16,
   "id": "7609d0dd",
   "metadata": {},
   "outputs": [
    {
     "data": {
      "application/vnd.jupyter.widget-view+json": {
       "model_id": "c56aaa4c4abb4961a6641265cf9cbe2f",
       "version_major": 2,
       "version_minor": 0
      },
      "text/plain": [
       "  0%|          | 0/3503 [00:00<?, ?it/s]"
      ]
     },
     "metadata": {},
     "output_type": "display_data"
    }
   ],
   "source": [
    "# cluster the molecules\n",
    "cluster_list = dm.cluster_mols(df.mol)\n",
    "# create a list to hold the cluster ids, which we will add to the dataframe\n",
    "cluster_idx = [-1] * len(df)\n",
    "for i,cluster in enumerate(tqdm(cluster_list[0])):\n",
    "    # align the structures for each cluster using Bemis Murcko frameworks\n",
    "    dm.align.auto_align_many([df.mol.values[x] for x in cluster],copy=False,partition_method='scaffold')\n",
    "    # add the cluster id to cluster_idx\n",
    "    for c in cluster:\n",
    "        cluster_idx[c] = i\n",
    "# add a column with cluster ids to the dataframe\n",
    "df['cluster'] = cluster_idx"
   ]
  },
  {
   "cell_type": "markdown",
   "id": "88b3af39",
   "metadata": {},
   "source": [
    "Datamol has a convenience function **dm.viz.to_image** that wraps **rdkit.Chem.Draw.MolsToGridImage**.  I don't tend to use either of those.  In 99% of cases, I prefer to us **mol2grid.display** to look at grids of chemical structures and data.  Here's a function that uses **mols2grid** and **iteract** to look at clusters one at a time.  Type a cluster id into the box to see the molecules from that cluster. You can also use the arrows on the right side of the box to scroll through the clusters."
   ]
  },
  {
   "cell_type": "code",
   "execution_count": 17,
   "id": "34d8d1a0",
   "metadata": {},
   "outputs": [
    {
     "data": {
      "application/vnd.jupyter.widget-view+json": {
       "model_id": "8475ecd8f61d4aab917ba2fbd40bf668",
       "version_major": 2,
       "version_minor": 0
      },
      "text/plain": [
       "interactive(children=(IntText(value=0, description='Cluster'), Output()), _dom_classes=('widget-interact',))"
      ]
     },
     "metadata": {},
     "output_type": "display_data"
    }
   ],
   "source": [
    "@interact(x = widgets.IntText(description=\"Cluster\"))\n",
    "def show_cluster(x):\n",
    "    return mols2grid.display(df.query(f\"cluster == {x}\"),mol_col=\"mol\",subset=[\"img\",\"Name\",\"pIC50\"],\n",
    "                             use_coords=True, prerender=True, \n",
    "                             transform = {\"pIC50\" : lambda x: f\"{x:.2f}\"})"
   ]
  },
  {
   "cell_type": "code",
   "execution_count": null,
   "id": "9d3af603",
   "metadata": {},
   "outputs": [],
   "source": []
  }
 ],
 "metadata": {
  "kernelspec": {
   "display_name": "Python 3 (ipykernel)",
   "language": "python",
   "name": "python3"
  },
  "language_info": {
   "codemirror_mode": {
    "name": "ipython",
    "version": 3
   },
   "file_extension": ".py",
   "mimetype": "text/x-python",
   "name": "python",
   "nbconvert_exporter": "python",
   "pygments_lexer": "ipython3",
   "version": "3.8.16"
  }
 },
 "nbformat": 4,
 "nbformat_minor": 5
}
